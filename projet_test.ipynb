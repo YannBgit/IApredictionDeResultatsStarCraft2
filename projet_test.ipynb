{
 "cells": [
  {
   "cell_type": "markdown",
   "id": "ac35021e",
   "metadata": {},
   "source": [
    "# Neural Networks in ``PyTorch``"
   ]
  },
  {
   "cell_type": "markdown",
   "id": "bcbe3b65",
   "metadata": {},
   "source": [
    "The **MNIST dataset** consists of 60,000 images of hand written digit, where each image has size 28X28.\n",
    "\n",
    "<img src=\"files/figures/mnist.png\" width=\"600px\"/>\n",
    "\n",
    "We will define and train a deep neural network on the MNIST dataset. This is a **classification problem**.<br>\n",
    "\n",
    "The definition and training of a neural network invoves the following steps:\n",
    "\n",
    "0. Import **librairies**;\n",
    "1. Get the **datasets** (train, validation and test);\n",
    "2. Define the **dataloaders** from the datasets (train and test);\n",
    "3. Define the **model**;\n",
    "4. Define the **loss function**;\n",
    "5. Define the **optimizer**;\n",
    "7. **Train** the model (training loop);\n",
    "8. Get the **results** (predict)."
   ]
  },
  {
   "cell_type": "markdown",
   "id": "933ac146",
   "metadata": {},
   "source": [
    "## 0. Librairies"
   ]
  },
  {
   "cell_type": "code",
   "execution_count": 1,
   "id": "6235ff87",
   "metadata": {
    "scrolled": true
   },
   "outputs": [],
   "source": [
    "import os\n",
    "\n",
    "import torch\n",
    "import torch.nn as nn\n",
    "import torch.nn.functional as F\n",
    "\n",
    "from torch.utils.data import DataLoader, random_split, Dataset\n",
    "import torchvision.datasets as datasets\n",
    "from torchvision.transforms import ToTensor\n",
    "\n",
    "from sklearn.metrics import classification_report\n",
    "\n",
    "import matplotlib.pyplot as plt\n",
    "\n",
    "from tqdm.notebook import tqdm\n",
    "\n",
    "import pandas as pd\n",
    "import numpy as np"
   ]
  },
  {
   "cell_type": "code",
   "execution_count": 2,
   "id": "82f11684",
   "metadata": {},
   "outputs": [],
   "source": [
    "#Importing required libraries for preprocessing\n",
    "from sklearn import preprocessing\n",
    "from sklearn.model_selection import train_test_split"
   ]
  },
  {
   "cell_type": "markdown",
   "id": "56800aaa",
   "metadata": {},
   "source": [
    "## 1. Datasets"
   ]
  },
  {
   "cell_type": "markdown",
   "id": "39072afb",
   "metadata": {},
   "source": [
    "- Load the train and test MNIST datasets using the following commands:<br>\n",
    "```\n",
    "train_dataset = datasets.MNIST(root='./data', train=True, download=True, transform=ToTensor())\n",
    "test_dataset = datasets.MNIST(root='./data', train=False, download=True, transform=ToTensor())\n",
    "```\n",
    "Each sample consists of a tensor (the image encoded in black and white), and a label (the digit that it represents).\n",
    "\n",
    "- Examine the data (structure, dimension, etc).\n",
    "- Create a function to visualize some data as an image."
   ]
  },
  {
   "cell_type": "code",
   "execution_count": 3,
   "id": "8248a7db",
   "metadata": {},
   "outputs": [],
   "source": [
    "class Data(Dataset):\n",
    "    def __init__(self):\n",
    "        train = pd.read_csv('archive/train.csv', index_col=0)\n",
    "        train.drop(labels=[\"id\"], axis=1, inplace=True)\n",
    "        train.dropna(subset=[\"Arrival Delay in Minutes\"], inplace=True)\n",
    "        train.loc[train.satisfaction == \"satisfied\", \"satisfaction\"] = 1\n",
    "        train.loc[train.satisfaction == \"neutral or dissatisfied\", \"satisfaction\"] = 0\n",
    "        train[\"satisfaction\"] = train[\"satisfaction\"].astype('int64')\n",
    "        train.drop([\"Departure/Arrival time convenient\", \"Gate location\", \"Departure Delay in Minutes\", \"Arrival Delay in Minutes\"], axis=1, inplace=True)\n",
    "        label_to_encode = [\"Gender\", \"Customer Type\", \"Type of Travel\", \"Class\"]\n",
    "        label_encoder = preprocessing.LabelEncoder()\n",
    "\n",
    "        for label in label_to_encode :\n",
    "            train[label] = label_encoder.fit_transform(train[label])\n",
    "        x = train.drop(\"satisfaction\", axis=1)\n",
    "        x = x.astype(np.float32)\n",
    "        self.x_train = torch.tensor(x.values)\n",
    "        y = train[\"satisfaction\"]\n",
    "        y = y.astype(np.float32)\n",
    "        self.y_train = torch.tensor(y.values)\n",
    "        self.n_samples = train.shape[0]\n",
    "    \n",
    "    def __getitem__(self,index):\n",
    "        return self.x_train[index],self.y_train[index]\n",
    "    \n",
    "    def __len__(self):\n",
    "        return self.n_samples\n",
    "        "
   ]
  },
  {
   "cell_type": "code",
   "execution_count": 4,
   "id": "c44d47c6",
   "metadata": {},
   "outputs": [],
   "source": [
    "class Data_test(Dataset):\n",
    "    def __init__(self):\n",
    "        test = pd.read_csv('archive/test.csv', index_col=0)\n",
    "        test.drop(labels=[\"id\"], axis=1, inplace=True)\n",
    "        test.dropna(subset=[\"Arrival Delay in Minutes\"], inplace=True)\n",
    "        test.loc[test.satisfaction == \"satisfied\", \"satisfaction\"] = 1\n",
    "        test.loc[test.satisfaction == \"neutral or dissatisfied\", \"satisfaction\"] = 0\n",
    "        test[\"satisfaction\"] = test[\"satisfaction\"].astype('int64')\n",
    "        test.drop([\"Departure/Arrival time convenient\", \"Gate location\", \"Departure Delay in Minutes\", \"Arrival Delay in Minutes\"], axis=1, inplace=True)\n",
    "        label_to_encode = [\"Gender\", \"Customer Type\", \"Type of Travel\", \"Class\"]\n",
    "        label_encoder = preprocessing.LabelEncoder()\n",
    "\n",
    "        for label in label_to_encode :\n",
    "            test[label] = label_encoder.fit_transform(test[label])\n",
    "        x = test.drop(\"satisfaction\", axis=1)\n",
    "        x = x.astype(np.float32)\n",
    "        self.x_test = torch.tensor(x.values)\n",
    "        y = test[\"satisfaction\"]\n",
    "        y = y.astype(np.float32)\n",
    "        self.y_test = torch.tensor(y.values)\n",
    "        self.n_samples = test.shape[0]\n",
    "    \n",
    "    def __getitem__(self,index):\n",
    "        return self.x_test[index],self.y_test[index]\n",
    "    \n",
    "    def __len__(self):\n",
    "        return self.n_samples"
   ]
  },
  {
   "cell_type": "code",
   "execution_count": 5,
   "id": "21e0f4ad",
   "metadata": {},
   "outputs": [],
   "source": [
    "train_dataset = Data()\n",
    "test_dataset = Data_test()"
   ]
  },
  {
   "cell_type": "code",
   "execution_count": 6,
   "id": "720f1bd2",
   "metadata": {},
   "outputs": [
    {
     "data": {
      "text/plain": [
       "(torch.Size([18]), tensor(0.))"
      ]
     },
     "execution_count": 6,
     "metadata": {},
     "output_type": "execute_result"
    }
   ],
   "source": [
    "train_dataset[1][0].shape, train_dataset[1][1]"
   ]
  },
  {
   "cell_type": "code",
   "execution_count": 7,
   "id": "fc382510",
   "metadata": {},
   "outputs": [
    {
     "data": {
      "text/plain": [
       "(torch.Size([18]), tensor(1.))"
      ]
     },
     "execution_count": 7,
     "metadata": {},
     "output_type": "execute_result"
    }
   ],
   "source": [
    "test_dataset[1][0].shape, test_dataset[1][1]"
   ]
  },
  {
   "cell_type": "code",
   "execution_count": 8,
   "id": "70b6a469",
   "metadata": {},
   "outputs": [
    {
     "data": {
      "text/plain": [
       "103594"
      ]
     },
     "execution_count": 8,
     "metadata": {},
     "output_type": "execute_result"
    }
   ],
   "source": [
    "len(train_dataset)"
   ]
  },
  {
   "cell_type": "code",
   "execution_count": 9,
   "id": "3593598b",
   "metadata": {},
   "outputs": [],
   "source": [
    "train_dataset, val_dataset = random_split(train_dataset, [83594,20000])"
   ]
  },
  {
   "cell_type": "code",
   "execution_count": 10,
   "id": "a294ae94",
   "metadata": {},
   "outputs": [
    {
     "data": {
      "text/plain": [
       "(83594, 20000, 25893)"
      ]
     },
     "execution_count": 10,
     "metadata": {},
     "output_type": "execute_result"
    }
   ],
   "source": [
    "len(train_dataset), len(val_dataset), len(test_dataset)"
   ]
  },
  {
   "cell_type": "markdown",
   "id": "0983f97c",
   "metadata": {},
   "source": [
    "## 2. Dataloaders"
   ]
  },
  {
   "cell_type": "markdown",
   "id": "29e59ed3",
   "metadata": {},
   "source": [
    "A **dataloader** creates batches of samples from a dataset so that they can be passed into a model.\n",
    "- Create a train and test dataloaders using the following commands:\n",
    "```\n",
    "train_dataloader = DataLoader(train_dataset, batch_size=64, shuffle=True)\n",
    "val_dataloader = DataLoader(val_dataset, batch_size=64, shuffle=True)\n",
    "test_dataloader = DataLoader(test_dataset, batch_size=64, shuffle=True)\n",
    "```\n",
    "- Note that dataloaders are not subscriptable.\n",
    "- Try to catch one batch of the dataloader and examine it.\n",
    "- Write a function that reshapes a batch of size $64 \\times 1 \\times 28 \\times 28$ into a tensor of size $64 \\times 784$.<br>\n",
    "(use `torch.squeeze()`, `torch.reshape()`, `torch.flatten()`, `torch.transpose()`, etc.)"
   ]
  },
  {
   "cell_type": "markdown",
   "id": "7bda045c",
   "metadata": {
    "scrolled": true
   },
   "source": [
    "train_dataloader = DataLoader(train_dataset, batch_size=64, shuffle=True)\n",
    "val_dataloader = DataLoader(val_dataset, batch_size=64, shuffle=True)\n",
    "test_dataloader = DataLoader(test_dataset, batch_size=64, shuffle=True)"
   ]
  },
  {
   "cell_type": "code",
   "execution_count": 11,
   "id": "049c3c8f",
   "metadata": {},
   "outputs": [],
   "source": [
    "train_dataloader = DataLoader(train_dataset, batch_size=256, shuffle=True)\n",
    "val_dataloader = DataLoader(val_dataset, batch_size=256, shuffle=True)\n",
    "test_dataloader = DataLoader(test_dataset, batch_size=256, shuffle=True)"
   ]
  },
  {
   "cell_type": "code",
   "execution_count": 12,
   "id": "2e6c157e",
   "metadata": {
    "scrolled": true
   },
   "outputs": [],
   "source": [
    "def reshape_batch(batch):\n",
    "    \n",
    "    # note that this function moodifies the batch in-place (no return)\n",
    "    batch_size = batch[0].shape[0]\n",
    "    batch[0] = batch[0].view(batch_size, -1)\n",
    "    \n",
    "    return batch"
   ]
  },
  {
   "cell_type": "code",
   "execution_count": 13,
   "id": "c5911f75",
   "metadata": {},
   "outputs": [],
   "source": [
    "for b in train_dataloader:\n",
    "    break"
   ]
  },
  {
   "cell_type": "code",
   "execution_count": 14,
   "id": "34e22726",
   "metadata": {},
   "outputs": [
    {
     "data": {
      "text/plain": [
       "torch.Size([256, 18])"
      ]
     },
     "execution_count": 14,
     "metadata": {},
     "output_type": "execute_result"
    }
   ],
   "source": [
    "b[0].shape"
   ]
  },
  {
   "cell_type": "code",
   "execution_count": 15,
   "id": "d9e293f1",
   "metadata": {},
   "outputs": [
    {
     "data": {
      "text/plain": [
       "[tensor([[ 0.,  0., 30.,  ...,  1.,  4.,  1.],\n",
       "         [ 0.,  0., 43.,  ...,  4.,  5.,  2.],\n",
       "         [ 0.,  0., 70.,  ...,  3.,  5.,  5.],\n",
       "         ...,\n",
       "         [ 0.,  0., 30.,  ...,  3.,  4.,  2.],\n",
       "         [ 1.,  1., 20.,  ...,  2.,  3.,  5.],\n",
       "         [ 1.,  0., 45.,  ...,  1.,  2.,  4.]]),\n",
       " tensor([0., 1., 1., 1., 0., 1., 1., 1., 1., 0., 0., 0., 1., 1., 1., 0., 0., 1.,\n",
       "         0., 1., 1., 1., 0., 1., 1., 0., 1., 0., 0., 1., 0., 1., 1., 1., 1., 1.,\n",
       "         1., 1., 0., 0., 0., 0., 0., 1., 0., 1., 1., 0., 1., 0., 0., 1., 1., 0.,\n",
       "         1., 0., 1., 0., 1., 1., 0., 1., 1., 0., 1., 0., 0., 0., 0., 0., 0., 1.,\n",
       "         0., 1., 1., 0., 0., 0., 1., 0., 1., 1., 1., 0., 0., 0., 0., 1., 0., 1.,\n",
       "         0., 0., 0., 1., 0., 0., 0., 1., 0., 0., 0., 0., 0., 0., 1., 1., 1., 0.,\n",
       "         0., 0., 0., 0., 0., 0., 0., 1., 0., 0., 0., 0., 1., 0., 0., 1., 0., 0.,\n",
       "         0., 0., 0., 1., 0., 0., 1., 0., 0., 1., 1., 1., 1., 0., 1., 0., 0., 1.,\n",
       "         0., 1., 0., 0., 1., 0., 0., 1., 1., 1., 1., 0., 0., 0., 0., 1., 0., 0.,\n",
       "         1., 0., 0., 1., 0., 0., 0., 1., 1., 0., 0., 1., 1., 1., 1., 1., 1., 0.,\n",
       "         0., 1., 0., 1., 1., 0., 1., 1., 1., 1., 0., 0., 1., 1., 1., 1., 0., 0.,\n",
       "         1., 1., 0., 0., 0., 1., 0., 1., 0., 0., 0., 0., 0., 0., 0., 1., 0., 0.,\n",
       "         0., 0., 0., 0., 1., 0., 1., 0., 0., 0., 0., 0., 0., 1., 0., 1., 1., 0.,\n",
       "         0., 0., 1., 1., 1., 1., 1., 0., 1., 1., 1., 1., 0., 1., 0., 1., 1., 1.,\n",
       "         0., 0., 0., 0.])]"
      ]
     },
     "execution_count": 15,
     "metadata": {},
     "output_type": "execute_result"
    }
   ],
   "source": [
    "reshape_batch(b)"
   ]
  },
  {
   "cell_type": "code",
   "execution_count": 16,
   "id": "7a7aa277",
   "metadata": {},
   "outputs": [
    {
     "data": {
      "text/plain": [
       "torch.Size([256, 18])"
      ]
     },
     "execution_count": 16,
     "metadata": {},
     "output_type": "execute_result"
    }
   ],
   "source": [
    "b[0].shape"
   ]
  },
  {
   "cell_type": "markdown",
   "id": "f076ba79",
   "metadata": {},
   "source": [
    "## 3. Model"
   ]
  },
  {
   "cell_type": "markdown",
   "id": "daf3ae96",
   "metadata": {},
   "source": [
    "- Define and instanciate a **neural network** with the following feaures:\n",
    "    - hidden layer 1: 256 neurons, relu activation function\n",
    "    - hidden layer 2: 256 neurons, relu activation function\n",
    "    - hidden layer 3: 128 neurons, relu activation function\n",
    "    - hidden layer 4: 64 neurons, relu activation function\n",
    "    - output layer: 10 neurons"
   ]
  },
  {
   "cell_type": "code",
   "execution_count": 17,
   "id": "9d820419",
   "metadata": {},
   "outputs": [],
   "source": [
    "class Network(nn.Module):\n",
    "\n",
    "    def __init__(self):\n",
    "        \n",
    "        super(Network, self).__init__()\n",
    "        \n",
    "        self.fc1 = nn.Linear(18, 512)\n",
    "        self.fc2 = nn.Linear(512, 512)\n",
    "        self.fc3 = nn.Linear(512, 256)\n",
    "        self.fc4 = nn.Linear(256, 128)\n",
    "        self.fc5 = nn.Linear(128, 2)\n",
    "        \n",
    "\n",
    "    def forward(self, x):\n",
    "        \n",
    "        x = self.fc1(x)\n",
    "        x = nn.ReLU()(x) #fonction d'activation\n",
    "        \n",
    "        x = self.fc2(x)\n",
    "        x = nn.ReLU()(x)\n",
    "        \n",
    "        x = self.fc3(x)\n",
    "        x = nn.ReLU()(x)\n",
    "        \n",
    "        x = self.fc4(x)\n",
    "        x = nn.ReLU()(x)\n",
    "        \n",
    "        x = self.fc5(x)\n",
    "        \n",
    "        \n",
    "        \n",
    "        return x"
   ]
  },
  {
   "cell_type": "code",
   "execution_count": 18,
   "id": "24eb29f7",
   "metadata": {},
   "outputs": [],
   "source": [
    "network = Network()"
   ]
  },
  {
   "cell_type": "code",
   "execution_count": 19,
   "id": "5507da6d",
   "metadata": {},
   "outputs": [
    {
     "data": {
      "text/plain": [
       "Network(\n",
       "  (fc1): Linear(in_features=18, out_features=512, bias=True)\n",
       "  (fc2): Linear(in_features=512, out_features=512, bias=True)\n",
       "  (fc3): Linear(in_features=512, out_features=256, bias=True)\n",
       "  (fc4): Linear(in_features=256, out_features=128, bias=True)\n",
       "  (fc5): Linear(in_features=128, out_features=2, bias=True)\n",
       ")"
      ]
     },
     "execution_count": 19,
     "metadata": {},
     "output_type": "execute_result"
    }
   ],
   "source": [
    "# Put network to GPU if exists\n",
    "device = torch.device('cuda' if torch.cuda.is_available() else 'cpu')\n",
    "network.to(device)"
   ]
  },
  {
   "cell_type": "code",
   "execution_count": 20,
   "id": "f1d0ba7f",
   "metadata": {},
   "outputs": [
    {
     "data": {
      "text/plain": [
       "Network(\n",
       "  (fc1): Linear(in_features=18, out_features=512, bias=True)\n",
       "  (fc2): Linear(in_features=512, out_features=512, bias=True)\n",
       "  (fc3): Linear(in_features=512, out_features=256, bias=True)\n",
       "  (fc4): Linear(in_features=256, out_features=128, bias=True)\n",
       "  (fc5): Linear(in_features=128, out_features=2, bias=True)\n",
       ")"
      ]
     },
     "execution_count": 20,
     "metadata": {},
     "output_type": "execute_result"
    }
   ],
   "source": [
    "network"
   ]
  },
  {
   "cell_type": "markdown",
   "id": "c96d0079",
   "metadata": {},
   "source": [
    "## 4. Loss"
   ]
  },
  {
   "cell_type": "markdown",
   "id": "adca7d03",
   "metadata": {},
   "source": [
    "- Define a **cross entropy loss** with the following command:<br>\n",
    "```\n",
    "loss = nn.CrossEntropyLoss()\n",
    "```\n",
    "- Try to understand this loss object:<br>\n",
    "https://pytorch.org/docs/stable/generated/torch.nn.CrossEntropyLoss.html"
   ]
  },
  {
   "cell_type": "code",
   "execution_count": 21,
   "id": "87b7ddc4",
   "metadata": {},
   "outputs": [],
   "source": [
    "loss = nn.CrossEntropyLoss()"
   ]
  },
  {
   "cell_type": "markdown",
   "id": "f2e74bf7",
   "metadata": {},
   "source": [
    "## 5. Optimizer"
   ]
  },
  {
   "cell_type": "markdown",
   "id": "f8e9349d",
   "metadata": {},
   "source": [
    "- Define an **SGD optimizer** with the following command:<br>\n",
    "```\n",
    "optimizer = torch.optim.SGD(network.parameters(), lr=0.005)\n",
    "```\n",
    "- Try to understand this object:<br>\n",
    "https://pytorch.org/docs/stable/generated/torch.optim.SGD.html#torch.optim.SGD"
   ]
  },
  {
   "cell_type": "code",
   "execution_count": 22,
   "id": "939fbc70",
   "metadata": {},
   "outputs": [],
   "source": [
    "optimizer = torch.optim.SGD(network.parameters(), lr=0.006)"
   ]
  },
  {
   "cell_type": "markdown",
   "id": "601241b2",
   "metadata": {},
   "source": [
    "## 6. Training"
   ]
  },
  {
   "cell_type": "markdown",
   "id": "81e0534e",
   "metadata": {},
   "source": [
    "- Define a **training loop** for you model.\n",
    "- The key instructions are:\n",
    "    - ``optimizer.zero_grad()``: reset gradients to 0\n",
    "    - ``loss.backward()``      : compute new gradients\n",
    "    - ``optimizer.step()``     : uptdate weights\n",
    "- Train the model for 20 epochs.\n",
    "- Plot the training loss."
   ]
  },
  {
   "cell_type": "code",
   "execution_count": 23,
   "id": "69baf69b",
   "metadata": {},
   "outputs": [],
   "source": [
    "def train(model, loss=None, optimizer=None, train_dataloader=None, val_dataloader=None, nb_epochs=50):\n",
    "    \"\"\"Training loop\"\"\"\n",
    "\n",
    "    min_val_loss = torch.inf\n",
    "    train_losses = []\n",
    "    val_losses = []\n",
    "\n",
    "    # Iterrate over epochs\n",
    "    for e in range(nb_epochs):\n",
    "\n",
    "        # Training\n",
    "        train_loss = 0.0\n",
    "\n",
    "        for data, labels in train_dataloader:\n",
    "\n",
    "            # Transfer data to GPU if available\n",
    "            if torch.cuda.is_available():\n",
    "                data, labels = data.cuda(), labels.cuda()\n",
    "                labels = labels.type(torch.LongTensor)   # casting to long\n",
    "                data, labels = data.to(device), labels.to(device)\n",
    "                \n",
    "            \n",
    "            # Reset gradients to 0\n",
    "            optimizer.zero_grad()\n",
    "\n",
    "            # Forward Pass (on reshaped data)\n",
    "            data, labels = reshape_batch([data, labels])\n",
    "            targets = model(data)\n",
    "\n",
    "            # Compute training loss\n",
    "            current_loss = loss(targets, labels)\n",
    "            train_loss += current_loss.item()\n",
    "\n",
    "            # Compute gradients\n",
    "            current_loss.backward()\n",
    "\n",
    "            # Update weights\n",
    "            optimizer.step()\n",
    "        \n",
    "        # Validation\n",
    "        val_loss = 0.0\n",
    "\n",
    "        # Put model in eval mode\n",
    "        model.eval()\n",
    "\n",
    "        for data, labels in val_dataloader:\n",
    "\n",
    "            # Transfer data to GPU if available\n",
    "            if torch.cuda.is_available():\n",
    "                data, labels = data.cuda(), labels.cuda()\n",
    "                labels = labels.type(torch.LongTensor)   # casting to long\n",
    "                data, labels = data.to(device), labels.to(device)\n",
    "\n",
    "            # Forward Pass (on reshaped data)\n",
    "            data, labels = reshape_batch([data, labels])\n",
    "            targets = model(data)\n",
    "\n",
    "            # Compute validation loss\n",
    "            current_loss = loss(targets, labels)\n",
    "            val_loss += current_loss.item()\n",
    "        \n",
    "        # Prints\n",
    "        print(f\"Epoch {e+1}/{nb_epochs} \\\n",
    "                \\t Training Loss: {train_loss/len(train_dataloader):.3f} \\\n",
    "                \\t Validation Loss: {val_loss/len(val_dataloader):.3f}\")\n",
    "        \n",
    "        train_losses.append(train_loss/len(train_dataloader))\n",
    "        val_losses.append(val_loss/len(val_dataloader))\n",
    "\n",
    "        # Save model if val loss decreases\n",
    "        if val_loss < min_val_loss:\n",
    "\n",
    "            min_val_loss = val_loss\n",
    "            torch.save(model.state_dict(), 'best_model.pt')\n",
    "            \n",
    "    return train_losses, val_losses"
   ]
  },
  {
   "cell_type": "code",
   "execution_count": 24,
   "id": "8bd54447",
   "metadata": {
    "scrolled": true
   },
   "outputs": [
    {
     "name": "stdout",
     "output_type": "stream",
     "text": [
      "Epoch 1/50                 \t Training Loss: 1.651                 \t Validation Loss: 0.664\n",
      "Epoch 2/50                 \t Training Loss: 0.654                 \t Validation Loss: 0.654\n",
      "Epoch 3/50                 \t Training Loss: 0.646                 \t Validation Loss: 0.648\n",
      "Epoch 4/50                 \t Training Loss: 0.641                 \t Validation Loss: 0.645\n",
      "Epoch 5/50                 \t Training Loss: 0.636                 \t Validation Loss: 0.648\n",
      "Epoch 6/50                 \t Training Loss: 0.634                 \t Validation Loss: 0.650\n",
      "Epoch 7/50                 \t Training Loss: 0.635                 \t Validation Loss: 0.647\n",
      "Epoch 8/50                 \t Training Loss: 0.630                 \t Validation Loss: 0.639\n",
      "Epoch 9/50                 \t Training Loss: 0.629                 \t Validation Loss: 0.649\n",
      "Epoch 10/50                 \t Training Loss: 0.638                 \t Validation Loss: 0.659\n",
      "Epoch 11/50                 \t Training Loss: 0.635                 \t Validation Loss: 0.635\n",
      "Epoch 12/50                 \t Training Loss: 0.628                 \t Validation Loss: 0.624\n",
      "Epoch 13/50                 \t Training Loss: 0.624                 \t Validation Loss: 0.616\n",
      "Epoch 14/50                 \t Training Loss: 0.631                 \t Validation Loss: 0.642\n",
      "Epoch 15/50                 \t Training Loss: 0.625                 \t Validation Loss: 0.619\n",
      "Epoch 16/50                 \t Training Loss: 0.628                 \t Validation Loss: 0.626\n",
      "Epoch 17/50                 \t Training Loss: 0.617                 \t Validation Loss: 0.638\n",
      "Epoch 18/50                 \t Training Loss: 0.622                 \t Validation Loss: 0.642\n",
      "Epoch 19/50                 \t Training Loss: 0.619                 \t Validation Loss: 0.622\n",
      "Epoch 20/50                 \t Training Loss: 0.614                 \t Validation Loss: 0.621\n",
      "Epoch 21/50                 \t Training Loss: 0.616                 \t Validation Loss: 0.603\n",
      "Epoch 22/50                 \t Training Loss: 0.621                 \t Validation Loss: 0.648\n",
      "Epoch 23/50                 \t Training Loss: 0.617                 \t Validation Loss: 0.800\n",
      "Epoch 24/50                 \t Training Loss: 0.614                 \t Validation Loss: 0.649\n",
      "Epoch 25/50                 \t Training Loss: 0.608                 \t Validation Loss: 0.688\n",
      "Epoch 26/50                 \t Training Loss: 0.607                 \t Validation Loss: 0.576\n",
      "Epoch 27/50                 \t Training Loss: 0.606                 \t Validation Loss: 0.591\n",
      "Epoch 28/50                 \t Training Loss: 0.604                 \t Validation Loss: 0.583\n",
      "Epoch 29/50                 \t Training Loss: 0.604                 \t Validation Loss: 0.606\n",
      "Epoch 30/50                 \t Training Loss: 0.606                 \t Validation Loss: 0.616\n",
      "Epoch 31/50                 \t Training Loss: 0.603                 \t Validation Loss: 0.607\n",
      "Epoch 32/50                 \t Training Loss: 0.615                 \t Validation Loss: 0.633\n",
      "Epoch 33/50                 \t Training Loss: 0.600                 \t Validation Loss: 0.561\n",
      "Epoch 34/50                 \t Training Loss: 0.599                 \t Validation Loss: 0.581\n",
      "Epoch 35/50                 \t Training Loss: 0.600                 \t Validation Loss: 0.577\n",
      "Epoch 36/50                 \t Training Loss: 0.597                 \t Validation Loss: 0.635\n",
      "Epoch 37/50                 \t Training Loss: 0.600                 \t Validation Loss: 0.623\n",
      "Epoch 38/50                 \t Training Loss: 0.602                 \t Validation Loss: 0.640\n",
      "Epoch 39/50                 \t Training Loss: 0.605                 \t Validation Loss: 0.636\n",
      "Epoch 40/50                 \t Training Loss: 0.601                 \t Validation Loss: 0.573\n",
      "Epoch 41/50                 \t Training Loss: 0.592                 \t Validation Loss: 0.604\n",
      "Epoch 42/50                 \t Training Loss: 0.589                 \t Validation Loss: 0.568\n",
      "Epoch 43/50                 \t Training Loss: 0.602                 \t Validation Loss: 0.558\n",
      "Epoch 44/50                 \t Training Loss: 0.589                 \t Validation Loss: 0.555\n",
      "Epoch 45/50                 \t Training Loss: 0.591                 \t Validation Loss: 0.639\n",
      "Epoch 46/50                 \t Training Loss: 0.596                 \t Validation Loss: 0.573\n",
      "Epoch 47/50                 \t Training Loss: 0.593                 \t Validation Loss: 0.657\n",
      "Epoch 48/50                 \t Training Loss: 0.594                 \t Validation Loss: 0.579\n",
      "Epoch 49/50                 \t Training Loss: 0.593                 \t Validation Loss: 0.648\n",
      "Epoch 50/50                 \t Training Loss: 0.595                 \t Validation Loss: 0.621\n"
     ]
    }
   ],
   "source": [
    "train_losses, val_losses = train(model=network, loss=loss, optimizer=optimizer, \n",
    "                                 train_dataloader=train_dataloader, val_dataloader=val_dataloader, \n",
    "                                 nb_epochs=50)"
   ]
  },
  {
   "cell_type": "code",
   "execution_count": 32,
   "id": "eed150b4",
   "metadata": {},
   "outputs": [
    {
     "data": {
      "image/png": "[encoded data removed]",
      "text/plain": [
       "<Figure size 432x288 with 1 Axes>"
      ]
     },
     "metadata": {
      "needs_background": "light"
     },
     "output_type": "display_data"
    }
   ],
   "source": [
    "# Plot losses\n",
    "plt.plot(range(len(train_losses[1:])), train_losses[1:], \n",
    "         linewidth=2.0, \n",
    "         label='training loss')\n",
    "\n",
    "plt.plot(range(len(val_losses[1:])), val_losses[1:], \n",
    "         linewidth=2.0, \n",
    "         label='validation loss')\n",
    "\n",
    "plt.xlabel(\"Epochs\", size=12)\n",
    "plt.ylabel(\"Losses\", size=12)\n",
    "plt.legend()\n",
    "\n",
    "plt.savefig('figures/losses.pdf') \n",
    "plt.show()"
   ]
  },
  {
   "cell_type": "markdown",
   "id": "21c25e52",
   "metadata": {},
   "source": [
    "## 6. Testing"
   ]
  },
  {
   "cell_type": "markdown",
   "id": "27d6f3af",
   "metadata": {},
   "source": [
    "- Write a ``predict`` function\n",
    "    - use ``with torch.no_grad():``\n",
    "- Compute the accuracy and classification report of the train and test sets."
   ]
  },
  {
   "cell_type": "code",
   "execution_count": 33,
   "id": "59109d5a",
   "metadata": {},
   "outputs": [],
   "source": [
    "def predict(model, test_dataloader):\n",
    "\n",
    "    labels_l = []\n",
    "    preds_l = []\n",
    "    \n",
    "    # Put model in eval mode\n",
    "    model.eval()\n",
    "    \n",
    "    # Testing loop\n",
    "    with torch.no_grad():\n",
    "        \n",
    "        for i, batch in enumerate(test_dataloader):\n",
    "            \n",
    "            data, labels = reshape_batch(batch)\n",
    "            data, labels = data.to(device), labels.to(device) #sinon bug\n",
    "            \n",
    "            labels_l.extend(labels.tolist())\n",
    "            \n",
    "            preds = model.to(device)\n",
    "            preds = model(data)\n",
    "            \n",
    "            preds = torch.argmax(preds, dim=1)\n",
    "            preds_l.extend(preds.tolist())\n",
    "    \n",
    "    return labels_l, preds_l"
   ]
  },
  {
   "cell_type": "code",
   "execution_count": 34,
   "id": "bc07d04b",
   "metadata": {},
   "outputs": [],
   "source": [
    "train_labels, train_preds = predict(network, train_dataloader)\n",
    "test_labels, test_preds = predict(network, test_dataloader)"
   ]
  },
  {
   "cell_type": "code",
   "execution_count": 35,
   "id": "93a064a3",
   "metadata": {},
   "outputs": [
    {
     "name": "stdout",
     "output_type": "stream",
     "text": [
      "              precision    recall  f1-score   support\n",
      "\n",
      "         0.0     0.6130    0.9539    0.7464     47384\n",
      "         1.0     0.7785    0.2121    0.3334     36210\n",
      "\n",
      "    accuracy                         0.6326     83594\n",
      "   macro avg     0.6957    0.5830    0.5399     83594\n",
      "weighted avg     0.6847    0.6326    0.5675     83594\n",
      "\n"
     ]
    }
   ],
   "source": [
    "print(classification_report(train_labels, train_preds, digits=4))"
   ]
  },
  {
   "cell_type": "code",
   "execution_count": 36,
   "id": "f46828e3",
   "metadata": {},
   "outputs": [
    {
     "name": "stdout",
     "output_type": "stream",
     "text": [
      "              precision    recall  f1-score   support\n",
      "\n",
      "         0.0     0.6066    0.9526    0.7412     14528\n",
      "         1.0     0.7765    0.2103    0.3310     11365\n",
      "\n",
      "    accuracy                         0.6268     25893\n",
      "   macro avg     0.6915    0.5815    0.5361     25893\n",
      "weighted avg     0.6812    0.6268    0.5612     25893\n",
      "\n"
     ]
    }
   ],
   "source": [
    "print(classification_report(test_labels, test_preds, digits=4))"
   ]
  },
  {
   "cell_type": "markdown",
   "id": "202236fb",
   "metadata": {},
   "source": [
    "## 7. Save"
   ]
  },
  {
   "cell_type": "markdown",
   "id": "3dc640fe",
   "metadata": {},
   "source": [
    "- Save your trained model.\n",
    "- Try to reload it and see if it works.\n",
    "- Use the following instructions\n",
    "```\n",
    "torch.save(model.state_dict(), <path>)\n",
    "...\n",
    "network_2.load_state_dict(torch.load(<path>))\n",
    "network_2.eval()\n",
    "```"
   ]
  },
  {
   "cell_type": "code",
   "execution_count": null,
   "id": "7ecea0ac",
   "metadata": {},
   "outputs": [],
   "source": [
    "cwd = os.getcwd()\n",
    "path = os.path.join(cwd, \"model.pt\")\n",
    "path_2 = os.path.join(cwd, \"best_model.pt\")"
   ]
  },
  {
   "cell_type": "code",
   "execution_count": null,
   "id": "383a6608",
   "metadata": {},
   "outputs": [],
   "source": [
    "# Save last model\n",
    "torch.save(network.state_dict(), path) "
   ]
  },
  {
   "cell_type": "code",
   "execution_count": null,
   "id": "925c04a4",
   "metadata": {},
   "outputs": [],
   "source": [
    "# Load best model\n",
    "network_2 = Network()\n",
    "\n",
    "network_2.load_state_dict(torch.load(path))\n",
    "network_2.eval()"
   ]
  },
  {
   "cell_type": "code",
   "execution_count": null,
   "id": "670784fa",
   "metadata": {},
   "outputs": [],
   "source": [
    "test_labels, test_preds = predict(network_2, test_dataloader)"
   ]
  },
  {
   "cell_type": "code",
   "execution_count": null,
   "id": "13b84834",
   "metadata": {
    "scrolled": true
   },
   "outputs": [],
   "source": [
    "print(classification_report(test_labels, test_preds))"
   ]
  }
 ],
 "metadata": {
  "kernelspec": {
   "display_name": "Python 3 (ipykernel)",
   "language": "python",
   "name": "python3"
  },
  "language_info": {
   "codemirror_mode": {
    "name": "ipython",
    "version": 3
   },
   "file_extension": ".py",
   "mimetype": "text/x-python",
   "name": "python",
   "nbconvert_exporter": "python",
   "pygments_lexer": "ipython3",
   "version": "3.9.7"
  }
 },
 "nbformat": 4,
 "nbformat_minor": 5
}
