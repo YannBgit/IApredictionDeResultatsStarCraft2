{
 "cells": [
  {
   "cell_type": "markdown",
   "id": "ac35021e",
   "metadata": {},
   "source": [
    "# Réseau de neurone ``PyTorch``- Prédiction de vainqueur sur StarCraft 2"
   ]
  },
  {
   "cell_type": "markdown",
   "id": "bcbe3b65",
   "metadata": {},
   "source": [
    "Le dataset représente de nombreuses parties 1 contre 1 sur le jeu StarCraft 2.\n",
    "Pour chaque replay est enregistré à chaque temps T l'etat du jeu (26 champs) ainsi que le vainqueur (1 champ), indiqué en dernière colonne par 0 ou 1.\n",
    "\n",
    "<img src=\"files/figures/sc2_logo.png\" width=\"600px\"/>\n",
    "\n",
    "Nous définirons et entraînerons un réseau de neurones sur ce dataset. C'est un problème de régression car nous voulons une probabilité de victoire.<br>\n",
    "Nous commencerons par programmer notre réseau de neurones en affichant les données pertinentes, et nous passerons à une étude de cas pour concrétiser l'utilisation du programme."
   ]
  },
  {
   "cell_type": "markdown",
   "id": "933ac146",
   "metadata": {},
   "source": [
    "## 1. Librairies"
   ]
  },
  {
   "cell_type": "code",
   "execution_count": 3,
   "id": "6235ff87",
   "metadata": {
    "scrolled": true
   },
   "outputs": [],
   "source": [
    "import torch\n",
    "import pandas as pd\n",
    "import numpy as np\n",
    "import matplotlib.pyplot as plt\n",
    "import torch.nn as nn\n",
    "import torch.nn.functional as F\n",
    "import seaborn as sns\n",
    "\n",
    "from torch.utils.data import DataLoader, TensorDataset, random_split"
   ]
  },
  {
   "cell_type": "markdown",
   "id": "56800aaa",
   "metadata": {},
   "source": [
    "## 2. Exploration des datasets"
   ]
  },
  {
   "cell_type": "markdown",
   "id": "70011aad",
   "metadata": {},
   "source": [
    "- L'étape la plus longue pour arriver à entraîner notre IA a consisté en l'élaboration d'un dataset de qualité pour le sujet qui nous intéressait. Nous avons dû écrire un programme permettant de générer un grand nombre de rows (lignes) sur de nombreuses données permettant de décrire l'état d'une partie de StarCraft 2 en cours.<br>\n",
    "Le code source de ce parseur est disponible sur github :<br>\n",
    "https://github.com/YannBgit/SC2replayDatasetGenerator\n",
    "\n",
    "- Ce programme a pu être écrit grâce à l'API sc2reader qui permet d'extraire des données de fichiers SC2Replay. Son code source est également disponible :<br>\n",
    "https://github.com/ggtracker/sc2reader\n",
    "\n",
    "- Le parseur contient des fonctionnalités d'ergonomie et de randomisation de datasets. Sans entrer dans les détails (l'utilisation est détaillée dans le README), il est possible à partir d'un répertoire contenant un grand nombre de replays de choisir le nombre à utiliser pour le dataset, qu'un script va sélectionner aléatoirement dans le répertoire source.<br>\n",
    "- Le parseur va ensuite extraire des données de ces replays pour générer un grand nombre de rows correspondant chacun à un instant dans la partie étudiée.<br><br>\n",
    "- L'étape suivante a été de trouver un grand nombre de replays exploitables à donner au parseur. Heureusement, Blizzard, le studio produisant le jeu, a rendu public une base de données massive de replays anonymisés qui ont servi aux équipes de Google pour entraîner l'IA AlphaStar. Nous avons donc pu raisonnablement parser 30 000 replays.\n",
    "- Affichage des données."
   ]
  },
  {
   "cell_type": "code",
   "execution_count": 4,
   "id": "1293319b",
   "metadata": {
    "scrolled": true
   },
   "outputs": [
    {
     "data": {
      "text/html": [
       "<div>\n",
       "<style scoped>\n",
       "    .dataframe tbody tr th:only-of-type {\n",
       "        vertical-align: middle;\n",
       "    }\n",
       "\n",
       "    .dataframe tbody tr th {\n",
       "        vertical-align: top;\n",
       "    }\n",
       "\n",
       "    .dataframe thead th {\n",
       "        text-align: right;\n",
       "    }\n",
       "</style>\n",
       "<table border=\"1\" class=\"dataframe\">\n",
       "  <thead>\n",
       "    <tr style=\"text-align: right;\">\n",
       "      <th></th>\n",
       "      <th>time</th>\n",
       "      <th>race1</th>\n",
       "      <th>race2</th>\n",
       "      <th>map</th>\n",
       "      <th>supplyUsed1</th>\n",
       "      <th>supplyUsed2</th>\n",
       "      <th>totalIncome1</th>\n",
       "      <th>totalIncome2</th>\n",
       "      <th>mineralsIncome1</th>\n",
       "      <th>mineralsIncome2</th>\n",
       "      <th>...</th>\n",
       "      <th>vespene2</th>\n",
       "      <th>activeWorkers1</th>\n",
       "      <th>activeWorkers2</th>\n",
       "      <th>army1</th>\n",
       "      <th>army2</th>\n",
       "      <th>technology1</th>\n",
       "      <th>technology2</th>\n",
       "      <th>lostResources1</th>\n",
       "      <th>lostResources2</th>\n",
       "      <th>winner</th>\n",
       "    </tr>\n",
       "  </thead>\n",
       "  <tbody>\n",
       "    <tr>\n",
       "      <th>0</th>\n",
       "      <td>1014</td>\n",
       "      <td>0</td>\n",
       "      <td>1</td>\n",
       "      <td>18</td>\n",
       "      <td>65.0</td>\n",
       "      <td>113.0</td>\n",
       "      <td>224</td>\n",
       "      <td>1048</td>\n",
       "      <td>0</td>\n",
       "      <td>680</td>\n",
       "      <td>...</td>\n",
       "      <td>659</td>\n",
       "      <td>13</td>\n",
       "      <td>33</td>\n",
       "      <td>3200</td>\n",
       "      <td>4875</td>\n",
       "      <td>1575</td>\n",
       "      <td>1300</td>\n",
       "      <td>10006</td>\n",
       "      <td>9762</td>\n",
       "      <td>0</td>\n",
       "    </tr>\n",
       "    <tr>\n",
       "      <th>1</th>\n",
       "      <td>914</td>\n",
       "      <td>2</td>\n",
       "      <td>2</td>\n",
       "      <td>8</td>\n",
       "      <td>148.0</td>\n",
       "      <td>104.0</td>\n",
       "      <td>2040</td>\n",
       "      <td>2224</td>\n",
       "      <td>1320</td>\n",
       "      <td>1600</td>\n",
       "      <td>...</td>\n",
       "      <td>223</td>\n",
       "      <td>73</td>\n",
       "      <td>68</td>\n",
       "      <td>6325</td>\n",
       "      <td>3325</td>\n",
       "      <td>4250</td>\n",
       "      <td>3650</td>\n",
       "      <td>12075</td>\n",
       "      <td>15625</td>\n",
       "      <td>0</td>\n",
       "    </tr>\n",
       "    <tr>\n",
       "      <th>2</th>\n",
       "      <td>593</td>\n",
       "      <td>0</td>\n",
       "      <td>0</td>\n",
       "      <td>16</td>\n",
       "      <td>85.0</td>\n",
       "      <td>75.0</td>\n",
       "      <td>3403</td>\n",
       "      <td>1482</td>\n",
       "      <td>2799</td>\n",
       "      <td>1147</td>\n",
       "      <td>...</td>\n",
       "      <td>1061</td>\n",
       "      <td>56</td>\n",
       "      <td>30</td>\n",
       "      <td>1325</td>\n",
       "      <td>2875</td>\n",
       "      <td>2400</td>\n",
       "      <td>1725</td>\n",
       "      <td>2772</td>\n",
       "      <td>1900</td>\n",
       "      <td>0</td>\n",
       "    </tr>\n",
       "  </tbody>\n",
       "</table>\n",
       "<p>3 rows × 27 columns</p>\n",
       "</div>"
      ],
      "text/plain": [
       "   time  race1  race2  map  supplyUsed1  supplyUsed2  totalIncome1  \\\n",
       "0  1014      0      1   18         65.0        113.0           224   \n",
       "1   914      2      2    8        148.0        104.0          2040   \n",
       "2   593      0      0   16         85.0         75.0          3403   \n",
       "\n",
       "   totalIncome2  mineralsIncome1  mineralsIncome2  ...  vespene2  \\\n",
       "0          1048                0              680  ...       659   \n",
       "1          2224             1320             1600  ...       223   \n",
       "2          1482             2799             1147  ...      1061   \n",
       "\n",
       "   activeWorkers1  activeWorkers2  army1  army2  technology1  technology2  \\\n",
       "0              13              33   3200   4875         1575         1300   \n",
       "1              73              68   6325   3325         4250         3650   \n",
       "2              56              30   1325   2875         2400         1725   \n",
       "\n",
       "   lostResources1  lostResources2  winner  \n",
       "0           10006            9762       0  \n",
       "1           12075           15625       0  \n",
       "2            2772            1900       0  \n",
       "\n",
       "[3 rows x 27 columns]"
      ]
     },
     "execution_count": 4,
     "metadata": {},
     "output_type": "execute_result"
    }
   ],
   "source": [
    "data = pd.read_csv(\"archive/shuffledDataset.csv\")\n",
    "data.head(3)"
   ]
  },
  {
   "cell_type": "code",
   "execution_count": 5,
   "id": "3d976b2e",
   "metadata": {},
   "outputs": [
    {
     "data": {
      "text/plain": [
       "time                 int64\n",
       "race1                int64\n",
       "race2                int64\n",
       "map                  int64\n",
       "supplyUsed1        float64\n",
       "supplyUsed2        float64\n",
       "totalIncome1         int64\n",
       "totalIncome2         int64\n",
       "mineralsIncome1      int64\n",
       "mineralsIncome2      int64\n",
       "vespeneIncome1       int64\n",
       "vespeneIncome2       int64\n",
       "totalResources1      int64\n",
       "totalResources2      int64\n",
       "minerals1            int64\n",
       "minerals2            int64\n",
       "vespene1             int64\n",
       "vespene2             int64\n",
       "activeWorkers1       int64\n",
       "activeWorkers2       int64\n",
       "army1                int64\n",
       "army2                int64\n",
       "technology1          int64\n",
       "technology2          int64\n",
       "lostResources1       int64\n",
       "lostResources2       int64\n",
       "winner               int64\n",
       "dtype: object"
      ]
     },
     "execution_count": 5,
     "metadata": {},
     "output_type": "execute_result"
    }
   ],
   "source": [
    "data.dtypes"
   ]
  },
  {
   "cell_type": "code",
   "execution_count": 6,
   "id": "cff1c1b2",
   "metadata": {},
   "outputs": [
    {
     "data": {
      "text/plain": [
       "1738665"
      ]
     },
     "execution_count": 6,
     "metadata": {},
     "output_type": "execute_result"
    }
   ],
   "source": [
    "len(data.index)"
   ]
  },
  {
   "cell_type": "code",
   "execution_count": 7,
   "id": "03c68be8",
   "metadata": {},
   "outputs": [
    {
     "data": {
      "text/plain": [
       "27"
      ]
     },
     "execution_count": 7,
     "metadata": {},
     "output_type": "execute_result"
    }
   ],
   "source": [
    "len(data.columns)"
   ]
  },
  {
   "cell_type": "code",
   "execution_count": 8,
   "id": "cec1468c",
   "metadata": {
    "scrolled": true
   },
   "outputs": [
    {
     "data": {
      "text/plain": [
       "1    642765\n",
       "0    596761\n",
       "2    499139\n",
       "Name: race1, dtype: int64"
      ]
     },
     "execution_count": 8,
     "metadata": {},
     "output_type": "execute_result"
    }
   ],
   "source": [
    "data.race1.value_counts()"
   ]
  },
  {
   "cell_type": "markdown",
   "id": "60515d6b",
   "metadata": {},
   "source": [
    "- Visualisation des relations entre les colonnes."
   ]
  },
  {
   "cell_type": "code",
   "execution_count": 9,
   "id": "b013b9db",
   "metadata": {},
   "outputs": [
    {
     "data": {
      "text/plain": [
       "<AxesSubplot:>"
      ]
     },
     "execution_count": 9,
     "metadata": {},
     "output_type": "execute_result"
    },
    {
     "data": {
      "image/png": "[encoded data removed]",
      "text/plain": [
       "<Figure size 640x480 with 2 Axes>"
      ]
     },
     "metadata": {},
     "output_type": "display_data"
    }
   ],
   "source": [
    "sns.heatmap(data.corr())"
   ]
  },
  {
   "cell_type": "markdown",
   "id": "39072afb",
   "metadata": {},
   "source": [
    "- Création des ensembles d'entraînement, d'évaluation et de test. <br>\n",
    "A noter que le préprocessing a été géré par le parseur en amont. Seuls des nombres (int ou float) sont écrits dans les colonnes."
   ]
  },
  {
   "cell_type": "code",
   "execution_count": 10,
   "id": "da2cc6fd",
   "metadata": {},
   "outputs": [],
   "source": [
    "def dataToArrays(data, columns):\n",
    "    dataCopy = data.copy(deep = True)\n",
    "    \n",
    "    for column in columns:\n",
    "        dataCopy[column] = (dataCopy[column] - dataCopy[column].min()) / (dataCopy[column].max() - dataCopy[column].min())\n",
    "            \n",
    "    inputArray = dataCopy[columns].to_numpy()\n",
    "    outputArray = dataCopy[outputColumns].to_numpy().reshape(-1, 1)\n",
    "    return inputArray, outputArray"
   ]
  },
  {
   "cell_type": "code",
   "execution_count": 11,
   "id": "ac2a3a33",
   "metadata": {},
   "outputs": [],
   "source": [
    "inputColumns = [title for title in data.columns if title != \"winner\"]\n",
    "outputColumns = [\"winner\"]\n",
    "\n",
    "inputArray, outputArray = dataToArrays(data, inputColumns)\n",
    "\n",
    "inputs = torch.tensor(inputArray, dtype = torch.float32)\n",
    "outputs = torch.tensor(outputArray, dtype = torch.float32)\n",
    "\n",
    "dataset = TensorDataset(inputs, outputs)\n",
    "\n",
    "validationSize = int(0.2 * len(dataset))\n",
    "trainSize = len(dataset) - validationSize\n",
    "trainDataset, validationDataset = random_split(dataset, [trainSize, validationSize])"
   ]
  },
  {
   "cell_type": "markdown",
   "id": "def10bdf",
   "metadata": {},
   "source": [
    "- Appel des dataloader."
   ]
  },
  {
   "cell_type": "code",
   "execution_count": 12,
   "id": "8e61c37a",
   "metadata": {},
   "outputs": [],
   "source": [
    "batchSize = 64\n",
    "\n",
    "trainLoader = DataLoader(trainDataset, batchSize, shuffle = True)\n",
    "validationLoader = DataLoader(validationDataset, batchSize, shuffle = True)\n",
    "\n",
    "nbInputs = len(inputColumns)\n",
    "nbOutputs = 1"
   ]
  },
  {
   "cell_type": "markdown",
   "id": "5375e22f",
   "metadata": {},
   "source": [
    "- Définition de la fonction de calcul de précision."
   ]
  },
  {
   "cell_type": "code",
   "execution_count": 13,
   "id": "cc5c5bf7",
   "metadata": {},
   "outputs": [],
   "source": [
    "def accuracy(outputs, labels):\n",
    "    return torch.tensor(torch.sum(outputs.round() == labels).item() / len(outputs))"
   ]
  },
  {
   "cell_type": "markdown",
   "id": "3d3fe9c1",
   "metadata": {},
   "source": [
    "- Définition du modèle."
   ]
  },
  {
   "cell_type": "code",
   "execution_count": 14,
   "id": "2cdfce77",
   "metadata": {},
   "outputs": [],
   "source": [
    "layerSize = 128\n",
    "\n",
    "class Model(nn.Module):\n",
    "    def __init__(self):\n",
    "        super().__init__()        \n",
    "        self.fc1 = nn.Linear(nbInputs, layerSize)\n",
    "        self.fc2 = nn.Linear(layerSize, layerSize)\n",
    "        self.fc3 = nn.Linear(layerSize, nbOutputs)\n",
    "        \n",
    "    def forward(self, x):\n",
    "        x = self.fc1(x)\n",
    "        x = nn.ReLU()(x)\n",
    "        \n",
    "        x = self.fc2(x)\n",
    "        x = nn.ReLU()(x)\n",
    "        \n",
    "        x = self.fc3(x)\n",
    "        return torch.sigmoid(x)\n",
    "    \n",
    "    def trainingStep(self, batch):\n",
    "        inputs, labels = batch \n",
    "        out = self(inputs)\n",
    "        currentLoss = F.binary_cross_entropy(out, labels)\n",
    "        return currentLoss\n",
    "    \n",
    "    def validationStep(self, batch):\n",
    "        inputs, labels = batch\n",
    "        out = self(inputs)\n",
    "        currentLoss = F.binary_cross_entropy(out, labels)\n",
    "        currentAccuracy = accuracy(out, labels)\n",
    "        return {\"Validation loss\" : currentLoss, \"Validation accuracy\" : currentAccuracy}\n",
    "    \n",
    "    def validationEpochEnd(self, outputs):\n",
    "        batchLosses = [x[\"Validation loss\"] for x in outputs]\n",
    "        epochLoss = torch.stack(batchLosses).mean()\n",
    "        batchAccuracy = [x[\"Validation accuracy\"] for x in outputs]\n",
    "        epochAccuracy = torch.stack(batchAccuracy).mean()\n",
    "        return {\"Validation loss\" : epochLoss.item(), \"Validation accuracy\" : epochAccuracy.item()}\n",
    "    \n",
    "    def epochEnd(self, epoch, result):\n",
    "        print(\"Epoch [{}], Validation loss : {:.4f}, Validation accuracy : {:.4f}\".format(epoch, result[\"Validation loss\"], result[\"Validation accuracy\"]))\n",
    "    \n",
    "model = Model()"
   ]
  },
  {
   "cell_type": "markdown",
   "id": "2621c2d4",
   "metadata": {},
   "source": [
    "- Affichage des paramètres du modèle."
   ]
  },
  {
   "cell_type": "code",
   "execution_count": 15,
   "id": "4c11d27a",
   "metadata": {},
   "outputs": [
    {
     "data": {
      "text/plain": [
       "[Parameter containing:\n",
       " tensor([[ 0.1773,  0.1618,  0.1125,  ..., -0.0148, -0.1032, -0.1642],\n",
       "         [-0.0166, -0.1859,  0.0546,  ...,  0.1538, -0.1414, -0.1747],\n",
       "         [-0.1553,  0.1057,  0.0196,  ..., -0.0918, -0.1650,  0.1356],\n",
       "         ...,\n",
       "         [-0.0474,  0.0374,  0.1637,  ...,  0.1009,  0.1132,  0.1779],\n",
       "         [-0.1017,  0.1256, -0.0583,  ...,  0.1915, -0.0236,  0.1175],\n",
       "         [ 0.0493, -0.1708,  0.1135,  ...,  0.0495, -0.0647,  0.0065]],\n",
       "        requires_grad=True),\n",
       " Parameter containing:\n",
       " tensor([-1.3375e-02,  4.7736e-02,  1.7600e-02,  2.5224e-02, -1.4751e-01,\n",
       "         -1.3111e-01,  1.6268e-01,  9.2826e-02, -3.9327e-02,  1.2601e-01,\n",
       "          7.1187e-02, -1.8079e-01, -6.0927e-02,  1.8120e-01, -1.8265e-02,\n",
       "          9.8275e-02, -5.6690e-02,  1.9103e-01, -7.7670e-02,  1.0542e-01,\n",
       "          5.1782e-02, -4.3368e-02, -1.2224e-01, -2.2497e-03,  1.5632e-01,\n",
       "         -3.4380e-02,  1.1151e-01,  4.9288e-02,  3.6149e-03, -1.4322e-01,\n",
       "         -2.2904e-02, -3.7016e-02, -8.9902e-02, -7.2315e-02,  6.3039e-02,\n",
       "          1.9211e-01, -8.4412e-02,  8.0254e-02,  7.4249e-02, -3.2496e-02,\n",
       "         -1.1649e-01,  1.5864e-02, -1.7659e-01,  1.8247e-01,  1.9227e-01,\n",
       "         -7.4906e-02, -1.8256e-01, -1.1287e-01, -7.5890e-02, -8.8628e-02,\n",
       "         -1.3202e-01,  1.7144e-01,  1.8827e-01, -1.1100e-01, -1.2733e-01,\n",
       "          1.8903e-01, -8.2171e-02,  2.7628e-02, -1.1079e-01, -1.3128e-01,\n",
       "          1.6435e-01, -1.7374e-02,  8.1276e-02,  2.1452e-02,  1.9065e-01,\n",
       "          1.8378e-01,  1.1932e-01, -1.7941e-01, -1.5242e-02,  6.8976e-02,\n",
       "          3.7158e-02, -6.4603e-02, -2.4080e-02,  1.6634e-01, -1.8276e-01,\n",
       "         -1.3956e-01, -2.4006e-05,  1.2001e-02,  1.8998e-01,  1.9410e-01,\n",
       "          1.5799e-01, -7.7552e-02,  8.8049e-02, -8.9224e-02, -3.5441e-02,\n",
       "          3.2525e-02,  1.5472e-01,  9.6702e-02,  9.5911e-02, -1.5108e-01,\n",
       "         -1.2066e-02, -8.5743e-02,  4.4893e-02,  1.2165e-01,  8.9007e-02,\n",
       "         -1.3512e-01, -4.6737e-02,  1.8926e-01,  1.8505e-01, -1.2741e-01,\n",
       "          9.0129e-02,  7.9150e-02, -5.0656e-02,  3.8068e-02,  1.6928e-01,\n",
       "          1.0582e-01, -1.3043e-01, -8.0324e-02,  4.4566e-02,  6.2708e-03,\n",
       "          1.9266e-01,  1.4809e-01, -5.1744e-02, -1.0964e-01,  1.6143e-02,\n",
       "          9.4507e-02, -7.7411e-02, -1.8400e-01,  1.5687e-01, -1.2699e-01,\n",
       "         -3.7359e-02,  1.4947e-02,  1.7476e-01, -7.9429e-02,  1.5237e-01,\n",
       "          1.6230e-01, -1.4541e-01,  7.5590e-03], requires_grad=True),\n",
       " Parameter containing:\n",
       " tensor([[ 0.0023,  0.0850, -0.0479,  ...,  0.0785, -0.0805, -0.0305],\n",
       "         [ 0.0518, -0.0787,  0.0625,  ..., -0.0175,  0.0076,  0.0527],\n",
       "         [ 0.0523,  0.0617, -0.0032,  ..., -0.0799, -0.0244,  0.0767],\n",
       "         ...,\n",
       "         [-0.0263, -0.0407,  0.0058,  ...,  0.0361,  0.0386,  0.0338],\n",
       "         [-0.0715,  0.0036,  0.0173,  ..., -0.0390, -0.0809,  0.0626],\n",
       "         [-0.0411, -0.0253, -0.0812,  ...,  0.0171,  0.0624, -0.0652]],\n",
       "        requires_grad=True),\n",
       " Parameter containing:\n",
       " tensor([ 0.0881, -0.0260,  0.0070,  0.0355,  0.0700, -0.0641,  0.0731,  0.0347,\n",
       "          0.0249,  0.0129,  0.0755, -0.0835, -0.0489, -0.0425,  0.0630, -0.0054,\n",
       "         -0.0233,  0.0100, -0.0103,  0.0219,  0.0854,  0.0742, -0.0655,  0.0362,\n",
       "         -0.0628,  0.0347, -0.0600,  0.0149,  0.0029,  0.0398,  0.0261, -0.0253,\n",
       "          0.0723, -0.0403, -0.0700, -0.0434,  0.0729,  0.0401,  0.0808, -0.0061,\n",
       "         -0.0328, -0.0250,  0.0852,  0.0741,  0.0315,  0.0334,  0.0155, -0.0273,\n",
       "         -0.0501,  0.0842,  0.0755,  0.0464, -0.0134,  0.0843, -0.0474, -0.0338,\n",
       "          0.0447,  0.0062,  0.0656, -0.0450,  0.0300, -0.0210,  0.0755, -0.0095,\n",
       "         -0.0409, -0.0277, -0.0399, -0.0350,  0.0808,  0.0490,  0.0254,  0.0383,\n",
       "          0.0749,  0.0472,  0.0582, -0.0249,  0.0386,  0.0236, -0.0387, -0.0130,\n",
       "          0.0826,  0.0826, -0.0868,  0.0719,  0.0102, -0.0466, -0.0277, -0.0130,\n",
       "          0.0378, -0.0538,  0.0708,  0.0738, -0.0141, -0.0416, -0.0808,  0.0191,\n",
       "         -0.0594, -0.0388,  0.0122,  0.0667, -0.0209,  0.0113, -0.0761,  0.0504,\n",
       "         -0.0468,  0.0050, -0.0755,  0.0409, -0.0652, -0.0693, -0.0692,  0.0880,\n",
       "         -0.0252, -0.0684, -0.0604, -0.0370,  0.0599,  0.0578,  0.0353,  0.0784,\n",
       "          0.0393,  0.0618,  0.0144, -0.0634,  0.0363,  0.0488, -0.0067, -0.0351],\n",
       "        requires_grad=True),\n",
       " Parameter containing:\n",
       " tensor([[-0.0151,  0.0671, -0.0779,  0.0837, -0.0406, -0.0507, -0.0876,  0.0755,\n",
       "           0.0317, -0.0856, -0.0224, -0.0851,  0.0418,  0.0517, -0.0099,  0.0097,\n",
       "           0.0565, -0.0296,  0.0797,  0.0477, -0.0638,  0.0348,  0.0621,  0.0379,\n",
       "          -0.0266,  0.0873,  0.0188,  0.0713,  0.0505,  0.0092, -0.0142,  0.0763,\n",
       "          -0.0624,  0.0054,  0.0053, -0.0475,  0.0252,  0.0203, -0.0168,  0.0301,\n",
       "           0.0172,  0.0534, -0.0548,  0.0778,  0.0521, -0.0241, -0.0761,  0.0455,\n",
       "           0.0297,  0.0406, -0.0417,  0.0457,  0.0206,  0.0472, -0.0670, -0.0432,\n",
       "          -0.0593, -0.0376,  0.0565,  0.0512,  0.0873, -0.0041,  0.0498,  0.0873,\n",
       "          -0.0010,  0.0324,  0.0204,  0.0402,  0.0219,  0.0353, -0.0170, -0.0306,\n",
       "          -0.0156,  0.0018,  0.0136,  0.0145, -0.0849, -0.0485, -0.0422, -0.0450,\n",
       "          -0.0633, -0.0608,  0.0212, -0.0009,  0.0633,  0.0276, -0.0461, -0.0656,\n",
       "           0.0436,  0.0058, -0.0523,  0.0052,  0.0329,  0.0309, -0.0763, -0.0279,\n",
       "           0.0441, -0.0870,  0.0129, -0.0705, -0.0498,  0.0069, -0.0140,  0.0213,\n",
       "           0.0561,  0.0205, -0.0380, -0.0713, -0.0872, -0.0702,  0.0554,  0.0840,\n",
       "          -0.0832, -0.0834,  0.0062,  0.0799,  0.0779, -0.0214,  0.0776,  0.0556,\n",
       "          -0.0362, -0.0754,  0.0328,  0.0749, -0.0427,  0.0517, -0.0096, -0.0270]],\n",
       "        requires_grad=True),\n",
       " Parameter containing:\n",
       " tensor([0.0837], requires_grad=True)]"
      ]
     },
     "execution_count": 15,
     "metadata": {},
     "output_type": "execute_result"
    }
   ],
   "source": [
    "list(model.parameters())"
   ]
  },
  {
   "cell_type": "code",
   "execution_count": 16,
   "id": "140de29f",
   "metadata": {},
   "outputs": [],
   "source": [
    "@torch.no_grad()\n",
    "def evaluate(model, validationLoader):\n",
    "    outputs = [model.validationStep(batch) for batch in validationLoader]\n",
    "    return model.validationEpochEnd(outputs)\n",
    "\n",
    "def test(model, testLoader):\n",
    "    outputs = [model.validationStep(batch) for batch in testLoader]\n",
    "    return model.validationEpochEnd(outputs)\n",
    "\n",
    "def fitOneCycle(epochs, learningRate, model, trainLoader, validationLoader):\n",
    "    history = []\n",
    "    \n",
    "    optimizer = torch.optim.SGD(model.parameters(), learningRate)\n",
    "    \n",
    "    for epoch in range(epochs):\n",
    "        model.train()\n",
    "        trainLosses = []\n",
    "        \n",
    "        for batch in trainLoader:\n",
    "            loss = model.trainingStep(batch)\n",
    "            trainLosses.append(loss)\n",
    "            loss.backward()\n",
    "            \n",
    "            optimizer.step()\n",
    "            optimizer.zero_grad()\n",
    "        \n",
    "        result = evaluate(model, validationLoader)\n",
    "        result[\"Train loss\"] = torch.stack(trainLosses).mean().item()\n",
    "        model.epochEnd(epoch, result)\n",
    "        history.append(result)\n",
    "    \n",
    "    return history"
   ]
  },
  {
   "cell_type": "markdown",
   "id": "cd1c685c",
   "metadata": {},
   "source": [
    "- Paramétrage et entraînement du réseau de neurones."
   ]
  },
  {
   "cell_type": "code",
   "execution_count": 17,
   "id": "02b81ea5",
   "metadata": {},
   "outputs": [
    {
     "name": "stdout",
     "output_type": "stream",
     "text": [
      "Epoch [0], Validation loss : 0.6888, Validation accuracy : 0.5283\n",
      "Epoch [1], Validation loss : 0.6846, Validation accuracy : 0.5562\n",
      "Epoch [2], Validation loss : 0.6745, Validation accuracy : 0.6000\n",
      "Epoch [3], Validation loss : 0.6515, Validation accuracy : 0.6322\n",
      "Epoch [4], Validation loss : 0.6205, Validation accuracy : 0.6473\n",
      "Epoch [5], Validation loss : 0.6024, Validation accuracy : 0.6540\n",
      "Epoch [6], Validation loss : 0.5945, Validation accuracy : 0.6590\n",
      "Epoch [7], Validation loss : 0.5906, Validation accuracy : 0.6617\n",
      "Epoch [8], Validation loss : 0.5879, Validation accuracy : 0.6638\n",
      "Epoch [9], Validation loss : 0.5857, Validation accuracy : 0.6651\n"
     ]
    }
   ],
   "source": [
    "history = [evaluate(model, validationLoader)]\n",
    "\n",
    "nbEpochs = 10\n",
    "learningRate = 0.001\n",
    "\n",
    "history += fitOneCycle(nbEpochs, learningRate, model, trainLoader, validationLoader)"
   ]
  },
  {
   "cell_type": "markdown",
   "id": "fb62ba30",
   "metadata": {},
   "source": [
    "- Définition des fonctions d'affichage de l'accuracy, de la loss et du taux d'apprentissage."
   ]
  },
  {
   "cell_type": "code",
   "execution_count": 18,
   "id": "947acaff",
   "metadata": {},
   "outputs": [],
   "source": [
    "def plotAccuracies(history):\n",
    "    accuracies = [x[\"Validation accuracy\"] for x in history]\n",
    "    plt.plot(accuracies, \"-x\")\n",
    "    plt.xlabel(\"Epoch\")\n",
    "    plt.ylabel(\"Accuracy\")\n",
    "    plt.title(\"Accuracy / Number of epochs\");\n",
    "\n",
    "def plotLosses(history):\n",
    "    trainLosses = [x.get(\"Train loss\") for x in history]\n",
    "    valLosses = [x[\"Validation loss\"] for x in history]\n",
    "    plt.plot(trainLosses, \"-bx\")\n",
    "    plt.plot(valLosses, \"-rx\")\n",
    "    plt.xlabel(\"Epoch\")\n",
    "    plt.ylabel(\"Loss\")\n",
    "    plt.legend([\"Training\", \"Validation\"])\n",
    "    plt.title(\"Loss / Number of epochs\");"
   ]
  },
  {
   "cell_type": "markdown",
   "id": "6730e211",
   "metadata": {},
   "source": [
    "- Graphique de l'évolution de l'accuracy par rapport au numéro de l'epoch."
   ]
  },
  {
   "cell_type": "code",
   "execution_count": 19,
   "id": "7fe03003",
   "metadata": {},
   "outputs": [
    {
     "data": {
      "image/png": "[encoded data removed]",
      "text/plain": [
       "<Figure size 640x480 with 1 Axes>"
      ]
     },
     "metadata": {},
     "output_type": "display_data"
    }
   ],
   "source": [
    "plotAccuracies(history)"
   ]
  },
  {
   "cell_type": "markdown",
   "id": "44f0e802",
   "metadata": {},
   "source": [
    "- Graphique de l'évolution de la loss par rapport au numéro de l'epoch."
   ]
  },
  {
   "cell_type": "code",
   "execution_count": 20,
   "id": "08b815a1",
   "metadata": {},
   "outputs": [
    {
     "data": {
      "image/png": "[encoded data removed]",
      "text/plain": [
       "<Figure size 640x480 with 1 Axes>"
      ]
     },
     "metadata": {},
     "output_type": "display_data"
    }
   ],
   "source": [
    "plotLosses(history)"
   ]
  },
  {
   "cell_type": "code",
   "execution_count": 21,
   "id": "fbe9551c",
   "metadata": {},
   "outputs": [
    {
     "name": "stdout",
     "output_type": "stream",
     "text": [
      "{'Validation loss': 0.5857179164886475, 'Validation accuracy': 0.6650713682174683}\n"
     ]
    }
   ],
   "source": [
    "result = evaluate(model, validationLoader)\n",
    "print(result)"
   ]
  },
  {
   "cell_type": "code",
   "execution_count": 22,
   "id": "b4471f1b",
   "metadata": {},
   "outputs": [
    {
     "name": "stdout",
     "output_type": "stream",
     "text": [
      "OrderedDict([('fc1.weight', tensor([[ 0.1769,  0.1572,  0.1120,  ..., -0.0176, -0.1045, -0.1619],\n",
      "        [-0.0202, -0.1864,  0.0344,  ...,  0.1514, -0.1425, -0.1752],\n",
      "        [-0.1642,  0.0993, -0.0144,  ..., -0.0564, -0.1459,  0.1078],\n",
      "        ...,\n",
      "        [-0.0496,  0.0482,  0.1744,  ...,  0.0657,  0.0938,  0.2083],\n",
      "        [-0.1021,  0.1243, -0.0584,  ...,  0.1910, -0.0241,  0.1174],\n",
      "        [ 0.0622, -0.0886,  0.1270,  ...,  0.0797, -0.0456, -0.0074]])), ('fc1.bias', tensor([-0.0165,  0.0150, -0.0016,  0.0245, -0.1141, -0.1228,  0.1517,  0.0843,\n",
      "        -0.0568,  0.1209,  0.0591, -0.1800, -0.0701,  0.2105, -0.0213,  0.1174,\n",
      "        -0.0684,  0.1967, -0.0767,  0.0974,  0.0932, -0.0518, -0.1223,  0.0391,\n",
      "         0.1402, -0.0502,  0.1266,  0.0266,  0.0347, -0.1172, -0.0060,  0.0191,\n",
      "        -0.0899,  0.0498,  0.1345,  0.1959, -0.0840,  0.0838,  0.0671, -0.0341,\n",
      "        -0.1165,  0.0292, -0.0858,  0.1849,  0.1999, -0.0750, -0.1826, -0.1152,\n",
      "        -0.0770,  0.0047, -0.1397,  0.1861,  0.1771, -0.0641, -0.1268,  0.2058,\n",
      "        -0.0844,  0.0133, -0.0398, -0.1303,  0.1754,  0.0756,  0.1060,  0.0196,\n",
      "         0.2009,  0.1944,  0.1241, -0.1788, -0.0149,  0.1170,  0.1209, -0.0885,\n",
      "         0.0229,  0.1744, -0.1814, -0.0361, -0.0037, -0.0044,  0.1991,  0.2236,\n",
      "         0.1034, -0.0570,  0.1389, -0.1003,  0.0706,  0.0901,  0.1540,  0.1242,\n",
      "         0.0611, -0.1527, -0.0229, -0.0794,  0.0450,  0.0757,  0.0340, -0.0187,\n",
      "        -0.0656,  0.2467,  0.1686, -0.1253,  0.0936,  0.1856, -0.0622,  0.1007,\n",
      "         0.1773,  0.1297, -0.1304,  0.0352,  0.0383,  0.0401,  0.2467,  0.1746,\n",
      "        -0.0591, -0.1043,  0.0421,  0.1257, -0.0394, -0.1840,  0.1556, -0.1270,\n",
      "         0.0495,  0.0775,  0.1792, -0.0707,  0.1298,  0.1990, -0.1464,  0.0965])), ('fc2.weight', tensor([[ 0.0057,  0.0863, -0.0371,  ...,  0.0685, -0.0805, -0.0212],\n",
      "        [ 0.0568, -0.0744,  0.0892,  ..., -0.0462,  0.0079,  0.0822],\n",
      "        [ 0.0569,  0.0587, -0.0143,  ..., -0.0428, -0.0246,  0.0590],\n",
      "        ...,\n",
      "        [-0.0293, -0.0389,  0.0135,  ...,  0.0125,  0.0386,  0.0447],\n",
      "        [-0.0716,  0.0043,  0.0210,  ..., -0.0438, -0.0809,  0.0702],\n",
      "        [-0.0297, -0.0261, -0.0799,  ...,  0.0511,  0.0622, -0.0713]])), ('fc2.bias', tensor([ 0.1047,  0.0301,  0.0319,  0.0452,  0.0786, -0.0641,  0.1304,  0.0537,\n",
      "         0.0341,  0.0230,  0.0842, -0.0835, -0.0283, -0.0531,  0.0710,  0.0064,\n",
      "         0.0079,  0.0308, -0.0114,  0.0168,  0.1219,  0.0701, -0.0660,  0.0346,\n",
      "        -0.0628,  0.0706, -0.0638, -0.0018,  0.0008,  0.0417,  0.0230, -0.0282,\n",
      "         0.0900, -0.0403, -0.0643,  0.0253,  0.0627,  0.0730,  0.0922,  0.0097,\n",
      "        -0.0188, -0.0247,  0.1146,  0.0660,  0.0310,  0.0455,  0.0027,  0.0213,\n",
      "        -0.0555,  0.0922,  0.0592,  0.0856, -0.0273,  0.0792, -0.0474, -0.0358,\n",
      "         0.0857,  0.0133,  0.0514, -0.0106,  0.0667, -0.0210,  0.0806, -0.0135,\n",
      "        -0.0409, -0.0136, -0.0399, -0.0335,  0.0956,  0.0416,  0.0254,  0.0661,\n",
      "         0.0792,  0.0484,  0.0562, -0.0125,  0.0931,  0.0357, -0.0387,  0.0048,\n",
      "         0.1300,  0.0963, -0.0868,  0.0739,  0.0102, -0.0466, -0.0282,  0.0314,\n",
      "         0.0332, -0.0534,  0.1180,  0.0746, -0.0288, -0.0417, -0.0813,  0.0244,\n",
      "        -0.0418,  0.0541,  0.0166,  0.0919,  0.0216,  0.0034, -0.0614,  0.0431,\n",
      "        -0.0461,  0.0036, -0.0426,  0.0373,  0.0097, -0.0693, -0.0692,  0.0730,\n",
      "        -0.0252, -0.0684, -0.0604, -0.0256,  0.0432,  0.0606,  0.0626,  0.0779,\n",
      "         0.0459,  0.0761,  0.0096, -0.0631,  0.0780,  0.0348,  0.0036,  0.0237])), ('fc3.weight', tensor([[ 0.1823,  0.4681, -0.2771,  0.2873, -0.2024, -0.0507, -0.3973,  0.3587,\n",
      "          0.0612, -0.1245, -0.0782, -0.0851,  0.2568,  0.0536,  0.3814,  0.2117,\n",
      "          0.3421, -0.0754,  0.0801,  0.0653, -0.2555, -0.0505,  0.0626,  0.0958,\n",
      "         -0.0266,  0.5782,  0.0230,  0.3264, -0.1414, -0.1024,  0.1703,  0.2388,\n",
      "         -0.0667,  0.0054,  0.1070, -0.3656,  0.3263, -0.2013, -0.1653,  0.4366,\n",
      "          0.0381,  0.0535, -0.2923,  0.1692,  0.0521, -0.0815, -0.0744,  0.5338,\n",
      "          0.3576,  0.3786, -0.0326,  0.2415,  0.2382,  0.1904, -0.0670, -0.0416,\n",
      "         -0.4153, -0.1341,  0.1977,  0.3692,  0.1113, -0.0041,  0.4526,  0.3365,\n",
      "         -0.0010,  0.0542,  0.0205,  0.0411, -0.1579,  0.2073, -0.0170, -0.1203,\n",
      "         -0.2655,  0.0262,  0.0484, -0.2229, -0.4298, -0.1971, -0.0422, -0.0602,\n",
      "         -0.4300, -0.4038,  0.0212, -0.1577,  0.0633,  0.0276, -0.0460, -0.3955,\n",
      "         -0.0780,  0.0064, -0.6520,  0.0202,  0.0264,  0.0309, -0.0761, -0.1245,\n",
      "          0.0771, -0.4789, -0.2168, -0.1525, -0.3614,  0.1976,  0.2977,  0.0184,\n",
      "          0.0566, -0.0857, -0.2335, -0.0708, -0.5306, -0.0702,  0.0554,  0.0822,\n",
      "         -0.0832, -0.0834,  0.0062,  0.6155,  0.1954,  0.0641,  0.4255,  0.4475,\n",
      "          0.0034, -0.3178,  0.0321,  0.0750, -0.2517,  0.1747,  0.1137, -0.1642]])), ('fc3.bias', tensor([-0.0865]))])\n"
     ]
    }
   ],
   "source": [
    "torch.save(model.state_dict(), \"starcraft2-logistic.pth\")\n",
    "print(model.state_dict())"
   ]
  },
  {
   "cell_type": "markdown",
   "id": "e9a88836",
   "metadata": {},
   "source": [
    "- Test du modèle sur le test set parsé par le générateur de datasets décrit au début de ce notebook. Sa taille est de 20 % la taille du dataset original (avant séparation en train set et validation set)."
   ]
  },
  {
   "cell_type": "code",
   "execution_count": 23,
   "id": "c6659de6",
   "metadata": {},
   "outputs": [
    {
     "name": "stdout",
     "output_type": "stream",
     "text": [
      "[{'Validation loss': 0.5860786437988281, 'Validation accuracy': 0.6650611758232117}]\n"
     ]
    }
   ],
   "source": [
    "testData = pd.read_csv(\"archive/testDataset.csv\")\n",
    "\n",
    "inputTestArray, outputTestArray = dataToArrays(testData, inputColumns)\n",
    "\n",
    "testInputs = torch.tensor(inputTestArray, dtype = torch.float32)\n",
    "testOutputs = torch.tensor(outputTestArray, dtype = torch.float32)\n",
    "\n",
    "testDataset = TensorDataset(testInputs, testOutputs)\n",
    "testLoader = DataLoader(testDataset, batchSize, shuffle = True)\n",
    "\n",
    "nbTestInputs = len(inputColumns)\n",
    "nbTestOutputs = 1\n",
    "\n",
    "testHistory = [test(model, testLoader)]\n",
    "print(testHistory)"
   ]
  },
  {
   "cell_type": "markdown",
   "id": "a44114ee",
   "metadata": {},
   "source": [
    "- Explications :<br>\n",
    "Notre accuracy est d'environ 0.67, ce qui, bien que meilleur que l'aléatoire de 0.50, reste bas. Ce constat s'explique cependant simplement. En effet, pour une bonne partie de la durée des replays étudiés, il est difficile de prévoir quel joueur va gagner. Par exemple, en début de partie, peu de choses se passent et les joueurs se contentent bien souvent de développer leur économie, ne laissant pas de joueur obtenir un quelconque avantage sur l'autre.<br>\n",
    "Nous pouvons en revanche nous attendre à de bonne performances une fois que des batailles commencent à se dérouler, et de manière générale lorsque la partie se rapproche de la fin.<br>\n",
    "Ces cas seront clairement expliqués lors de l'étude de cas plus bas.\n",
    "- Définition de la fonction de prédiction utilisant le réseau de neurones entraîné."
   ]
  },
  {
   "cell_type": "code",
   "execution_count": 24,
   "id": "7ad178eb",
   "metadata": {},
   "outputs": [],
   "source": [
    "def predict(input, verbose = True):\n",
    "    if verbose:\n",
    "        for i in range(len(inputColumns)):\n",
    "            tmp = input[0][i].item()\n",
    "            tmp = round(tmp * (data[inputColumns[i]].max() - data[inputColumns[i]].min()) + data[inputColumns[i]].min(), 4)\n",
    "            print(inputColumns[i] + \":\", tmp)\n",
    "            \n",
    "        print(\"\")\n",
    "    \n",
    "    with torch.no_grad():\n",
    "        pred = model(input[0]).item()\n",
    "        \n",
    "    print(\"Probabilité de victoire du joueur 1 : {:.4f}\".format(1 - pred))"
   ]
  },
  {
   "cell_type": "markdown",
   "id": "44a78df9",
   "metadata": {},
   "source": [
    "- Quelques prédictions."
   ]
  },
  {
   "cell_type": "code",
   "execution_count": 25,
   "id": "1a4779f0",
   "metadata": {},
   "outputs": [
    {
     "name": "stdout",
     "output_type": "stream",
     "text": [
      "time: 1129.0\n",
      "race1: 1.0\n",
      "race2: 1.0\n",
      "map: 52.0\n",
      "supplyUsed1: 186.0\n",
      "supplyUsed2: 186.0\n",
      "totalIncome1: 2110.0\n",
      "totalIncome2: 2075.9999\n",
      "mineralsIncome1: 1147.0\n",
      "mineralsIncome2: 1315.0\n",
      "vespeneIncome1: 963.0\n",
      "vespeneIncome2: 761.0\n",
      "totalResources1: 3412.0\n",
      "totalResources2: 1680.0\n",
      "minerals1: 1699.9999\n",
      "minerals2: 905.0\n",
      "vespene1: 1712.0\n",
      "vespene2: 775.0\n",
      "activeWorkers1: 44.0\n",
      "activeWorkers2: 42.0\n",
      "army1: 9350.0001\n",
      "army2: 8249.9998\n",
      "technology1: 2150.0\n",
      "technology2: 1125.0\n",
      "lostResources1: 18599.9994\n",
      "lostResources2: 17700.0005\n",
      "\n",
      "Probabilité de victoire du joueur 1 : 0.5456\n"
     ]
    }
   ],
   "source": [
    "predict(validationDataset[256])"
   ]
  },
  {
   "cell_type": "code",
   "execution_count": 26,
   "id": "b37d755f",
   "metadata": {},
   "outputs": [
    {
     "name": "stdout",
     "output_type": "stream",
     "text": [
      "time: 129.0\n",
      "race1: 2.0\n",
      "race2: 0.0\n",
      "map: 1.0\n",
      "supplyUsed1: 24.0\n",
      "supplyUsed2: 21.0\n",
      "totalIncome1: 844.0\n",
      "totalIncome2: 752.0\n",
      "mineralsIncome1: 620.0\n",
      "mineralsIncome2: 640.0\n",
      "vespeneIncome1: 224.0\n",
      "vespeneIncome2: 112.0\n",
      "totalResources1: 163.0\n",
      "totalResources2: 180.0\n",
      "minerals1: 75.0\n",
      "minerals2: 120.0\n",
      "vespene1: 88.0\n",
      "vespene2: 60.0\n",
      "activeWorkers1: 23.0\n",
      "activeWorkers2: 19.0\n",
      "army1: 0.0\n",
      "army2: 100.0\n",
      "technology1: 150.0\n",
      "technology2: 150.0\n",
      "lostResources1: 0.0\n",
      "lostResources2: 0.0\n",
      "\n",
      "Probabilité de victoire du joueur 1 : 0.5304\n"
     ]
    }
   ],
   "source": [
    "predict(validationDataset[512])"
   ]
  },
  {
   "cell_type": "markdown",
   "id": "caee0611",
   "metadata": {},
   "source": [
    "## 5. Etude de cas pratiques"
   ]
  },
  {
   "cell_type": "markdown",
   "id": "0c07c6a8",
   "metadata": {},
   "source": [
    "- Changeons de dataset pour utiliser notre fichier contenant 4 moments notables pour 2 parties différentes (soit 8 rows)."
   ]
  },
  {
   "cell_type": "code",
   "execution_count": 27,
   "id": "06bb29ec",
   "metadata": {},
   "outputs": [
    {
     "data": {
      "text/html": [
       "<div>\n",
       "<style scoped>\n",
       "    .dataframe tbody tr th:only-of-type {\n",
       "        vertical-align: middle;\n",
       "    }\n",
       "\n",
       "    .dataframe tbody tr th {\n",
       "        vertical-align: top;\n",
       "    }\n",
       "\n",
       "    .dataframe thead th {\n",
       "        text-align: right;\n",
       "    }\n",
       "</style>\n",
       "<table border=\"1\" class=\"dataframe\">\n",
       "  <thead>\n",
       "    <tr style=\"text-align: right;\">\n",
       "      <th></th>\n",
       "      <th>time</th>\n",
       "      <th>race1</th>\n",
       "      <th>race2</th>\n",
       "      <th>map</th>\n",
       "      <th>supplyUsed1</th>\n",
       "      <th>supplyUsed2</th>\n",
       "      <th>totalIncome1</th>\n",
       "      <th>totalIncome2</th>\n",
       "      <th>mineralsIncome1</th>\n",
       "      <th>mineralsIncome2</th>\n",
       "      <th>...</th>\n",
       "      <th>vespene2</th>\n",
       "      <th>activeWorkers1</th>\n",
       "      <th>activeWorkers2</th>\n",
       "      <th>army1</th>\n",
       "      <th>army2</th>\n",
       "      <th>technology1</th>\n",
       "      <th>technology2</th>\n",
       "      <th>lostResources1</th>\n",
       "      <th>lostResources2</th>\n",
       "      <th>winner</th>\n",
       "    </tr>\n",
       "  </thead>\n",
       "  <tbody>\n",
       "    <tr>\n",
       "      <th>0</th>\n",
       "      <td>100</td>\n",
       "      <td>2</td>\n",
       "      <td>0</td>\n",
       "      <td>0</td>\n",
       "      <td>20.0</td>\n",
       "      <td>20.0</td>\n",
       "      <td>1040</td>\n",
       "      <td>883</td>\n",
       "      <td>951</td>\n",
       "      <td>727</td>\n",
       "      <td>...</td>\n",
       "      <td>34</td>\n",
       "      <td>20</td>\n",
       "      <td>19</td>\n",
       "      <td>0</td>\n",
       "      <td>0</td>\n",
       "      <td>150</td>\n",
       "      <td>150</td>\n",
       "      <td>0</td>\n",
       "      <td>0</td>\n",
       "      <td>1</td>\n",
       "    </tr>\n",
       "    <tr>\n",
       "      <th>1</th>\n",
       "      <td>621</td>\n",
       "      <td>2</td>\n",
       "      <td>0</td>\n",
       "      <td>0</td>\n",
       "      <td>133.0</td>\n",
       "      <td>166.0</td>\n",
       "      <td>3655</td>\n",
       "      <td>3566</td>\n",
       "      <td>2827</td>\n",
       "      <td>2603</td>\n",
       "      <td>...</td>\n",
       "      <td>284</td>\n",
       "      <td>64</td>\n",
       "      <td>72</td>\n",
       "      <td>4325</td>\n",
       "      <td>5200</td>\n",
       "      <td>2750</td>\n",
       "      <td>3375</td>\n",
       "      <td>3300</td>\n",
       "      <td>2124</td>\n",
       "      <td>1</td>\n",
       "    </tr>\n",
       "    <tr>\n",
       "      <th>2</th>\n",
       "      <td>643</td>\n",
       "      <td>2</td>\n",
       "      <td>0</td>\n",
       "      <td>0</td>\n",
       "      <td>86.0</td>\n",
       "      <td>151.0</td>\n",
       "      <td>3498</td>\n",
       "      <td>3431</td>\n",
       "      <td>2715</td>\n",
       "      <td>2491</td>\n",
       "      <td>...</td>\n",
       "      <td>478</td>\n",
       "      <td>64</td>\n",
       "      <td>71</td>\n",
       "      <td>600</td>\n",
       "      <td>4450</td>\n",
       "      <td>3550</td>\n",
       "      <td>3575</td>\n",
       "      <td>7625</td>\n",
       "      <td>3799</td>\n",
       "      <td>1</td>\n",
       "    </tr>\n",
       "    <tr>\n",
       "      <th>3</th>\n",
       "      <td>721</td>\n",
       "      <td>2</td>\n",
       "      <td>0</td>\n",
       "      <td>0</td>\n",
       "      <td>79.0</td>\n",
       "      <td>170.0</td>\n",
       "      <td>3090</td>\n",
       "      <td>4109</td>\n",
       "      <td>2127</td>\n",
       "      <td>2967</td>\n",
       "      <td>...</td>\n",
       "      <td>762</td>\n",
       "      <td>65</td>\n",
       "      <td>73</td>\n",
       "      <td>175</td>\n",
       "      <td>5675</td>\n",
       "      <td>3150</td>\n",
       "      <td>4125</td>\n",
       "      <td>12450</td>\n",
       "      <td>5624</td>\n",
       "      <td>1</td>\n",
       "    </tr>\n",
       "    <tr>\n",
       "      <th>4</th>\n",
       "      <td>100</td>\n",
       "      <td>1</td>\n",
       "      <td>0</td>\n",
       "      <td>1</td>\n",
       "      <td>20.0</td>\n",
       "      <td>20.0</td>\n",
       "      <td>911</td>\n",
       "      <td>962</td>\n",
       "      <td>867</td>\n",
       "      <td>783</td>\n",
       "      <td>...</td>\n",
       "      <td>38</td>\n",
       "      <td>18</td>\n",
       "      <td>19</td>\n",
       "      <td>0</td>\n",
       "      <td>0</td>\n",
       "      <td>0</td>\n",
       "      <td>150</td>\n",
       "      <td>0</td>\n",
       "      <td>0</td>\n",
       "      <td>1</td>\n",
       "    </tr>\n",
       "    <tr>\n",
       "      <th>5</th>\n",
       "      <td>493</td>\n",
       "      <td>1</td>\n",
       "      <td>0</td>\n",
       "      <td>1</td>\n",
       "      <td>149.0</td>\n",
       "      <td>128.0</td>\n",
       "      <td>4574</td>\n",
       "      <td>2899</td>\n",
       "      <td>3723</td>\n",
       "      <td>2183</td>\n",
       "      <td>...</td>\n",
       "      <td>631</td>\n",
       "      <td>90</td>\n",
       "      <td>61</td>\n",
       "      <td>3650</td>\n",
       "      <td>4675</td>\n",
       "      <td>1700</td>\n",
       "      <td>2000</td>\n",
       "      <td>1043</td>\n",
       "      <td>0</td>\n",
       "      <td>1</td>\n",
       "    </tr>\n",
       "    <tr>\n",
       "      <th>6</th>\n",
       "      <td>507</td>\n",
       "      <td>1</td>\n",
       "      <td>0</td>\n",
       "      <td>1</td>\n",
       "      <td>110.0</td>\n",
       "      <td>121.0</td>\n",
       "      <td>4562</td>\n",
       "      <td>2966</td>\n",
       "      <td>3667</td>\n",
       "      <td>2183</td>\n",
       "      <td>...</td>\n",
       "      <td>294</td>\n",
       "      <td>90</td>\n",
       "      <td>61</td>\n",
       "      <td>1550</td>\n",
       "      <td>3325</td>\n",
       "      <td>2150</td>\n",
       "      <td>2000</td>\n",
       "      <td>3418</td>\n",
       "      <td>1300</td>\n",
       "      <td>1</td>\n",
       "    </tr>\n",
       "    <tr>\n",
       "      <th>7</th>\n",
       "      <td>779</td>\n",
       "      <td>1</td>\n",
       "      <td>0</td>\n",
       "      <td>1</td>\n",
       "      <td>94.0</td>\n",
       "      <td>167.0</td>\n",
       "      <td>2994</td>\n",
       "      <td>3252</td>\n",
       "      <td>2323</td>\n",
       "      <td>2491</td>\n",
       "      <td>...</td>\n",
       "      <td>378</td>\n",
       "      <td>72</td>\n",
       "      <td>58</td>\n",
       "      <td>750</td>\n",
       "      <td>5950</td>\n",
       "      <td>2025</td>\n",
       "      <td>3475</td>\n",
       "      <td>15328</td>\n",
       "      <td>10175</td>\n",
       "      <td>1</td>\n",
       "    </tr>\n",
       "  </tbody>\n",
       "</table>\n",
       "<p>8 rows × 27 columns</p>\n",
       "</div>"
      ],
      "text/plain": [
       "   time  race1  race2  map  supplyUsed1  supplyUsed2  totalIncome1  \\\n",
       "0   100      2      0    0         20.0         20.0          1040   \n",
       "1   621      2      0    0        133.0        166.0          3655   \n",
       "2   643      2      0    0         86.0        151.0          3498   \n",
       "3   721      2      0    0         79.0        170.0          3090   \n",
       "4   100      1      0    1         20.0         20.0           911   \n",
       "5   493      1      0    1        149.0        128.0          4574   \n",
       "6   507      1      0    1        110.0        121.0          4562   \n",
       "7   779      1      0    1         94.0        167.0          2994   \n",
       "\n",
       "   totalIncome2  mineralsIncome1  mineralsIncome2  ...  vespene2  \\\n",
       "0           883              951              727  ...        34   \n",
       "1          3566             2827             2603  ...       284   \n",
       "2          3431             2715             2491  ...       478   \n",
       "3          4109             2127             2967  ...       762   \n",
       "4           962              867              783  ...        38   \n",
       "5          2899             3723             2183  ...       631   \n",
       "6          2966             3667             2183  ...       294   \n",
       "7          3252             2323             2491  ...       378   \n",
       "\n",
       "   activeWorkers1  activeWorkers2  army1  army2  technology1  technology2  \\\n",
       "0              20              19      0      0          150          150   \n",
       "1              64              72   4325   5200         2750         3375   \n",
       "2              64              71    600   4450         3550         3575   \n",
       "3              65              73    175   5675         3150         4125   \n",
       "4              18              19      0      0            0          150   \n",
       "5              90              61   3650   4675         1700         2000   \n",
       "6              90              61   1550   3325         2150         2000   \n",
       "7              72              58    750   5950         2025         3475   \n",
       "\n",
       "   lostResources1  lostResources2  winner  \n",
       "0               0               0       1  \n",
       "1            3300            2124       1  \n",
       "2            7625            3799       1  \n",
       "3           12450            5624       1  \n",
       "4               0               0       1  \n",
       "5            1043               0       1  \n",
       "6            3418            1300       1  \n",
       "7           15328           10175       1  \n",
       "\n",
       "[8 rows x 27 columns]"
      ]
     },
     "execution_count": 27,
     "metadata": {},
     "output_type": "execute_result"
    }
   ],
   "source": [
    "dataPrime = pd.read_csv(\"archive/datasetPrime.csv\")\n",
    "dataPrime.head(len(dataPrime.index))"
   ]
  },
  {
   "cell_type": "code",
   "execution_count": 37,
   "id": "71fcf665",
   "metadata": {},
   "outputs": [],
   "source": [
    "def predictor(n):\n",
    "    toPredict = list()\n",
    "    \n",
    "    for i in range(len(inputColumns)):\n",
    "        toPredict.append(dataPrime.iloc[n][i])\n",
    "    \n",
    "    toPredict = [float(item) for item in toPredict]\n",
    "    \n",
    "    for col in range(len(inputColumns)):\n",
    "        toPredict[col] = (toPredict[col] - data[inputColumns[col]].min()) / (data[inputColumns[col]].max() - data[inputColumns[col]].min())\n",
    "    \n",
    "    predict(torch.tensor([toPredict], dtype = torch.float32), verbose = False)"
   ]
  },
  {
   "cell_type": "markdown",
   "id": "71028233",
   "metadata": {},
   "source": [
    "- Rappelons que \"joueur 1\" désigne le joueur décrit par \"race1\", \"supplyUsed1...\". Les captures d'écran sont prises du point de vue du joueur 1 (Protoss dans la partie 1 et Zerg dans la partie 2).\n",
    "- 1ère partie à 1 min 40 (début de partie). On remarque que la probabilité de victoire du joueur est quasiment de 49 % (ou 49/100 = 0.5), en équilibre avec la probabilité de victoire de l'adversaire.\n",
    "\n",
    "<img src=\"files/figures/TvP1.jpg\" width=\"800px\"/>"
   ]
  },
  {
   "cell_type": "code",
   "execution_count": 38,
   "id": "824e0584",
   "metadata": {},
   "outputs": [
    {
     "name": "stdout",
     "output_type": "stream",
     "text": [
      "Probabilité de victoire du joueur 1 : 0.4909\n"
     ]
    }
   ],
   "source": [
    "predictor(0)"
   ]
  },
  {
   "cell_type": "markdown",
   "id": "6d09033f",
   "metadata": {},
   "source": [
    "- 1ère partie à 10 min 21 (avant le combat). Le réseau de neurones prédit une mauvaise bataille pour le joueur Protoss. Sa probabilité que la partie se solde par une victoire pour lui est estimée à 20 %.\n",
    "\n",
    "<img src=\"files/figures/TvP2.jpg\" width=\"800px\"/>"
   ]
  },
  {
   "cell_type": "code",
   "execution_count": 40,
   "id": "d6d981cb",
   "metadata": {},
   "outputs": [
    {
     "name": "stdout",
     "output_type": "stream",
     "text": [
      "Probabilité de victoire du joueur 1 : 0.1974\n"
     ]
    }
   ],
   "source": [
    "predictor(1)"
   ]
  },
  {
   "cell_type": "markdown",
   "id": "c573e723",
   "metadata": {},
   "source": [
    "Image du déroulé du combat à titre indicatif.\n",
    "\n",
    "<img src=\"files/figures/TvP3.jpg\" width=\"800px\"/>"
   ]
  },
  {
   "cell_type": "markdown",
   "id": "52664769",
   "metadata": {},
   "source": [
    "- 1ère partie à 10 min 43 (après le combat). Après la destruction de son armée, les chances de victoire du joueur Protoss baissent encore pour atteindre environ 9 %.\n",
    "\n",
    "<img src=\"files/figures/TvP4.jpg\" width=\"800px\"/>"
   ]
  },
  {
   "cell_type": "code",
   "execution_count": 41,
   "id": "8b79a7aa",
   "metadata": {},
   "outputs": [
    {
     "name": "stdout",
     "output_type": "stream",
     "text": [
      "Probabilité de victoire du joueur 1 : 0.0914\n"
     ]
    }
   ],
   "source": [
    "predictor(2)"
   ]
  },
  {
   "cell_type": "markdown",
   "id": "232ba637",
   "metadata": {},
   "source": [
    "- 1ère partie à 12 min 01 (fin de partie). Juste avant que le joueur n'abandonne, le réseau de neurones ne donne plus que 3 % de chances de victoire au joueur Protoss.\n",
    "\n",
    "<img src=\"files/figures/TvP5.jpg\" width=\"800px\"/>"
   ]
  },
  {
   "cell_type": "code",
   "execution_count": 42,
   "id": "6cf0c6b7",
   "metadata": {},
   "outputs": [
    {
     "name": "stdout",
     "output_type": "stream",
     "text": [
      "Probabilité de victoire du joueur 1 : 0.0298\n"
     ]
    }
   ],
   "source": [
    "predictor(3)"
   ]
  },
  {
   "cell_type": "markdown",
   "id": "7be82e7e",
   "metadata": {},
   "source": [
    "- 2ème partie à 1 min 40 (début de partie). Encore une fois, la situation des deux joueurs est relativement équivalente à ce moment de la partie avec une chance de victoire de 46 % pour le joueur Zerg. Cet écart intéressant (malgré tout faible) peut témoigner soit d'erreurs faites par le joueur en ce début de partie, soit d'un déséquilibre comme une carte favorable au joueur Terran (adverse).\n",
    "\n",
    "<img src=\"files/figures/TvZ1.jpg\" width=\"800px\"/>"
   ]
  },
  {
   "cell_type": "code",
   "execution_count": 43,
   "id": "d84f18ab",
   "metadata": {},
   "outputs": [
    {
     "name": "stdout",
     "output_type": "stream",
     "text": [
      "Probabilité de victoire du joueur 1 : 0.4618\n"
     ]
    }
   ],
   "source": [
    "predictor(4)"
   ]
  },
  {
   "cell_type": "markdown",
   "id": "ae1c3654",
   "metadata": {},
   "source": [
    "- 2ème partie à 8 min 13 (avant le combat). Le réseau de neurones prédit une victoire du joueur Zerg avec 85 % de probabilité.\n",
    "\n",
    "<img src=\"files/figures/TvZ2.jpg\" width=\"800px\"/>"
   ]
  },
  {
   "cell_type": "code",
   "execution_count": 44,
   "id": "156e9c57",
   "metadata": {},
   "outputs": [
    {
     "name": "stdout",
     "output_type": "stream",
     "text": [
      "Probabilité de victoire du joueur 1 : 0.8509\n"
     ]
    }
   ],
   "source": [
    "predictor(5)"
   ]
  },
  {
   "cell_type": "markdown",
   "id": "d62bfa67",
   "metadata": {},
   "source": [
    "Image du déroulé du combat à titre indicatif.\n",
    "\n",
    "<img src=\"files/figures/TvZ3.jpg\" width=\"800px\"/>"
   ]
  },
  {
   "cell_type": "markdown",
   "id": "f0151863",
   "metadata": {},
   "source": [
    "- 2ème partie à 8 min 27 (après le combat). La prédiction précédente se trouve déjouée par le joueur Terran qui a pris un meilleur engagement pour diverses raisons. Malgré tout, le joueur Zerg conserve de bonnes chances de gagner de 73 % grâce notamment à son économie (il possède 4 bases contre 3 pour le joueur Terran).\n",
    "\n",
    "<img src=\"files/figures/TvZ4.jpg\" width=\"800px\"/>"
   ]
  },
  {
   "cell_type": "code",
   "execution_count": 45,
   "id": "8dc0b937",
   "metadata": {},
   "outputs": [
    {
     "name": "stdout",
     "output_type": "stream",
     "text": [
      "Probabilité de victoire du joueur 1 : 0.7318\n"
     ]
    }
   ],
   "source": [
    "predictor(6)"
   ]
  },
  {
   "cell_type": "markdown",
   "id": "e1b50c95",
   "metadata": {},
   "source": [
    "- 2ème partie à 12 min 59 (fin de partie). Le joueur Zerg n'aura pas su tirer parti de son économie. On observe en effet à la fin de la partie qu'il possède beaucoup de ressources en réserve (indiquées sur le bord supérieur droit de l'image ci-dessous). Les ressources qu'il a récolté n'ont pas été réinvesties, conduisant à une probabilité de victoire de 8 % avant son abandon.\n",
    "\n",
    "<img src=\"files/figures/TvZ5.jpg\" width=\"800px\"/>"
   ]
  },
  {
   "cell_type": "code",
   "execution_count": 46,
   "id": "b2f774e8",
   "metadata": {},
   "outputs": [
    {
     "name": "stdout",
     "output_type": "stream",
     "text": [
      "Probabilité de victoire du joueur 1 : 0.0764\n"
     ]
    }
   ],
   "source": [
    "predictor(7)"
   ]
  }
 ],
 "metadata": {
  "kernelspec": {
   "display_name": "Python 3 (ipykernel)",
   "language": "python",
   "name": "python3"
  },
  "language_info": {
   "codemirror_mode": {
    "name": "ipython",
    "version": 3
   },
   "file_extension": ".py",
   "mimetype": "text/x-python",
   "name": "python",
   "nbconvert_exporter": "python",
   "pygments_lexer": "ipython3",
   "version": "3.9.13"
  }
 },
 "nbformat": 4,
 "nbformat_minor": 5
}
