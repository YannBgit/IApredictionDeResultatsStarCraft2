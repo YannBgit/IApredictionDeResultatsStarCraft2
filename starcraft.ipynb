{
 "cells": [
  {
   "cell_type": "markdown",
   "id": "ac35021e",
   "metadata": {},
   "source": [
    "# Neural Networks in ``PyTorch``"
   ]
  },
  {
   "cell_type": "markdown",
   "id": "bcbe3b65",
   "metadata": {},
   "source": [
    "The **MNIST dataset** consists of 60,000 images of hand written digit, where each image has size 28X28.\n",
    "\n",
    "<img src=\"files/figures/mnist.png\" width=\"600px\"/>\n",
    "\n",
    "We will define and train a deep neural network on the MNIST dataset. This is a **classification problem**.<br>\n",
    "\n",
    "The definition and training of a neural network invoves the following steps:\n",
    "\n",
    "0. Import **librairies**;\n",
    "1. Get the **datasets** (train, validation and test);\n",
    "2. Define the **dataloaders** from the datasets (train and test);\n",
    "3. Define the **model**;\n",
    "4. Define the **loss function**;\n",
    "5. Define the **optimizer**;\n",
    "7. **Train** the model (training loop);\n",
    "8. Get the **results** (predict)."
   ]
  },
  {
   "cell_type": "markdown",
   "id": "933ac146",
   "metadata": {},
   "source": [
    "## 0. Librairies"
   ]
  },
  {
   "cell_type": "code",
   "execution_count": 1,
   "id": "6235ff87",
   "metadata": {
    "scrolled": true
   },
   "outputs": [],
   "source": [
    "import os\n",
    "\n",
    "import torch\n",
    "import torch.nn as nn\n",
    "import torch.nn.functional as F\n",
    "\n",
    "from torch.utils.data import DataLoader, random_split, Dataset\n",
    "import torchvision.datasets as datasets\n",
    "from torchvision.transforms import ToTensor\n",
    "\n",
    "from sklearn.metrics import classification_report\n",
    "\n",
    "import matplotlib.pyplot as plt\n",
    "\n",
    "from tqdm.notebook import tqdm\n",
    "\n",
    "import pandas as pd\n",
    "import numpy as np"
   ]
  },
  {
   "cell_type": "code",
   "execution_count": 2,
   "id": "82f11684",
   "metadata": {},
   "outputs": [],
   "source": [
    "#Importing required libraries for preprocessing\n",
    "from sklearn import preprocessing\n",
    "from sklearn.model_selection import train_test_split"
   ]
  },
  {
   "cell_type": "markdown",
   "id": "56800aaa",
   "metadata": {},
   "source": [
    "## 1. Datasets"
   ]
  },
  {
   "cell_type": "code",
   "execution_count": 3,
   "id": "1293319b",
   "metadata": {},
   "outputs": [
    {
     "data": {
      "text/html": [
       "<div>\n",
       "<style scoped>\n",
       "    .dataframe tbody tr th:only-of-type {\n",
       "        vertical-align: middle;\n",
       "    }\n",
       "\n",
       "    .dataframe tbody tr th {\n",
       "        vertical-align: top;\n",
       "    }\n",
       "\n",
       "    .dataframe thead th {\n",
       "        text-align: right;\n",
       "    }\n",
       "</style>\n",
       "<table border=\"1\" class=\"dataframe\">\n",
       "  <thead>\n",
       "    <tr style=\"text-align: right;\">\n",
       "      <th></th>\n",
       "      <th>time</th>\n",
       "      <th>race1</th>\n",
       "      <th>race2</th>\n",
       "      <th>supplyUsed1</th>\n",
       "      <th>supplyUsed2</th>\n",
       "      <th>supplyMade1</th>\n",
       "      <th>supplyMade2</th>\n",
       "      <th>totalIncome1</th>\n",
       "      <th>totalIncome2</th>\n",
       "      <th>mineralsIncome1</th>\n",
       "      <th>...</th>\n",
       "      <th>vespene2</th>\n",
       "      <th>activeWorkers1</th>\n",
       "      <th>activeWorkers2</th>\n",
       "      <th>army1</th>\n",
       "      <th>army2</th>\n",
       "      <th>technology1</th>\n",
       "      <th>technology2</th>\n",
       "      <th>lostResources1</th>\n",
       "      <th>lostResources2</th>\n",
       "      <th>winner</th>\n",
       "    </tr>\n",
       "  </thead>\n",
       "  <tbody>\n",
       "    <tr>\n",
       "      <th>0</th>\n",
       "      <td>7</td>\n",
       "      <td>1.0</td>\n",
       "      <td>2.0</td>\n",
       "      <td>13.0</td>\n",
       "      <td>13.0</td>\n",
       "      <td>14.0</td>\n",
       "      <td>15.0</td>\n",
       "      <td>293</td>\n",
       "      <td>251</td>\n",
       "      <td>293</td>\n",
       "      <td>...</td>\n",
       "      <td>0</td>\n",
       "      <td>12</td>\n",
       "      <td>12</td>\n",
       "      <td>0</td>\n",
       "      <td>0</td>\n",
       "      <td>0</td>\n",
       "      <td>0</td>\n",
       "      <td>0</td>\n",
       "      <td>0</td>\n",
       "      <td>0</td>\n",
       "    </tr>\n",
       "    <tr>\n",
       "      <th>1</th>\n",
       "      <td>14</td>\n",
       "      <td>1.0</td>\n",
       "      <td>2.0</td>\n",
       "      <td>13.0</td>\n",
       "      <td>14.0</td>\n",
       "      <td>14.0</td>\n",
       "      <td>15.0</td>\n",
       "      <td>671</td>\n",
       "      <td>643</td>\n",
       "      <td>671</td>\n",
       "      <td>...</td>\n",
       "      <td>0</td>\n",
       "      <td>13</td>\n",
       "      <td>13</td>\n",
       "      <td>0</td>\n",
       "      <td>0</td>\n",
       "      <td>0</td>\n",
       "      <td>0</td>\n",
       "      <td>0</td>\n",
       "      <td>0</td>\n",
       "      <td>0</td>\n",
       "    </tr>\n",
       "    <tr>\n",
       "      <th>2</th>\n",
       "      <td>21</td>\n",
       "      <td>1.0</td>\n",
       "      <td>2.0</td>\n",
       "      <td>14.0</td>\n",
       "      <td>14.0</td>\n",
       "      <td>14.0</td>\n",
       "      <td>15.0</td>\n",
       "      <td>727</td>\n",
       "      <td>643</td>\n",
       "      <td>727</td>\n",
       "      <td>...</td>\n",
       "      <td>0</td>\n",
       "      <td>13</td>\n",
       "      <td>13</td>\n",
       "      <td>0</td>\n",
       "      <td>0</td>\n",
       "      <td>0</td>\n",
       "      <td>0</td>\n",
       "      <td>0</td>\n",
       "      <td>0</td>\n",
       "      <td>0</td>\n",
       "    </tr>\n",
       "    <tr>\n",
       "      <th>3</th>\n",
       "      <td>29</td>\n",
       "      <td>1.0</td>\n",
       "      <td>2.0</td>\n",
       "      <td>14.0</td>\n",
       "      <td>15.0</td>\n",
       "      <td>14.0</td>\n",
       "      <td>15.0</td>\n",
       "      <td>783</td>\n",
       "      <td>699</td>\n",
       "      <td>783</td>\n",
       "      <td>...</td>\n",
       "      <td>0</td>\n",
       "      <td>13</td>\n",
       "      <td>14</td>\n",
       "      <td>0</td>\n",
       "      <td>0</td>\n",
       "      <td>0</td>\n",
       "      <td>0</td>\n",
       "      <td>0</td>\n",
       "      <td>0</td>\n",
       "      <td>0</td>\n",
       "    </tr>\n",
       "    <tr>\n",
       "      <th>4</th>\n",
       "      <td>36</td>\n",
       "      <td>1.0</td>\n",
       "      <td>2.0</td>\n",
       "      <td>16.0</td>\n",
       "      <td>15.0</td>\n",
       "      <td>22.0</td>\n",
       "      <td>15.0</td>\n",
       "      <td>783</td>\n",
       "      <td>755</td>\n",
       "      <td>783</td>\n",
       "      <td>...</td>\n",
       "      <td>0</td>\n",
       "      <td>14</td>\n",
       "      <td>14</td>\n",
       "      <td>0</td>\n",
       "      <td>0</td>\n",
       "      <td>0</td>\n",
       "      <td>0</td>\n",
       "      <td>0</td>\n",
       "      <td>0</td>\n",
       "      <td>0</td>\n",
       "    </tr>\n",
       "    <tr>\n",
       "      <th>5</th>\n",
       "      <td>43</td>\n",
       "      <td>1.0</td>\n",
       "      <td>2.0</td>\n",
       "      <td>16.0</td>\n",
       "      <td>16.0</td>\n",
       "      <td>22.0</td>\n",
       "      <td>23.0</td>\n",
       "      <td>783</td>\n",
       "      <td>783</td>\n",
       "      <td>783</td>\n",
       "      <td>...</td>\n",
       "      <td>0</td>\n",
       "      <td>16</td>\n",
       "      <td>15</td>\n",
       "      <td>0</td>\n",
       "      <td>0</td>\n",
       "      <td>0</td>\n",
       "      <td>0</td>\n",
       "      <td>0</td>\n",
       "      <td>0</td>\n",
       "      <td>0</td>\n",
       "    </tr>\n",
       "    <tr>\n",
       "      <th>6</th>\n",
       "      <td>50</td>\n",
       "      <td>1.0</td>\n",
       "      <td>2.0</td>\n",
       "      <td>15.0</td>\n",
       "      <td>17.0</td>\n",
       "      <td>22.0</td>\n",
       "      <td>23.0</td>\n",
       "      <td>811</td>\n",
       "      <td>811</td>\n",
       "      <td>811</td>\n",
       "      <td>...</td>\n",
       "      <td>0</td>\n",
       "      <td>15</td>\n",
       "      <td>16</td>\n",
       "      <td>0</td>\n",
       "      <td>0</td>\n",
       "      <td>0</td>\n",
       "      <td>0</td>\n",
       "      <td>0</td>\n",
       "      <td>0</td>\n",
       "      <td>0</td>\n",
       "    </tr>\n",
       "    <tr>\n",
       "      <th>7</th>\n",
       "      <td>57</td>\n",
       "      <td>1.0</td>\n",
       "      <td>2.0</td>\n",
       "      <td>17.0</td>\n",
       "      <td>18.0</td>\n",
       "      <td>22.0</td>\n",
       "      <td>23.0</td>\n",
       "      <td>867</td>\n",
       "      <td>839</td>\n",
       "      <td>867</td>\n",
       "      <td>...</td>\n",
       "      <td>0</td>\n",
       "      <td>15</td>\n",
       "      <td>17</td>\n",
       "      <td>0</td>\n",
       "      <td>0</td>\n",
       "      <td>0</td>\n",
       "      <td>0</td>\n",
       "      <td>0</td>\n",
       "      <td>0</td>\n",
       "      <td>0</td>\n",
       "    </tr>\n",
       "    <tr>\n",
       "      <th>8</th>\n",
       "      <td>64</td>\n",
       "      <td>1.0</td>\n",
       "      <td>2.0</td>\n",
       "      <td>18.0</td>\n",
       "      <td>18.0</td>\n",
       "      <td>22.0</td>\n",
       "      <td>23.0</td>\n",
       "      <td>867</td>\n",
       "      <td>923</td>\n",
       "      <td>867</td>\n",
       "      <td>...</td>\n",
       "      <td>0</td>\n",
       "      <td>16</td>\n",
       "      <td>17</td>\n",
       "      <td>0</td>\n",
       "      <td>0</td>\n",
       "      <td>0</td>\n",
       "      <td>0</td>\n",
       "      <td>0</td>\n",
       "      <td>0</td>\n",
       "      <td>0</td>\n",
       "    </tr>\n",
       "    <tr>\n",
       "      <th>9</th>\n",
       "      <td>71</td>\n",
       "      <td>1.0</td>\n",
       "      <td>2.0</td>\n",
       "      <td>17.0</td>\n",
       "      <td>19.0</td>\n",
       "      <td>22.0</td>\n",
       "      <td>23.0</td>\n",
       "      <td>895</td>\n",
       "      <td>951</td>\n",
       "      <td>895</td>\n",
       "      <td>...</td>\n",
       "      <td>0</td>\n",
       "      <td>17</td>\n",
       "      <td>18</td>\n",
       "      <td>0</td>\n",
       "      <td>0</td>\n",
       "      <td>0</td>\n",
       "      <td>0</td>\n",
       "      <td>0</td>\n",
       "      <td>0</td>\n",
       "      <td>0</td>\n",
       "    </tr>\n",
       "  </tbody>\n",
       "</table>\n",
       "<p>10 rows × 28 columns</p>\n",
       "</div>"
      ],
      "text/plain": [
       "   time  race1  race2  supplyUsed1  supplyUsed2  supplyMade1  supplyMade2  \\\n",
       "0     7    1.0    2.0         13.0         13.0         14.0         15.0   \n",
       "1    14    1.0    2.0         13.0         14.0         14.0         15.0   \n",
       "2    21    1.0    2.0         14.0         14.0         14.0         15.0   \n",
       "3    29    1.0    2.0         14.0         15.0         14.0         15.0   \n",
       "4    36    1.0    2.0         16.0         15.0         22.0         15.0   \n",
       "5    43    1.0    2.0         16.0         16.0         22.0         23.0   \n",
       "6    50    1.0    2.0         15.0         17.0         22.0         23.0   \n",
       "7    57    1.0    2.0         17.0         18.0         22.0         23.0   \n",
       "8    64    1.0    2.0         18.0         18.0         22.0         23.0   \n",
       "9    71    1.0    2.0         17.0         19.0         22.0         23.0   \n",
       "\n",
       "   totalIncome1  totalIncome2  mineralsIncome1  ...  vespene2  activeWorkers1  \\\n",
       "0           293           251              293  ...         0              12   \n",
       "1           671           643              671  ...         0              13   \n",
       "2           727           643              727  ...         0              13   \n",
       "3           783           699              783  ...         0              13   \n",
       "4           783           755              783  ...         0              14   \n",
       "5           783           783              783  ...         0              16   \n",
       "6           811           811              811  ...         0              15   \n",
       "7           867           839              867  ...         0              15   \n",
       "8           867           923              867  ...         0              16   \n",
       "9           895           951              895  ...         0              17   \n",
       "\n",
       "   activeWorkers2  army1  army2  technology1  technology2  lostResources1  \\\n",
       "0              12      0      0            0            0               0   \n",
       "1              13      0      0            0            0               0   \n",
       "2              13      0      0            0            0               0   \n",
       "3              14      0      0            0            0               0   \n",
       "4              14      0      0            0            0               0   \n",
       "5              15      0      0            0            0               0   \n",
       "6              16      0      0            0            0               0   \n",
       "7              17      0      0            0            0               0   \n",
       "8              17      0      0            0            0               0   \n",
       "9              18      0      0            0            0               0   \n",
       "\n",
       "   lostResources2  winner  \n",
       "0               0       0  \n",
       "1               0       0  \n",
       "2               0       0  \n",
       "3               0       0  \n",
       "4               0       0  \n",
       "5               0       0  \n",
       "6               0       0  \n",
       "7               0       0  \n",
       "8               0       0  \n",
       "9               0       0  \n",
       "\n",
       "[10 rows x 28 columns]"
      ]
     },
     "execution_count": 3,
     "metadata": {},
     "output_type": "execute_result"
    }
   ],
   "source": [
    "train = pd.read_csv('archive/trainSet2.csv')\n",
    "test = pd.read_csv('archive/testSet2.csv')\n",
    "train.head(10)"
   ]
  },
  {
   "cell_type": "code",
   "execution_count": 4,
   "id": "46747702",
   "metadata": {},
   "outputs": [
    {
     "data": {
      "text/html": [
       "<div>\n",
       "<style scoped>\n",
       "    .dataframe tbody tr th:only-of-type {\n",
       "        vertical-align: middle;\n",
       "    }\n",
       "\n",
       "    .dataframe tbody tr th {\n",
       "        vertical-align: top;\n",
       "    }\n",
       "\n",
       "    .dataframe thead th {\n",
       "        text-align: right;\n",
       "    }\n",
       "</style>\n",
       "<table border=\"1\" class=\"dataframe\">\n",
       "  <thead>\n",
       "    <tr style=\"text-align: right;\">\n",
       "      <th></th>\n",
       "      <th>time</th>\n",
       "      <th>race1</th>\n",
       "      <th>race2</th>\n",
       "      <th>supplyUsed1</th>\n",
       "      <th>supplyUsed2</th>\n",
       "      <th>supplyMade1</th>\n",
       "      <th>supplyMade2</th>\n",
       "      <th>totalIncome1</th>\n",
       "      <th>totalIncome2</th>\n",
       "      <th>mineralsIncome1</th>\n",
       "      <th>...</th>\n",
       "      <th>vespene2</th>\n",
       "      <th>activeWorkers1</th>\n",
       "      <th>activeWorkers2</th>\n",
       "      <th>army1</th>\n",
       "      <th>army2</th>\n",
       "      <th>technology1</th>\n",
       "      <th>technology2</th>\n",
       "      <th>lostResources1</th>\n",
       "      <th>lostResources2</th>\n",
       "      <th>winner</th>\n",
       "    </tr>\n",
       "  </thead>\n",
       "  <tbody>\n",
       "    <tr>\n",
       "      <th>0</th>\n",
       "      <td>7</td>\n",
       "      <td>2.0</td>\n",
       "      <td>0.0</td>\n",
       "      <td>13.0</td>\n",
       "      <td>13.0</td>\n",
       "      <td>15.0</td>\n",
       "      <td>15.0</td>\n",
       "      <td>335</td>\n",
       "      <td>293</td>\n",
       "      <td>335</td>\n",
       "      <td>...</td>\n",
       "      <td>0</td>\n",
       "      <td>12</td>\n",
       "      <td>12</td>\n",
       "      <td>0</td>\n",
       "      <td>0</td>\n",
       "      <td>0</td>\n",
       "      <td>0</td>\n",
       "      <td>0</td>\n",
       "      <td>0</td>\n",
       "      <td>0</td>\n",
       "    </tr>\n",
       "    <tr>\n",
       "      <th>1</th>\n",
       "      <td>14</td>\n",
       "      <td>2.0</td>\n",
       "      <td>0.0</td>\n",
       "      <td>14.0</td>\n",
       "      <td>14.0</td>\n",
       "      <td>15.0</td>\n",
       "      <td>15.0</td>\n",
       "      <td>671</td>\n",
       "      <td>615</td>\n",
       "      <td>671</td>\n",
       "      <td>...</td>\n",
       "      <td>0</td>\n",
       "      <td>13</td>\n",
       "      <td>13</td>\n",
       "      <td>0</td>\n",
       "      <td>0</td>\n",
       "      <td>0</td>\n",
       "      <td>0</td>\n",
       "      <td>0</td>\n",
       "      <td>0</td>\n",
       "      <td>0</td>\n",
       "    </tr>\n",
       "    <tr>\n",
       "      <th>2</th>\n",
       "      <td>21</td>\n",
       "      <td>2.0</td>\n",
       "      <td>0.0</td>\n",
       "      <td>14.0</td>\n",
       "      <td>14.0</td>\n",
       "      <td>15.0</td>\n",
       "      <td>15.0</td>\n",
       "      <td>727</td>\n",
       "      <td>699</td>\n",
       "      <td>727</td>\n",
       "      <td>...</td>\n",
       "      <td>0</td>\n",
       "      <td>13</td>\n",
       "      <td>13</td>\n",
       "      <td>0</td>\n",
       "      <td>0</td>\n",
       "      <td>0</td>\n",
       "      <td>0</td>\n",
       "      <td>0</td>\n",
       "      <td>0</td>\n",
       "      <td>0</td>\n",
       "    </tr>\n",
       "    <tr>\n",
       "      <th>3</th>\n",
       "      <td>29</td>\n",
       "      <td>2.0</td>\n",
       "      <td>0.0</td>\n",
       "      <td>15.0</td>\n",
       "      <td>15.0</td>\n",
       "      <td>15.0</td>\n",
       "      <td>15.0</td>\n",
       "      <td>727</td>\n",
       "      <td>671</td>\n",
       "      <td>727</td>\n",
       "      <td>...</td>\n",
       "      <td>0</td>\n",
       "      <td>14</td>\n",
       "      <td>14</td>\n",
       "      <td>0</td>\n",
       "      <td>0</td>\n",
       "      <td>0</td>\n",
       "      <td>0</td>\n",
       "      <td>0</td>\n",
       "      <td>0</td>\n",
       "      <td>0</td>\n",
       "    </tr>\n",
       "    <tr>\n",
       "      <th>4</th>\n",
       "      <td>36</td>\n",
       "      <td>2.0</td>\n",
       "      <td>0.0</td>\n",
       "      <td>16.0</td>\n",
       "      <td>15.0</td>\n",
       "      <td>23.0</td>\n",
       "      <td>15.0</td>\n",
       "      <td>839</td>\n",
       "      <td>783</td>\n",
       "      <td>839</td>\n",
       "      <td>...</td>\n",
       "      <td>0</td>\n",
       "      <td>15</td>\n",
       "      <td>14</td>\n",
       "      <td>0</td>\n",
       "      <td>0</td>\n",
       "      <td>0</td>\n",
       "      <td>0</td>\n",
       "      <td>0</td>\n",
       "      <td>0</td>\n",
       "      <td>0</td>\n",
       "    </tr>\n",
       "    <tr>\n",
       "      <th>5</th>\n",
       "      <td>43</td>\n",
       "      <td>2.0</td>\n",
       "      <td>0.0</td>\n",
       "      <td>16.0</td>\n",
       "      <td>16.0</td>\n",
       "      <td>23.0</td>\n",
       "      <td>23.0</td>\n",
       "      <td>867</td>\n",
       "      <td>727</td>\n",
       "      <td>867</td>\n",
       "      <td>...</td>\n",
       "      <td>0</td>\n",
       "      <td>15</td>\n",
       "      <td>15</td>\n",
       "      <td>0</td>\n",
       "      <td>0</td>\n",
       "      <td>0</td>\n",
       "      <td>0</td>\n",
       "      <td>0</td>\n",
       "      <td>0</td>\n",
       "      <td>0</td>\n",
       "    </tr>\n",
       "    <tr>\n",
       "      <th>6</th>\n",
       "      <td>50</td>\n",
       "      <td>2.0</td>\n",
       "      <td>0.0</td>\n",
       "      <td>17.0</td>\n",
       "      <td>16.0</td>\n",
       "      <td>23.0</td>\n",
       "      <td>23.0</td>\n",
       "      <td>839</td>\n",
       "      <td>783</td>\n",
       "      <td>839</td>\n",
       "      <td>...</td>\n",
       "      <td>0</td>\n",
       "      <td>16</td>\n",
       "      <td>15</td>\n",
       "      <td>0</td>\n",
       "      <td>0</td>\n",
       "      <td>0</td>\n",
       "      <td>0</td>\n",
       "      <td>0</td>\n",
       "      <td>0</td>\n",
       "      <td>0</td>\n",
       "    </tr>\n",
       "    <tr>\n",
       "      <th>7</th>\n",
       "      <td>57</td>\n",
       "      <td>2.0</td>\n",
       "      <td>0.0</td>\n",
       "      <td>18.0</td>\n",
       "      <td>17.0</td>\n",
       "      <td>23.0</td>\n",
       "      <td>23.0</td>\n",
       "      <td>895</td>\n",
       "      <td>699</td>\n",
       "      <td>895</td>\n",
       "      <td>...</td>\n",
       "      <td>0</td>\n",
       "      <td>17</td>\n",
       "      <td>16</td>\n",
       "      <td>0</td>\n",
       "      <td>0</td>\n",
       "      <td>0</td>\n",
       "      <td>0</td>\n",
       "      <td>0</td>\n",
       "      <td>0</td>\n",
       "      <td>0</td>\n",
       "    </tr>\n",
       "    <tr>\n",
       "      <th>8</th>\n",
       "      <td>64</td>\n",
       "      <td>2.0</td>\n",
       "      <td>0.0</td>\n",
       "      <td>19.0</td>\n",
       "      <td>18.0</td>\n",
       "      <td>23.0</td>\n",
       "      <td>23.0</td>\n",
       "      <td>895</td>\n",
       "      <td>839</td>\n",
       "      <td>895</td>\n",
       "      <td>...</td>\n",
       "      <td>0</td>\n",
       "      <td>18</td>\n",
       "      <td>17</td>\n",
       "      <td>0</td>\n",
       "      <td>0</td>\n",
       "      <td>0</td>\n",
       "      <td>0</td>\n",
       "      <td>0</td>\n",
       "      <td>0</td>\n",
       "      <td>0</td>\n",
       "    </tr>\n",
       "    <tr>\n",
       "      <th>9</th>\n",
       "      <td>71</td>\n",
       "      <td>2.0</td>\n",
       "      <td>0.0</td>\n",
       "      <td>19.0</td>\n",
       "      <td>18.0</td>\n",
       "      <td>23.0</td>\n",
       "      <td>23.0</td>\n",
       "      <td>973</td>\n",
       "      <td>855</td>\n",
       "      <td>951</td>\n",
       "      <td>...</td>\n",
       "      <td>8</td>\n",
       "      <td>18</td>\n",
       "      <td>17</td>\n",
       "      <td>0</td>\n",
       "      <td>0</td>\n",
       "      <td>0</td>\n",
       "      <td>0</td>\n",
       "      <td>0</td>\n",
       "      <td>0</td>\n",
       "      <td>0</td>\n",
       "    </tr>\n",
       "  </tbody>\n",
       "</table>\n",
       "<p>10 rows × 28 columns</p>\n",
       "</div>"
      ],
      "text/plain": [
       "   time  race1  race2  supplyUsed1  supplyUsed2  supplyMade1  supplyMade2  \\\n",
       "0     7    2.0    0.0         13.0         13.0         15.0         15.0   \n",
       "1    14    2.0    0.0         14.0         14.0         15.0         15.0   \n",
       "2    21    2.0    0.0         14.0         14.0         15.0         15.0   \n",
       "3    29    2.0    0.0         15.0         15.0         15.0         15.0   \n",
       "4    36    2.0    0.0         16.0         15.0         23.0         15.0   \n",
       "5    43    2.0    0.0         16.0         16.0         23.0         23.0   \n",
       "6    50    2.0    0.0         17.0         16.0         23.0         23.0   \n",
       "7    57    2.0    0.0         18.0         17.0         23.0         23.0   \n",
       "8    64    2.0    0.0         19.0         18.0         23.0         23.0   \n",
       "9    71    2.0    0.0         19.0         18.0         23.0         23.0   \n",
       "\n",
       "   totalIncome1  totalIncome2  mineralsIncome1  ...  vespene2  activeWorkers1  \\\n",
       "0           335           293              335  ...         0              12   \n",
       "1           671           615              671  ...         0              13   \n",
       "2           727           699              727  ...         0              13   \n",
       "3           727           671              727  ...         0              14   \n",
       "4           839           783              839  ...         0              15   \n",
       "5           867           727              867  ...         0              15   \n",
       "6           839           783              839  ...         0              16   \n",
       "7           895           699              895  ...         0              17   \n",
       "8           895           839              895  ...         0              18   \n",
       "9           973           855              951  ...         8              18   \n",
       "\n",
       "   activeWorkers2  army1  army2  technology1  technology2  lostResources1  \\\n",
       "0              12      0      0            0            0               0   \n",
       "1              13      0      0            0            0               0   \n",
       "2              13      0      0            0            0               0   \n",
       "3              14      0      0            0            0               0   \n",
       "4              14      0      0            0            0               0   \n",
       "5              15      0      0            0            0               0   \n",
       "6              15      0      0            0            0               0   \n",
       "7              16      0      0            0            0               0   \n",
       "8              17      0      0            0            0               0   \n",
       "9              17      0      0            0            0               0   \n",
       "\n",
       "   lostResources2  winner  \n",
       "0               0       0  \n",
       "1               0       0  \n",
       "2               0       0  \n",
       "3               0       0  \n",
       "4               0       0  \n",
       "5               0       0  \n",
       "6               0       0  \n",
       "7               0       0  \n",
       "8               0       0  \n",
       "9               0       0  \n",
       "\n",
       "[10 rows x 28 columns]"
      ]
     },
     "execution_count": 4,
     "metadata": {},
     "output_type": "execute_result"
    }
   ],
   "source": [
    "test.head(10)"
   ]
  },
  {
   "cell_type": "code",
   "execution_count": 5,
   "id": "28951557",
   "metadata": {},
   "outputs": [
    {
     "name": "stdout",
     "output_type": "stream",
     "text": [
      "[0 1]\n"
     ]
    }
   ],
   "source": [
    "\n",
    "print(train['winner'].unique())\n"
   ]
  },
  {
   "cell_type": "code",
   "execution_count": 6,
   "id": "2d0934dd",
   "metadata": {},
   "outputs": [
    {
     "name": "stdout",
     "output_type": "stream",
     "text": [
      "<class 'pandas.core.frame.DataFrame'>\n",
      "RangeIndex: 94064 entries, 0 to 94063\n",
      "Data columns (total 28 columns):\n",
      " #   Column           Non-Null Count  Dtype  \n",
      "---  ------           --------------  -----  \n",
      " 0   time             94064 non-null  int64  \n",
      " 1   race1            93341 non-null  float64\n",
      " 2   race2            93341 non-null  float64\n",
      " 3   supplyUsed1      94064 non-null  float64\n",
      " 4   supplyUsed2      94064 non-null  float64\n",
      " 5   supplyMade1      94064 non-null  float64\n",
      " 6   supplyMade2      94064 non-null  float64\n",
      " 7   totalIncome1     94064 non-null  int64  \n",
      " 8   totalIncome2     94064 non-null  int64  \n",
      " 9   mineralsIncome1  94064 non-null  int64  \n",
      " 10  mineralsIncome2  94064 non-null  int64  \n",
      " 11  vespeneIncome1   94064 non-null  int64  \n",
      " 12  vespeneIncome2   94064 non-null  int64  \n",
      " 13  totalResources1  94064 non-null  int64  \n",
      " 14  totalResources2  94064 non-null  int64  \n",
      " 15  minerals1        94064 non-null  int64  \n",
      " 16  minerals2        94064 non-null  int64  \n",
      " 17  vespene1         94064 non-null  int64  \n",
      " 18  vespene2         94064 non-null  int64  \n",
      " 19  activeWorkers1   94064 non-null  int64  \n",
      " 20  activeWorkers2   94064 non-null  int64  \n",
      " 21  army1            94064 non-null  int64  \n",
      " 22  army2            94064 non-null  int64  \n",
      " 23  technology1      94064 non-null  int64  \n",
      " 24  technology2      94064 non-null  int64  \n",
      " 25  lostResources1   94064 non-null  int64  \n",
      " 26  lostResources2   94064 non-null  int64  \n",
      " 27  winner           94064 non-null  int64  \n",
      "dtypes: float64(6), int64(22)\n",
      "memory usage: 20.1 MB\n"
     ]
    }
   ],
   "source": [
    "## Liste l'ensemble des colonnes avec le type des données et le nombre de valeurs non-nulles de chaque colonne\n",
    "train.info(verbose=True)"
   ]
  },
  {
   "cell_type": "code",
   "execution_count": 7,
   "id": "2211792d",
   "metadata": {},
   "outputs": [
    {
     "name": "stdout",
     "output_type": "stream",
     "text": [
      "<class 'pandas.core.frame.DataFrame'>\n",
      "RangeIndex: 19128 entries, 0 to 19127\n",
      "Data columns (total 28 columns):\n",
      " #   Column           Non-Null Count  Dtype  \n",
      "---  ------           --------------  -----  \n",
      " 0   time             19128 non-null  int64  \n",
      " 1   race1            17861 non-null  float64\n",
      " 2   race2            17861 non-null  float64\n",
      " 3   supplyUsed1      19128 non-null  float64\n",
      " 4   supplyUsed2      19128 non-null  float64\n",
      " 5   supplyMade1      19128 non-null  float64\n",
      " 6   supplyMade2      19128 non-null  float64\n",
      " 7   totalIncome1     19128 non-null  int64  \n",
      " 8   totalIncome2     19128 non-null  int64  \n",
      " 9   mineralsIncome1  19128 non-null  int64  \n",
      " 10  mineralsIncome2  19128 non-null  int64  \n",
      " 11  vespeneIncome1   19128 non-null  int64  \n",
      " 12  vespeneIncome2   19128 non-null  int64  \n",
      " 13  totalResources1  19128 non-null  int64  \n",
      " 14  totalResources2  19128 non-null  int64  \n",
      " 15  minerals1        19128 non-null  int64  \n",
      " 16  minerals2        19128 non-null  int64  \n",
      " 17  vespene1         19128 non-null  int64  \n",
      " 18  vespene2         19128 non-null  int64  \n",
      " 19  activeWorkers1   19128 non-null  int64  \n",
      " 20  activeWorkers2   19128 non-null  int64  \n",
      " 21  army1            19128 non-null  int64  \n",
      " 22  army2            19128 non-null  int64  \n",
      " 23  technology1      19128 non-null  int64  \n",
      " 24  technology2      19128 non-null  int64  \n",
      " 25  lostResources1   19128 non-null  int64  \n",
      " 26  lostResources2   19128 non-null  int64  \n",
      " 27  winner           19128 non-null  int64  \n",
      "dtypes: float64(6), int64(22)\n",
      "memory usage: 4.1 MB\n"
     ]
    }
   ],
   "source": [
    "test.info(verbose=True)"
   ]
  },
  {
   "cell_type": "markdown",
   "id": "39072afb",
   "metadata": {},
   "source": [
    "Création des classes Data et Data_Test pour créer l'ensemble d'apprentissage et l'ensemble de test\n",
    "Ces classes s'occupe également du préprocessing : par exemple le dataset brut contient la colonne satosfaction qui peut prendre deux valeurs : \"satisfait\" ou \"non satisfait\". On encode donc comme suit : 0 pour non satisfait et 1 pour satisfait"
   ]
  },
  {
   "cell_type": "code",
   "execution_count": 8,
   "id": "8248a7db",
   "metadata": {},
   "outputs": [],
   "source": [
    "class Data2(Dataset): #ne pas executer\n",
    "    def __init__(self):\n",
    "        train = pd.read_csv('archive/train.csv', index_col=0)\n",
    "        train.drop(labels=[\"id\"], axis=1, inplace=True)\n",
    "        train.dropna(subset=[\"Arrival Delay in Minutes\"], inplace=True)\n",
    "        train.loc[train.satisfaction == \"satisfied\", \"satisfaction\"] = 1\n",
    "        train.loc[train.satisfaction == \"neutral or dissatisfied\", \"satisfaction\"] = 0\n",
    "        train[\"satisfaction\"] = train[\"satisfaction\"].astype('int64')\n",
    "        train.drop([\"Departure/Arrival time convenient\", \"Gate location\", \"Departure Delay in Minutes\", \"Arrival Delay in Minutes\"], axis=1, inplace=True)\n",
    "        label_to_encode = [\"Gender\", \"Customer Type\", \"Type of Travel\", \"Class\"]\n",
    "        label_encoder = preprocessing.LabelEncoder()\n",
    "\n",
    "        for label in label_to_encode :\n",
    "            train[label] = label_encoder.fit_transform(train[label])\n",
    "        x = train.drop(\"satisfaction\", axis=1)\n",
    "        x = x.astype(np.float32)\n",
    "        self.x_train = torch.tensor(x.values)\n",
    "        y = train[\"satisfaction\"]\n",
    "        y = y.astype(np.float32)\n",
    "        self.y_train = torch.tensor(y.values)\n",
    "        self.n_samples = train.shape[0]\n",
    "    \n",
    "    def __getitem__(self,index):\n",
    "        return self.x_train[index],self.y_train[index]\n",
    "    \n",
    "    def __len__(self):\n",
    "        return self.n_samples\n",
    "        "
   ]
  },
  {
   "cell_type": "code",
   "execution_count": 9,
   "id": "4b30ad1c",
   "metadata": {},
   "outputs": [],
   "source": [
    "class Data(Dataset):\n",
    "    def __init__(self):\n",
    "        train = pd.read_csv('archive/trainSet2.csv')\n",
    "        train.drop(labels=[\"race1\"], axis=1, inplace=True)\n",
    "        train.drop(labels=[\"race2\"], axis=1, inplace=True)\n",
    "        x = train.drop(\"winner\", axis=1)\n",
    "        x = x.astype(np.float32)\n",
    "        self.x_train = torch.tensor(x.values)\n",
    "        y = train[\"winner\"]\n",
    "        y = y.astype(np.float32)\n",
    "        self.y_train = torch.tensor(y.values)\n",
    "        self.n_samples = train.shape[0]\n",
    "    \n",
    "    def __getitem__(self,index):\n",
    "        return self.x_train[index],self.y_train[index]\n",
    "    \n",
    "    def __len__(self):\n",
    "        return self.n_samples"
   ]
  },
  {
   "cell_type": "code",
   "execution_count": 10,
   "id": "c44d47c6",
   "metadata": {},
   "outputs": [],
   "source": [
    "class Data_test2(Dataset): #ne pas executer\n",
    "    def __init__(self):\n",
    "        test = pd.read_csv('archive/test.csv', index_col=0)\n",
    "        test.drop(labels=[\"id\"], axis=1, inplace=True)\n",
    "        test.dropna(subset=[\"Arrival Delay in Minutes\"], inplace=True)\n",
    "        test.loc[test.satisfaction == \"satisfied\", \"satisfaction\"] = 1\n",
    "        test.loc[test.satisfaction == \"neutral or dissatisfied\", \"satisfaction\"] = 0\n",
    "        test[\"satisfaction\"] = test[\"satisfaction\"].astype('int64')\n",
    "        test.drop([\"Departure/Arrival time convenient\", \"Gate location\", \"Departure Delay in Minutes\", \"Arrival Delay in Minutes\"], axis=1, inplace=True)\n",
    "        label_to_encode = [\"Gender\", \"Customer Type\", \"Type of Travel\", \"Class\"]\n",
    "        label_encoder = preprocessing.LabelEncoder()\n",
    "\n",
    "        for label in label_to_encode :\n",
    "            test[label] = label_encoder.fit_transform(test[label])\n",
    "        x = test.drop(\"satisfaction\", axis=1)\n",
    "        x = x.astype(np.float32)\n",
    "        self.x_test = torch.tensor(x.values)\n",
    "        y = test[\"satisfaction\"]\n",
    "        y = y.astype(np.float32)\n",
    "        self.y_test = torch.tensor(y.values)\n",
    "        self.n_samples = test.shape[0]\n",
    "    \n",
    "    def __getitem__(self,index):\n",
    "        return self.x_test[index],self.y_test[index]\n",
    "    \n",
    "    def __len__(self):\n",
    "        return self.n_samples"
   ]
  },
  {
   "cell_type": "code",
   "execution_count": 11,
   "id": "b9ca3ff7",
   "metadata": {},
   "outputs": [],
   "source": [
    "class Data_test(Dataset):\n",
    "    def __init__(self):\n",
    "        test = pd.read_csv('archive/testSet2.csv')\n",
    "        test.drop(labels=[\"race1\"], axis=1, inplace=True)\n",
    "        test.drop(labels=[\"race2\"], axis=1, inplace=True)\n",
    "        test.replace([np.inf, -np.inf], np.nan, inplace=True)\n",
    "        x = test.drop(\"winner\", axis=1)\n",
    "        x = x.astype(np.float32)\n",
    "        self.x_test = torch.tensor(x.values)\n",
    "        y = test[\"winner\"]\n",
    "        y = y.astype(np.float32)\n",
    "        self.y_test = torch.tensor(y.values)\n",
    "        self.n_samples = test.shape[0]\n",
    "    \n",
    "    def __getitem__(self,index):\n",
    "        return self.x_test[index],self.y_test[index]\n",
    "    \n",
    "    def __len__(self):\n",
    "        return self.n_samples"
   ]
  },
  {
   "cell_type": "code",
   "execution_count": 12,
   "id": "21e0f4ad",
   "metadata": {},
   "outputs": [],
   "source": [
    "train_dataset = Data()\n",
    "test_dataset = Data_test()"
   ]
  },
  {
   "cell_type": "code",
   "execution_count": 13,
   "id": "3b6bbb40",
   "metadata": {},
   "outputs": [
    {
     "name": "stdout",
     "output_type": "stream",
     "text": [
      "Index(['time', 'race1', 'race2', 'supplyUsed1', 'supplyUsed2', 'supplyMade1',\n",
      "       'supplyMade2', 'totalIncome1', 'totalIncome2', 'mineralsIncome1',\n",
      "       'mineralsIncome2', 'vespeneIncome1', 'vespeneIncome2',\n",
      "       'totalResources1', 'totalResources2', 'minerals1', 'minerals2',\n",
      "       'vespene1', 'vespene2', 'activeWorkers1', 'activeWorkers2', 'army1',\n",
      "       'army2', 'technology1', 'technology2', 'lostResources1',\n",
      "       'lostResources2', 'winner'],\n",
      "      dtype='object')\n",
      "(94064, 28)\n"
     ]
    }
   ],
   "source": [
    "print(train.columns)\n",
    "print(train.shape)"
   ]
  },
  {
   "cell_type": "code",
   "execution_count": 14,
   "id": "720f1bd2",
   "metadata": {},
   "outputs": [
    {
     "data": {
      "text/plain": [
       "(torch.Size([25]), tensor(0.))"
      ]
     },
     "execution_count": 14,
     "metadata": {},
     "output_type": "execute_result"
    }
   ],
   "source": [
    "train_dataset[0][0].shape, train_dataset[0][1]"
   ]
  },
  {
   "cell_type": "code",
   "execution_count": 15,
   "id": "fc382510",
   "metadata": {},
   "outputs": [
    {
     "data": {
      "text/plain": [
       "(torch.Size([25]), tensor(0.))"
      ]
     },
     "execution_count": 15,
     "metadata": {},
     "output_type": "execute_result"
    }
   ],
   "source": [
    "test_dataset[0][0].shape, test_dataset[0][1]"
   ]
  },
  {
   "cell_type": "code",
   "execution_count": 16,
   "id": "70b6a469",
   "metadata": {},
   "outputs": [
    {
     "data": {
      "text/plain": [
       "94064"
      ]
     },
     "execution_count": 16,
     "metadata": {},
     "output_type": "execute_result"
    }
   ],
   "source": [
    "len(train_dataset)"
   ]
  },
  {
   "cell_type": "code",
   "execution_count": 17,
   "id": "adefa7d5",
   "metadata": {},
   "outputs": [
    {
     "data": {
      "text/plain": [
       "19128"
      ]
     },
     "execution_count": 17,
     "metadata": {},
     "output_type": "execute_result"
    }
   ],
   "source": [
    "len(test_dataset)"
   ]
  },
  {
   "cell_type": "markdown",
   "id": "2be6beaa",
   "metadata": {},
   "source": [
    "On créer un ensemble de validation a partir de l'ensemble d'apprentissage"
   ]
  },
  {
   "cell_type": "code",
   "execution_count": 18,
   "id": "3593598b",
   "metadata": {},
   "outputs": [],
   "source": [
    "train_dataset, val_dataset = random_split(train_dataset, [74064,20000])"
   ]
  },
  {
   "cell_type": "code",
   "execution_count": 19,
   "id": "a294ae94",
   "metadata": {},
   "outputs": [
    {
     "data": {
      "text/plain": [
       "(74064, 20000, 19128)"
      ]
     },
     "execution_count": 19,
     "metadata": {},
     "output_type": "execute_result"
    }
   ],
   "source": [
    "len(train_dataset), len(val_dataset), len(test_dataset)"
   ]
  },
  {
   "cell_type": "markdown",
   "id": "0983f97c",
   "metadata": {},
   "source": [
    "## 2. Dataloaders"
   ]
  },
  {
   "cell_type": "markdown",
   "id": "29e59ed3",
   "metadata": {},
   "source": [
    "A **dataloader** creates batches of samples from a dataset so that they can be passed into a model.\n",
    "- Create a train and test dataloaders using the following commands:\n",
    "```\n",
    "train_dataloader = DataLoader(train_dataset, batch_size=64, shuffle=True)\n",
    "val_dataloader = DataLoader(val_dataset, batch_size=64, shuffle=True)\n",
    "test_dataloader = DataLoader(test_dataset, batch_size=64, shuffle=True)\n",
    "```\n",
    "- Note that dataloaders are not subscriptable.\n",
    "- Try to catch one batch of the dataloader and examine it.\n",
    "- Write a function that reshapes a batch of size $64 \\times 1 \\times 28 \\times 28$ into a tensor of size $64 \\times 784$.<br>\n",
    "(use `torch.squeeze()`, `torch.reshape()`, `torch.flatten()`, `torch.transpose()`, etc.)"
   ]
  },
  {
   "cell_type": "markdown",
   "id": "7bda045c",
   "metadata": {
    "scrolled": true
   },
   "source": [
    "train_dataloader = DataLoader(train_dataset, batch_size=64, shuffle=True)\n",
    "val_dataloader = DataLoader(val_dataset, batch_size=64, shuffle=True)\n",
    "test_dataloader = DataLoader(test_dataset, batch_size=64, shuffle=True)"
   ]
  },
  {
   "cell_type": "code",
   "execution_count": 20,
   "id": "049c3c8f",
   "metadata": {},
   "outputs": [],
   "source": [
    "train_dataloader = DataLoader(train_dataset, batch_size=128, shuffle=True)\n",
    "val_dataloader = DataLoader(val_dataset, batch_size=128, shuffle=True)\n",
    "test_dataloader = DataLoader(test_dataset, batch_size=128, shuffle=True)"
   ]
  },
  {
   "cell_type": "code",
   "execution_count": 21,
   "id": "2e6c157e",
   "metadata": {
    "scrolled": true
   },
   "outputs": [],
   "source": [
    "def reshape_batch(batch):\n",
    "    \n",
    "    # note that this function moodifies the batch in-place (no return)\n",
    "    batch_size = batch[0].shape[0]\n",
    "    batch[0] = batch[0].view(batch_size, -1)\n",
    "    \n",
    "    return batch"
   ]
  },
  {
   "cell_type": "code",
   "execution_count": 22,
   "id": "c5911f75",
   "metadata": {},
   "outputs": [],
   "source": [
    "for b in train_dataloader:\n",
    "    break"
   ]
  },
  {
   "cell_type": "code",
   "execution_count": 23,
   "id": "34e22726",
   "metadata": {},
   "outputs": [
    {
     "data": {
      "text/plain": [
       "torch.Size([128, 25])"
      ]
     },
     "execution_count": 23,
     "metadata": {},
     "output_type": "execute_result"
    }
   ],
   "source": [
    "b[0].shape"
   ]
  },
  {
   "cell_type": "code",
   "execution_count": 24,
   "id": "d9e293f1",
   "metadata": {},
   "outputs": [
    {
     "data": {
      "text/plain": [
       "[tensor([[6.1400e+02, 1.4300e+02, 1.6700e+02,  ..., 3.0500e+03, 6.9230e+03,\n",
       "          5.6500e+03],\n",
       "         [1.1290e+03, 1.1300e+02, 1.2900e+02,  ..., 1.9250e+03, 2.8930e+04,\n",
       "          2.4790e+04],\n",
       "         [2.2100e+02, 4.6000e+01, 4.4500e+01,  ..., 2.5000e+02, 0.0000e+00,\n",
       "          2.5000e+01],\n",
       "         ...,\n",
       "         [6.0700e+02, 1.7200e+02, 1.7600e+02,  ..., 1.8250e+03, 1.9750e+03,\n",
       "          4.0310e+03],\n",
       "         [5.7100e+02, 1.0300e+02, 1.3300e+02,  ..., 2.6000e+03, 5.1750e+03,\n",
       "          4.7750e+03],\n",
       "         [3.7100e+02, 7.7000e+01, 7.3000e+01,  ..., 1.4250e+03, 1.6250e+03,\n",
       "          1.2000e+03]]),\n",
       " tensor([1., 0., 1., 1., 0., 1., 1., 1., 1., 0., 0., 0., 1., 0., 1., 1., 1., 1.,\n",
       "         0., 0., 0., 0., 1., 1., 1., 0., 1., 1., 0., 1., 0., 0., 1., 0., 0., 0.,\n",
       "         1., 1., 1., 1., 1., 0., 1., 1., 0., 1., 0., 0., 0., 1., 0., 0., 1., 1.,\n",
       "         0., 1., 1., 0., 0., 1., 0., 1., 1., 1., 1., 0., 1., 1., 0., 1., 0., 0.,\n",
       "         1., 1., 1., 1., 0., 1., 1., 1., 1., 1., 0., 1., 0., 1., 0., 0., 0., 1.,\n",
       "         0., 0., 1., 0., 0., 0., 1., 0., 1., 0., 0., 1., 0., 1., 1., 1., 0., 1.,\n",
       "         1., 0., 1., 1., 1., 0., 1., 1., 0., 1., 0., 0., 0., 0., 0., 1., 0., 0.,\n",
       "         1., 0.])]"
      ]
     },
     "execution_count": 24,
     "metadata": {},
     "output_type": "execute_result"
    }
   ],
   "source": [
    "reshape_batch(b)"
   ]
  },
  {
   "cell_type": "code",
   "execution_count": 25,
   "id": "7a7aa277",
   "metadata": {},
   "outputs": [
    {
     "data": {
      "text/plain": [
       "torch.Size([128, 25])"
      ]
     },
     "execution_count": 25,
     "metadata": {},
     "output_type": "execute_result"
    }
   ],
   "source": [
    "b[0].shape"
   ]
  },
  {
   "cell_type": "markdown",
   "id": "f076ba79",
   "metadata": {},
   "source": [
    "## 3. Model"
   ]
  },
  {
   "cell_type": "markdown",
   "id": "daf3ae96",
   "metadata": {},
   "source": [
    "- Define and instanciate a **neural network** with the following feaures:\n",
    "    - hidden layer 1: 256 neurons, relu activation function\n",
    "    - hidden layer 2: 256 neurons, relu activation function\n",
    "    - hidden layer 3: 128 neurons, relu activation function\n",
    "    - hidden layer 4: 64 neurons, relu activation function\n",
    "    - output layer: 10 neurons"
   ]
  },
  {
   "cell_type": "code",
   "execution_count": 26,
   "id": "9d820419",
   "metadata": {},
   "outputs": [],
   "source": [
    "class Network(nn.Module):\n",
    "\n",
    "    def __init__(self):\n",
    "        \n",
    "        super(Network, self).__init__()\n",
    "        \n",
    "        self.fc1 = nn.Linear(25, 256)\n",
    "        self.fc2 = nn.Linear(256, 256)\n",
    "        self.fc3 = nn.Linear(256, 256)\n",
    "        self.fc4 = nn.Linear(256, 128)\n",
    "        self.fc5 = nn.Linear(128, 2)\n",
    "        \n",
    "\n",
    "    def forward(self, x):\n",
    "        \n",
    "        x = self.fc1(x)\n",
    "        x = nn.ReLU()(x) #fonction d'activation\n",
    "        \n",
    "        x = self.fc2(x)\n",
    "        x = nn.ReLU()(x)\n",
    "        \n",
    "        x = self.fc3(x)\n",
    "        x = nn.ReLU()(x)\n",
    "        \n",
    "        x = self.fc4(x)\n",
    "        x = nn.ReLU()(x)\n",
    "        \n",
    "        x = self.fc5(x)\n",
    "        \n",
    "        \n",
    "        \n",
    "        return x"
   ]
  },
  {
   "cell_type": "code",
   "execution_count": 27,
   "id": "24eb29f7",
   "metadata": {},
   "outputs": [],
   "source": [
    "network = Network()"
   ]
  },
  {
   "cell_type": "code",
   "execution_count": 28,
   "id": "5507da6d",
   "metadata": {},
   "outputs": [
    {
     "data": {
      "text/plain": [
       "Network(\n",
       "  (fc1): Linear(in_features=25, out_features=256, bias=True)\n",
       "  (fc2): Linear(in_features=256, out_features=256, bias=True)\n",
       "  (fc3): Linear(in_features=256, out_features=256, bias=True)\n",
       "  (fc4): Linear(in_features=256, out_features=128, bias=True)\n",
       "  (fc5): Linear(in_features=128, out_features=2, bias=True)\n",
       ")"
      ]
     },
     "execution_count": 28,
     "metadata": {},
     "output_type": "execute_result"
    }
   ],
   "source": [
    "# Put network to GPU if exists\n",
    "device = torch.device('cuda' if torch.cuda.is_available() else 'cpu')\n",
    "network.to(device)"
   ]
  },
  {
   "cell_type": "code",
   "execution_count": 29,
   "id": "f1d0ba7f",
   "metadata": {},
   "outputs": [
    {
     "data": {
      "text/plain": [
       "Network(\n",
       "  (fc1): Linear(in_features=25, out_features=256, bias=True)\n",
       "  (fc2): Linear(in_features=256, out_features=256, bias=True)\n",
       "  (fc3): Linear(in_features=256, out_features=256, bias=True)\n",
       "  (fc4): Linear(in_features=256, out_features=128, bias=True)\n",
       "  (fc5): Linear(in_features=128, out_features=2, bias=True)\n",
       ")"
      ]
     },
     "execution_count": 29,
     "metadata": {},
     "output_type": "execute_result"
    }
   ],
   "source": [
    "network"
   ]
  },
  {
   "cell_type": "markdown",
   "id": "c96d0079",
   "metadata": {},
   "source": [
    "## 4. Loss"
   ]
  },
  {
   "cell_type": "markdown",
   "id": "adca7d03",
   "metadata": {},
   "source": [
    "- Define a **cross entropy loss** with the following command:<br>\n",
    "```\n",
    "loss = nn.CrossEntropyLoss()\n",
    "```\n",
    "- Try to understand this loss object:<br>\n",
    "https://pytorch.org/docs/stable/generated/torch.nn.CrossEntropyLoss.html"
   ]
  },
  {
   "cell_type": "code",
   "execution_count": 30,
   "id": "87b7ddc4",
   "metadata": {},
   "outputs": [],
   "source": [
    "loss = nn.CrossEntropyLoss()"
   ]
  },
  {
   "cell_type": "markdown",
   "id": "f2e74bf7",
   "metadata": {},
   "source": [
    "## 5. Optimizer"
   ]
  },
  {
   "cell_type": "markdown",
   "id": "f8e9349d",
   "metadata": {},
   "source": [
    "- Define an **SGD optimizer** with the following command:<br>\n",
    "```\n",
    "optimizer = torch.optim.SGD(network.parameters(), lr=0.005)\n",
    "```\n",
    "- Try to understand this object:<br>\n",
    "https://pytorch.org/docs/stable/generated/torch.optim.SGD.html#torch.optim.SGD"
   ]
  },
  {
   "cell_type": "markdown",
   "id": "1958838f",
   "metadata": {},
   "source": [
    "On peut faire varier le learning rate lr"
   ]
  },
  {
   "cell_type": "code",
   "execution_count": 31,
   "id": "939fbc70",
   "metadata": {},
   "outputs": [],
   "source": [
    "optimizer = torch.optim.SGD(network.parameters(), lr=0.001)"
   ]
  },
  {
   "cell_type": "markdown",
   "id": "601241b2",
   "metadata": {},
   "source": [
    "## 6. Training"
   ]
  },
  {
   "cell_type": "markdown",
   "id": "81e0534e",
   "metadata": {},
   "source": [
    "- Define a **training loop** for you model.\n",
    "- The key instructions are:\n",
    "    - ``optimizer.zero_grad()``: reset gradients to 0\n",
    "    - ``loss.backward()``      : compute new gradients\n",
    "    - ``optimizer.step()``     : uptdate weights\n",
    "- Train the model for 20 epochs.\n",
    "- Plot the training loss."
   ]
  },
  {
   "cell_type": "code",
   "execution_count": 32,
   "id": "69baf69b",
   "metadata": {},
   "outputs": [],
   "source": [
    "def train(model, loss=None, optimizer=None, train_dataloader=None, val_dataloader=None, nb_epochs=20):\n",
    "    \"\"\"Training loop\"\"\"\n",
    "\n",
    "    min_val_loss = torch.inf\n",
    "    train_losses = []\n",
    "    val_losses = []\n",
    "\n",
    "    # Iterrate over epochs\n",
    "    for e in range(nb_epochs):\n",
    "\n",
    "        # Training\n",
    "        train_loss = 0.0\n",
    "\n",
    "        for data, labels in train_dataloader:\n",
    "\n",
    "            # Transfer data to GPU if available\n",
    "            if torch.cuda.is_available():\n",
    "                data, labels = data.cuda(), labels.cuda()\n",
    "                labels = labels.type(torch.LongTensor)   # casting to long\n",
    "                data, labels = data.to(device), labels.to(device)\n",
    "                \n",
    "            \n",
    "            # Reset gradients to 0\n",
    "            optimizer.zero_grad()\n",
    "\n",
    "            # Forward Pass (on reshaped data)\n",
    "            data, labels = reshape_batch([data, labels])\n",
    "            targets = model(data)\n",
    "\n",
    "            # Compute training loss\n",
    "            current_loss = loss(targets, labels)\n",
    "            train_loss += current_loss.item()\n",
    "\n",
    "            # Compute gradients\n",
    "            current_loss.backward()\n",
    "\n",
    "            # Update weights\n",
    "            optimizer.step()\n",
    "        \n",
    "        # Validation\n",
    "        val_loss = 0.0\n",
    "\n",
    "        # Put model in eval mode\n",
    "        model.eval()\n",
    "\n",
    "        for data, labels in val_dataloader:\n",
    "\n",
    "            # Transfer data to GPU if available\n",
    "            if torch.cuda.is_available():\n",
    "                data, labels = data.cuda(), labels.cuda()\n",
    "                labels = labels.type(torch.LongTensor)   # casting to long\n",
    "                data, labels = data.to(device), labels.to(device)\n",
    "\n",
    "            # Forward Pass (on reshaped data)\n",
    "            data, labels = reshape_batch([data, labels])\n",
    "            targets = model(data)\n",
    "\n",
    "            # Compute validation loss\n",
    "            current_loss = loss(targets, labels)\n",
    "            val_loss += current_loss.item()\n",
    "        \n",
    "        # Prints\n",
    "        print(f\"Epoch {e+1}/{nb_epochs} \\\n",
    "                \\t Training Loss: {train_loss/len(train_dataloader):.3f} \\\n",
    "                \\t Validation Loss: {val_loss/len(val_dataloader):.3f}\")\n",
    "        \n",
    "        train_losses.append(train_loss/len(train_dataloader))\n",
    "        val_losses.append(val_loss/len(val_dataloader))\n",
    "\n",
    "        # Save model if val loss decreases\n",
    "        if val_loss < min_val_loss:\n",
    "\n",
    "            min_val_loss = val_loss\n",
    "            torch.save(model.state_dict(), 'best_model.pt')\n",
    "            \n",
    "    return train_losses, val_losses"
   ]
  },
  {
   "cell_type": "code",
   "execution_count": 33,
   "id": "8bd54447",
   "metadata": {
    "scrolled": true
   },
   "outputs": [
    {
     "name": "stdout",
     "output_type": "stream",
     "text": [
      "Epoch 1/20                 \t Training Loss: 1.893                 \t Validation Loss: 0.611\n",
      "Epoch 2/20                 \t Training Loss: 0.587                 \t Validation Loss: 0.587\n",
      "Epoch 3/20                 \t Training Loss: 0.577                 \t Validation Loss: 0.596\n",
      "Epoch 4/20                 \t Training Loss: 0.571                 \t Validation Loss: 0.568\n",
      "Epoch 5/20                 \t Training Loss: 0.566                 \t Validation Loss: 0.566\n",
      "Epoch 6/20                 \t Training Loss: 0.562                 \t Validation Loss: 0.560\n",
      "Epoch 7/20                 \t Training Loss: 0.557                 \t Validation Loss: 0.555\n",
      "Epoch 8/20                 \t Training Loss: 0.554                 \t Validation Loss: 0.554\n",
      "Epoch 9/20                 \t Training Loss: 0.550                 \t Validation Loss: 0.552\n",
      "Epoch 10/20                 \t Training Loss: 0.549                 \t Validation Loss: 0.550\n",
      "Epoch 11/20                 \t Training Loss: 0.544                 \t Validation Loss: 0.549\n",
      "Epoch 12/20                 \t Training Loss: 0.540                 \t Validation Loss: 0.549\n",
      "Epoch 13/20                 \t Training Loss: 0.538                 \t Validation Loss: 0.560\n",
      "Epoch 14/20                 \t Training Loss: 0.535                 \t Validation Loss: 0.547\n",
      "Epoch 15/20                 \t Training Loss: 0.533                 \t Validation Loss: 0.546\n",
      "Epoch 16/20                 \t Training Loss: 0.530                 \t Validation Loss: 0.548\n",
      "Epoch 17/20                 \t Training Loss: 0.527                 \t Validation Loss: 0.539\n",
      "Epoch 18/20                 \t Training Loss: 0.524                 \t Validation Loss: 0.538\n",
      "Epoch 19/20                 \t Training Loss: 0.522                 \t Validation Loss: 0.535\n",
      "Epoch 20/20                 \t Training Loss: 0.519                 \t Validation Loss: 0.536\n"
     ]
    }
   ],
   "source": [
    "train_losses, val_losses = train(model=network, loss=loss, optimizer=optimizer, \n",
    "                                 train_dataloader=train_dataloader, val_dataloader=val_dataloader, \n",
    "                                 nb_epochs=20)"
   ]
  },
  {
   "cell_type": "code",
   "execution_count": 34,
   "id": "eed150b4",
   "metadata": {},
   "outputs": [
    {
     "data": {
      "image/png": "[encoded data removed]",
      "text/plain": [
       "<Figure size 432x288 with 1 Axes>"
      ]
     },
     "metadata": {
      "needs_background": "light"
     },
     "output_type": "display_data"
    }
   ],
   "source": [
    "# Plot losses\n",
    "plt.plot(range(len(train_losses[1:])), train_losses[1:], \n",
    "         linewidth=2.0, \n",
    "         label='training loss')\n",
    "\n",
    "plt.plot(range(len(val_losses[1:])), val_losses[1:], \n",
    "         linewidth=2.0, \n",
    "         label='validation loss')\n",
    "\n",
    "plt.xlabel(\"Epochs\", size=12)\n",
    "plt.ylabel(\"Losses\", size=12)\n",
    "plt.legend()\n",
    "\n",
    "plt.savefig('figures/losses.pdf') \n",
    "plt.show()"
   ]
  },
  {
   "cell_type": "markdown",
   "id": "21c25e52",
   "metadata": {},
   "source": [
    "## 6. Testing"
   ]
  },
  {
   "cell_type": "markdown",
   "id": "27d6f3af",
   "metadata": {},
   "source": [
    "- Write a ``predict`` function\n",
    "    - use ``with torch.no_grad():``\n",
    "- Compute the accuracy and classification report of the train and test sets."
   ]
  },
  {
   "cell_type": "code",
   "execution_count": 35,
   "id": "59109d5a",
   "metadata": {},
   "outputs": [],
   "source": [
    "def predict(model, test_dataloader):\n",
    "\n",
    "    labels_l = []\n",
    "    preds_l = []\n",
    "    \n",
    "    # Put model in eval mode\n",
    "    model.eval()\n",
    "    \n",
    "    # Testing loop\n",
    "    with torch.no_grad():\n",
    "        \n",
    "        for i, batch in enumerate(test_dataloader):\n",
    "            \n",
    "            data, labels = reshape_batch(batch)\n",
    "            data, labels = data.to(device), labels.to(device) #sinon bug\n",
    "            \n",
    "            labels_l.extend(labels.tolist())\n",
    "            \n",
    "            preds = model.to(device)\n",
    "            preds = model(data)\n",
    "            \n",
    "            preds = torch.argmax(preds, dim=1)\n",
    "            preds_l.extend(preds.tolist())\n",
    "    \n",
    "    return labels_l, preds_l"
   ]
  },
  {
   "cell_type": "code",
   "execution_count": 36,
   "id": "bc07d04b",
   "metadata": {},
   "outputs": [],
   "source": [
    "train_labels, train_preds = predict(network, train_dataloader)\n",
    "test_labels, test_preds = predict(network, test_dataloader)"
   ]
  },
  {
   "cell_type": "code",
   "execution_count": 37,
   "id": "93a064a3",
   "metadata": {},
   "outputs": [
    {
     "name": "stdout",
     "output_type": "stream",
     "text": [
      "              precision    recall  f1-score   support\n",
      "\n",
      "         0.0     0.7259    0.6558    0.6891     37382\n",
      "         1.0     0.6807    0.7476    0.7126     36682\n",
      "\n",
      "    accuracy                         0.7013     74064\n",
      "   macro avg     0.7033    0.7017    0.7008     74064\n",
      "weighted avg     0.7035    0.7013    0.7007     74064\n",
      "\n"
     ]
    }
   ],
   "source": [
    "print(classification_report(train_labels, train_preds, digits=4))"
   ]
  },
  {
   "cell_type": "code",
   "execution_count": 38,
   "id": "f46828e3",
   "metadata": {},
   "outputs": [
    {
     "name": "stdout",
     "output_type": "stream",
     "text": [
      "              precision    recall  f1-score   support\n",
      "\n",
      "         0.0     0.6299    0.5513    0.5880      9803\n",
      "         1.0     0.5830    0.6595    0.6189      9325\n",
      "\n",
      "    accuracy                         0.6040     19128\n",
      "   macro avg     0.6065    0.6054    0.6034     19128\n",
      "weighted avg     0.6070    0.6040    0.6030     19128\n",
      "\n"
     ]
    }
   ],
   "source": [
    "print(classification_report(test_labels, test_preds, digits=4))"
   ]
  },
  {
   "cell_type": "markdown",
   "id": "202236fb",
   "metadata": {},
   "source": [
    "## 7. Save"
   ]
  },
  {
   "cell_type": "markdown",
   "id": "3dc640fe",
   "metadata": {},
   "source": [
    "- Save your trained model.\n",
    "- Try to reload it and see if it works.\n",
    "- Use the following instructions\n",
    "```\n",
    "torch.save(model.state_dict(), <path>)\n",
    "...\n",
    "network_2.load_state_dict(torch.load(<path>))\n",
    "network_2.eval()\n",
    "```"
   ]
  },
  {
   "cell_type": "code",
   "execution_count": null,
   "id": "7ecea0ac",
   "metadata": {},
   "outputs": [],
   "source": [
    "cwd = os.getcwd()\n",
    "path = os.path.join(cwd, \"model.pt\")\n",
    "path_2 = os.path.join(cwd, \"best_model.pt\")"
   ]
  },
  {
   "cell_type": "code",
   "execution_count": null,
   "id": "383a6608",
   "metadata": {},
   "outputs": [],
   "source": [
    "# Save last model\n",
    "torch.save(network.state_dict(), path) "
   ]
  },
  {
   "cell_type": "code",
   "execution_count": null,
   "id": "925c04a4",
   "metadata": {},
   "outputs": [],
   "source": [
    "# Load best model\n",
    "network_2 = Network()\n",
    "\n",
    "network_2.load_state_dict(torch.load(path))\n",
    "network_2.eval()"
   ]
  },
  {
   "cell_type": "code",
   "execution_count": null,
   "id": "670784fa",
   "metadata": {},
   "outputs": [],
   "source": [
    "test_labels, test_preds = predict(network_2, test_dataloader)"
   ]
  },
  {
   "cell_type": "code",
   "execution_count": null,
   "id": "13b84834",
   "metadata": {
    "scrolled": true
   },
   "outputs": [],
   "source": [
    "print(classification_report(test_labels, test_preds))"
   ]
  }
 ],
 "metadata": {
  "kernelspec": {
   "display_name": "Python 3 (ipykernel)",
   "language": "python",
   "name": "python3"
  },
  "language_info": {
   "codemirror_mode": {
    "name": "ipython",
    "version": 3
   },
   "file_extension": ".py",
   "mimetype": "text/x-python",
   "name": "python",
   "nbconvert_exporter": "python",
   "pygments_lexer": "ipython3",
   "version": "3.9.7"
  }
 },
 "nbformat": 4,
 "nbformat_minor": 5
}
