{
 "cells": [
  {
   "cell_type": "markdown",
   "id": "ac35021e",
   "metadata": {},
   "source": [
    "# Réseau de neurone ``PyTorch``- Prédiction de vainqueur sur StarCraft 2"
   ]
  },
  {
   "cell_type": "markdown",
   "id": "bcbe3b65",
   "metadata": {},
   "source": [
    "Le dataset représente de nombreuses parties 1 contre 1 sur le jeu StarCraft 2.\n",
    "Pour chaque replay est enregistré à chaque temps T l'etat du jeu (26 champs) ainsi que le vainqueur (1 champ), indiqué en dernière colonne par 0 ou 1.\n",
    "\n",
    "<img src=\"files/figures/sc2_logo.png\" width=\"600px\"/>\n",
    "\n",
    "Nous définirons et entraînerons un réseau de neurones sur ce dataset. C'est un problème de régression car nous voulons une probabilité de victoire.<br>\n",
    "Nous commencerons par programmer notre réseau de neurones en affichant les données pertinentes, et nous passerons à une étude de cas pour concrétiser l'utilisation du programme."
   ]
  },
  {
   "cell_type": "markdown",
   "id": "933ac146",
   "metadata": {},
   "source": [
    "## 1. Librairies"
   ]
  },
  {
   "cell_type": "code",
   "execution_count": 1,
   "id": "6235ff87",
   "metadata": {
    "scrolled": true
   },
   "outputs": [],
   "source": [
    "import torch\n",
    "import pandas as pd\n",
    "import numpy as np\n",
    "import matplotlib.pyplot as plt\n",
    "import torch.nn as nn\n",
    "import torch.nn.functional as F\n",
    "import seaborn as sns\n",
    "\n",
    "from torch.utils.data import DataLoader, TensorDataset, random_split"
   ]
  },
  {
   "cell_type": "markdown",
   "id": "56800aaa",
   "metadata": {},
   "source": [
    "## 2. Exploration des datasets"
   ]
  },
  {
   "cell_type": "markdown",
   "id": "70011aad",
   "metadata": {},
   "source": [
    "- L'étape la plus longue pour arriver à entraîner notre IA a consisté en l'élaboration d'un dataset de qualité pour le sujet qui nous intéressait. Nous avons dû écrire un programme permettant de générer un grand nombre de rows (lignes) sur de nombreuses données permettant de décrire l'état d'une partie de StarCraft 2 en cours.<br>\n",
    "Le code source de ce parseur est disponible sur github :<br>\n",
    "https://github.com/YannBgit/SC2replayDatasetGenerator\n",
    "\n",
    "- Ce programme a pu être écrit grâce à l'API sc2reader qui permet d'extraire des données de fichiers SC2Replay. Son code source est également disponible :<br>\n",
    "https://github.com/ggtracker/sc2reader\n",
    "\n",
    "- Le parseur contient des fonctionnalités d'ergonomie et de randomisation de datasets. Sans entrer dans les détails (l'utilisation est détaillée dans le README), il est possible à partir d'un répertoire contenant un grand nombre de replays de choisir le nombre à utiliser pour le dataset, qu'un script va sélectionner aléatoirement dans le répertoire source.<br>\n",
    "- Le parseur va ensuite extraire des données de ces replays pour générer un grand nombre de rows correspondant chacun à un instant dans la partie étudiée.<br><br>\n",
    "- L'étape suivante a été de trouver un grand nombre de replays exploitables à donner au parseur. Heureusement, Blizzard, le studio produisant le jeu, a rendu public une base de données massive de replays anonymisés qui ont servi aux équipes de Google pour entraîner l'IA AlphaStar. Nous avons donc pu parser 30 000 replays.\n",
    "- Affichage des données."
   ]
  },
  {
   "cell_type": "code",
   "execution_count": 2,
   "id": "1293319b",
   "metadata": {
    "scrolled": true
   },
   "outputs": [
    {
     "data": {
      "text/html": [
       "<div>\n",
       "<style scoped>\n",
       "    .dataframe tbody tr th:only-of-type {\n",
       "        vertical-align: middle;\n",
       "    }\n",
       "\n",
       "    .dataframe tbody tr th {\n",
       "        vertical-align: top;\n",
       "    }\n",
       "\n",
       "    .dataframe thead th {\n",
       "        text-align: right;\n",
       "    }\n",
       "</style>\n",
       "<table border=\"1\" class=\"dataframe\">\n",
       "  <thead>\n",
       "    <tr style=\"text-align: right;\">\n",
       "      <th></th>\n",
       "      <th>time</th>\n",
       "      <th>race1</th>\n",
       "      <th>race2</th>\n",
       "      <th>map</th>\n",
       "      <th>supplyUsed1</th>\n",
       "      <th>supplyUsed2</th>\n",
       "      <th>totalIncome1</th>\n",
       "      <th>totalIncome2</th>\n",
       "      <th>mineralsIncome1</th>\n",
       "      <th>mineralsIncome2</th>\n",
       "      <th>...</th>\n",
       "      <th>vespene2</th>\n",
       "      <th>activeWorkers1</th>\n",
       "      <th>activeWorkers2</th>\n",
       "      <th>army1</th>\n",
       "      <th>army2</th>\n",
       "      <th>technology1</th>\n",
       "      <th>technology2</th>\n",
       "      <th>lostResources1</th>\n",
       "      <th>lostResources2</th>\n",
       "      <th>winner</th>\n",
       "    </tr>\n",
       "  </thead>\n",
       "  <tbody>\n",
       "    <tr>\n",
       "      <th>0</th>\n",
       "      <td>7</td>\n",
       "      <td>0</td>\n",
       "      <td>0</td>\n",
       "      <td>0</td>\n",
       "      <td>13.0</td>\n",
       "      <td>13.0</td>\n",
       "      <td>210</td>\n",
       "      <td>150</td>\n",
       "      <td>210</td>\n",
       "      <td>150</td>\n",
       "      <td>...</td>\n",
       "      <td>0</td>\n",
       "      <td>12</td>\n",
       "      <td>12</td>\n",
       "      <td>0</td>\n",
       "      <td>0</td>\n",
       "      <td>0</td>\n",
       "      <td>0</td>\n",
       "      <td>0</td>\n",
       "      <td>0</td>\n",
       "      <td>0</td>\n",
       "    </tr>\n",
       "    <tr>\n",
       "      <th>1</th>\n",
       "      <td>14</td>\n",
       "      <td>0</td>\n",
       "      <td>0</td>\n",
       "      <td>0</td>\n",
       "      <td>14.0</td>\n",
       "      <td>14.0</td>\n",
       "      <td>480</td>\n",
       "      <td>480</td>\n",
       "      <td>480</td>\n",
       "      <td>480</td>\n",
       "      <td>...</td>\n",
       "      <td>0</td>\n",
       "      <td>13</td>\n",
       "      <td>13</td>\n",
       "      <td>0</td>\n",
       "      <td>0</td>\n",
       "      <td>0</td>\n",
       "      <td>0</td>\n",
       "      <td>0</td>\n",
       "      <td>0</td>\n",
       "      <td>0</td>\n",
       "    </tr>\n",
       "    <tr>\n",
       "      <th>2</th>\n",
       "      <td>21</td>\n",
       "      <td>0</td>\n",
       "      <td>0</td>\n",
       "      <td>0</td>\n",
       "      <td>14.0</td>\n",
       "      <td>14.0</td>\n",
       "      <td>520</td>\n",
       "      <td>500</td>\n",
       "      <td>520</td>\n",
       "      <td>500</td>\n",
       "      <td>...</td>\n",
       "      <td>0</td>\n",
       "      <td>13</td>\n",
       "      <td>13</td>\n",
       "      <td>0</td>\n",
       "      <td>0</td>\n",
       "      <td>0</td>\n",
       "      <td>0</td>\n",
       "      <td>0</td>\n",
       "      <td>0</td>\n",
       "      <td>0</td>\n",
       "    </tr>\n",
       "  </tbody>\n",
       "</table>\n",
       "<p>3 rows × 27 columns</p>\n",
       "</div>"
      ],
      "text/plain": [
       "   time  race1  race2  map  supplyUsed1  supplyUsed2  totalIncome1  \\\n",
       "0     7      0      0    0         13.0         13.0           210   \n",
       "1    14      0      0    0         14.0         14.0           480   \n",
       "2    21      0      0    0         14.0         14.0           520   \n",
       "\n",
       "   totalIncome2  mineralsIncome1  mineralsIncome2  ...  vespene2  \\\n",
       "0           150              210              150  ...         0   \n",
       "1           480              480              480  ...         0   \n",
       "2           500              520              500  ...         0   \n",
       "\n",
       "   activeWorkers1  activeWorkers2  army1  army2  technology1  technology2  \\\n",
       "0              12              12      0      0            0            0   \n",
       "1              13              13      0      0            0            0   \n",
       "2              13              13      0      0            0            0   \n",
       "\n",
       "   lostResources1  lostResources2  winner  \n",
       "0               0               0       0  \n",
       "1               0               0       0  \n",
       "2               0               0       0  \n",
       "\n",
       "[3 rows x 27 columns]"
      ]
     },
     "execution_count": 2,
     "metadata": {},
     "output_type": "execute_result"
    }
   ],
   "source": [
    "data = pd.read_csv(\"archive/dataset.csv\")\n",
    "data.head(3)"
   ]
  },
  {
   "cell_type": "code",
   "execution_count": 3,
   "id": "3d976b2e",
   "metadata": {},
   "outputs": [
    {
     "data": {
      "text/plain": [
       "time                 int64\n",
       "race1                int64\n",
       "race2                int64\n",
       "map                  int64\n",
       "supplyUsed1        float64\n",
       "supplyUsed2        float64\n",
       "totalIncome1         int64\n",
       "totalIncome2         int64\n",
       "mineralsIncome1      int64\n",
       "mineralsIncome2      int64\n",
       "vespeneIncome1       int64\n",
       "vespeneIncome2       int64\n",
       "totalResources1      int64\n",
       "totalResources2      int64\n",
       "minerals1            int64\n",
       "minerals2            int64\n",
       "vespene1             int64\n",
       "vespene2             int64\n",
       "activeWorkers1       int64\n",
       "activeWorkers2       int64\n",
       "army1                int64\n",
       "army2                int64\n",
       "technology1          int64\n",
       "technology2          int64\n",
       "lostResources1       int64\n",
       "lostResources2       int64\n",
       "winner               int64\n",
       "dtype: object"
      ]
     },
     "execution_count": 3,
     "metadata": {},
     "output_type": "execute_result"
    }
   ],
   "source": [
    "data.dtypes"
   ]
  },
  {
   "cell_type": "code",
   "execution_count": 4,
   "id": "cff1c1b2",
   "metadata": {},
   "outputs": [
    {
     "data": {
      "text/plain": [
       "2178246"
      ]
     },
     "execution_count": 4,
     "metadata": {},
     "output_type": "execute_result"
    }
   ],
   "source": [
    "len(data.index)"
   ]
  },
  {
   "cell_type": "code",
   "execution_count": 5,
   "id": "03c68be8",
   "metadata": {},
   "outputs": [
    {
     "data": {
      "text/plain": [
       "27"
      ]
     },
     "execution_count": 5,
     "metadata": {},
     "output_type": "execute_result"
    }
   ],
   "source": [
    "len(data.columns)"
   ]
  },
  {
   "cell_type": "code",
   "execution_count": 6,
   "id": "cec1468c",
   "metadata": {
    "scrolled": true
   },
   "outputs": [
    {
     "data": {
      "text/plain": [
       "1    802067\n",
       "0    749308\n",
       "2    626871\n",
       "Name: race1, dtype: int64"
      ]
     },
     "execution_count": 6,
     "metadata": {},
     "output_type": "execute_result"
    }
   ],
   "source": [
    "data.race1.value_counts()"
   ]
  },
  {
   "cell_type": "markdown",
   "id": "60515d6b",
   "metadata": {},
   "source": [
    "- Visualisation des relations entre les colonnes."
   ]
  },
  {
   "cell_type": "code",
   "execution_count": 7,
   "id": "b013b9db",
   "metadata": {},
   "outputs": [
    {
     "data": {
      "text/plain": [
       "<AxesSubplot:>"
      ]
     },
     "execution_count": 7,
     "metadata": {},
     "output_type": "execute_result"
    },
    {
     "data": {
      "image/png": "[encoded data removed]",
      "text/plain": [
       "<Figure size 432x288 with 2 Axes>"
      ]
     },
     "metadata": {
      "needs_background": "light"
     },
     "output_type": "display_data"
    }
   ],
   "source": [
    "sns.heatmap(data.corr())"
   ]
  },
  {
   "cell_type": "markdown",
   "id": "39072afb",
   "metadata": {},
   "source": [
    "- Création des ensembles d'entraînement, d'évaluation et de test. <br>\n",
    "A noter que le préprocessing a été géré par le parseur en amont. Seuls des nombres (int ou float) sont écrits dans les colonnes."
   ]
  },
  {
   "cell_type": "code",
   "execution_count": 8,
   "id": "da2cc6fd",
   "metadata": {},
   "outputs": [],
   "source": [
    "def data_to_arrays(data, cols):\n",
    "    data1 = data.copy(deep = True)\n",
    "    \n",
    "    for col in cols:\n",
    "        data1[col] = (data1[col] - data1[col].min()) / (data1[col].max() - data1[col].min())\n",
    "            \n",
    "    inputs_array = data1[cols].to_numpy()\n",
    "    targets_array = data1[output_cols].to_numpy().reshape(-1, 1)\n",
    "        \n",
    "    return inputs_array, targets_array"
   ]
  },
  {
   "cell_type": "code",
   "execution_count": 9,
   "id": "ac2a3a33",
   "metadata": {},
   "outputs": [],
   "source": [
    "input_cols = [title for title in data.columns if title != \"winner\"]\n",
    "output_cols = [\"winner\"]\n",
    "\n",
    "input_arr, target_arr = data_to_arrays(data, input_cols)\n",
    "\n",
    "inputs = torch.tensor(input_arr, dtype = torch.float32)\n",
    "targets = torch.tensor(target_arr, dtype = torch.float32)\n",
    "\n",
    "dataset = TensorDataset(inputs, targets)\n",
    "\n",
    "validation_size = int(0.2 * len(dataset))\n",
    "train_size = len(dataset) - validation_size\n",
    "train_ds, val_ds = random_split(dataset, [train_size, validation_size])"
   ]
  },
  {
   "cell_type": "markdown",
   "id": "def10bdf",
   "metadata": {},
   "source": [
    "- Appel des dataloader."
   ]
  },
  {
   "cell_type": "code",
   "execution_count": 10,
   "id": "8e61c37a",
   "metadata": {},
   "outputs": [],
   "source": [
    "batch_size = 64\n",
    "\n",
    "train_loader = DataLoader(train_ds, batch_size, shuffle = True)\n",
    "val_loader = DataLoader(val_ds, batch_size, shuffle = True)\n",
    "\n",
    "num_inputs = len(input_cols)\n",
    "num_outputs = 1"
   ]
  },
  {
   "cell_type": "markdown",
   "id": "5375e22f",
   "metadata": {},
   "source": [
    "- Définition de la fonction de calcul de précision."
   ]
  },
  {
   "cell_type": "code",
   "execution_count": 11,
   "id": "cc5c5bf7",
   "metadata": {},
   "outputs": [],
   "source": [
    "def accuracy(outputs, labels):\n",
    "    return torch.tensor(torch.sum(outputs.round() == labels).item() / len(outputs))"
   ]
  },
  {
   "cell_type": "markdown",
   "id": "3d3fe9c1",
   "metadata": {},
   "source": [
    "- Définition du modèle."
   ]
  },
  {
   "cell_type": "code",
   "execution_count": 12,
   "id": "2cdfce77",
   "metadata": {},
   "outputs": [],
   "source": [
    "class Model(nn.Module):\n",
    "    def __init__(self):\n",
    "        super().__init__()        \n",
    "        self.fc1 = nn.Linear(num_inputs,64)\n",
    "        self.fc2 = nn.Linear(64,num_outputs)\n",
    "        \n",
    "    def forward(self, x):\n",
    "        x = self.fc1(x)\n",
    "        x = nn.ReLU()(x)\n",
    "        \n",
    "        x = self.fc2(x)\n",
    "        return torch.sigmoid(x)\n",
    "    \n",
    "    def training_step(self, batch):\n",
    "        inputs, labels = batch \n",
    "        out = self(inputs)\n",
    "        loss = F.binary_cross_entropy(out, labels) # Calculate loss\n",
    "        \n",
    "        return loss\n",
    "    \n",
    "    def validation_step(self, batch):\n",
    "        inputs, labels = batch\n",
    "        out = self(inputs)\n",
    "        loss = F.binary_cross_entropy(out, labels)\n",
    "        acc = accuracy(out, labels)\n",
    "        \n",
    "        return {'val_loss': loss, 'val_acc': acc}\n",
    "    \n",
    "    def validation_epoch_end(self, outputs):\n",
    "        batch_losses = [x['val_loss'] for x in outputs]\n",
    "        epoch_loss = torch.stack(batch_losses).mean()\n",
    "        batch_accs = [x['val_acc'] for x in outputs]\n",
    "        epoch_acc = torch.stack(batch_accs).mean()\n",
    "        \n",
    "        return {'val_loss': epoch_loss.item(), 'val_acc': epoch_acc.item()}\n",
    "    \n",
    "    def epoch_end(self, epoch, result):\n",
    "        print(\"Epoch [{}], val_loss: {:.4f}, val_acc: {:.4f}\".format(epoch, result['val_loss'], result['val_acc']))\n",
    "    \n",
    "model = Model()"
   ]
  },
  {
   "cell_type": "markdown",
   "id": "2621c2d4",
   "metadata": {},
   "source": [
    "- Affichage des paramètres du modèle."
   ]
  },
  {
   "cell_type": "code",
   "execution_count": 13,
   "id": "4c11d27a",
   "metadata": {},
   "outputs": [
    {
     "data": {
      "text/plain": [
       "[Parameter containing:\n",
       " tensor([[ 0.1520,  0.1753, -0.1302,  ..., -0.0938,  0.0182,  0.1805],\n",
       "         [ 0.0568,  0.0781, -0.0409,  ..., -0.1113, -0.1911, -0.0495],\n",
       "         [ 0.0411,  0.0951, -0.1212,  ..., -0.1173,  0.0194, -0.1381],\n",
       "         ...,\n",
       "         [-0.1712, -0.1728,  0.0852,  ..., -0.1069,  0.1734,  0.0807],\n",
       "         [ 0.0793, -0.0625, -0.1312,  ..., -0.0740, -0.0116,  0.1426],\n",
       "         [ 0.1422, -0.1385,  0.1137,  ..., -0.0141, -0.1302, -0.1696]],\n",
       "        requires_grad=True),\n",
       " Parameter containing:\n",
       " tensor([-0.0286, -0.1277, -0.1013, -0.0472,  0.0388,  0.0733,  0.0877,  0.0639,\n",
       "          0.1298,  0.1289,  0.0452,  0.0724, -0.0629,  0.0478, -0.0802,  0.1552,\n",
       "          0.0319, -0.0696,  0.0983, -0.1159,  0.1353, -0.0145, -0.1321,  0.1778,\n",
       "          0.0439, -0.0090,  0.1780, -0.0277, -0.0702, -0.1609, -0.1740,  0.1592,\n",
       "         -0.0050,  0.0648, -0.1654, -0.1131,  0.0725,  0.0468, -0.0924, -0.0533,\n",
       "          0.1861, -0.1062,  0.0887, -0.1145, -0.1685, -0.1227,  0.0203, -0.0028,\n",
       "         -0.0849,  0.0012, -0.1603, -0.0628,  0.1507,  0.0892,  0.0726, -0.1268,\n",
       "         -0.0506, -0.0309, -0.1549, -0.1455,  0.1032,  0.0705,  0.1767,  0.0607],\n",
       "        requires_grad=True),\n",
       " Parameter containing:\n",
       " tensor([[ 0.1230, -0.0235,  0.0602, -0.0748,  0.0364, -0.0202,  0.0622, -0.0344,\n",
       "           0.0395,  0.1084, -0.0761,  0.0276, -0.0472,  0.1003, -0.0221, -0.1126,\n",
       "           0.0089,  0.0869,  0.0935,  0.0185, -0.1178,  0.0923, -0.1042, -0.0226,\n",
       "          -0.1237,  0.0799, -0.0235,  0.0276, -0.1158,  0.0779, -0.1244,  0.0359,\n",
       "          -0.1227, -0.0878,  0.1047,  0.1082, -0.0927,  0.0280,  0.0538,  0.0028,\n",
       "           0.0354, -0.0659, -0.1019,  0.0116, -0.0298,  0.0168, -0.0030, -0.1202,\n",
       "          -0.0597,  0.0398, -0.0454, -0.0035,  0.0856,  0.0305,  0.0845,  0.0623,\n",
       "          -0.1062, -0.0555, -0.0894, -0.0694, -0.1186, -0.0997, -0.0780, -0.0148]],\n",
       "        requires_grad=True),\n",
       " Parameter containing:\n",
       " tensor([-0.0766], requires_grad=True)]"
      ]
     },
     "execution_count": 13,
     "metadata": {},
     "output_type": "execute_result"
    }
   ],
   "source": [
    "list(model.parameters())"
   ]
  },
  {
   "cell_type": "code",
   "execution_count": 14,
   "id": "140de29f",
   "metadata": {},
   "outputs": [],
   "source": [
    "@torch.no_grad()\n",
    "def evaluate(model, val_loader):\n",
    "    outputs = [model.validation_step(batch) for batch in val_loader]\n",
    "    return model.validation_epoch_end(outputs)\n",
    "\n",
    "\n",
    "def fit_one_cycle(epochs, lr, model, train_loader, val_loader):\n",
    "    history = []\n",
    "    \n",
    "    optimizer = torch.optim.SGD(model.parameters(), lr)\n",
    "    \n",
    "    for epoch in range(epochs):\n",
    "        model.train()\n",
    "        train_losses = []\n",
    "        for batch in train_loader:\n",
    "            loss = model.training_step(batch)\n",
    "            train_losses.append(loss)\n",
    "            loss.backward()\n",
    "            \n",
    "            optimizer.step()\n",
    "            optimizer.zero_grad()\n",
    "        \n",
    "        result = evaluate(model, val_loader)\n",
    "        result['train_loss'] = torch.stack(train_losses).mean().item()\n",
    "        model.epoch_end(epoch, result)\n",
    "        history.append(result)\n",
    "    \n",
    "    return history"
   ]
  },
  {
   "cell_type": "markdown",
   "id": "cd1c685c",
   "metadata": {},
   "source": [
    "- Paramétrage et entraînement du réseau de neurones."
   ]
  },
  {
   "cell_type": "code",
   "execution_count": 15,
   "id": "02b81ea5",
   "metadata": {},
   "outputs": [
    {
     "name": "stdout",
     "output_type": "stream",
     "text": [
      "Epoch [0], val_loss: 0.6870, val_acc: 0.5316\n",
      "Epoch [1], val_loss: 0.6790, val_acc: 0.5696\n",
      "Epoch [2], val_loss: 0.6657, val_acc: 0.6113\n",
      "Epoch [3], val_loss: 0.6484, val_acc: 0.6324\n",
      "Epoch [4], val_loss: 0.6316, val_acc: 0.6406\n",
      "Epoch [5], val_loss: 0.6188, val_acc: 0.6477\n",
      "Epoch [6], val_loss: 0.6100, val_acc: 0.6525\n",
      "Epoch [7], val_loss: 0.6040, val_acc: 0.6558\n",
      "Epoch [8], val_loss: 0.6000, val_acc: 0.6579\n",
      "Epoch [9], val_loss: 0.5973, val_acc: 0.6596\n"
     ]
    }
   ],
   "source": [
    "history = [evaluate(model, val_loader)]\n",
    "\n",
    "epochs = 10\n",
    "lr = 0.001\n",
    "\n",
    "history += fit_one_cycle(epochs, lr, model, train_loader, val_loader)\n"
   ]
  },
  {
   "cell_type": "markdown",
   "id": "fb62ba30",
   "metadata": {},
   "source": [
    "- Définition des fonctions d'affichage de la précision, de la loss et du taux d'apprentissage."
   ]
  },
  {
   "cell_type": "code",
   "execution_count": 16,
   "id": "947acaff",
   "metadata": {},
   "outputs": [],
   "source": [
    "def plot_accuracies(history):\n",
    "    accuracies = [x['val_acc'] for x in history]\n",
    "    plt.plot(accuracies, '-x')\n",
    "    plt.xlabel('epoch')\n",
    "    plt.ylabel('accuracy')\n",
    "    plt.title('Accuracy / No. of epochs');\n",
    "\n",
    "def plot_losses(history):\n",
    "    train_losses = [x.get('train_loss') for x in history]\n",
    "    val_losses = [x['val_loss'] for x in history]\n",
    "    plt.plot(train_losses, '-bx')\n",
    "    plt.plot(val_losses, '-rx')\n",
    "    plt.xlabel('epoch')\n",
    "    plt.ylabel('loss')\n",
    "    plt.legend(['Training', 'Validation'])\n",
    "    plt.title('Loss / No. of epochs');"
   ]
  },
  {
   "cell_type": "code",
   "execution_count": 17,
   "id": "7fe03003",
   "metadata": {},
   "outputs": [
    {
     "data": {
      "image/png": "[encoded data removed]",
      "text/plain": [
       "<Figure size 432x288 with 1 Axes>"
      ]
     },
     "metadata": {
      "needs_background": "light"
     },
     "output_type": "display_data"
    }
   ],
   "source": [
    "plot_accuracies(history)"
   ]
  },
  {
   "cell_type": "code",
   "execution_count": 18,
   "id": "08b815a1",
   "metadata": {},
   "outputs": [
    {
     "data": {
      "image/png": "[encoded data removed]",
      "text/plain": [
       "<Figure size 432x288 with 1 Axes>"
      ]
     },
     "metadata": {
      "needs_background": "light"
     },
     "output_type": "display_data"
    }
   ],
   "source": [
    "plot_losses(history)"
   ]
  },
  {
   "cell_type": "markdown",
   "id": "4a1a87a6",
   "metadata": {},
   "source": [
    "- Explications :<br>\n",
    "Notre accuracy tourne autour de 0.60, ce qui, bien que meilleur que l'aléatoire de 0.50, reste bas. Ce constat s'explique cependant simplement. En effet, pour une bonne partie de la durée des replays étudiés, il est difficile de prévoir quel joueur va gagner. Par exemple, en début de partie, peu de choses se passent et les joueurs se contentent bien souvent de développer leur économie, ne laissant pas de joueur obtenir un quelconque avantage sur l'autre.<br>\n",
    "Nous pouvons en revanche nous attendre à de bonne performances une fois que des batailles commencent à se dérouler, et de manière générale lorsque la partie se rapproche de la fin."
   ]
  },
  {
   "cell_type": "code",
   "execution_count": 19,
   "id": "fbe9551c",
   "metadata": {},
   "outputs": [
    {
     "data": {
      "text/plain": [
       "{'val_loss': 0.5974188446998596, 'val_acc': 0.6594539284706116}"
      ]
     },
     "execution_count": 19,
     "metadata": {},
     "output_type": "execute_result"
    }
   ],
   "source": [
    "result = evaluate(model, val_loader)\n",
    "result"
   ]
  },
  {
   "cell_type": "code",
   "execution_count": 20,
   "id": "b4471f1b",
   "metadata": {},
   "outputs": [],
   "source": [
    "torch.save(model.state_dict(), 'starcraft2-logistic.pth')"
   ]
  },
  {
   "cell_type": "code",
   "execution_count": 21,
   "id": "41d6cc2a",
   "metadata": {},
   "outputs": [
    {
     "data": {
      "text/plain": [
       "OrderedDict([('fc1.weight',\n",
       "              tensor([[ 0.1502,  0.1774, -0.0900,  ..., -0.0726,  0.0305,  0.1600],\n",
       "                      [ 0.0574,  0.0900, -0.0418,  ..., -0.1108, -0.1909, -0.0490],\n",
       "                      [ 0.0396,  0.0737, -0.1220,  ..., -0.1181,  0.0188, -0.1389],\n",
       "                      ...,\n",
       "                      [-0.1753, -0.1931,  0.0622,  ..., -0.1121,  0.1703,  0.0823],\n",
       "                      [ 0.0924, -0.0434, -0.0929,  ..., -0.0888, -0.0197,  0.1697],\n",
       "                      [ 0.1986, -0.0339,  0.1051,  ..., -0.0694, -0.1498, -0.0683]])),\n",
       "             ('fc1.bias',\n",
       "              tensor([ 0.0219, -0.1168, -0.1243, -0.0894,  0.1280,  0.1566,  0.0907,  0.1379,\n",
       "                       0.1782,  0.1320,  0.0278,  0.1098, -0.0142,  0.1316, -0.0671,  0.1585,\n",
       "                       0.1051, -0.0691,  0.0941, -0.1159,  0.1157, -0.0503, -0.1328,  0.1984,\n",
       "                       0.1911,  0.0017,  0.1989,  0.0653, -0.0346, -0.1609, -0.1734,  0.1542,\n",
       "                       0.0823,  0.0731, -0.1589, -0.0940,  0.0813,  0.0403, -0.0673, -0.0534,\n",
       "                       0.2082, -0.1066,  0.0963, -0.1158, -0.1686, -0.1237,  0.1436,  0.0558,\n",
       "                      -0.0819,  0.0357, -0.1603,  0.0100,  0.2526,  0.0775,  0.2554, -0.0598,\n",
       "                      -0.0886,  0.1392, -0.1549, -0.1707,  0.1087,  0.0298,  0.2086,  0.1960])),\n",
       "             ('fc2.weight',\n",
       "              tensor([[ 0.1907, -0.0345,  0.0450, -0.0404,  0.7142, -0.5883, -0.0433,  0.3731,\n",
       "                        0.4629, -0.0638, -0.5969, -0.1142, -0.1557,  0.6713, -0.0401, -0.6367,\n",
       "                        0.3810,  0.0869, -0.1030,  0.0185,  0.0804,  0.0833, -0.0980,  0.2137,\n",
       "                       -0.9047,  0.1110, -1.0363,  0.1569, -0.2269,  0.0779, -0.1244, -0.0147,\n",
       "                       -1.1571,  0.2400,  0.1078,  0.1212,  0.1895,  0.1010,  0.2257,  0.0032,\n",
       "                        0.1726, -0.0657, -0.7525,  0.0074, -0.0297,  0.0167, -0.8589, -0.7910,\n",
       "                       -0.0581,  0.2437, -0.0454, -0.5612,  1.1548, -0.3200,  1.0801,  0.1501,\n",
       "                       -0.0959, -0.9124, -0.0894, -0.0593,  0.1759, -0.0264, -0.2317, -0.9826]])),\n",
       "             ('fc2.bias', tensor([0.1969]))])"
      ]
     },
     "execution_count": 21,
     "metadata": {},
     "output_type": "execute_result"
    }
   ],
   "source": [
    "model.state_dict()"
   ]
  },
  {
   "cell_type": "markdown",
   "id": "e9a88836",
   "metadata": {},
   "source": [
    "- Définition de la fonction de prédiction utilisant le réseau de neurones entraîné."
   ]
  },
  {
   "cell_type": "code",
   "execution_count": 22,
   "id": "7ad178eb",
   "metadata": {},
   "outputs": [],
   "source": [
    "def predict(input_data, verbose = True):\n",
    "    if verbose:\n",
    "        for i in range(len(input_cols)):\n",
    "            val = input_data[0][i].item()\n",
    "            val = round(val * (data[input_cols[i]].max() - data[input_cols[i]].min()) + data[input_cols[i]].min(), 4)\n",
    "            print(input_cols[i] + \":\", val)\n",
    "            \n",
    "        print(\"\")\n",
    "    \n",
    "    with torch.no_grad():\n",
    "        pred = model(input_data[0]).item()\n",
    "        \n",
    "    print(\"Probabilité de victoire du joueur 1 : {:.4f}\".format(1 - pred))"
   ]
  },
  {
   "cell_type": "markdown",
   "id": "44a78df9",
   "metadata": {},
   "source": [
    "- Quelques prédictions."
   ]
  },
  {
   "cell_type": "code",
   "execution_count": 23,
   "id": "1a4779f0",
   "metadata": {},
   "outputs": [
    {
     "name": "stdout",
     "output_type": "stream",
     "text": [
      "time: 407.0\n",
      "race1: 1.0\n",
      "race2: 1.0\n",
      "map: 10.0\n",
      "supplyUsed1: 65.0\n",
      "supplyUsed2: 65.0\n",
      "totalIncome1: 260.0\n",
      "totalIncome2: 868.0\n",
      "mineralsIncome1: 180.0\n",
      "mineralsIncome2: 580.0\n",
      "vespeneIncome1: 80.0\n",
      "vespeneIncome2: 288.0\n",
      "totalResources1: 109.0\n",
      "totalResources2: 1126.0\n",
      "minerals1: 60.0\n",
      "minerals2: 60.0\n",
      "vespene1: 49.0\n",
      "vespene2: 1066.0\n",
      "activeWorkers1: 19.0\n",
      "activeWorkers2: 34.0\n",
      "army1: 2000.0\n",
      "army2: 950.0\n",
      "technology1: 1425.0\n",
      "technology2: 1600.0001\n",
      "lostResources1: 2274.9999\n",
      "lostResources2: 2199.9999\n",
      "\n",
      "Probabilité de victoire du joueur 1 : 0.3459\n"
     ]
    }
   ],
   "source": [
    "predict(val_ds[42])"
   ]
  },
  {
   "cell_type": "code",
   "execution_count": 24,
   "id": "b37d755f",
   "metadata": {},
   "outputs": [
    {
     "name": "stdout",
     "output_type": "stream",
     "text": [
      "time: 21.0\n",
      "race1: 2.0\n",
      "race2: 1.0\n",
      "map: 176.0\n",
      "supplyUsed1: 12.0\n",
      "supplyUsed2: 14.0\n",
      "totalIncome1: 480.0\n",
      "totalIncome2: 520.0\n",
      "mineralsIncome1: 480.0\n",
      "mineralsIncome2: 520.0\n",
      "vespeneIncome1: 0.0\n",
      "vespeneIncome2: 0.0\n",
      "totalResources1: 130.0\n",
      "totalResources2: 45.0\n",
      "minerals1: 130.0\n",
      "minerals2: 45.0\n",
      "vespene1: 0.0\n",
      "vespene2: 0.0\n",
      "activeWorkers1: 12.0\n",
      "activeWorkers2: 12.0\n",
      "army1: 0.0\n",
      "army2: 0.0\n",
      "technology1: 0.0\n",
      "technology2: 0.0\n",
      "lostResources1: 0.0\n",
      "lostResources2: 0.0\n",
      "\n",
      "Probabilité de victoire du joueur 1 : 0.5066\n"
     ]
    }
   ],
   "source": [
    "predict(val_ds[512])"
   ]
  },
  {
   "cell_type": "markdown",
   "id": "caee0611",
   "metadata": {},
   "source": [
    "## 5. Etude de cas pratiques"
   ]
  },
  {
   "cell_type": "markdown",
   "id": "0c07c6a8",
   "metadata": {},
   "source": [
    "- Changeons de dataset pour utiliser notre fichier contenant 4 moments notable de 2 parties différentes (soit 8 rows)."
   ]
  },
  {
   "cell_type": "code",
   "execution_count": 25,
   "id": "06bb29ec",
   "metadata": {},
   "outputs": [
    {
     "data": {
      "text/html": [
       "<div>\n",
       "<style scoped>\n",
       "    .dataframe tbody tr th:only-of-type {\n",
       "        vertical-align: middle;\n",
       "    }\n",
       "\n",
       "    .dataframe tbody tr th {\n",
       "        vertical-align: top;\n",
       "    }\n",
       "\n",
       "    .dataframe thead th {\n",
       "        text-align: right;\n",
       "    }\n",
       "</style>\n",
       "<table border=\"1\" class=\"dataframe\">\n",
       "  <thead>\n",
       "    <tr style=\"text-align: right;\">\n",
       "      <th></th>\n",
       "      <th>time</th>\n",
       "      <th>race1</th>\n",
       "      <th>race2</th>\n",
       "      <th>map</th>\n",
       "      <th>supplyUsed1</th>\n",
       "      <th>supplyUsed2</th>\n",
       "      <th>totalIncome1</th>\n",
       "      <th>totalIncome2</th>\n",
       "      <th>mineralsIncome1</th>\n",
       "      <th>mineralsIncome2</th>\n",
       "      <th>...</th>\n",
       "      <th>vespene2</th>\n",
       "      <th>activeWorkers1</th>\n",
       "      <th>activeWorkers2</th>\n",
       "      <th>army1</th>\n",
       "      <th>army2</th>\n",
       "      <th>technology1</th>\n",
       "      <th>technology2</th>\n",
       "      <th>lostResources1</th>\n",
       "      <th>lostResources2</th>\n",
       "      <th>winner</th>\n",
       "    </tr>\n",
       "  </thead>\n",
       "  <tbody>\n",
       "    <tr>\n",
       "      <th>0</th>\n",
       "      <td>100</td>\n",
       "      <td>2</td>\n",
       "      <td>0</td>\n",
       "      <td>0</td>\n",
       "      <td>20.0</td>\n",
       "      <td>20.0</td>\n",
       "      <td>1040</td>\n",
       "      <td>883</td>\n",
       "      <td>951</td>\n",
       "      <td>727</td>\n",
       "      <td>...</td>\n",
       "      <td>34</td>\n",
       "      <td>20</td>\n",
       "      <td>19</td>\n",
       "      <td>0</td>\n",
       "      <td>0</td>\n",
       "      <td>150</td>\n",
       "      <td>150</td>\n",
       "      <td>0</td>\n",
       "      <td>0</td>\n",
       "      <td>1</td>\n",
       "    </tr>\n",
       "    <tr>\n",
       "      <th>1</th>\n",
       "      <td>621</td>\n",
       "      <td>2</td>\n",
       "      <td>0</td>\n",
       "      <td>0</td>\n",
       "      <td>133.0</td>\n",
       "      <td>166.0</td>\n",
       "      <td>3655</td>\n",
       "      <td>3566</td>\n",
       "      <td>2827</td>\n",
       "      <td>2603</td>\n",
       "      <td>...</td>\n",
       "      <td>284</td>\n",
       "      <td>64</td>\n",
       "      <td>72</td>\n",
       "      <td>4325</td>\n",
       "      <td>5200</td>\n",
       "      <td>2750</td>\n",
       "      <td>3375</td>\n",
       "      <td>3300</td>\n",
       "      <td>2124</td>\n",
       "      <td>1</td>\n",
       "    </tr>\n",
       "    <tr>\n",
       "      <th>2</th>\n",
       "      <td>643</td>\n",
       "      <td>2</td>\n",
       "      <td>0</td>\n",
       "      <td>0</td>\n",
       "      <td>86.0</td>\n",
       "      <td>151.0</td>\n",
       "      <td>3498</td>\n",
       "      <td>3431</td>\n",
       "      <td>2715</td>\n",
       "      <td>2491</td>\n",
       "      <td>...</td>\n",
       "      <td>478</td>\n",
       "      <td>64</td>\n",
       "      <td>71</td>\n",
       "      <td>600</td>\n",
       "      <td>4450</td>\n",
       "      <td>3550</td>\n",
       "      <td>3575</td>\n",
       "      <td>7625</td>\n",
       "      <td>3799</td>\n",
       "      <td>1</td>\n",
       "    </tr>\n",
       "    <tr>\n",
       "      <th>3</th>\n",
       "      <td>721</td>\n",
       "      <td>2</td>\n",
       "      <td>0</td>\n",
       "      <td>0</td>\n",
       "      <td>79.0</td>\n",
       "      <td>170.0</td>\n",
       "      <td>3090</td>\n",
       "      <td>4109</td>\n",
       "      <td>2127</td>\n",
       "      <td>2967</td>\n",
       "      <td>...</td>\n",
       "      <td>762</td>\n",
       "      <td>65</td>\n",
       "      <td>73</td>\n",
       "      <td>175</td>\n",
       "      <td>5675</td>\n",
       "      <td>3150</td>\n",
       "      <td>4125</td>\n",
       "      <td>12450</td>\n",
       "      <td>5624</td>\n",
       "      <td>1</td>\n",
       "    </tr>\n",
       "    <tr>\n",
       "      <th>4</th>\n",
       "      <td>100</td>\n",
       "      <td>1</td>\n",
       "      <td>0</td>\n",
       "      <td>1</td>\n",
       "      <td>20.0</td>\n",
       "      <td>20.0</td>\n",
       "      <td>911</td>\n",
       "      <td>962</td>\n",
       "      <td>867</td>\n",
       "      <td>783</td>\n",
       "      <td>...</td>\n",
       "      <td>38</td>\n",
       "      <td>18</td>\n",
       "      <td>19</td>\n",
       "      <td>0</td>\n",
       "      <td>0</td>\n",
       "      <td>0</td>\n",
       "      <td>150</td>\n",
       "      <td>0</td>\n",
       "      <td>0</td>\n",
       "      <td>1</td>\n",
       "    </tr>\n",
       "    <tr>\n",
       "      <th>5</th>\n",
       "      <td>493</td>\n",
       "      <td>1</td>\n",
       "      <td>0</td>\n",
       "      <td>1</td>\n",
       "      <td>149.0</td>\n",
       "      <td>128.0</td>\n",
       "      <td>4574</td>\n",
       "      <td>2899</td>\n",
       "      <td>3723</td>\n",
       "      <td>2183</td>\n",
       "      <td>...</td>\n",
       "      <td>631</td>\n",
       "      <td>90</td>\n",
       "      <td>61</td>\n",
       "      <td>3650</td>\n",
       "      <td>4675</td>\n",
       "      <td>1700</td>\n",
       "      <td>2000</td>\n",
       "      <td>1043</td>\n",
       "      <td>0</td>\n",
       "      <td>1</td>\n",
       "    </tr>\n",
       "    <tr>\n",
       "      <th>6</th>\n",
       "      <td>507</td>\n",
       "      <td>1</td>\n",
       "      <td>0</td>\n",
       "      <td>1</td>\n",
       "      <td>110.0</td>\n",
       "      <td>121.0</td>\n",
       "      <td>4562</td>\n",
       "      <td>2966</td>\n",
       "      <td>3667</td>\n",
       "      <td>2183</td>\n",
       "      <td>...</td>\n",
       "      <td>294</td>\n",
       "      <td>90</td>\n",
       "      <td>61</td>\n",
       "      <td>1550</td>\n",
       "      <td>3325</td>\n",
       "      <td>2150</td>\n",
       "      <td>2000</td>\n",
       "      <td>3418</td>\n",
       "      <td>1300</td>\n",
       "      <td>1</td>\n",
       "    </tr>\n",
       "    <tr>\n",
       "      <th>7</th>\n",
       "      <td>779</td>\n",
       "      <td>1</td>\n",
       "      <td>0</td>\n",
       "      <td>1</td>\n",
       "      <td>94.0</td>\n",
       "      <td>167.0</td>\n",
       "      <td>2994</td>\n",
       "      <td>3252</td>\n",
       "      <td>2323</td>\n",
       "      <td>2491</td>\n",
       "      <td>...</td>\n",
       "      <td>378</td>\n",
       "      <td>72</td>\n",
       "      <td>58</td>\n",
       "      <td>750</td>\n",
       "      <td>5950</td>\n",
       "      <td>2025</td>\n",
       "      <td>3475</td>\n",
       "      <td>15328</td>\n",
       "      <td>10175</td>\n",
       "      <td>1</td>\n",
       "    </tr>\n",
       "  </tbody>\n",
       "</table>\n",
       "<p>8 rows × 27 columns</p>\n",
       "</div>"
      ],
      "text/plain": [
       "   time  race1  race2  map  supplyUsed1  supplyUsed2  totalIncome1  \\\n",
       "0   100      2      0    0         20.0         20.0          1040   \n",
       "1   621      2      0    0        133.0        166.0          3655   \n",
       "2   643      2      0    0         86.0        151.0          3498   \n",
       "3   721      2      0    0         79.0        170.0          3090   \n",
       "4   100      1      0    1         20.0         20.0           911   \n",
       "5   493      1      0    1        149.0        128.0          4574   \n",
       "6   507      1      0    1        110.0        121.0          4562   \n",
       "7   779      1      0    1         94.0        167.0          2994   \n",
       "\n",
       "   totalIncome2  mineralsIncome1  mineralsIncome2  ...  vespene2  \\\n",
       "0           883              951              727  ...        34   \n",
       "1          3566             2827             2603  ...       284   \n",
       "2          3431             2715             2491  ...       478   \n",
       "3          4109             2127             2967  ...       762   \n",
       "4           962              867              783  ...        38   \n",
       "5          2899             3723             2183  ...       631   \n",
       "6          2966             3667             2183  ...       294   \n",
       "7          3252             2323             2491  ...       378   \n",
       "\n",
       "   activeWorkers1  activeWorkers2  army1  army2  technology1  technology2  \\\n",
       "0              20              19      0      0          150          150   \n",
       "1              64              72   4325   5200         2750         3375   \n",
       "2              64              71    600   4450         3550         3575   \n",
       "3              65              73    175   5675         3150         4125   \n",
       "4              18              19      0      0            0          150   \n",
       "5              90              61   3650   4675         1700         2000   \n",
       "6              90              61   1550   3325         2150         2000   \n",
       "7              72              58    750   5950         2025         3475   \n",
       "\n",
       "   lostResources1  lostResources2  winner  \n",
       "0               0               0       1  \n",
       "1            3300            2124       1  \n",
       "2            7625            3799       1  \n",
       "3           12450            5624       1  \n",
       "4               0               0       1  \n",
       "5            1043               0       1  \n",
       "6            3418            1300       1  \n",
       "7           15328           10175       1  \n",
       "\n",
       "[8 rows x 27 columns]"
      ]
     },
     "execution_count": 25,
     "metadata": {},
     "output_type": "execute_result"
    }
   ],
   "source": [
    "dataPrime = pd.read_csv(\"archive/datasetPrime.csv\")\n",
    "dataPrime.head(len(dataPrime.index))"
   ]
  },
  {
   "cell_type": "code",
   "execution_count": 26,
   "id": "76aba94a",
   "metadata": {},
   "outputs": [],
   "source": [
    "def predictor(n):\n",
    "    data1 = list()\n",
    "    \n",
    "    for i in range(len(input_cols)):\n",
    "        data1.append(dataPrime.iloc[n][i])\n",
    "    \n",
    "    data1 = [float(item) for item in data1]\n",
    "    \n",
    "    for col in range(len(input_cols)):\n",
    "        data1[col] = (data1[col] - data[input_cols[col]].min()) / (data[input_cols[col]].max() - data[input_cols[col]].min())\n",
    "    \n",
    "    predict(torch.tensor([data1], dtype = torch.float32), verbose = False)"
   ]
  },
  {
   "cell_type": "markdown",
   "id": "71028233",
   "metadata": {},
   "source": [
    "- Par la suite, le \"joueur 1\" désignera le joueur de couleur bleue.\n",
    "- 1ère partie à 1 min 40 (début de partie) :\n",
    "\n",
    "<img src=\"files/figures/TvP1.jpg\" width=\"800px\"/>"
   ]
  },
  {
   "cell_type": "code",
   "execution_count": 27,
   "id": "824e0584",
   "metadata": {},
   "outputs": [
    {
     "name": "stdout",
     "output_type": "stream",
     "text": [
      "Probabilité de victoire du joueur 1 : 0.5197\n"
     ]
    }
   ],
   "source": [
    "predictor(0)"
   ]
  },
  {
   "cell_type": "markdown",
   "id": "6d09033f",
   "metadata": {},
   "source": [
    "- 1ère partie à 10 min 21 (avant le combat) :\n",
    "\n",
    "<img src=\"files/figures/TvP2.jpg\" width=\"800px\"/>"
   ]
  },
  {
   "cell_type": "code",
   "execution_count": 28,
   "id": "d6d981cb",
   "metadata": {},
   "outputs": [
    {
     "name": "stdout",
     "output_type": "stream",
     "text": [
      "Probabilité de victoire du joueur 1 : 0.2979\n"
     ]
    }
   ],
   "source": [
    "predictor(1)"
   ]
  },
  {
   "cell_type": "markdown",
   "id": "c573e723",
   "metadata": {},
   "source": [
    "Image du déroulé du combat à titre indicatif.\n",
    "\n",
    "<img src=\"files/figures/TvP3.jpg\" width=\"800px\"/>"
   ]
  },
  {
   "cell_type": "markdown",
   "id": "52664769",
   "metadata": {},
   "source": [
    "- 1ère partie à 10 min 43 (après le combat) :\n",
    "\n",
    "<img src=\"files/figures/TvP4.jpg\" width=\"800px\"/>"
   ]
  },
  {
   "cell_type": "code",
   "execution_count": 29,
   "id": "8b79a7aa",
   "metadata": {},
   "outputs": [
    {
     "name": "stdout",
     "output_type": "stream",
     "text": [
      "Probabilité de victoire du joueur 1 : 0.1955\n"
     ]
    }
   ],
   "source": [
    "predictor(2)"
   ]
  },
  {
   "cell_type": "markdown",
   "id": "232ba637",
   "metadata": {},
   "source": [
    "- 1ère partie à 12 min 01 (fin de partie) :\n",
    "\n",
    "<img src=\"files/figures/TvP5.jpg\" width=\"800px\"/>"
   ]
  },
  {
   "cell_type": "code",
   "execution_count": 30,
   "id": "6cf0c6b7",
   "metadata": {},
   "outputs": [
    {
     "name": "stdout",
     "output_type": "stream",
     "text": [
      "Probabilité de victoire du joueur 1 : 0.0895\n"
     ]
    }
   ],
   "source": [
    "predictor(3)"
   ]
  },
  {
   "cell_type": "markdown",
   "id": "7be82e7e",
   "metadata": {},
   "source": [
    "- 2ème partie à 1 min 40 (début de partie) :\n",
    "\n",
    "<img src=\"files/figures/TvZ1.jpg\" width=\"800px\"/>"
   ]
  },
  {
   "cell_type": "code",
   "execution_count": 31,
   "id": "d84f18ab",
   "metadata": {},
   "outputs": [
    {
     "name": "stdout",
     "output_type": "stream",
     "text": [
      "Probabilité de victoire du joueur 1 : 0.4918\n"
     ]
    }
   ],
   "source": [
    "predictor(4)"
   ]
  },
  {
   "cell_type": "markdown",
   "id": "ae1c3654",
   "metadata": {},
   "source": [
    "- 2ème partie à 8 min 13 (avant le combat) :\n",
    "\n",
    "<img src=\"files/figures/TvZ2.jpg\" width=\"800px\"/>"
   ]
  },
  {
   "cell_type": "code",
   "execution_count": 32,
   "id": "156e9c57",
   "metadata": {},
   "outputs": [
    {
     "name": "stdout",
     "output_type": "stream",
     "text": [
      "Probabilité de victoire du joueur 1 : 0.8254\n"
     ]
    }
   ],
   "source": [
    "predictor(5)"
   ]
  },
  {
   "cell_type": "markdown",
   "id": "d62bfa67",
   "metadata": {},
   "source": [
    "Image du déroulé du combat à titre indicatif.\n",
    "\n",
    "<img src=\"files/figures/TvZ3.jpg\" width=\"800px\"/>"
   ]
  },
  {
   "cell_type": "markdown",
   "id": "f0151863",
   "metadata": {},
   "source": [
    "- 2ème partie à 8 min 27 (après le combat) :\n",
    "\n",
    "<img src=\"files/figures/TvZ4.jpg\" width=\"800px\"/>"
   ]
  },
  {
   "cell_type": "code",
   "execution_count": 33,
   "id": "8dc0b937",
   "metadata": {},
   "outputs": [
    {
     "name": "stdout",
     "output_type": "stream",
     "text": [
      "Probabilité de victoire du joueur 1 : 0.7546\n"
     ]
    }
   ],
   "source": [
    "predictor(6)"
   ]
  },
  {
   "cell_type": "markdown",
   "id": "e1b50c95",
   "metadata": {},
   "source": [
    "- 2ème partie à 12 min 59 (fin de partie) :\n",
    "\n",
    "<img src=\"files/figures/TvZ5.jpg\" width=\"800px\"/>"
   ]
  },
  {
   "cell_type": "code",
   "execution_count": 34,
   "id": "b2f774e8",
   "metadata": {},
   "outputs": [
    {
     "name": "stdout",
     "output_type": "stream",
     "text": [
      "Probabilité de victoire du joueur 1 : 0.2062\n"
     ]
    }
   ],
   "source": [
    "predictor(7)"
   ]
  }
 ],
 "metadata": {
  "kernelspec": {
   "display_name": "Python 3 (ipykernel)",
   "language": "python",
   "name": "python3"
  },
  "language_info": {
   "codemirror_mode": {
    "name": "ipython",
    "version": 3
   },
   "file_extension": ".py",
   "mimetype": "text/x-python",
   "name": "python",
   "nbconvert_exporter": "python",
   "pygments_lexer": "ipython3",
   "version": "3.9.7"
  }
 },
 "nbformat": 4,
 "nbformat_minor": 5
}
