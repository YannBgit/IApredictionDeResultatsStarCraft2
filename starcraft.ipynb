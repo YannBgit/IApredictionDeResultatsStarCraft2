{
 "cells": [
  {
   "cell_type": "markdown",
   "id": "ac35021e",
   "metadata": {},
   "source": [
    "# Réseau de neurone ``PyTorch``- Prédiction de vainqueur sur StarCraft 2"
   ]
  },
  {
   "cell_type": "markdown",
   "id": "bcbe3b65",
   "metadata": {},
   "source": [
    "Le dataset représente de nombreuses parties 1 contre 1 sur le jeu StarCraft 2.\n",
    "Pour chaque replay est enregistré à chaque temps T l'etat du jeu (26 champs) ainsi que le vainqueur (1 champ), indiqué en dernière colonne par 0 ou 1.\n",
    "\n",
    "<img src=\"files/figures/sc2_logo.png\" width=\"600px\"/>\n",
    "\n",
    "Nous définirons et entraînerons un réseau de neurones sur ce dataset. C'est un problème de régression car nous voulons une probabilité de victoire.<br>\n",
    "Nous commencerons par programmer notre réseau de neurones en affichant les données pertinentes, et nous passerons à une étude de cas pour concrétiser l'utilisation du programme."
   ]
  },
  {
   "cell_type": "markdown",
   "id": "933ac146",
   "metadata": {},
   "source": [
    "## 1. Librairies"
   ]
  },
  {
   "cell_type": "code",
   "execution_count": 1,
   "id": "6235ff87",
   "metadata": {
    "scrolled": true
   },
   "outputs": [],
   "source": [
    "import torch\n",
    "import pandas as pd\n",
    "import numpy as np\n",
    "import matplotlib.pyplot as plt\n",
    "import torch.nn as nn\n",
    "import torch.nn.functional as F\n",
    "import seaborn as sns\n",
    "\n",
    "from torch.utils.data import DataLoader, TensorDataset, random_split"
   ]
  },
  {
   "cell_type": "markdown",
   "id": "56800aaa",
   "metadata": {},
   "source": [
    "## 2. Exploration des datasets"
   ]
  },
  {
   "cell_type": "markdown",
   "id": "70011aad",
   "metadata": {},
   "source": [
    "- L'étape la plus longue pour arriver à entraîner notre IA a consisté en l'élaboration d'un dataset de qualité pour le sujet qui nous intéressait. Nous avons dû écrire un programme permettant de générer un grand nombre de rows (lignes) sur de nombreuses données permettant de décrire l'état d'une partie de StarCraft 2 en cours.<br>\n",
    "Le code source de ce parseur est disponible sur github :<br>\n",
    "https://github.com/YannBgit/SC2replayDatasetGenerator\n",
    "\n",
    "- Ce programme a pu être écrit grâce à l'API sc2reader qui permet d'extraire des données de fichiers SC2Replay. Son code source est également disponible :<br>\n",
    "https://github.com/ggtracker/sc2reader\n",
    "\n",
    "- Le parseur contient des fonctionnalités d'ergonomie et de randomisation de datasets. Sans entrer dans les détails (l'utilisation est détaillée dans le README), il est possible à partir d'un répertoire contenant un grand nombre de replays de choisir le nombre à utiliser pour le dataset, qu'un script va sélectionner aléatoirement dans le répertoire source.<br>\n",
    "- Le parseur va ensuite extraire des données de ces replays pour générer un grand nombre de rows correspondant chacun à un instant dans la partie étudiée.<br><br>\n",
    "- L'étape suivante a été de trouver un grand nombre de replays exploitables à donner au parseur. Heureusement, Blizzard, le studio produisant le jeu, a rendu public une base de données massive de replays anonymisés qui ont servi aux équipes de Google pour entraîner l'IA AlphaStar. Nous avons donc pu raisonnablement parser 30 000 replays.\n",
    "- Affichage des données."
   ]
  },
  {
   "cell_type": "code",
   "execution_count": 2,
   "id": "1293319b",
   "metadata": {
    "scrolled": true
   },
   "outputs": [
    {
     "data": {
      "text/html": [
       "<div>\n",
       "<style scoped>\n",
       "    .dataframe tbody tr th:only-of-type {\n",
       "        vertical-align: middle;\n",
       "    }\n",
       "\n",
       "    .dataframe tbody tr th {\n",
       "        vertical-align: top;\n",
       "    }\n",
       "\n",
       "    .dataframe thead th {\n",
       "        text-align: right;\n",
       "    }\n",
       "</style>\n",
       "<table border=\"1\" class=\"dataframe\">\n",
       "  <thead>\n",
       "    <tr style=\"text-align: right;\">\n",
       "      <th></th>\n",
       "      <th>time</th>\n",
       "      <th>race1</th>\n",
       "      <th>race2</th>\n",
       "      <th>map</th>\n",
       "      <th>supplyUsed1</th>\n",
       "      <th>supplyUsed2</th>\n",
       "      <th>totalIncome1</th>\n",
       "      <th>totalIncome2</th>\n",
       "      <th>mineralsIncome1</th>\n",
       "      <th>mineralsIncome2</th>\n",
       "      <th>...</th>\n",
       "      <th>vespene2</th>\n",
       "      <th>activeWorkers1</th>\n",
       "      <th>activeWorkers2</th>\n",
       "      <th>army1</th>\n",
       "      <th>army2</th>\n",
       "      <th>technology1</th>\n",
       "      <th>technology2</th>\n",
       "      <th>lostResources1</th>\n",
       "      <th>lostResources2</th>\n",
       "      <th>winner</th>\n",
       "    </tr>\n",
       "  </thead>\n",
       "  <tbody>\n",
       "    <tr>\n",
       "      <th>0</th>\n",
       "      <td>1014</td>\n",
       "      <td>0</td>\n",
       "      <td>1</td>\n",
       "      <td>18</td>\n",
       "      <td>65.0</td>\n",
       "      <td>113.0</td>\n",
       "      <td>224</td>\n",
       "      <td>1048</td>\n",
       "      <td>0</td>\n",
       "      <td>680</td>\n",
       "      <td>...</td>\n",
       "      <td>659</td>\n",
       "      <td>13</td>\n",
       "      <td>33</td>\n",
       "      <td>3200</td>\n",
       "      <td>4875</td>\n",
       "      <td>1575</td>\n",
       "      <td>1300</td>\n",
       "      <td>10006</td>\n",
       "      <td>9762</td>\n",
       "      <td>0</td>\n",
       "    </tr>\n",
       "    <tr>\n",
       "      <th>1</th>\n",
       "      <td>914</td>\n",
       "      <td>2</td>\n",
       "      <td>2</td>\n",
       "      <td>8</td>\n",
       "      <td>148.0</td>\n",
       "      <td>104.0</td>\n",
       "      <td>2040</td>\n",
       "      <td>2224</td>\n",
       "      <td>1320</td>\n",
       "      <td>1600</td>\n",
       "      <td>...</td>\n",
       "      <td>223</td>\n",
       "      <td>73</td>\n",
       "      <td>68</td>\n",
       "      <td>6325</td>\n",
       "      <td>3325</td>\n",
       "      <td>4250</td>\n",
       "      <td>3650</td>\n",
       "      <td>12075</td>\n",
       "      <td>15625</td>\n",
       "      <td>0</td>\n",
       "    </tr>\n",
       "    <tr>\n",
       "      <th>2</th>\n",
       "      <td>593</td>\n",
       "      <td>0</td>\n",
       "      <td>0</td>\n",
       "      <td>16</td>\n",
       "      <td>85.0</td>\n",
       "      <td>75.0</td>\n",
       "      <td>3403</td>\n",
       "      <td>1482</td>\n",
       "      <td>2799</td>\n",
       "      <td>1147</td>\n",
       "      <td>...</td>\n",
       "      <td>1061</td>\n",
       "      <td>56</td>\n",
       "      <td>30</td>\n",
       "      <td>1325</td>\n",
       "      <td>2875</td>\n",
       "      <td>2400</td>\n",
       "      <td>1725</td>\n",
       "      <td>2772</td>\n",
       "      <td>1900</td>\n",
       "      <td>0</td>\n",
       "    </tr>\n",
       "  </tbody>\n",
       "</table>\n",
       "<p>3 rows × 27 columns</p>\n",
       "</div>"
      ],
      "text/plain": [
       "   time  race1  race2  map  supplyUsed1  supplyUsed2  totalIncome1  \\\n",
       "0  1014      0      1   18         65.0        113.0           224   \n",
       "1   914      2      2    8        148.0        104.0          2040   \n",
       "2   593      0      0   16         85.0         75.0          3403   \n",
       "\n",
       "   totalIncome2  mineralsIncome1  mineralsIncome2  ...  vespene2  \\\n",
       "0          1048                0              680  ...       659   \n",
       "1          2224             1320             1600  ...       223   \n",
       "2          1482             2799             1147  ...      1061   \n",
       "\n",
       "   activeWorkers1  activeWorkers2  army1  army2  technology1  technology2  \\\n",
       "0              13              33   3200   4875         1575         1300   \n",
       "1              73              68   6325   3325         4250         3650   \n",
       "2              56              30   1325   2875         2400         1725   \n",
       "\n",
       "   lostResources1  lostResources2  winner  \n",
       "0           10006            9762       0  \n",
       "1           12075           15625       0  \n",
       "2            2772            1900       0  \n",
       "\n",
       "[3 rows x 27 columns]"
      ]
     },
     "execution_count": 2,
     "metadata": {},
     "output_type": "execute_result"
    }
   ],
   "source": [
    "data = pd.read_csv(\"archive/shuffledDataset.csv\")\n",
    "data.head(3)"
   ]
  },
  {
   "cell_type": "code",
   "execution_count": 3,
   "id": "3d976b2e",
   "metadata": {},
   "outputs": [
    {
     "data": {
      "text/plain": [
       "time                 int64\n",
       "race1                int64\n",
       "race2                int64\n",
       "map                  int64\n",
       "supplyUsed1        float64\n",
       "supplyUsed2        float64\n",
       "totalIncome1         int64\n",
       "totalIncome2         int64\n",
       "mineralsIncome1      int64\n",
       "mineralsIncome2      int64\n",
       "vespeneIncome1       int64\n",
       "vespeneIncome2       int64\n",
       "totalResources1      int64\n",
       "totalResources2      int64\n",
       "minerals1            int64\n",
       "minerals2            int64\n",
       "vespene1             int64\n",
       "vespene2             int64\n",
       "activeWorkers1       int64\n",
       "activeWorkers2       int64\n",
       "army1                int64\n",
       "army2                int64\n",
       "technology1          int64\n",
       "technology2          int64\n",
       "lostResources1       int64\n",
       "lostResources2       int64\n",
       "winner               int64\n",
       "dtype: object"
      ]
     },
     "execution_count": 3,
     "metadata": {},
     "output_type": "execute_result"
    }
   ],
   "source": [
    "data.dtypes"
   ]
  },
  {
   "cell_type": "code",
   "execution_count": 4,
   "id": "cff1c1b2",
   "metadata": {},
   "outputs": [
    {
     "data": {
      "text/plain": [
       "1738665"
      ]
     },
     "execution_count": 4,
     "metadata": {},
     "output_type": "execute_result"
    }
   ],
   "source": [
    "len(data.index)"
   ]
  },
  {
   "cell_type": "code",
   "execution_count": 5,
   "id": "03c68be8",
   "metadata": {},
   "outputs": [
    {
     "data": {
      "text/plain": [
       "27"
      ]
     },
     "execution_count": 5,
     "metadata": {},
     "output_type": "execute_result"
    }
   ],
   "source": [
    "len(data.columns)"
   ]
  },
  {
   "cell_type": "code",
   "execution_count": 6,
   "id": "cec1468c",
   "metadata": {
    "scrolled": true
   },
   "outputs": [
    {
     "data": {
      "text/plain": [
       "1    642765\n",
       "0    596761\n",
       "2    499139\n",
       "Name: race1, dtype: int64"
      ]
     },
     "execution_count": 6,
     "metadata": {},
     "output_type": "execute_result"
    }
   ],
   "source": [
    "data.race1.value_counts()"
   ]
  },
  {
   "cell_type": "markdown",
   "id": "60515d6b",
   "metadata": {},
   "source": [
    "- Visualisation des relations entre les colonnes."
   ]
  },
  {
   "cell_type": "code",
   "execution_count": 7,
   "id": "b013b9db",
   "metadata": {},
   "outputs": [
    {
     "data": {
      "text/plain": [
       "<AxesSubplot:>"
      ]
     },
     "execution_count": 7,
     "metadata": {},
     "output_type": "execute_result"
    },
    {
     "data": {
      "image/png": "[encoded data removed]",
      "text/plain": [
       "<Figure size 432x288 with 2 Axes>"
      ]
     },
     "metadata": {
      "needs_background": "light"
     },
     "output_type": "display_data"
    }
   ],
   "source": [
    "sns.heatmap(data.corr())"
   ]
  },
  {
   "cell_type": "markdown",
   "id": "4d58e7d8",
   "metadata": {},
   "source": [
    "## 3. Chargement des données"
   ]
  },
  {
   "cell_type": "markdown",
   "id": "39072afb",
   "metadata": {},
   "source": [
    "- Création des ensembles d'entraînement, d'évaluation et de test. <br>\n",
    "A noter que le préprocessing a été géré par le parseur en amont. Seuls des nombres (int ou float) sont écrits dans les colonnes."
   ]
  },
  {
   "cell_type": "code",
   "execution_count": 8,
   "id": "da2cc6fd",
   "metadata": {},
   "outputs": [],
   "source": [
    "def dataToArrays(data, columns):\n",
    "    dataCopy = data.copy(deep = True)\n",
    "    \n",
    "    #normalisation des données\n",
    "    for column in columns:\n",
    "        dataCopy[column] = (dataCopy[column] - dataCopy[column].min()) / (dataCopy[column].max() - dataCopy[column].min())\n",
    "            \n",
    "    inputArray = dataCopy[columns].to_numpy()\n",
    "    outputArray = dataCopy[outputColumns].to_numpy().reshape(-1, 1)\n",
    "    return inputArray, outputArray"
   ]
  },
  {
   "cell_type": "code",
   "execution_count": 9,
   "id": "ac2a3a33",
   "metadata": {},
   "outputs": [],
   "source": [
    "inputColumns = [title for title in data.columns if title != \"winner\"]\n",
    "outputColumns = [\"winner\"]\n",
    "\n",
    "inputArray, outputArray = dataToArrays(data, inputColumns)\n",
    "\n",
    "inputs = torch.tensor(inputArray, dtype = torch.float32)\n",
    "outputs = torch.tensor(outputArray, dtype = torch.float32)\n",
    "\n",
    "dataset = TensorDataset(inputs, outputs)\n",
    "\n",
    "validationSize = int(0.2 * len(dataset))\n",
    "trainSize = len(dataset) - validationSize\n",
    "trainDataset, validationDataset = random_split(dataset, [trainSize, validationSize])"
   ]
  },
  {
   "cell_type": "markdown",
   "id": "def10bdf",
   "metadata": {},
   "source": [
    "## 4. Dataloaders"
   ]
  },
  {
   "cell_type": "code",
   "execution_count": 10,
   "id": "8e61c37a",
   "metadata": {},
   "outputs": [],
   "source": [
    "batchSize = 64\n",
    "\n",
    "trainLoader = DataLoader(trainDataset, batchSize, shuffle = True)\n",
    "validationLoader = DataLoader(validationDataset, batchSize, shuffle = True)\n",
    "\n",
    "nbInputs = len(inputColumns)\n",
    "nbOutputs = 1"
   ]
  },
  {
   "cell_type": "markdown",
   "id": "5375e22f",
   "metadata": {},
   "source": [
    "- Définition de la fonction de calcul de précision."
   ]
  },
  {
   "cell_type": "code",
   "execution_count": 11,
   "id": "cc5c5bf7",
   "metadata": {},
   "outputs": [],
   "source": [
    "def accuracy(outputs, labels):\n",
    "    #prediction = 1 si output > 0.5 et prediction = 0 sinon\n",
    "    return torch.tensor(torch.sum(outputs.round() == labels).item() / len(outputs))"
   ]
  },
  {
   "cell_type": "markdown",
   "id": "fedcd0ac",
   "metadata": {},
   "source": [
    "## 5. Modèle"
   ]
  },
  {
   "cell_type": "markdown",
   "id": "3d3fe9c1",
   "metadata": {},
   "source": [
    "- Définition du modèle. La fonction sigmoid en dernière couche permet d'avoir en output une valeur comprise entre 0 et 1"
   ]
  },
  {
   "cell_type": "code",
   "execution_count": 12,
   "id": "2cdfce77",
   "metadata": {},
   "outputs": [],
   "source": [
    "layerSize = 128\n",
    "\n",
    "class Model(nn.Module):\n",
    "    def __init__(self):\n",
    "        super().__init__()        \n",
    "        self.fc1 = nn.Linear(nbInputs, layerSize)\n",
    "        self.fc2 = nn.Linear(layerSize, layerSize)\n",
    "        self.fc3 = nn.Linear(layerSize, nbOutputs)\n",
    "        \n",
    "    def forward(self, x):\n",
    "        x = self.fc1(x)\n",
    "        x = nn.ReLU()(x)\n",
    "        \n",
    "        x = self.fc2(x)\n",
    "        x = nn.ReLU()(x)\n",
    "        \n",
    "        x = self.fc3(x)\n",
    "        return torch.sigmoid(x)\n",
    "    \n",
    "    def trainingStep(self, batch):\n",
    "        inputs, labels = batch \n",
    "        out = self(inputs)\n",
    "        currentLoss = F.binary_cross_entropy(out, labels)\n",
    "        return currentLoss\n",
    "    \n",
    "    def validationStep(self, batch):\n",
    "        inputs, labels = batch\n",
    "        out = self(inputs)\n",
    "        currentLoss = F.binary_cross_entropy(out, labels)\n",
    "        currentAccuracy = accuracy(out, labels)\n",
    "        return {\"Validation loss\" : currentLoss, \"Validation accuracy\" : currentAccuracy}\n",
    "    \n",
    "    def validationEpochEnd(self, outputs):\n",
    "        batchLosses = [x[\"Validation loss\"] for x in outputs]\n",
    "        epochLoss = torch.stack(batchLosses).mean()\n",
    "        batchAccuracy = [x[\"Validation accuracy\"] for x in outputs]\n",
    "        epochAccuracy = torch.stack(batchAccuracy).mean()\n",
    "        return {\"Validation loss\" : epochLoss.item(), \"Validation accuracy\" : epochAccuracy.item()}\n",
    "    \n",
    "    def epochEnd(self, epoch, result):\n",
    "        print(\"Epoch [{}], Validation loss : {:.4f}, Validation accuracy : {:.4f}\".format(epoch, result[\"Validation loss\"], result[\"Validation accuracy\"]))\n",
    "    \n",
    "model = Model()"
   ]
  },
  {
   "cell_type": "markdown",
   "id": "2621c2d4",
   "metadata": {},
   "source": [
    "- Affichage des paramètres du modèle."
   ]
  },
  {
   "cell_type": "code",
   "execution_count": 13,
   "id": "4c11d27a",
   "metadata": {},
   "outputs": [
    {
     "data": {
      "text/plain": [
       "[Parameter containing:\n",
       " tensor([[-0.1693, -0.1939, -0.1488,  ...,  0.1091,  0.0045,  0.0706],\n",
       "         [-0.1958, -0.0837, -0.0086,  ..., -0.0480, -0.0912,  0.1751],\n",
       "         [ 0.1053,  0.0699, -0.1850,  ...,  0.1734,  0.0827,  0.0510],\n",
       "         ...,\n",
       "         [ 0.0171, -0.0463, -0.1432,  ...,  0.1496,  0.1826,  0.0023],\n",
       "         [ 0.1773, -0.1426,  0.0968,  ...,  0.1667, -0.1864,  0.1892],\n",
       "         [ 0.1918,  0.1698,  0.1794,  ..., -0.1027, -0.1033,  0.0352]],\n",
       "        requires_grad=True),\n",
       " Parameter containing:\n",
       " tensor([ 0.1162, -0.1919,  0.1095, -0.1574,  0.0206,  0.1527,  0.0723,  0.0971,\n",
       "          0.1074, -0.1262,  0.1606, -0.0777,  0.1405,  0.0314, -0.0277, -0.1242,\n",
       "          0.1266,  0.0886,  0.1054,  0.1556, -0.1882,  0.0343,  0.1648, -0.0467,\n",
       "         -0.1022, -0.1512, -0.0165, -0.0620,  0.1349, -0.1824, -0.0321,  0.1910,\n",
       "         -0.1232, -0.1419,  0.0833, -0.1351, -0.0165,  0.1099, -0.1881,  0.1726,\n",
       "          0.0787,  0.0876,  0.1166,  0.1379, -0.0768, -0.1284,  0.1702,  0.0692,\n",
       "          0.0702, -0.1507,  0.0529, -0.0745, -0.1250, -0.1736,  0.0542,  0.0819,\n",
       "         -0.0244,  0.0799, -0.0002,  0.0443,  0.1023, -0.0047, -0.0084, -0.0086,\n",
       "         -0.0310,  0.0139, -0.1860,  0.0812, -0.1900, -0.1718, -0.1709, -0.1193,\n",
       "          0.0653,  0.1750, -0.1697,  0.0120, -0.0059,  0.0962,  0.1900,  0.0996,\n",
       "         -0.1403, -0.1917,  0.1023, -0.0905,  0.1192,  0.0202,  0.0878, -0.0840,\n",
       "          0.1271, -0.1869,  0.0572, -0.1355, -0.0020,  0.0100,  0.0497,  0.1129,\n",
       "          0.1782, -0.1703,  0.0539, -0.0514,  0.0083,  0.0325,  0.1288, -0.1458,\n",
       "          0.0945, -0.1732,  0.1317, -0.1779,  0.0201,  0.1021,  0.0167,  0.0952,\n",
       "         -0.0672,  0.0526,  0.0690, -0.0969, -0.1485,  0.0929, -0.1449,  0.1302,\n",
       "         -0.1129,  0.1148,  0.1342, -0.1470, -0.0387, -0.1921, -0.0089,  0.1914],\n",
       "        requires_grad=True),\n",
       " Parameter containing:\n",
       " tensor([[-0.0066,  0.0691, -0.0777,  ...,  0.0573, -0.0151,  0.0363],\n",
       "         [-0.0161, -0.0705, -0.0351,  ..., -0.0660,  0.0829,  0.0765],\n",
       "         [ 0.0851,  0.0027,  0.0251,  ...,  0.0045, -0.0357,  0.0712],\n",
       "         ...,\n",
       "         [-0.0835, -0.0631,  0.0508,  ..., -0.0833,  0.0061,  0.0685],\n",
       "         [ 0.0234,  0.0251, -0.0718,  ..., -0.0735,  0.0303,  0.0860],\n",
       "         [ 0.0575, -0.0491,  0.0446,  ..., -0.0744, -0.0460, -0.0497]],\n",
       "        requires_grad=True),\n",
       " Parameter containing:\n",
       " tensor([-0.0754,  0.0098, -0.0868,  0.0131,  0.0642,  0.0644,  0.0016, -0.0632,\n",
       "         -0.0881, -0.0407, -0.0836, -0.0331, -0.0874,  0.0246, -0.0176,  0.0274,\n",
       "          0.0313,  0.0014,  0.0797,  0.0055, -0.0662,  0.0824,  0.0818, -0.0703,\n",
       "          0.0005,  0.0813, -0.0440, -0.0616, -0.0553, -0.0801, -0.0600, -0.0080,\n",
       "          0.0858,  0.0360, -0.0659, -0.0254, -0.0681, -0.0050,  0.0026, -0.0829,\n",
       "         -0.0661, -0.0217,  0.0850, -0.0496,  0.0351, -0.0003, -0.0793,  0.0321,\n",
       "         -0.0590, -0.0073,  0.0142,  0.0064,  0.0039,  0.0029, -0.0193, -0.0650,\n",
       "          0.0597, -0.0851,  0.0244,  0.0112, -0.0611,  0.0436, -0.0714,  0.0762,\n",
       "         -0.0058,  0.0081,  0.0875,  0.0844,  0.0011,  0.0178,  0.0171,  0.0369,\n",
       "          0.0588,  0.0503,  0.0287, -0.0224, -0.0331, -0.0740, -0.0053, -0.0164,\n",
       "          0.0104,  0.0735,  0.0660,  0.0745, -0.0650,  0.0412,  0.0282, -0.0640,\n",
       "          0.0427,  0.0606,  0.0634,  0.0798,  0.0685, -0.0027, -0.0738, -0.0035,\n",
       "         -0.0498,  0.0160,  0.0479,  0.0755, -0.0594,  0.0747,  0.0384, -0.0303,\n",
       "         -0.0741,  0.0021, -0.0841, -0.0051,  0.0565, -0.0754,  0.0865, -0.0797,\n",
       "         -0.0183, -0.0328,  0.0121,  0.0172,  0.0566, -0.0198, -0.0591, -0.0602,\n",
       "         -0.0116,  0.0623, -0.0170,  0.0125, -0.0352, -0.0426,  0.0776, -0.0040],\n",
       "        requires_grad=True),\n",
       " Parameter containing:\n",
       " tensor([[ 0.0303, -0.0209, -0.0771, -0.0645,  0.0691,  0.0693,  0.0143, -0.0443,\n",
       "          -0.0419, -0.0607,  0.0756,  0.0495, -0.0042, -0.0812,  0.0164,  0.0714,\n",
       "          -0.0868, -0.0641, -0.0821,  0.0851,  0.0225, -0.0800,  0.0528,  0.0660,\n",
       "          -0.0013, -0.0693, -0.0837,  0.0407,  0.0662,  0.0519, -0.0795,  0.0310,\n",
       "           0.0846, -0.0217, -0.0397, -0.0249, -0.0852, -0.0551, -0.0072, -0.0417,\n",
       "          -0.0233, -0.0013,  0.0455,  0.0097,  0.0300,  0.0653, -0.0635,  0.0239,\n",
       "           0.0844, -0.0509, -0.0385,  0.0873, -0.0110,  0.0871, -0.0557,  0.0526,\n",
       "           0.0842, -0.0281, -0.0234,  0.0311, -0.0525,  0.0503, -0.0686,  0.0274,\n",
       "           0.0857, -0.0645, -0.0836, -0.0070, -0.0428, -0.0576,  0.0557, -0.0661,\n",
       "           0.0704, -0.0271, -0.0566, -0.0519, -0.0792, -0.0233,  0.0682,  0.0472,\n",
       "           0.0662,  0.0173,  0.0829,  0.0434,  0.0092,  0.0189, -0.0522,  0.0086,\n",
       "           0.0524,  0.0413,  0.0468, -0.0437, -0.0299,  0.0363, -0.0509, -0.0766,\n",
       "          -0.0031, -0.0433, -0.0693, -0.0882, -0.0569,  0.0425, -0.0628,  0.0510,\n",
       "          -0.0726, -0.0096, -0.0515,  0.0705,  0.0370, -0.0757, -0.0054, -0.0317,\n",
       "          -0.0668, -0.0554, -0.0172,  0.0725, -0.0438,  0.0451,  0.0380, -0.0385,\n",
       "          -0.0660, -0.0879,  0.0409, -0.0020, -0.0081,  0.0759, -0.0188,  0.0556]],\n",
       "        requires_grad=True),\n",
       " Parameter containing:\n",
       " tensor([-0.0837], requires_grad=True)]"
      ]
     },
     "execution_count": 13,
     "metadata": {},
     "output_type": "execute_result"
    }
   ],
   "source": [
    "list(model.parameters())"
   ]
  },
  {
   "cell_type": "markdown",
   "id": "d1ed7a9e",
   "metadata": {},
   "source": [
    "## 6. Entraînement"
   ]
  },
  {
   "cell_type": "code",
   "execution_count": 14,
   "id": "140de29f",
   "metadata": {},
   "outputs": [],
   "source": [
    "@torch.no_grad()\n",
    "def evaluate(model, validationLoader):\n",
    "    model.eval()\n",
    "    outputs = [model.validationStep(batch) for batch in validationLoader]\n",
    "    return model.validationEpochEnd(outputs)\n",
    "\n",
    "def test(model, testLoader):\n",
    "    model.eval()\n",
    "    outputs = [model.validationStep(batch) for batch in testLoader]\n",
    "    return model.validationEpochEnd(outputs)\n",
    "\n",
    "def fitOneCycle(epochs, learningRate, model, trainLoader, validationLoader):\n",
    "    history = []\n",
    "    \n",
    "    optimizer = torch.optim.SGD(model.parameters(), learningRate)\n",
    "    \n",
    "    for epoch in range(epochs):\n",
    "        model.train()\n",
    "        trainLosses = []\n",
    "        \n",
    "        for batch in trainLoader:\n",
    "            loss = model.trainingStep(batch)\n",
    "            trainLosses.append(loss)\n",
    "            loss.backward()\n",
    "            \n",
    "            optimizer.step()\n",
    "            optimizer.zero_grad()\n",
    "        \n",
    "        result = evaluate(model, validationLoader)\n",
    "        result[\"Train loss\"] = torch.stack(trainLosses).mean().item()\n",
    "        model.epochEnd(epoch, result)\n",
    "        history.append(result)\n",
    "    \n",
    "    return history"
   ]
  },
  {
   "cell_type": "markdown",
   "id": "cd1c685c",
   "metadata": {},
   "source": [
    "- Paramétrage et entraînement du réseau de neurones."
   ]
  },
  {
   "cell_type": "code",
   "execution_count": 15,
   "id": "02b81ea5",
   "metadata": {},
   "outputs": [
    {
     "name": "stdout",
     "output_type": "stream",
     "text": [
      "Epoch [0], Validation loss : 0.6901, Validation accuracy : 0.5264\n",
      "Epoch [1], Validation loss : 0.6878, Validation accuracy : 0.5283\n",
      "Epoch [2], Validation loss : 0.6828, Validation accuracy : 0.5600\n",
      "Epoch [3], Validation loss : 0.6706, Validation accuracy : 0.6026\n",
      "Epoch [4], Validation loss : 0.6436, Validation accuracy : 0.6409\n",
      "Epoch [5], Validation loss : 0.6137, Validation accuracy : 0.6522\n",
      "Epoch [6], Validation loss : 0.5987, Validation accuracy : 0.6568\n",
      "Epoch [7], Validation loss : 0.5921, Validation accuracy : 0.6611\n",
      "Epoch [8], Validation loss : 0.5885, Validation accuracy : 0.6631\n",
      "Epoch [9], Validation loss : 0.5860, Validation accuracy : 0.6652\n"
     ]
    }
   ],
   "source": [
    "history = [evaluate(model, validationLoader)]\n",
    "\n",
    "nbEpochs = 10\n",
    "learningRate = 0.001\n",
    "\n",
    "history += fitOneCycle(nbEpochs, learningRate, model, trainLoader, validationLoader)"
   ]
  },
  {
   "cell_type": "markdown",
   "id": "fb62ba30",
   "metadata": {},
   "source": [
    "- Définition des fonctions d'affichage de l'accuracy et de la loss"
   ]
  },
  {
   "cell_type": "code",
   "execution_count": 16,
   "id": "947acaff",
   "metadata": {},
   "outputs": [],
   "source": [
    "def plotAccuracies(history):\n",
    "    accuracies = [x[\"Validation accuracy\"] for x in history]\n",
    "    plt.plot(accuracies, \"-x\")\n",
    "    plt.xlabel(\"Epoch\")\n",
    "    plt.ylabel(\"Accuracy\")\n",
    "    plt.title(\"Accuracy / Number of epochs\");\n",
    "\n",
    "def plotLosses(history):\n",
    "    trainLosses = [x.get(\"Train loss\") for x in history]\n",
    "    valLosses = [x[\"Validation loss\"] for x in history]\n",
    "    plt.plot(trainLosses, \"-bx\")\n",
    "    plt.plot(valLosses, \"-rx\")\n",
    "    plt.xlabel(\"Epoch\")\n",
    "    plt.ylabel(\"Loss\")\n",
    "    plt.legend([\"Training\", \"Validation\"])\n",
    "    plt.title(\"Loss / Number of epochs\");"
   ]
  },
  {
   "cell_type": "markdown",
   "id": "6730e211",
   "metadata": {},
   "source": [
    "- Graphique de l'évolution de l'accuracy par rapport au numéro de l'epoch."
   ]
  },
  {
   "cell_type": "code",
   "execution_count": 17,
   "id": "7fe03003",
   "metadata": {},
   "outputs": [
    {
     "data": {
      "image/png": "[encoded data removed]",
      "text/plain": [
       "<Figure size 432x288 with 1 Axes>"
      ]
     },
     "metadata": {
      "needs_background": "light"
     },
     "output_type": "display_data"
    }
   ],
   "source": [
    "plotAccuracies(history)"
   ]
  },
  {
   "cell_type": "markdown",
   "id": "44f0e802",
   "metadata": {},
   "source": [
    "- Graphique de l'évolution de la loss par rapport au numéro de l'epoch."
   ]
  },
  {
   "cell_type": "code",
   "execution_count": 18,
   "id": "08b815a1",
   "metadata": {},
   "outputs": [
    {
     "data": {
      "image/png": "[encoded data removed]",
      "text/plain": [
       "<Figure size 432x288 with 1 Axes>"
      ]
     },
     "metadata": {
      "needs_background": "light"
     },
     "output_type": "display_data"
    }
   ],
   "source": [
    "plotLosses(history)"
   ]
  },
  {
   "cell_type": "code",
   "execution_count": 19,
   "id": "fbe9551c",
   "metadata": {},
   "outputs": [
    {
     "name": "stdout",
     "output_type": "stream",
     "text": [
      "{'Validation loss': 0.5859730839729309, 'Validation accuracy': 0.6651454567909241}\n"
     ]
    }
   ],
   "source": [
    "result = evaluate(model, validationLoader)\n",
    "print(result)"
   ]
  },
  {
   "cell_type": "markdown",
   "id": "0566f494",
   "metadata": {},
   "source": [
    "## 7. Tests"
   ]
  },
  {
   "cell_type": "markdown",
   "id": "e9a88836",
   "metadata": {},
   "source": [
    "- Test du modèle sur le test set parsé par le générateur de datasets décrit au début de ce notebook. Sa taille est de 20 % la taille du dataset original (avant séparation en train set et validation set)."
   ]
  },
  {
   "cell_type": "code",
   "execution_count": 20,
   "id": "c6659de6",
   "metadata": {},
   "outputs": [
    {
     "name": "stdout",
     "output_type": "stream",
     "text": [
      "[{'Validation loss': 0.5868923664093018, 'Validation accuracy': 0.6645539402961731}]\n"
     ]
    }
   ],
   "source": [
    "testData = pd.read_csv(\"archive/testDataset.csv\")\n",
    "\n",
    "inputTestArray, outputTestArray = dataToArrays(testData, inputColumns)\n",
    "\n",
    "testInputs = torch.tensor(inputTestArray, dtype = torch.float32)\n",
    "testOutputs = torch.tensor(outputTestArray, dtype = torch.float32)\n",
    "\n",
    "testDataset = TensorDataset(testInputs, testOutputs)\n",
    "testLoader = DataLoader(testDataset, batchSize, shuffle = True)\n",
    "\n",
    "nbTestInputs = len(inputColumns)\n",
    "nbTestOutputs = 1\n",
    "\n",
    "testHistory = [test(model, testLoader)]\n",
    "print(testHistory)"
   ]
  },
  {
   "cell_type": "markdown",
   "id": "a44114ee",
   "metadata": {},
   "source": [
    "- Explications :<br>\n",
    "Notre accuracy est d'environ 0.67, ce qui, bien que meilleur que l'aléatoire de 0.50, reste bas. Ce constat s'explique cependant simplement. En effet, pour une bonne partie de la durée des replays étudiés, il est difficile de prévoir quel joueur va gagner. Par exemple, en début de partie, peu de choses se passent et les joueurs se contentent bien souvent de développer leur économie, ne laissant pas de joueur obtenir un quelconque avantage sur l'autre.<br>\n",
    "Nous pouvons en revanche nous attendre à de bonne performances une fois que des batailles commencent à se dérouler, et de manière générale lorsque la partie se rapproche de la fin.<br>\n",
    "Ces cas seront clairement expliqués lors de l'étude de cas plus bas.\n",
    "- Définition de la fonction de prédiction utilisant le réseau de neurones entraîné."
   ]
  },
  {
   "cell_type": "code",
   "execution_count": 21,
   "id": "7ad178eb",
   "metadata": {},
   "outputs": [],
   "source": [
    "def predict(input, verbose = True):\n",
    "    if verbose:\n",
    "        for i in range(len(inputColumns)):\n",
    "            tmp = input[0][i].item()\n",
    "            tmp = round(tmp * (data[inputColumns[i]].max() - data[inputColumns[i]].min()) + data[inputColumns[i]].min(), 4)\n",
    "            print(inputColumns[i] + \":\", tmp)\n",
    "            \n",
    "        print(\"\")\n",
    "    \n",
    "    with torch.no_grad():\n",
    "        pred = model(input[0]).item()\n",
    "        \n",
    "    print(\"Probabilité de victoire du joueur 1 : {:.4f}\".format(1 - pred))"
   ]
  },
  {
   "cell_type": "markdown",
   "id": "44a78df9",
   "metadata": {},
   "source": [
    "- Quelques prédictions."
   ]
  },
  {
   "cell_type": "code",
   "execution_count": 22,
   "id": "1a4779f0",
   "metadata": {},
   "outputs": [
    {
     "name": "stdout",
     "output_type": "stream",
     "text": [
      "time: 236.0\n",
      "race1: 1.0\n",
      "race2: 1.0\n",
      "map: 5.0\n",
      "supplyUsed1: 49.0\n",
      "supplyUsed2: 50.0\n",
      "totalIncome1: 1863.0001\n",
      "totalIncome2: 1494.0\n",
      "mineralsIncome1: 1706.9999\n",
      "mineralsIncome2: 1315.0\n",
      "vespeneIncome1: 156.0\n",
      "vespeneIncome2: 179.0\n",
      "totalResources1: 389.0\n",
      "totalResources2: 172.0\n",
      "minerals1: 255.0\n",
      "minerals2: 40.0\n",
      "vespene1: 134.0\n",
      "vespene2: 132.0\n",
      "activeWorkers1: 35.0\n",
      "activeWorkers2: 29.0\n",
      "army1: 800.0\n",
      "army2: 1100.0\n",
      "technology1: 450.0\n",
      "technology2: 250.0\n",
      "lostResources1: 0.0\n",
      "lostResources2: 0.0\n",
      "\n",
      "Probabilité de victoire du joueur 1 : 0.5852\n"
     ]
    }
   ],
   "source": [
    "predict(validationDataset[256])"
   ]
  },
  {
   "cell_type": "code",
   "execution_count": 23,
   "id": "b37d755f",
   "metadata": {},
   "outputs": [
    {
     "name": "stdout",
     "output_type": "stream",
     "text": [
      "time: 214.0\n",
      "race1: 2.0\n",
      "race2: 1.0\n",
      "map: 8.0\n",
      "supplyUsed1: 44.0\n",
      "supplyUsed2: 45.0\n",
      "totalIncome1: 1886.0001\n",
      "totalIncome2: 1634.0\n",
      "mineralsIncome1: 1595.0\n",
      "mineralsIncome2: 1455.0\n",
      "vespeneIncome1: 291.0\n",
      "vespeneIncome2: 179.0\n",
      "totalResources1: 132.0\n",
      "totalResources2: 313.0\n",
      "minerals1: 55.0\n",
      "minerals2: 229.0\n",
      "vespene1: 77.0\n",
      "vespene2: 84.0\n",
      "activeWorkers1: 36.0\n",
      "activeWorkers2: 34.0\n",
      "army1: 300.0\n",
      "army2: 600.0\n",
      "technology1: 600.0\n",
      "technology2: 250.0\n",
      "lostResources1: 0.0\n",
      "lostResources2: 0.0\n",
      "\n",
      "Probabilité de victoire du joueur 1 : 0.5671\n"
     ]
    }
   ],
   "source": [
    "predict(validationDataset[512])"
   ]
  },
  {
   "cell_type": "markdown",
   "id": "caee0611",
   "metadata": {},
   "source": [
    "## 8. Etude de cas pratiques"
   ]
  },
  {
   "cell_type": "markdown",
   "id": "0c07c6a8",
   "metadata": {},
   "source": [
    "- Changeons de dataset pour utiliser notre fichier contenant 4 moments notables pour 2 parties différentes (soit 8 rows)."
   ]
  },
  {
   "cell_type": "code",
   "execution_count": 24,
   "id": "06bb29ec",
   "metadata": {},
   "outputs": [
    {
     "data": {
      "text/html": [
       "<div>\n",
       "<style scoped>\n",
       "    .dataframe tbody tr th:only-of-type {\n",
       "        vertical-align: middle;\n",
       "    }\n",
       "\n",
       "    .dataframe tbody tr th {\n",
       "        vertical-align: top;\n",
       "    }\n",
       "\n",
       "    .dataframe thead th {\n",
       "        text-align: right;\n",
       "    }\n",
       "</style>\n",
       "<table border=\"1\" class=\"dataframe\">\n",
       "  <thead>\n",
       "    <tr style=\"text-align: right;\">\n",
       "      <th></th>\n",
       "      <th>time</th>\n",
       "      <th>race1</th>\n",
       "      <th>race2</th>\n",
       "      <th>map</th>\n",
       "      <th>supplyUsed1</th>\n",
       "      <th>supplyUsed2</th>\n",
       "      <th>totalIncome1</th>\n",
       "      <th>totalIncome2</th>\n",
       "      <th>mineralsIncome1</th>\n",
       "      <th>mineralsIncome2</th>\n",
       "      <th>...</th>\n",
       "      <th>vespene2</th>\n",
       "      <th>activeWorkers1</th>\n",
       "      <th>activeWorkers2</th>\n",
       "      <th>army1</th>\n",
       "      <th>army2</th>\n",
       "      <th>technology1</th>\n",
       "      <th>technology2</th>\n",
       "      <th>lostResources1</th>\n",
       "      <th>lostResources2</th>\n",
       "      <th>winner</th>\n",
       "    </tr>\n",
       "  </thead>\n",
       "  <tbody>\n",
       "    <tr>\n",
       "      <th>0</th>\n",
       "      <td>100</td>\n",
       "      <td>2</td>\n",
       "      <td>0</td>\n",
       "      <td>0</td>\n",
       "      <td>20.0</td>\n",
       "      <td>20.0</td>\n",
       "      <td>1040</td>\n",
       "      <td>883</td>\n",
       "      <td>951</td>\n",
       "      <td>727</td>\n",
       "      <td>...</td>\n",
       "      <td>34</td>\n",
       "      <td>20</td>\n",
       "      <td>19</td>\n",
       "      <td>0</td>\n",
       "      <td>0</td>\n",
       "      <td>150</td>\n",
       "      <td>150</td>\n",
       "      <td>0</td>\n",
       "      <td>0</td>\n",
       "      <td>1</td>\n",
       "    </tr>\n",
       "    <tr>\n",
       "      <th>1</th>\n",
       "      <td>621</td>\n",
       "      <td>2</td>\n",
       "      <td>0</td>\n",
       "      <td>0</td>\n",
       "      <td>133.0</td>\n",
       "      <td>166.0</td>\n",
       "      <td>3655</td>\n",
       "      <td>3566</td>\n",
       "      <td>2827</td>\n",
       "      <td>2603</td>\n",
       "      <td>...</td>\n",
       "      <td>284</td>\n",
       "      <td>64</td>\n",
       "      <td>72</td>\n",
       "      <td>4325</td>\n",
       "      <td>5200</td>\n",
       "      <td>2750</td>\n",
       "      <td>3375</td>\n",
       "      <td>3300</td>\n",
       "      <td>2124</td>\n",
       "      <td>1</td>\n",
       "    </tr>\n",
       "    <tr>\n",
       "      <th>2</th>\n",
       "      <td>643</td>\n",
       "      <td>2</td>\n",
       "      <td>0</td>\n",
       "      <td>0</td>\n",
       "      <td>86.0</td>\n",
       "      <td>151.0</td>\n",
       "      <td>3498</td>\n",
       "      <td>3431</td>\n",
       "      <td>2715</td>\n",
       "      <td>2491</td>\n",
       "      <td>...</td>\n",
       "      <td>478</td>\n",
       "      <td>64</td>\n",
       "      <td>71</td>\n",
       "      <td>600</td>\n",
       "      <td>4450</td>\n",
       "      <td>3550</td>\n",
       "      <td>3575</td>\n",
       "      <td>7625</td>\n",
       "      <td>3799</td>\n",
       "      <td>1</td>\n",
       "    </tr>\n",
       "    <tr>\n",
       "      <th>3</th>\n",
       "      <td>721</td>\n",
       "      <td>2</td>\n",
       "      <td>0</td>\n",
       "      <td>0</td>\n",
       "      <td>79.0</td>\n",
       "      <td>170.0</td>\n",
       "      <td>3090</td>\n",
       "      <td>4109</td>\n",
       "      <td>2127</td>\n",
       "      <td>2967</td>\n",
       "      <td>...</td>\n",
       "      <td>762</td>\n",
       "      <td>65</td>\n",
       "      <td>73</td>\n",
       "      <td>175</td>\n",
       "      <td>5675</td>\n",
       "      <td>3150</td>\n",
       "      <td>4125</td>\n",
       "      <td>12450</td>\n",
       "      <td>5624</td>\n",
       "      <td>1</td>\n",
       "    </tr>\n",
       "    <tr>\n",
       "      <th>4</th>\n",
       "      <td>100</td>\n",
       "      <td>1</td>\n",
       "      <td>0</td>\n",
       "      <td>1</td>\n",
       "      <td>20.0</td>\n",
       "      <td>20.0</td>\n",
       "      <td>911</td>\n",
       "      <td>962</td>\n",
       "      <td>867</td>\n",
       "      <td>783</td>\n",
       "      <td>...</td>\n",
       "      <td>38</td>\n",
       "      <td>18</td>\n",
       "      <td>19</td>\n",
       "      <td>0</td>\n",
       "      <td>0</td>\n",
       "      <td>0</td>\n",
       "      <td>150</td>\n",
       "      <td>0</td>\n",
       "      <td>0</td>\n",
       "      <td>1</td>\n",
       "    </tr>\n",
       "    <tr>\n",
       "      <th>5</th>\n",
       "      <td>493</td>\n",
       "      <td>1</td>\n",
       "      <td>0</td>\n",
       "      <td>1</td>\n",
       "      <td>149.0</td>\n",
       "      <td>128.0</td>\n",
       "      <td>4574</td>\n",
       "      <td>2899</td>\n",
       "      <td>3723</td>\n",
       "      <td>2183</td>\n",
       "      <td>...</td>\n",
       "      <td>631</td>\n",
       "      <td>90</td>\n",
       "      <td>61</td>\n",
       "      <td>3650</td>\n",
       "      <td>4675</td>\n",
       "      <td>1700</td>\n",
       "      <td>2000</td>\n",
       "      <td>1043</td>\n",
       "      <td>0</td>\n",
       "      <td>1</td>\n",
       "    </tr>\n",
       "    <tr>\n",
       "      <th>6</th>\n",
       "      <td>507</td>\n",
       "      <td>1</td>\n",
       "      <td>0</td>\n",
       "      <td>1</td>\n",
       "      <td>110.0</td>\n",
       "      <td>121.0</td>\n",
       "      <td>4562</td>\n",
       "      <td>2966</td>\n",
       "      <td>3667</td>\n",
       "      <td>2183</td>\n",
       "      <td>...</td>\n",
       "      <td>294</td>\n",
       "      <td>90</td>\n",
       "      <td>61</td>\n",
       "      <td>1550</td>\n",
       "      <td>3325</td>\n",
       "      <td>2150</td>\n",
       "      <td>2000</td>\n",
       "      <td>3418</td>\n",
       "      <td>1300</td>\n",
       "      <td>1</td>\n",
       "    </tr>\n",
       "    <tr>\n",
       "      <th>7</th>\n",
       "      <td>779</td>\n",
       "      <td>1</td>\n",
       "      <td>0</td>\n",
       "      <td>1</td>\n",
       "      <td>94.0</td>\n",
       "      <td>167.0</td>\n",
       "      <td>2994</td>\n",
       "      <td>3252</td>\n",
       "      <td>2323</td>\n",
       "      <td>2491</td>\n",
       "      <td>...</td>\n",
       "      <td>378</td>\n",
       "      <td>72</td>\n",
       "      <td>58</td>\n",
       "      <td>750</td>\n",
       "      <td>5950</td>\n",
       "      <td>2025</td>\n",
       "      <td>3475</td>\n",
       "      <td>15328</td>\n",
       "      <td>10175</td>\n",
       "      <td>1</td>\n",
       "    </tr>\n",
       "  </tbody>\n",
       "</table>\n",
       "<p>8 rows × 27 columns</p>\n",
       "</div>"
      ],
      "text/plain": [
       "   time  race1  race2  map  supplyUsed1  supplyUsed2  totalIncome1  \\\n",
       "0   100      2      0    0         20.0         20.0          1040   \n",
       "1   621      2      0    0        133.0        166.0          3655   \n",
       "2   643      2      0    0         86.0        151.0          3498   \n",
       "3   721      2      0    0         79.0        170.0          3090   \n",
       "4   100      1      0    1         20.0         20.0           911   \n",
       "5   493      1      0    1        149.0        128.0          4574   \n",
       "6   507      1      0    1        110.0        121.0          4562   \n",
       "7   779      1      0    1         94.0        167.0          2994   \n",
       "\n",
       "   totalIncome2  mineralsIncome1  mineralsIncome2  ...  vespene2  \\\n",
       "0           883              951              727  ...        34   \n",
       "1          3566             2827             2603  ...       284   \n",
       "2          3431             2715             2491  ...       478   \n",
       "3          4109             2127             2967  ...       762   \n",
       "4           962              867              783  ...        38   \n",
       "5          2899             3723             2183  ...       631   \n",
       "6          2966             3667             2183  ...       294   \n",
       "7          3252             2323             2491  ...       378   \n",
       "\n",
       "   activeWorkers1  activeWorkers2  army1  army2  technology1  technology2  \\\n",
       "0              20              19      0      0          150          150   \n",
       "1              64              72   4325   5200         2750         3375   \n",
       "2              64              71    600   4450         3550         3575   \n",
       "3              65              73    175   5675         3150         4125   \n",
       "4              18              19      0      0            0          150   \n",
       "5              90              61   3650   4675         1700         2000   \n",
       "6              90              61   1550   3325         2150         2000   \n",
       "7              72              58    750   5950         2025         3475   \n",
       "\n",
       "   lostResources1  lostResources2  winner  \n",
       "0               0               0       1  \n",
       "1            3300            2124       1  \n",
       "2            7625            3799       1  \n",
       "3           12450            5624       1  \n",
       "4               0               0       1  \n",
       "5            1043               0       1  \n",
       "6            3418            1300       1  \n",
       "7           15328           10175       1  \n",
       "\n",
       "[8 rows x 27 columns]"
      ]
     },
     "execution_count": 24,
     "metadata": {},
     "output_type": "execute_result"
    }
   ],
   "source": [
    "dataPrime = pd.read_csv(\"archive/datasetPrime.csv\")\n",
    "dataPrime.head(len(dataPrime.index))"
   ]
  },
  {
   "cell_type": "code",
   "execution_count": 25,
   "id": "71fcf665",
   "metadata": {},
   "outputs": [],
   "source": [
    "def predictor(n):\n",
    "    toPredict = list()\n",
    "    \n",
    "    for i in range(len(inputColumns)):\n",
    "        toPredict.append(dataPrime.iloc[n][i])\n",
    "    \n",
    "    toPredict = [float(item) for item in toPredict]\n",
    "    \n",
    "    for col in range(len(inputColumns)):\n",
    "        toPredict[col] = (toPredict[col] - data[inputColumns[col]].min()) / (data[inputColumns[col]].max() - data[inputColumns[col]].min())\n",
    "    \n",
    "    predict(torch.tensor([toPredict], dtype = torch.float32), verbose = False)"
   ]
  },
  {
   "cell_type": "markdown",
   "id": "71028233",
   "metadata": {},
   "source": [
    "- Rappelons que \"joueur 1\" désigne le joueur décrit par \"race1\", \"supplyUsed1...\". Les captures d'écran sont prises du point de vue du joueur 1 (Protoss dans la partie 1 et Zerg dans la partie 2).\n",
    "- 1ère partie à 1 min 40 (début de partie). On remarque que la probabilité de victoire du joueur est quasiment de 49 % (ou 49/100 = 0.5), en équilibre avec la probabilité de victoire de l'adversaire.\n",
    "\n",
    "<img src=\"files/figures/TvP1.jpg\" width=\"800px\"/>"
   ]
  },
  {
   "cell_type": "code",
   "execution_count": 26,
   "id": "824e0584",
   "metadata": {},
   "outputs": [
    {
     "name": "stdout",
     "output_type": "stream",
     "text": [
      "Probabilité de victoire du joueur 1 : 0.4840\n"
     ]
    }
   ],
   "source": [
    "predictor(0)"
   ]
  },
  {
   "cell_type": "markdown",
   "id": "6d09033f",
   "metadata": {},
   "source": [
    "- 1ère partie à 10 min 21 (avant le combat). Le réseau de neurones prédit une mauvaise bataille pour le joueur Protoss. Sa probabilité que la partie se solde par une victoire pour lui est estimée à 20 %.\n",
    "\n",
    "<img src=\"files/figures/TvP2.jpg\" width=\"800px\"/>"
   ]
  },
  {
   "cell_type": "code",
   "execution_count": 27,
   "id": "d6d981cb",
   "metadata": {},
   "outputs": [
    {
     "name": "stdout",
     "output_type": "stream",
     "text": [
      "Probabilité de victoire du joueur 1 : 0.2295\n"
     ]
    }
   ],
   "source": [
    "predictor(1)"
   ]
  },
  {
   "cell_type": "markdown",
   "id": "c573e723",
   "metadata": {},
   "source": [
    "Image du déroulé du combat à titre indicatif.\n",
    "\n",
    "<img src=\"files/figures/TvP3.jpg\" width=\"800px\"/>"
   ]
  },
  {
   "cell_type": "markdown",
   "id": "52664769",
   "metadata": {},
   "source": [
    "- 1ère partie à 10 min 43 (après le combat). Après la destruction de son armée, les chances de victoire du joueur Protoss baissent encore pour atteindre environ 9 %.\n",
    "\n",
    "<img src=\"files/figures/TvP4.jpg\" width=\"800px\"/>"
   ]
  },
  {
   "cell_type": "code",
   "execution_count": 28,
   "id": "8b79a7aa",
   "metadata": {},
   "outputs": [
    {
     "name": "stdout",
     "output_type": "stream",
     "text": [
      "Probabilité de victoire du joueur 1 : 0.1052\n"
     ]
    }
   ],
   "source": [
    "predictor(2)"
   ]
  },
  {
   "cell_type": "markdown",
   "id": "232ba637",
   "metadata": {},
   "source": [
    "- 1ère partie à 12 min 01 (fin de partie). Juste avant que le joueur n'abandonne, le réseau de neurones ne donne plus que 3 % de chances de victoire au joueur Protoss.\n",
    "\n",
    "<img src=\"files/figures/TvP5.jpg\" width=\"800px\"/>"
   ]
  },
  {
   "cell_type": "code",
   "execution_count": 29,
   "id": "6cf0c6b7",
   "metadata": {},
   "outputs": [
    {
     "name": "stdout",
     "output_type": "stream",
     "text": [
      "Probabilité de victoire du joueur 1 : 0.0363\n"
     ]
    }
   ],
   "source": [
    "predictor(3)"
   ]
  },
  {
   "cell_type": "markdown",
   "id": "7be82e7e",
   "metadata": {},
   "source": [
    "- 2ème partie à 1 min 40 (début de partie). Encore une fois, la situation des deux joueurs est relativement équivalente à ce moment de la partie avec une chance de victoire de 46 % pour le joueur Zerg. Cet écart intéressant (malgré tout faible) peut témoigner soit d'erreurs faites par le joueur en ce début de partie, soit d'un déséquilibre comme une carte favorable au joueur Terran (adverse).\n",
    "\n",
    "<img src=\"files/figures/TvZ1.jpg\" width=\"800px\"/>"
   ]
  },
  {
   "cell_type": "code",
   "execution_count": 30,
   "id": "d84f18ab",
   "metadata": {},
   "outputs": [
    {
     "name": "stdout",
     "output_type": "stream",
     "text": [
      "Probabilité de victoire du joueur 1 : 0.4505\n"
     ]
    }
   ],
   "source": [
    "predictor(4)"
   ]
  },
  {
   "cell_type": "markdown",
   "id": "ae1c3654",
   "metadata": {},
   "source": [
    "- 2ème partie à 8 min 13 (avant le combat). Le réseau de neurones prédit une victoire du joueur Zerg avec 85 % de probabilité.\n",
    "\n",
    "<img src=\"files/figures/TvZ2.jpg\" width=\"800px\"/>"
   ]
  },
  {
   "cell_type": "code",
   "execution_count": 31,
   "id": "156e9c57",
   "metadata": {},
   "outputs": [
    {
     "name": "stdout",
     "output_type": "stream",
     "text": [
      "Probabilité de victoire du joueur 1 : 0.8454\n"
     ]
    }
   ],
   "source": [
    "predictor(5)"
   ]
  },
  {
   "cell_type": "markdown",
   "id": "d62bfa67",
   "metadata": {},
   "source": [
    "Image du déroulé du combat à titre indicatif.\n",
    "\n",
    "<img src=\"files/figures/TvZ3.jpg\" width=\"800px\"/>"
   ]
  },
  {
   "cell_type": "markdown",
   "id": "f0151863",
   "metadata": {},
   "source": [
    "- 2ème partie à 8 min 27 (après le combat). La prédiction précédente se trouve déjouée par le joueur Terran qui a pris un meilleur engagement pour diverses raisons. Malgré tout, le joueur Zerg conserve de bonnes chances de gagner de 73 % grâce notamment à son économie (il possède 4 bases contre 3 pour le joueur Terran).\n",
    "\n",
    "<img src=\"files/figures/TvZ4.jpg\" width=\"800px\"/>"
   ]
  },
  {
   "cell_type": "code",
   "execution_count": 32,
   "id": "8dc0b937",
   "metadata": {},
   "outputs": [
    {
     "name": "stdout",
     "output_type": "stream",
     "text": [
      "Probabilité de victoire du joueur 1 : 0.7074\n"
     ]
    }
   ],
   "source": [
    "predictor(6)"
   ]
  },
  {
   "cell_type": "markdown",
   "id": "e1b50c95",
   "metadata": {},
   "source": [
    "- 2ème partie à 12 min 59 (fin de partie). Le joueur Zerg n'aura pas su tirer parti de son économie. On observe en effet à la fin de la partie qu'il possède beaucoup de ressources en réserve (indiquées sur le bord supérieur droit de l'image ci-dessous). Les ressources qu'il a récolté n'ont pas été réinvesties, conduisant à une probabilité de victoire de 8 % avant son abandon.\n",
    "\n",
    "<img src=\"files/figures/TvZ5.jpg\" width=\"800px\"/>"
   ]
  },
  {
   "cell_type": "code",
   "execution_count": 33,
   "id": "b2f774e8",
   "metadata": {},
   "outputs": [
    {
     "name": "stdout",
     "output_type": "stream",
     "text": [
      "Probabilité de victoire du joueur 1 : 0.0844\n"
     ]
    }
   ],
   "source": [
    "predictor(7)"
   ]
  },
  {
   "cell_type": "markdown",
   "id": "737de2b3",
   "metadata": {},
   "source": [
    "## Sauvegarde"
   ]
  },
  {
   "cell_type": "code",
   "execution_count": 34,
   "id": "b4471f1b",
   "metadata": {},
   "outputs": [
    {
     "name": "stdout",
     "output_type": "stream",
     "text": [
      "OrderedDict([('fc1.weight', tensor([[-0.1733, -0.1966, -0.1567,  ...,  0.1054,  0.0024,  0.0706],\n",
      "        [-0.1958, -0.0837, -0.0086,  ..., -0.0480, -0.0912,  0.1751],\n",
      "        [ 0.0993,  0.0795, -0.1223,  ...,  0.1402,  0.0682,  0.0754],\n",
      "        ...,\n",
      "        [ 0.0171, -0.0460, -0.1436,  ...,  0.1491,  0.1827,  0.0025],\n",
      "        [ 0.1812, -0.1348,  0.1041,  ...,  0.1694, -0.1853,  0.1879],\n",
      "        [ 0.2061,  0.1787,  0.1663,  ..., -0.0541, -0.0807,  0.0042]])), ('fc1.bias', tensor([ 0.0780, -0.1919,  0.1687, -0.1604,  0.0576,  0.1459,  0.0839,  0.1477,\n",
      "         0.1130, -0.0787,  0.1651, -0.0790,  0.1462,  0.0714,  0.0003, -0.1201,\n",
      "         0.1480,  0.1624,  0.1428,  0.2207, -0.1855,  0.0567,  0.1774, -0.0170,\n",
      "        -0.0993, -0.1512, -0.0245, -0.0625,  0.0948, -0.1832, -0.0320,  0.1780,\n",
      "        -0.1454, -0.1254,  0.1589, -0.1347,  0.0234,  0.1313, -0.1827,  0.1902,\n",
      "         0.0797,  0.1092,  0.2039,  0.1457, -0.0873, -0.1288,  0.1548,  0.0965,\n",
      "         0.1200, -0.1514,  0.0598, -0.0339, -0.1357, -0.1737,  0.0535,  0.0733,\n",
      "        -0.0244,  0.0884,  0.0333,  0.0598,  0.1386,  0.0106, -0.0080,  0.0160,\n",
      "        -0.0288,  0.0555, -0.1860,  0.1029, -0.1928, -0.1724, -0.1666, -0.1174,\n",
      "         0.1539,  0.1684, -0.1696,  0.0127, -0.0054,  0.0670,  0.2112,  0.1140,\n",
      "        -0.1403, -0.0546,  0.1187, -0.0819,  0.1663,  0.0256,  0.1252, -0.0840,\n",
      "         0.1600, -0.1873,  0.0654, -0.1355,  0.0327,  0.0066,  0.1278,  0.1092,\n",
      "         0.1494, -0.0548,  0.0640, -0.0517,  0.0229,  0.0322,  0.1442, -0.1455,\n",
      "         0.0764, -0.1756,  0.1297, -0.1820, -0.0084,  0.1722,  0.0335,  0.1604,\n",
      "        -0.0812,  0.0506,  0.0943, -0.1042, -0.1292,  0.0827, -0.1372,  0.1342,\n",
      "        -0.1129,  0.1202,  0.1554, -0.1448, -0.0502, -0.1919,  0.0020,  0.1955])), ('fc2.weight', tensor([[-0.0066,  0.0691, -0.0777,  ...,  0.0573, -0.0151,  0.0363],\n",
      "        [-0.0185, -0.0705, -0.0151,  ..., -0.0660,  0.0818,  0.0741],\n",
      "        [ 0.0850,  0.0027,  0.0289,  ...,  0.0045, -0.0360,  0.0711],\n",
      "        ...,\n",
      "        [-0.0835, -0.0631,  0.0499,  ..., -0.0833,  0.0062,  0.0632],\n",
      "        [ 0.0217,  0.0251, -0.0609,  ..., -0.0735,  0.0295,  0.0745],\n",
      "        [ 0.0575, -0.0491,  0.0446,  ..., -0.0744, -0.0460, -0.0497]])), ('fc2.bias', tensor([-0.0754,  0.0497, -0.0822,  0.0356,  0.0968,  0.0859,  0.0272, -0.0459,\n",
      "        -0.0859, -0.0032, -0.0835, -0.0344, -0.0874,  0.0853, -0.0178,  0.0229,\n",
      "         0.0151,  0.0579,  0.0770, -0.0031, -0.0412,  0.1354,  0.1048, -0.0703,\n",
      "         0.0032,  0.0921, -0.0440, -0.0616, -0.0393, -0.0812, -0.0797, -0.0159,\n",
      "         0.0885,  0.0639, -0.0380, -0.0164, -0.0986, -0.0118,  0.0019, -0.0831,\n",
      "        -0.0661, -0.0197,  0.0900, -0.0496,  0.0371, -0.0024, -0.0793,  0.0646,\n",
      "        -0.0532,  0.0425,  0.0207,  0.0057,  0.0039,  0.0506,  0.0052, -0.0639,\n",
      "         0.0707, -0.0618,  0.0489,  0.0112, -0.0274,  0.0622, -0.0287,  0.0684,\n",
      "        -0.0122,  0.0052,  0.1512,  0.0810,  0.0003,  0.0506,  0.0195,  0.0248,\n",
      "         0.0897,  0.0889,  0.0402, -0.0186, -0.0331, -0.0740, -0.0020, -0.0164,\n",
      "         0.0382,  0.0789,  0.0573,  0.0812, -0.0488,  0.0667,  0.0561, -0.0448,\n",
      "         0.0747,  0.0564,  0.0711,  0.1000,  0.0789,  0.0276, -0.0738, -0.0054,\n",
      "        -0.0459,  0.0276,  0.0192,  0.0864,  0.0061,  0.0947,  0.0521,  0.0026,\n",
      "        -0.0732,  0.0063, -0.0844, -0.0261,  0.0554, -0.0597,  0.0890, -0.0797,\n",
      "        -0.0185, -0.0063,  0.0121,  0.0163,  0.0817, -0.0204, -0.0592, -0.0604,\n",
      "        -0.0116,  0.1012,  0.0121,  0.0405, -0.0214, -0.0571,  0.0753, -0.0040])), ('fc3.weight', tensor([[ 0.0303, -0.2078, -0.0804, -0.2467,  0.5562,  0.2648,  0.1662, -0.1100,\n",
      "          0.0683, -0.2579,  0.0756,  0.0163, -0.0041, -0.6388,  0.0164,  0.3811,\n",
      "         -0.0853, -0.4807, -0.1624,  0.3440,  0.1495, -0.7084,  0.6467,  0.0660,\n",
      "          0.0804, -0.1188, -0.0837,  0.0407,  0.3587,  0.0258, -0.0771,  0.0288,\n",
      "          0.1763, -0.1327, -0.2324, -0.0275, -0.0739, -0.0544, -0.0067, -0.0416,\n",
      "         -0.0233,  0.0078,  0.0684,  0.0097, -0.1264,  0.0656, -0.0635,  0.1335,\n",
      "          0.1212, -0.3170, -0.1858,  0.0873, -0.0110,  0.6052, -0.0840,  0.0534,\n",
      "          0.5877, -0.0730, -0.1838,  0.0311, -0.2057,  0.1789, -0.3814,  0.3601,\n",
      "          0.3359, -0.0647, -0.6484, -0.1184, -0.0427, -0.3688,  0.1400, -0.0641,\n",
      "          0.6397, -0.2502, -0.2089, -0.1717, -0.0792, -0.0233,  0.0691,  0.0472,\n",
      "          0.2390,  0.3020,  0.2635,  0.3138, -0.1070,  0.3668, -0.3405,  0.3032,\n",
      "          0.1369,  0.1129, -0.1037, -0.0492, -0.2311,  0.1882, -0.0509, -0.1284,\n",
      "          0.0245, -0.0705, -0.0416, -0.3964, -0.3447,  0.4939, -0.3895,  0.1745,\n",
      "         -0.0736,  0.0578, -0.0514,  0.0600,  0.0208, -0.0794,  0.2067, -0.0317,\n",
      "         -0.0661, -0.0770, -0.0172,  0.0725, -0.1781,  0.1047,  0.0380, -0.0382,\n",
      "         -0.0660, -0.3547,  0.2514, -0.2794,  0.1346,  0.0720, -0.0832,  0.0556]])), ('fc3.bias', tensor([-0.0872]))])\n"
     ]
    }
   ],
   "source": [
    "torch.save(model.state_dict(), \"starcraft2-best-model.pt\")\n",
    "print(model.state_dict())"
   ]
  }
 ],
 "metadata": {
  "kernelspec": {
   "display_name": "Python 3 (ipykernel)",
   "language": "python",
   "name": "python3"
  },
  "language_info": {
   "codemirror_mode": {
    "name": "ipython",
    "version": 3
   },
   "file_extension": ".py",
   "mimetype": "text/x-python",
   "name": "python",
   "nbconvert_exporter": "python",
   "pygments_lexer": "ipython3",
   "version": "3.9.7"
  }
 },
 "nbformat": 4,
 "nbformat_minor": 5
}
