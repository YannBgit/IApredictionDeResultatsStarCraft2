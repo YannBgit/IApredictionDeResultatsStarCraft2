{
 "cells": [
  {
   "cell_type": "markdown",
   "id": "ac35021e",
   "metadata": {},
   "source": [
    "# Réseau de neurone ``PyTorch``- Prédiction de vainqueur sur StarCraft 2"
   ]
  },
  {
   "cell_type": "markdown",
   "id": "bcbe3b65",
   "metadata": {},
   "source": [
    "Le dataset représente de nombreuses parties 1 contre 1 sur le jeu StarCraft 2.\n",
    "Pour chaque replay est enregistré à chaque temps T l'etat du jeu (26 champs) ainsi que le vainqueur (1 champ), indiqué en dernière colonne par 0 ou 1.\n",
    "\n",
    "<img src=\"files/figures/sc2_logo.png\" width=\"600px\"/>\n",
    "\n",
    "Nous définirons et entraînerons un réseau de neurones sur ce dataset. C'est un problème de régression car nous voulons une probabilité de victoire.<br>\n",
    "Nous commencerons par programmer notre réseau de neurones en affichant les données pertinentes, et nous passerons à une étude de cas pour concrétiser l'utilisation du programme."
   ]
  },
  {
   "cell_type": "markdown",
   "id": "933ac146",
   "metadata": {},
   "source": [
    "## 1. Librairies"
   ]
  },
  {
   "cell_type": "code",
   "execution_count": 12,
   "id": "6235ff87",
   "metadata": {
    "scrolled": true
   },
   "outputs": [],
   "source": [
    "import torch\n",
    "import pandas as pd\n",
    "import numpy as np\n",
    "import matplotlib.pyplot as plt\n",
    "import torch.nn as nn\n",
    "import torch.nn.functional as F\n",
    "import seaborn as sns\n",
    "\n",
    "from torch.utils.data import DataLoader, TensorDataset, random_split"
   ]
  },
  {
   "cell_type": "markdown",
   "id": "56800aaa",
   "metadata": {},
   "source": [
    "## 2. Exploration des datasets"
   ]
  },
  {
   "cell_type": "markdown",
   "id": "70011aad",
   "metadata": {},
   "source": [
    "- L'étape la plus longue pour arriver à entraîner notre IA a consisté en l'élaboration d'un dataset de qualité pour le sujet qui nous intéressait. Nous avons dû écrire un programme permettant de générer un grand nombre de rows (lignes) sur de nombreuses données permettant de décrire l'état d'une partie de StarCraft 2 en cours.<br>\n",
    "Le code source de ce parseur est disponible sur github :<br>\n",
    "https://github.com/YannBgit/SC2replayDatasetGenerator\n",
    "\n",
    "- Ce programme a pu être écrit grâce à l'API sc2reader qui permet d'extraire des données de fichiers SC2Replay. Son code source est également disponible :<br>\n",
    "https://github.com/ggtracker/sc2reader\n",
    "\n",
    "- Le parseur contient des fonctionnalités d'ergonomie et de randomisation de datasets. Sans entrer dans les détails (l'utilisation est détaillée dans le README), il est possible à partir d'un répertoire contenant un grand nombre de replays de choisir le nombre à utiliser pour le dataset, qu'un script va sélectionner aléatoirement dans le répertoire source.<br>\n",
    "- Le parseur va ensuite extraire des données de ces replays pour générer un grand nombre de rows correspondant chacun à un instant dans la partie étudiée.<br><br>\n",
    "- L'étape suivante a été de trouver un grand nombre de replays exploitables à donner au parseur. Heureusement, Blizzard, le studio produisant le jeu, a rendu public une base de données massive de replays anonymisés qui ont servi aux équipes de Google pour entraîner l'IA AlphaStar. Nous avons donc pu parser 30 000 replays.\n",
    "- Affichage des données."
   ]
  },
  {
   "cell_type": "code",
   "execution_count": 13,
   "id": "1293319b",
   "metadata": {
    "scrolled": true
   },
   "outputs": [
    {
     "data": {
      "text/html": [
       "<div>\n",
       "<style scoped>\n",
       "    .dataframe tbody tr th:only-of-type {\n",
       "        vertical-align: middle;\n",
       "    }\n",
       "\n",
       "    .dataframe tbody tr th {\n",
       "        vertical-align: top;\n",
       "    }\n",
       "\n",
       "    .dataframe thead th {\n",
       "        text-align: right;\n",
       "    }\n",
       "</style>\n",
       "<table border=\"1\" class=\"dataframe\">\n",
       "  <thead>\n",
       "    <tr style=\"text-align: right;\">\n",
       "      <th></th>\n",
       "      <th>time</th>\n",
       "      <th>race1</th>\n",
       "      <th>race2</th>\n",
       "      <th>map</th>\n",
       "      <th>supplyUsed1</th>\n",
       "      <th>supplyUsed2</th>\n",
       "      <th>totalIncome1</th>\n",
       "      <th>totalIncome2</th>\n",
       "      <th>mineralsIncome1</th>\n",
       "      <th>mineralsIncome2</th>\n",
       "      <th>...</th>\n",
       "      <th>vespene2</th>\n",
       "      <th>activeWorkers1</th>\n",
       "      <th>activeWorkers2</th>\n",
       "      <th>army1</th>\n",
       "      <th>army2</th>\n",
       "      <th>technology1</th>\n",
       "      <th>technology2</th>\n",
       "      <th>lostResources1</th>\n",
       "      <th>lostResources2</th>\n",
       "      <th>winner</th>\n",
       "    </tr>\n",
       "  </thead>\n",
       "  <tbody>\n",
       "    <tr>\n",
       "      <th>0</th>\n",
       "      <td>7</td>\n",
       "      <td>0</td>\n",
       "      <td>0</td>\n",
       "      <td>0</td>\n",
       "      <td>13.0</td>\n",
       "      <td>13.0</td>\n",
       "      <td>210</td>\n",
       "      <td>150</td>\n",
       "      <td>210</td>\n",
       "      <td>150</td>\n",
       "      <td>...</td>\n",
       "      <td>0</td>\n",
       "      <td>12</td>\n",
       "      <td>12</td>\n",
       "      <td>0</td>\n",
       "      <td>0</td>\n",
       "      <td>0</td>\n",
       "      <td>0</td>\n",
       "      <td>0</td>\n",
       "      <td>0</td>\n",
       "      <td>0</td>\n",
       "    </tr>\n",
       "    <tr>\n",
       "      <th>1</th>\n",
       "      <td>14</td>\n",
       "      <td>0</td>\n",
       "      <td>0</td>\n",
       "      <td>0</td>\n",
       "      <td>14.0</td>\n",
       "      <td>14.0</td>\n",
       "      <td>480</td>\n",
       "      <td>480</td>\n",
       "      <td>480</td>\n",
       "      <td>480</td>\n",
       "      <td>...</td>\n",
       "      <td>0</td>\n",
       "      <td>13</td>\n",
       "      <td>13</td>\n",
       "      <td>0</td>\n",
       "      <td>0</td>\n",
       "      <td>0</td>\n",
       "      <td>0</td>\n",
       "      <td>0</td>\n",
       "      <td>0</td>\n",
       "      <td>0</td>\n",
       "    </tr>\n",
       "    <tr>\n",
       "      <th>2</th>\n",
       "      <td>21</td>\n",
       "      <td>0</td>\n",
       "      <td>0</td>\n",
       "      <td>0</td>\n",
       "      <td>14.0</td>\n",
       "      <td>14.0</td>\n",
       "      <td>520</td>\n",
       "      <td>500</td>\n",
       "      <td>520</td>\n",
       "      <td>500</td>\n",
       "      <td>...</td>\n",
       "      <td>0</td>\n",
       "      <td>13</td>\n",
       "      <td>13</td>\n",
       "      <td>0</td>\n",
       "      <td>0</td>\n",
       "      <td>0</td>\n",
       "      <td>0</td>\n",
       "      <td>0</td>\n",
       "      <td>0</td>\n",
       "      <td>0</td>\n",
       "    </tr>\n",
       "  </tbody>\n",
       "</table>\n",
       "<p>3 rows × 27 columns</p>\n",
       "</div>"
      ],
      "text/plain": [
       "   time  race1  race2  map  supplyUsed1  supplyUsed2  totalIncome1  \\\n",
       "0     7      0      0    0         13.0         13.0           210   \n",
       "1    14      0      0    0         14.0         14.0           480   \n",
       "2    21      0      0    0         14.0         14.0           520   \n",
       "\n",
       "   totalIncome2  mineralsIncome1  mineralsIncome2  ...  vespene2  \\\n",
       "0           150              210              150  ...         0   \n",
       "1           480              480              480  ...         0   \n",
       "2           500              520              500  ...         0   \n",
       "\n",
       "   activeWorkers1  activeWorkers2  army1  army2  technology1  technology2  \\\n",
       "0              12              12      0      0            0            0   \n",
       "1              13              13      0      0            0            0   \n",
       "2              13              13      0      0            0            0   \n",
       "\n",
       "   lostResources1  lostResources2  winner  \n",
       "0               0               0       0  \n",
       "1               0               0       0  \n",
       "2               0               0       0  \n",
       "\n",
       "[3 rows x 27 columns]"
      ]
     },
     "execution_count": 13,
     "metadata": {},
     "output_type": "execute_result"
    }
   ],
   "source": [
    "data = pd.read_csv(\"archive/dataset.csv\")\n",
    "data.head(3)"
   ]
  },
  {
   "cell_type": "code",
   "execution_count": 14,
   "id": "3d976b2e",
   "metadata": {},
   "outputs": [
    {
     "data": {
      "text/plain": [
       "time                 int64\n",
       "race1                int64\n",
       "race2                int64\n",
       "map                  int64\n",
       "supplyUsed1        float64\n",
       "supplyUsed2        float64\n",
       "totalIncome1         int64\n",
       "totalIncome2         int64\n",
       "mineralsIncome1      int64\n",
       "mineralsIncome2      int64\n",
       "vespeneIncome1       int64\n",
       "vespeneIncome2       int64\n",
       "totalResources1      int64\n",
       "totalResources2      int64\n",
       "minerals1            int64\n",
       "minerals2            int64\n",
       "vespene1             int64\n",
       "vespene2             int64\n",
       "activeWorkers1       int64\n",
       "activeWorkers2       int64\n",
       "army1                int64\n",
       "army2                int64\n",
       "technology1          int64\n",
       "technology2          int64\n",
       "lostResources1       int64\n",
       "lostResources2       int64\n",
       "winner               int64\n",
       "dtype: object"
      ]
     },
     "execution_count": 14,
     "metadata": {},
     "output_type": "execute_result"
    }
   ],
   "source": [
    "data.dtypes"
   ]
  },
  {
   "cell_type": "code",
   "execution_count": 15,
   "id": "cff1c1b2",
   "metadata": {},
   "outputs": [
    {
     "data": {
      "text/plain": [
       "2178246"
      ]
     },
     "execution_count": 15,
     "metadata": {},
     "output_type": "execute_result"
    }
   ],
   "source": [
    "len(data.index)"
   ]
  },
  {
   "cell_type": "code",
   "execution_count": 16,
   "id": "03c68be8",
   "metadata": {},
   "outputs": [
    {
     "data": {
      "text/plain": [
       "27"
      ]
     },
     "execution_count": 16,
     "metadata": {},
     "output_type": "execute_result"
    }
   ],
   "source": [
    "len(data.columns)"
   ]
  },
  {
   "cell_type": "code",
   "execution_count": 17,
   "id": "cec1468c",
   "metadata": {
    "scrolled": true
   },
   "outputs": [
    {
     "data": {
      "text/plain": [
       "1    802067\n",
       "0    749308\n",
       "2    626871\n",
       "Name: race1, dtype: int64"
      ]
     },
     "execution_count": 17,
     "metadata": {},
     "output_type": "execute_result"
    }
   ],
   "source": [
    "data.race1.value_counts()"
   ]
  },
  {
   "cell_type": "markdown",
   "id": "60515d6b",
   "metadata": {},
   "source": [
    "- Visualisation des relations entre les colonnes."
   ]
  },
  {
   "cell_type": "code",
   "execution_count": 18,
   "id": "b013b9db",
   "metadata": {},
   "outputs": [
    {
     "data": {
      "text/plain": [
       "<AxesSubplot:>"
      ]
     },
     "execution_count": 18,
     "metadata": {},
     "output_type": "execute_result"
    },
    {
     "data": {
      "image/png": "[encoded data removed]",
      "text/plain": [
       "<Figure size 640x480 with 2 Axes>"
      ]
     },
     "metadata": {},
     "output_type": "display_data"
    }
   ],
   "source": [
    "sns.heatmap(data.corr())"
   ]
  },
  {
   "cell_type": "markdown",
   "id": "39072afb",
   "metadata": {},
   "source": [
    "- Création des ensembles d'entraînement, d'évaluation et de test. <br>\n",
    "A noter que le préprocessing a été géré par le parseur en amont. Seuls des nombres (int ou float) sont écrits dans les colonnes."
   ]
  },
  {
   "cell_type": "code",
   "execution_count": 24,
   "id": "da2cc6fd",
   "metadata": {},
   "outputs": [],
   "source": [
    "def data_to_arrays(data, cols, normalize = False, labeled = True):\n",
    "    data1 = data.copy(deep = True)\n",
    "    \n",
    "    if normalize:\n",
    "        for col in cols:\n",
    "            data1[col] = (data1[col] - data1[col].min()) / (data1[col].max() - data1[col].min())\n",
    "            \n",
    "    inputs_array = data1[cols].to_numpy()\n",
    "    \n",
    "    if labeled:\n",
    "        targets_array = data1[output_cols].to_numpy().reshape(-1,1)\n",
    "        \n",
    "        return inputs_array, targets_array\n",
    "    \n",
    "    else:\n",
    "        return inputs_array"
   ]
  },
  {
   "cell_type": "code",
   "execution_count": 25,
   "id": "ac2a3a33",
   "metadata": {},
   "outputs": [],
   "source": [
    "input_cols = data.columns\n",
    "output_cols = [\"winner\"]\n",
    "\n",
    "input_arr, target_arr = data_to_arrays(data, input_cols, normalize = True)\n",
    "\n",
    "inputs = torch.tensor(input_arr, dtype = torch.float32)\n",
    "targets = torch.tensor(target_arr, dtype = torch.float32)\n",
    "\n",
    "dataset = TensorDataset(inputs, targets)\n",
    "img_tensor, label = dataset[0]\n",
    "\n",
    "validation_part = 0.2\n",
    "validation_size = int(validation_part * len(dataset))\n",
    "train_size = len(dataset) - validation_size\n",
    "train_ds, val_ds = random_split(dataset, [train_size, validation_size])"
   ]
  },
  {
   "cell_type": "markdown",
   "id": "def10bdf",
   "metadata": {},
   "source": [
    "- Appel des dataloader."
   ]
  },
  {
   "cell_type": "code",
   "execution_count": 26,
   "id": "8e61c37a",
   "metadata": {},
   "outputs": [],
   "source": [
    "batch_size = 1024\n",
    "\n",
    "train_loader = DataLoader(train_ds, batch_size, shuffle = True)\n",
    "val_loader = DataLoader(val_ds, batch_size)\n",
    "\n",
    "num_inputs = len(input_cols)\n",
    "num_outputs = 1"
   ]
  },
  {
   "cell_type": "markdown",
   "id": "5375e22f",
   "metadata": {},
   "source": [
    "- Définition de la fonction de calcul de précision."
   ]
  },
  {
   "cell_type": "code",
   "execution_count": 27,
   "id": "cc5c5bf7",
   "metadata": {},
   "outputs": [],
   "source": [
    "def accuracy(outputs, labels):\n",
    "    return torch.tensor(torch.sum(outputs.round() == labels).item() / len(outputs))"
   ]
  },
  {
   "cell_type": "markdown",
   "id": "3d3fe9c1",
   "metadata": {},
   "source": [
    "- Définition du modèle."
   ]
  },
  {
   "cell_type": "code",
   "execution_count": 28,
   "id": "2cdfce77",
   "metadata": {},
   "outputs": [],
   "source": [
    "class Model(nn.Module):\n",
    "    def __init__(self):\n",
    "        super().__init__()\n",
    "        self.linear = nn.Linear(num_inputs, num_outputs)\n",
    "        \n",
    "    def forward(self, xb):\n",
    "        out = torch.sigmoid(self.linear(xb))\n",
    "        \n",
    "        return out\n",
    "    \n",
    "    def training_step(self, batch):\n",
    "        inputs, labels = batch \n",
    "        out = self(inputs)\n",
    "        loss = F.binary_cross_entropy(out, labels) # Calculate loss\n",
    "        \n",
    "        return loss\n",
    "    \n",
    "    def validation_step(self, batch):\n",
    "        inputs, labels = batch\n",
    "        out = self(inputs)\n",
    "        loss = F.binary_cross_entropy(out, labels)\n",
    "        acc = accuracy(out, labels)\n",
    "        \n",
    "        return {'val_loss': loss, 'val_acc': acc}\n",
    "    \n",
    "    def validation_epoch_end(self, outputs):\n",
    "        batch_losses = [x['val_loss'] for x in outputs]\n",
    "        epoch_loss = torch.stack(batch_losses).mean()\n",
    "        batch_accs = [x['val_acc'] for x in outputs]\n",
    "        epoch_acc = torch.stack(batch_accs).mean()\n",
    "        \n",
    "        return {'val_loss': epoch_loss.item(), 'val_acc': epoch_acc.item()}\n",
    "    \n",
    "    def epoch_end(self, epoch, result):\n",
    "        print(\"Epoch [{}], val_loss: {:.4f}, val_acc: {:.4f}\".format(epoch, result['val_loss'], result['val_acc']))\n",
    "    \n",
    "model = Model()"
   ]
  },
  {
   "cell_type": "markdown",
   "id": "2621c2d4",
   "metadata": {},
   "source": [
    "- Affichage des paramètres du modèle."
   ]
  },
  {
   "cell_type": "code",
   "execution_count": 29,
   "id": "4c11d27a",
   "metadata": {},
   "outputs": [
    {
     "name": "stdout",
     "output_type": "stream",
     "text": [
      "torch.Size([1, 27]) torch.Size([1])\n"
     ]
    },
    {
     "data": {
      "text/plain": [
       "[Parameter containing:\n",
       " tensor([[-0.1284, -0.1018, -0.0690, -0.0078, -0.0900, -0.1675,  0.0693,  0.0369,\n",
       "          -0.0140,  0.1450, -0.1066,  0.1067, -0.0931, -0.1193, -0.0348,  0.0775,\n",
       "           0.1595,  0.1248, -0.0922, -0.1238,  0.0405,  0.0412,  0.1710, -0.0033,\n",
       "           0.1773,  0.0735,  0.0068]], requires_grad=True),\n",
       " Parameter containing:\n",
       " tensor([-0.1114], requires_grad=True)]"
      ]
     },
     "execution_count": 29,
     "metadata": {},
     "output_type": "execute_result"
    }
   ],
   "source": [
    "print(model.linear.weight.shape, model.linear.bias.shape)\n",
    "list(model.parameters())"
   ]
  },
  {
   "cell_type": "code",
   "execution_count": 30,
   "id": "db9dcbf2",
   "metadata": {},
   "outputs": [
    {
     "name": "stdout",
     "output_type": "stream",
     "text": [
      "outputs.shape :  torch.Size([1024, 1])\n",
      "Sample outputs :\n",
      " tensor([[0.4537],\n",
      "        [0.4065]])\n"
     ]
    }
   ],
   "source": [
    "for images, labels in train_loader:\n",
    "    outputs = model(images)\n",
    "    \n",
    "    break\n",
    "\n",
    "print(\"outputs.shape : \", outputs.shape)\n",
    "print(\"Sample outputs :\\n\", outputs[:2].data)"
   ]
  },
  {
   "cell_type": "code",
   "execution_count": 31,
   "id": "140de29f",
   "metadata": {},
   "outputs": [],
   "source": [
    "@torch.no_grad()\n",
    "def evaluate(model, val_loader):\n",
    "    outputs = [model.validation_step(batch) for batch in val_loader]\n",
    "    \n",
    "    return model.validation_epoch_end(outputs)\n",
    "\n",
    "def get_lr(optimizer):\n",
    "    for param_group in optimizer.param_groups:\n",
    "        return param_group['lr']\n",
    "\n",
    "def fit_one_cycle(epochs, max_lr, model, train_loader, val_loader, \n",
    "                  weight_decay=0, grad_clip = None, opt_func = torch.optim.SGD):\n",
    "    history = []\n",
    "    \n",
    "    # Set up cutom optimizer with weight decay\n",
    "    optimizer = opt_func(model.parameters(), max_lr, weight_decay=weight_decay)\n",
    "    # Set up one-cycle learning rate scheduler\n",
    "    sched = torch.optim.lr_scheduler.OneCycleLR(optimizer, max_lr, epochs=epochs, steps_per_epoch=len(train_loader))\n",
    "    \n",
    "    for epoch in range(epochs):\n",
    "        model.train()\n",
    "        train_losses = []\n",
    "        lrs = []\n",
    "        for batch in train_loader:\n",
    "            loss = model.training_step(batch)\n",
    "            train_losses.append(loss)\n",
    "            loss.backward()\n",
    "            \n",
    "            if grad_clip: \n",
    "                nn.utils.clip_grad_value_(model.parameters(), grad_clip)\n",
    "            \n",
    "            optimizer.step()\n",
    "            optimizer.zero_grad()\n",
    "            \n",
    "            lrs.append(get_lr(optimizer))\n",
    "            sched.step()\n",
    "        \n",
    "        result = evaluate(model, val_loader)\n",
    "        result['train_loss'] = torch.stack(train_losses).mean().item()\n",
    "        result['lrs'] = lrs\n",
    "        model.epoch_end(epoch, result)\n",
    "        history.append(result)\n",
    "    \n",
    "    return history"
   ]
  },
  {
   "cell_type": "code",
   "execution_count": 32,
   "id": "172ef4a6",
   "metadata": {},
   "outputs": [
    {
     "data": {
      "text/plain": [
       "[{'val_loss': 0.6929285526275635, 'val_acc': 0.5294294357299805}]"
      ]
     },
     "execution_count": 32,
     "metadata": {},
     "output_type": "execute_result"
    }
   ],
   "source": [
    "history = [evaluate(model, val_loader)]\n",
    "history"
   ]
  },
  {
   "cell_type": "markdown",
   "id": "cd1c685c",
   "metadata": {},
   "source": [
    "- Paramétrage et entraînement du réseau de neurones."
   ]
  },
  {
   "cell_type": "code",
   "execution_count": 68,
   "id": "02b81ea5",
   "metadata": {},
   "outputs": [
    {
     "name": "stdout",
     "output_type": "stream",
     "text": [
      "Epoch [0], val_loss: 0.1085, val_acc: 1.0000\n",
      "Epoch [1], val_loss: 0.1083, val_acc: 1.0000\n",
      "Epoch [2], val_loss: 0.1081, val_acc: 1.0000\n",
      "Epoch [3], val_loss: 0.1084, val_acc: 1.0000\n",
      "Epoch [4], val_loss: 0.1090, val_acc: 1.0000\n",
      "Epoch [5], val_loss: 0.1078, val_acc: 1.0000\n",
      "Epoch [6], val_loss: 0.1083, val_acc: 1.0000\n",
      "Epoch [7], val_loss: 0.1083, val_acc: 1.0000\n",
      "Epoch [8], val_loss: 0.1084, val_acc: 1.0000\n",
      "Epoch [9], val_loss: 0.1088, val_acc: 1.0000\n",
      "Epoch [10], val_loss: 0.1084, val_acc: 1.0000\n",
      "Epoch [11], val_loss: 0.1090, val_acc: 1.0000\n",
      "Epoch [12], val_loss: 0.1089, val_acc: 1.0000\n",
      "Epoch [13], val_loss: 0.1088, val_acc: 1.0000\n",
      "Epoch [14], val_loss: 0.1082, val_acc: 1.0000\n",
      "Epoch [15], val_loss: 0.1085, val_acc: 1.0000\n",
      "Epoch [16], val_loss: 0.1083, val_acc: 1.0000\n",
      "Epoch [17], val_loss: 0.1085, val_acc: 1.0000\n",
      "Epoch [18], val_loss: 0.1085, val_acc: 1.0000\n",
      "Epoch [19], val_loss: 0.1085, val_acc: 1.0000\n"
     ]
    }
   ],
   "source": [
    "epochs = 20\n",
    "max_lr = 0.1\n",
    "grad_clip = 0.6\n",
    "weight_decay = 1e-2\n",
    "opt_func = torch.optim.Adam\n",
    "\n",
    "history += fit_one_cycle(epochs, max_lr, model, train_loader, val_loader, \n",
    "                             grad_clip = grad_clip, \n",
    "                             weight_decay = weight_decay, \n",
    "                             opt_func = opt_func)"
   ]
  },
  {
   "cell_type": "markdown",
   "id": "fb62ba30",
   "metadata": {},
   "source": [
    "- Définition des fonctions d'affichage de la précision, de la loss et du taux d'apprentissage."
   ]
  },
  {
   "cell_type": "code",
   "execution_count": 75,
   "id": "947acaff",
   "metadata": {},
   "outputs": [],
   "source": [
    "def plot_accuracies(history):\n",
    "    accuracies = [x['val_acc'] for x in history]\n",
    "    plt.plot(accuracies, '-x')\n",
    "    plt.xlabel('epoch')\n",
    "    plt.ylabel('accuracy')\n",
    "    plt.title('Accuracy vs. No. of epochs');\n",
    "\n",
    "def plot_losses(history):\n",
    "    train_losses = [x.get('train_loss') for x in history]\n",
    "    val_losses = [x['val_loss'] for x in history]\n",
    "    plt.plot(train_losses, '-bx')\n",
    "    plt.plot(val_losses, '-rx')\n",
    "    plt.xlabel('epoch')\n",
    "    plt.ylabel('loss')\n",
    "    plt.legend(['Training', 'Validation'])\n",
    "    plt.title('Loss vs. No. of epochs');\n",
    "\n",
    "def plot_lrs(history):\n",
    "    lrs = np.concatenate([x.get('lrs', []) for x in history])\n",
    "    plt.plot(lrs)\n",
    "    plt.xlabel('Batch no.')\n",
    "    plt.ylabel('Learning rate')\n",
    "    plt.title('Learning Rate vs. Batch no.');"
   ]
  },
  {
   "cell_type": "code",
   "execution_count": 76,
   "id": "7fe03003",
   "metadata": {},
   "outputs": [
    {
     "data": {
      "image/png": "[encoded data removed]",
      "text/plain": [
       "<Figure size 640x480 with 1 Axes>"
      ]
     },
     "metadata": {},
     "output_type": "display_data"
    }
   ],
   "source": [
    "plot_accuracies(history)"
   ]
  },
  {
   "cell_type": "code",
   "execution_count": 77,
   "id": "08b815a1",
   "metadata": {},
   "outputs": [
    {
     "data": {
      "image/png": "[encoded data removed]",
      "text/plain": [
       "<Figure size 640x480 with 1 Axes>"
      ]
     },
     "metadata": {},
     "output_type": "display_data"
    }
   ],
   "source": [
    "plot_losses(history)"
   ]
  },
  {
   "cell_type": "code",
   "execution_count": 78,
   "id": "3c445260",
   "metadata": {},
   "outputs": [
    {
     "data": {
      "image/png": "[encoded data removed]",
      "text/plain": [
       "<Figure size 640x480 with 1 Axes>"
      ]
     },
     "metadata": {},
     "output_type": "display_data"
    }
   ],
   "source": [
    "plot_lrs(history)"
   ]
  },
  {
   "cell_type": "code",
   "execution_count": 79,
   "id": "fbe9551c",
   "metadata": {},
   "outputs": [
    {
     "data": {
      "text/plain": [
       "{'val_loss': 0.10848895460367203, 'val_acc': 1.0}"
      ]
     },
     "execution_count": 79,
     "metadata": {},
     "output_type": "execute_result"
    }
   ],
   "source": [
    "result = evaluate(model, val_loader)\n",
    "result"
   ]
  },
  {
   "cell_type": "code",
   "execution_count": 80,
   "id": "b4471f1b",
   "metadata": {},
   "outputs": [],
   "source": [
    "torch.save(model.state_dict(), 'starcraft2-logistic.pth')"
   ]
  },
  {
   "cell_type": "code",
   "execution_count": 81,
   "id": "41d6cc2a",
   "metadata": {},
   "outputs": [
    {
     "data": {
      "text/plain": [
       "OrderedDict([('linear.weight',\n",
       "              tensor([[-6.7355e-02, -3.1350e-01, -3.0793e-01, -1.1134e-01, -2.5329e-01,\n",
       "                        8.3430e-03, -2.6441e-01, -2.5373e-02, -2.2972e-01, -3.5239e-02,\n",
       "                       -1.9079e-01,  1.0381e-02, -3.5579e-02, -2.5307e-03, -3.1951e-02,\n",
       "                       -1.8733e-03, -3.3347e-02, -2.6167e-03, -3.1250e-01, -7.6734e-02,\n",
       "                       -4.5219e-02,  4.2534e-02, -7.3113e-02, -2.2446e-03,  2.9478e-03,\n",
       "                       -2.7535e-02,  4.3690e+00]])),\n",
       "             ('linear.bias', tensor([-1.5186]))])"
      ]
     },
     "execution_count": 81,
     "metadata": {},
     "output_type": "execute_result"
    }
   ],
   "source": [
    "model.state_dict()"
   ]
  },
  {
   "cell_type": "markdown",
   "id": "e9a88836",
   "metadata": {},
   "source": [
    "- Définition de la fonction de prédiction utilisant le réseau de neurones entraîné."
   ]
  },
  {
   "cell_type": "code",
   "execution_count": 82,
   "id": "7ad178eb",
   "metadata": {},
   "outputs": [],
   "source": [
    "def predict(data, input_data, with_label = True, verbose = True):\n",
    "    if verbose:\n",
    "        for i in range(len(input_cols)):\n",
    "            val = input_data[0][i].item()\n",
    "            val = round(val * (data[input_cols[i]].max() - data[input_cols[i]].min()) + data[input_cols[i]].min(), 4)\n",
    "            print(input_cols[i] + \":\", val)\n",
    "        \n",
    "        print(\"\")\n",
    "    \n",
    "    with torch.no_grad():\n",
    "        pred = model(input_data[0]).item()\n",
    "    \n",
    "    print(\"Predicted by model..\")\n",
    "    \n",
    "    if pred < 0.5:\n",
    "        print(\"Loss (Probability for winning : {:.4f})\".format(pred))\n",
    "    \n",
    "    else:   \n",
    "        print(\"Victory (Probability for winning : {:.4f})\".format(pred))\n",
    "    \n",
    "    if with_label:\n",
    "        print(\"\")\n",
    "        print(\"Actual result...\")\n",
    "        \n",
    "        if input_data[1].item() == 0:\n",
    "            print(\"Lost\")\n",
    "        \n",
    "        else:\n",
    "            print(\"Won\", \"\\n\")"
   ]
  },
  {
   "cell_type": "markdown",
   "id": "44a78df9",
   "metadata": {},
   "source": [
    "- Quelques prédictions."
   ]
  },
  {
   "cell_type": "code",
   "execution_count": 83,
   "id": "1a4779f0",
   "metadata": {},
   "outputs": [
    {
     "name": "stdout",
     "output_type": "stream",
     "text": [
      "time: 307.0\n",
      "race1: 1.0\n",
      "race2: 1.0\n",
      "map: 12.0\n",
      "supplyUsed1: 53.0\n",
      "supplyUsed2: 71.0\n",
      "totalIncome1: 1813.0\n",
      "totalIncome2: 2037.0\n",
      "mineralsIncome1: 1455.0\n",
      "mineralsIncome2: 1679.0\n",
      "vespeneIncome1: 358.0\n",
      "vespeneIncome2: 358.0\n",
      "totalResources1: 1110.0\n",
      "totalResources2: 610.0\n",
      "minerals1: 604.0\n",
      "minerals2: 429.0\n",
      "vespene1: 506.0\n",
      "vespene2: 181.0\n",
      "activeWorkers1: 37.0\n",
      "activeWorkers2: 35.0\n",
      "army1: 900.0\n",
      "army2: 1649.9999\n",
      "technology1: 700.0\n",
      "technology2: 450.0\n",
      "lostResources1: 200.0\n",
      "lostResources2: 50.0\n",
      "winner: 1.0\n",
      "\n",
      "Predicted by model..\n",
      "Victory (Probability for winning : 0.9069)\n",
      "\n",
      "Actual result...\n",
      "Won \n",
      "\n"
     ]
    }
   ],
   "source": [
    "predict(data, val_ds[30])"
   ]
  },
  {
   "cell_type": "code",
   "execution_count": 84,
   "id": "b37d755f",
   "metadata": {},
   "outputs": [
    {
     "name": "stdout",
     "output_type": "stream",
     "text": [
      "time: 86.0\n",
      "race1: 2.0\n",
      "race2: 2.0\n",
      "map: 130.0\n",
      "supplyUsed1: 19.0\n",
      "supplyUsed2: 20.0\n",
      "totalIncome1: 692.0\n",
      "totalIncome2: 700.0\n",
      "mineralsIncome1: 580.0\n",
      "mineralsIncome2: 620.0\n",
      "vespeneIncome1: 112.0\n",
      "vespeneIncome2: 80.0\n",
      "totalResources1: 62.0\n",
      "totalResources2: 440.0\n",
      "minerals1: 30.0\n",
      "minerals2: 420.0\n",
      "vespene1: 32.0\n",
      "vespene2: 20.0\n",
      "activeWorkers1: 19.0\n",
      "activeWorkers2: 19.0\n",
      "army1: 0.0\n",
      "army2: 0.0\n",
      "technology1: 150.0\n",
      "technology2: 150.0\n",
      "lostResources1: 0.0\n",
      "lostResources2: 0.0\n",
      "winner: 1.0\n",
      "\n",
      "Predicted by model..\n",
      "Victory (Probability for winning : 0.8896)\n",
      "\n",
      "Actual result...\n",
      "Won \n",
      "\n"
     ]
    }
   ],
   "source": [
    "predict(data, val_ds[547])"
   ]
  },
  {
   "cell_type": "markdown",
   "id": "caee0611",
   "metadata": {},
   "source": [
    "## 5. Etude de cas pratiques"
   ]
  },
  {
   "cell_type": "markdown",
   "id": "0c07c6a8",
   "metadata": {},
   "source": [
    "- Changeons de dataset pour utiliser notre fichier contenant 4 moments notable de 2 parties différentes (soit 8 rows)."
   ]
  },
  {
   "cell_type": "code",
   "execution_count": 85,
   "id": "06bb29ec",
   "metadata": {},
   "outputs": [
    {
     "data": {
      "text/html": [
       "<div>\n",
       "<style scoped>\n",
       "    .dataframe tbody tr th:only-of-type {\n",
       "        vertical-align: middle;\n",
       "    }\n",
       "\n",
       "    .dataframe tbody tr th {\n",
       "        vertical-align: top;\n",
       "    }\n",
       "\n",
       "    .dataframe thead th {\n",
       "        text-align: right;\n",
       "    }\n",
       "</style>\n",
       "<table border=\"1\" class=\"dataframe\">\n",
       "  <thead>\n",
       "    <tr style=\"text-align: right;\">\n",
       "      <th></th>\n",
       "      <th>time</th>\n",
       "      <th>race1</th>\n",
       "      <th>race2</th>\n",
       "      <th>map</th>\n",
       "      <th>supplyUsed1</th>\n",
       "      <th>supplyUsed2</th>\n",
       "      <th>totalIncome1</th>\n",
       "      <th>totalIncome2</th>\n",
       "      <th>mineralsIncome1</th>\n",
       "      <th>mineralsIncome2</th>\n",
       "      <th>...</th>\n",
       "      <th>vespene2</th>\n",
       "      <th>activeWorkers1</th>\n",
       "      <th>activeWorkers2</th>\n",
       "      <th>army1</th>\n",
       "      <th>army2</th>\n",
       "      <th>technology1</th>\n",
       "      <th>technology2</th>\n",
       "      <th>lostResources1</th>\n",
       "      <th>lostResources2</th>\n",
       "      <th>winner</th>\n",
       "    </tr>\n",
       "  </thead>\n",
       "  <tbody>\n",
       "    <tr>\n",
       "      <th>0</th>\n",
       "      <td>100</td>\n",
       "      <td>2</td>\n",
       "      <td>0</td>\n",
       "      <td>0</td>\n",
       "      <td>20.0</td>\n",
       "      <td>20.0</td>\n",
       "      <td>1040</td>\n",
       "      <td>883</td>\n",
       "      <td>951</td>\n",
       "      <td>727</td>\n",
       "      <td>...</td>\n",
       "      <td>34</td>\n",
       "      <td>20</td>\n",
       "      <td>19</td>\n",
       "      <td>0</td>\n",
       "      <td>0</td>\n",
       "      <td>150</td>\n",
       "      <td>150</td>\n",
       "      <td>0</td>\n",
       "      <td>0</td>\n",
       "      <td>1</td>\n",
       "    </tr>\n",
       "    <tr>\n",
       "      <th>1</th>\n",
       "      <td>621</td>\n",
       "      <td>2</td>\n",
       "      <td>0</td>\n",
       "      <td>0</td>\n",
       "      <td>133.0</td>\n",
       "      <td>166.0</td>\n",
       "      <td>3655</td>\n",
       "      <td>3566</td>\n",
       "      <td>2827</td>\n",
       "      <td>2603</td>\n",
       "      <td>...</td>\n",
       "      <td>284</td>\n",
       "      <td>64</td>\n",
       "      <td>72</td>\n",
       "      <td>4325</td>\n",
       "      <td>5200</td>\n",
       "      <td>2750</td>\n",
       "      <td>3375</td>\n",
       "      <td>3300</td>\n",
       "      <td>2124</td>\n",
       "      <td>1</td>\n",
       "    </tr>\n",
       "    <tr>\n",
       "      <th>2</th>\n",
       "      <td>643</td>\n",
       "      <td>2</td>\n",
       "      <td>0</td>\n",
       "      <td>0</td>\n",
       "      <td>86.0</td>\n",
       "      <td>151.0</td>\n",
       "      <td>3498</td>\n",
       "      <td>3431</td>\n",
       "      <td>2715</td>\n",
       "      <td>2491</td>\n",
       "      <td>...</td>\n",
       "      <td>478</td>\n",
       "      <td>64</td>\n",
       "      <td>71</td>\n",
       "      <td>600</td>\n",
       "      <td>4450</td>\n",
       "      <td>3550</td>\n",
       "      <td>3575</td>\n",
       "      <td>7625</td>\n",
       "      <td>3799</td>\n",
       "      <td>1</td>\n",
       "    </tr>\n",
       "    <tr>\n",
       "      <th>3</th>\n",
       "      <td>721</td>\n",
       "      <td>2</td>\n",
       "      <td>0</td>\n",
       "      <td>0</td>\n",
       "      <td>79.0</td>\n",
       "      <td>170.0</td>\n",
       "      <td>3090</td>\n",
       "      <td>4109</td>\n",
       "      <td>2127</td>\n",
       "      <td>2967</td>\n",
       "      <td>...</td>\n",
       "      <td>762</td>\n",
       "      <td>65</td>\n",
       "      <td>73</td>\n",
       "      <td>175</td>\n",
       "      <td>5675</td>\n",
       "      <td>3150</td>\n",
       "      <td>4125</td>\n",
       "      <td>12450</td>\n",
       "      <td>5624</td>\n",
       "      <td>1</td>\n",
       "    </tr>\n",
       "    <tr>\n",
       "      <th>4</th>\n",
       "      <td>100</td>\n",
       "      <td>1</td>\n",
       "      <td>0</td>\n",
       "      <td>1</td>\n",
       "      <td>20.0</td>\n",
       "      <td>20.0</td>\n",
       "      <td>911</td>\n",
       "      <td>962</td>\n",
       "      <td>867</td>\n",
       "      <td>783</td>\n",
       "      <td>...</td>\n",
       "      <td>38</td>\n",
       "      <td>18</td>\n",
       "      <td>19</td>\n",
       "      <td>0</td>\n",
       "      <td>0</td>\n",
       "      <td>0</td>\n",
       "      <td>150</td>\n",
       "      <td>0</td>\n",
       "      <td>0</td>\n",
       "      <td>1</td>\n",
       "    </tr>\n",
       "    <tr>\n",
       "      <th>5</th>\n",
       "      <td>493</td>\n",
       "      <td>1</td>\n",
       "      <td>0</td>\n",
       "      <td>1</td>\n",
       "      <td>149.0</td>\n",
       "      <td>128.0</td>\n",
       "      <td>4574</td>\n",
       "      <td>2899</td>\n",
       "      <td>3723</td>\n",
       "      <td>2183</td>\n",
       "      <td>...</td>\n",
       "      <td>631</td>\n",
       "      <td>90</td>\n",
       "      <td>61</td>\n",
       "      <td>3650</td>\n",
       "      <td>4675</td>\n",
       "      <td>1700</td>\n",
       "      <td>2000</td>\n",
       "      <td>1043</td>\n",
       "      <td>0</td>\n",
       "      <td>1</td>\n",
       "    </tr>\n",
       "    <tr>\n",
       "      <th>6</th>\n",
       "      <td>507</td>\n",
       "      <td>1</td>\n",
       "      <td>0</td>\n",
       "      <td>1</td>\n",
       "      <td>110.0</td>\n",
       "      <td>121.0</td>\n",
       "      <td>4562</td>\n",
       "      <td>2966</td>\n",
       "      <td>3667</td>\n",
       "      <td>2183</td>\n",
       "      <td>...</td>\n",
       "      <td>294</td>\n",
       "      <td>90</td>\n",
       "      <td>61</td>\n",
       "      <td>1550</td>\n",
       "      <td>3325</td>\n",
       "      <td>2150</td>\n",
       "      <td>2000</td>\n",
       "      <td>3418</td>\n",
       "      <td>1300</td>\n",
       "      <td>1</td>\n",
       "    </tr>\n",
       "    <tr>\n",
       "      <th>7</th>\n",
       "      <td>779</td>\n",
       "      <td>1</td>\n",
       "      <td>0</td>\n",
       "      <td>1</td>\n",
       "      <td>94.0</td>\n",
       "      <td>167.0</td>\n",
       "      <td>2994</td>\n",
       "      <td>3252</td>\n",
       "      <td>2323</td>\n",
       "      <td>2491</td>\n",
       "      <td>...</td>\n",
       "      <td>378</td>\n",
       "      <td>72</td>\n",
       "      <td>58</td>\n",
       "      <td>750</td>\n",
       "      <td>5950</td>\n",
       "      <td>2025</td>\n",
       "      <td>3475</td>\n",
       "      <td>15328</td>\n",
       "      <td>10175</td>\n",
       "      <td>1</td>\n",
       "    </tr>\n",
       "  </tbody>\n",
       "</table>\n",
       "<p>8 rows × 27 columns</p>\n",
       "</div>"
      ],
      "text/plain": [
       "   time  race1  race2  map  supplyUsed1  supplyUsed2  totalIncome1  \\\n",
       "0   100      2      0    0         20.0         20.0          1040   \n",
       "1   621      2      0    0        133.0        166.0          3655   \n",
       "2   643      2      0    0         86.0        151.0          3498   \n",
       "3   721      2      0    0         79.0        170.0          3090   \n",
       "4   100      1      0    1         20.0         20.0           911   \n",
       "5   493      1      0    1        149.0        128.0          4574   \n",
       "6   507      1      0    1        110.0        121.0          4562   \n",
       "7   779      1      0    1         94.0        167.0          2994   \n",
       "\n",
       "   totalIncome2  mineralsIncome1  mineralsIncome2  ...  vespene2  \\\n",
       "0           883              951              727  ...        34   \n",
       "1          3566             2827             2603  ...       284   \n",
       "2          3431             2715             2491  ...       478   \n",
       "3          4109             2127             2967  ...       762   \n",
       "4           962              867              783  ...        38   \n",
       "5          2899             3723             2183  ...       631   \n",
       "6          2966             3667             2183  ...       294   \n",
       "7          3252             2323             2491  ...       378   \n",
       "\n",
       "   activeWorkers1  activeWorkers2  army1  army2  technology1  technology2  \\\n",
       "0              20              19      0      0          150          150   \n",
       "1              64              72   4325   5200         2750         3375   \n",
       "2              64              71    600   4450         3550         3575   \n",
       "3              65              73    175   5675         3150         4125   \n",
       "4              18              19      0      0            0          150   \n",
       "5              90              61   3650   4675         1700         2000   \n",
       "6              90              61   1550   3325         2150         2000   \n",
       "7              72              58    750   5950         2025         3475   \n",
       "\n",
       "   lostResources1  lostResources2  winner  \n",
       "0               0               0       1  \n",
       "1            3300            2124       1  \n",
       "2            7625            3799       1  \n",
       "3           12450            5624       1  \n",
       "4               0               0       1  \n",
       "5            1043               0       1  \n",
       "6            3418            1300       1  \n",
       "7           15328           10175       1  \n",
       "\n",
       "[8 rows x 27 columns]"
      ]
     },
     "execution_count": 85,
     "metadata": {},
     "output_type": "execute_result"
    }
   ],
   "source": [
    "dataPrime = pd.read_csv(\"archive/datasetPrime.csv\")\n",
    "dataPrime.head(8)"
   ]
  },
  {
   "cell_type": "code",
   "execution_count": 98,
   "id": "c0ad82cd",
   "metadata": {},
   "outputs": [],
   "source": [
    "input_cols = dataPrime.columns\n",
    "output_cols = [\"winner\"]\n",
    "input_arr, target_arr = data_to_arrays(dataPrime, input_cols, normalize = True)\n",
    "\n",
    "inputs = torch.tensor(input_arr, dtype = torch.float32)\n",
    "targets = torch.tensor(target_arr, dtype = torch.float32)\n",
    "\n",
    "datasetPrime = TensorDataset(inputs, targets)"
   ]
  },
  {
   "cell_type": "markdown",
   "id": "71028233",
   "metadata": {},
   "source": [
    "- 1ère partie à 1 min 40 :"
   ]
  },
  {
   "cell_type": "code",
   "execution_count": 99,
   "id": "76a32b48",
   "metadata": {},
   "outputs": [
    {
     "name": "stdout",
     "output_type": "stream",
     "text": [
      "time: 100.0\n",
      "race1: 2.0\n",
      "race2: nan\n",
      "map: 0.0\n",
      "supplyUsed1: 20.0\n",
      "supplyUsed2: 20.0\n",
      "totalIncome1: 1040.0\n",
      "totalIncome2: 883.0\n",
      "mineralsIncome1: 951.0\n",
      "mineralsIncome2: 727.0\n",
      "vespeneIncome1: 89.0\n",
      "vespeneIncome2: 156.0\n",
      "totalResources1: 156.0\n",
      "totalResources2: 394.0\n",
      "minerals1: 120.0\n",
      "minerals2: 360.0\n",
      "vespene1: 36.0\n",
      "vespene2: 34.0\n",
      "activeWorkers1: 20.0\n",
      "activeWorkers2: 19.0\n",
      "army1: 0.0\n",
      "army2: 0.0\n",
      "technology1: 150.0\n",
      "technology2: 150.0\n",
      "lostResources1: 0.0\n",
      "lostResources2: 0.0\n",
      "winner: nan\n",
      "\n",
      "Predicted by model..\n",
      "Victory (Probability for winning : nan)\n",
      "\n",
      "Actual result...\n",
      "Won \n",
      "\n"
     ]
    }
   ],
   "source": [
    "predict(dataPrime, datasetPrime[0])"
   ]
  },
  {
   "cell_type": "markdown",
   "id": "6d09033f",
   "metadata": {},
   "source": [
    "- 1ère partie à :"
   ]
  },
  {
   "cell_type": "code",
   "execution_count": 100,
   "id": "d6d981cb",
   "metadata": {},
   "outputs": [
    {
     "name": "stdout",
     "output_type": "stream",
     "text": [
      "time: 621.0\n",
      "race1: 2.0\n",
      "race2: nan\n",
      "map: 0.0\n",
      "supplyUsed1: 133.0\n",
      "supplyUsed2: 166.0\n",
      "totalIncome1: 3654.9999\n",
      "totalIncome2: 3566.0001\n",
      "mineralsIncome1: 2827.0001\n",
      "mineralsIncome2: 2602.9999\n",
      "vespeneIncome1: 828.0\n",
      "vespeneIncome2: 963.0\n",
      "totalResources1: 1923.0\n",
      "totalResources2: 552.0\n",
      "minerals1: 1460.0\n",
      "minerals2: 268.0\n",
      "vespene1: 463.0\n",
      "vespene2: 284.0\n",
      "activeWorkers1: 64.0\n",
      "activeWorkers2: 72.0\n",
      "army1: 4325.0\n",
      "army2: 5200.0\n",
      "technology1: 2750.0\n",
      "technology2: 3375.0001\n",
      "lostResources1: 3300.0\n",
      "lostResources2: 2124.0\n",
      "winner: nan\n",
      "\n",
      "Predicted by model..\n",
      "Victory (Probability for winning : nan)\n",
      "\n",
      "Actual result...\n",
      "Won \n",
      "\n"
     ]
    }
   ],
   "source": [
    "predict(dataPrime, datasetPrime[1])"
   ]
  },
  {
   "cell_type": "markdown",
   "id": "52664769",
   "metadata": {},
   "source": [
    "- 1ère partie à :"
   ]
  },
  {
   "cell_type": "code",
   "execution_count": 101,
   "id": "8b79a7aa",
   "metadata": {},
   "outputs": [
    {
     "name": "stdout",
     "output_type": "stream",
     "text": [
      "time: 643.0\n",
      "race1: 2.0\n",
      "race2: nan\n",
      "map: 0.0\n",
      "supplyUsed1: 86.0\n",
      "supplyUsed2: 151.0\n",
      "totalIncome1: 3497.9999\n",
      "totalIncome2: 3430.9999\n",
      "mineralsIncome1: 2715.0001\n",
      "mineralsIncome2: 2491.0001\n",
      "vespeneIncome1: 783.0\n",
      "vespeneIncome2: 940.0\n",
      "totalResources1: 1805.0\n",
      "totalResources2: 946.0\n",
      "minerals1: 1450.0\n",
      "minerals2: 468.0\n",
      "vespene1: 355.0\n",
      "vespene2: 478.0\n",
      "activeWorkers1: 64.0\n",
      "activeWorkers2: 71.0\n",
      "army1: 600.0\n",
      "army2: 4450.0001\n",
      "technology1: 3550.0\n",
      "technology2: 3575.0\n",
      "lostResources1: 7624.9998\n",
      "lostResources2: 3798.9999\n",
      "winner: nan\n",
      "\n",
      "Predicted by model..\n",
      "Victory (Probability for winning : nan)\n",
      "\n",
      "Actual result...\n",
      "Won \n",
      "\n"
     ]
    }
   ],
   "source": [
    "predict(dataPrime, datasetPrime[2])"
   ]
  },
  {
   "cell_type": "code",
   "execution_count": 102,
   "id": "6cf0c6b7",
   "metadata": {},
   "outputs": [
    {
     "name": "stdout",
     "output_type": "stream",
     "text": [
      "time: 721.0\n",
      "race1: 2.0\n",
      "race2: nan\n",
      "map: 0.0\n",
      "supplyUsed1: 79.0\n",
      "supplyUsed2: 170.0\n",
      "totalIncome1: 3090.0\n",
      "totalIncome2: 4109.0\n",
      "mineralsIncome1: 2127.0\n",
      "mineralsIncome2: 2967.0\n",
      "vespeneIncome1: 963.0\n",
      "vespeneIncome2: 1142.0\n",
      "totalResources1: 2823.9999\n",
      "totalResources2: 1575.0\n",
      "minerals1: 2235.0001\n",
      "minerals2: 813.0\n",
      "vespene1: 589.0\n",
      "vespene2: 762.0\n",
      "activeWorkers1: 65.0\n",
      "activeWorkers2: 73.0\n",
      "army1: 175.0\n",
      "army2: 5674.9998\n",
      "technology1: 3149.9999\n",
      "technology2: 4125.0\n",
      "lostResources1: 12450.0002\n",
      "lostResources2: 5624.0001\n",
      "winner: nan\n",
      "\n",
      "Predicted by model..\n",
      "Victory (Probability for winning : nan)\n",
      "\n",
      "Actual result...\n",
      "Won \n",
      "\n"
     ]
    }
   ],
   "source": [
    "predict(dataPrime, datasetPrime[3])"
   ]
  },
  {
   "cell_type": "code",
   "execution_count": 103,
   "id": "d84f18ab",
   "metadata": {},
   "outputs": [
    {
     "name": "stdout",
     "output_type": "stream",
     "text": [
      "time: 100.0\n",
      "race1: 1.0\n",
      "race2: nan\n",
      "map: 1.0\n",
      "supplyUsed1: 20.0\n",
      "supplyUsed2: 20.0\n",
      "totalIncome1: 911.0\n",
      "totalIncome2: 962.0\n",
      "mineralsIncome1: 867.0\n",
      "mineralsIncome2: 783.0\n",
      "vespeneIncome1: 44.0\n",
      "vespeneIncome2: 179.0\n",
      "totalResources1: 168.0\n",
      "totalResources2: 383.0\n",
      "minerals1: 160.0\n",
      "minerals2: 345.0\n",
      "vespene1: 8.0\n",
      "vespene2: 38.0\n",
      "activeWorkers1: 18.0\n",
      "activeWorkers2: 19.0\n",
      "army1: 0.0\n",
      "army2: 0.0\n",
      "technology1: 0.0\n",
      "technology2: 150.0\n",
      "lostResources1: 0.0\n",
      "lostResources2: 0.0\n",
      "winner: nan\n",
      "\n",
      "Predicted by model..\n",
      "Victory (Probability for winning : nan)\n",
      "\n",
      "Actual result...\n",
      "Won \n",
      "\n"
     ]
    }
   ],
   "source": [
    "predict(dataPrime, datasetPrime[4])"
   ]
  },
  {
   "cell_type": "code",
   "execution_count": 104,
   "id": "156e9c57",
   "metadata": {},
   "outputs": [
    {
     "name": "stdout",
     "output_type": "stream",
     "text": [
      "time: 493.0\n",
      "race1: 1.0\n",
      "race2: nan\n",
      "map: 1.0\n",
      "supplyUsed1: 149.0\n",
      "supplyUsed2: 128.0\n",
      "totalIncome1: 4574.0\n",
      "totalIncome2: 2899.0\n",
      "mineralsIncome1: 3723.0\n",
      "mineralsIncome2: 2182.9999\n",
      "vespeneIncome1: 851.0\n",
      "vespeneIncome2: 716.0\n",
      "totalResources1: 1075.0\n",
      "totalResources2: 1626.0\n",
      "minerals1: 406.0\n",
      "minerals2: 995.0\n",
      "vespene1: 669.0\n",
      "vespene2: 631.0\n",
      "activeWorkers1: 90.0\n",
      "activeWorkers2: 61.0\n",
      "army1: 3650.0001\n",
      "army2: 4674.9999\n",
      "technology1: 1700.0\n",
      "technology2: 2000.0\n",
      "lostResources1: 1043.0\n",
      "lostResources2: 0.0\n",
      "winner: nan\n",
      "\n",
      "Predicted by model..\n",
      "Victory (Probability for winning : nan)\n",
      "\n",
      "Actual result...\n",
      "Won \n",
      "\n"
     ]
    }
   ],
   "source": [
    "predict(dataPrime, datasetPrime[5])"
   ]
  },
  {
   "cell_type": "code",
   "execution_count": 105,
   "id": "8dc0b937",
   "metadata": {},
   "outputs": [
    {
     "name": "stdout",
     "output_type": "stream",
     "text": [
      "time: 507.0\n",
      "race1: 1.0\n",
      "race2: nan\n",
      "map: 1.0\n",
      "supplyUsed1: 110.0\n",
      "supplyUsed2: 121.0\n",
      "totalIncome1: 4562.0\n",
      "totalIncome2: 2966.0001\n",
      "mineralsIncome1: 3667.0\n",
      "mineralsIncome2: 2182.9999\n",
      "vespeneIncome1: 895.0\n",
      "vespeneIncome2: 783.0\n",
      "totalResources1: 2107.0\n",
      "totalResources2: 764.0\n",
      "minerals1: 1226.0\n",
      "minerals2: 470.0\n",
      "vespene1: 881.0\n",
      "vespene2: 294.0\n",
      "activeWorkers1: 90.0\n",
      "activeWorkers2: 61.0\n",
      "army1: 1550.0\n",
      "army2: 3325.0\n",
      "technology1: 2150.0\n",
      "technology2: 2000.0\n",
      "lostResources1: 3418.0\n",
      "lostResources2: 1299.9999\n",
      "winner: nan\n",
      "\n",
      "Predicted by model..\n",
      "Victory (Probability for winning : nan)\n",
      "\n",
      "Actual result...\n",
      "Won \n",
      "\n"
     ]
    }
   ],
   "source": [
    "predict(dataPrime, datasetPrime[6])"
   ]
  },
  {
   "cell_type": "code",
   "execution_count": 106,
   "id": "b2f774e8",
   "metadata": {},
   "outputs": [
    {
     "name": "stdout",
     "output_type": "stream",
     "text": [
      "time: 779.0\n",
      "race1: 1.0\n",
      "race2: nan\n",
      "map: 1.0\n",
      "supplyUsed1: 94.0\n",
      "supplyUsed2: 167.0\n",
      "totalIncome1: 2993.9999\n",
      "totalIncome2: 3251.9999\n",
      "mineralsIncome1: 2323.0001\n",
      "mineralsIncome2: 2491.0001\n",
      "vespeneIncome1: 671.0\n",
      "vespeneIncome2: 761.0\n",
      "totalResources1: 5730.0\n",
      "totalResources2: 1143.0\n",
      "minerals1: 2749.0\n",
      "minerals2: 765.0\n",
      "vespene1: 2981.0\n",
      "vespene2: 378.0\n",
      "activeWorkers1: 72.0\n",
      "activeWorkers2: 58.0\n",
      "army1: 750.0\n",
      "army2: 5950.0\n",
      "technology1: 2025.0\n",
      "technology2: 3475.0\n",
      "lostResources1: 15328.0\n",
      "lostResources2: 10175.0\n",
      "winner: nan\n",
      "\n",
      "Predicted by model..\n",
      "Victory (Probability for winning : nan)\n",
      "\n",
      "Actual result...\n",
      "Won \n",
      "\n"
     ]
    }
   ],
   "source": [
    "predict(dataPrime, datasetPrime[7])"
   ]
  }
 ],
 "metadata": {
  "kernelspec": {
   "display_name": "Python 3 (ipykernel)",
   "language": "python",
   "name": "python3"
  },
  "language_info": {
   "codemirror_mode": {
    "name": "ipython",
    "version": 3
   },
   "file_extension": ".py",
   "mimetype": "text/x-python",
   "name": "python",
   "nbconvert_exporter": "python",
   "pygments_lexer": "ipython3",
   "version": "3.9.13"
  }
 },
 "nbformat": 4,
 "nbformat_minor": 5
}
