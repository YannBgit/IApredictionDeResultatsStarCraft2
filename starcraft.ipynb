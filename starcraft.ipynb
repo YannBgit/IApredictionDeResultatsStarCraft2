{
 "cells": [
  {
   "cell_type": "markdown",
   "id": "ac35021e",
   "metadata": {},
   "source": [
    "# Réseau de neurone ``PyTorch``- Prédiction de vainqueur sur StarCraft 2"
   ]
  },
  {
   "cell_type": "markdown",
   "id": "bcbe3b65",
   "metadata": {},
   "source": [
    "Le dataset représente de nombreuses parties 1 contre 1 sur le jeu StarCraft 2.\n",
    "Pour chaque replay est enregistré à chaque temps T l'etat du jeu (26 champs) ainsi que le vainqueur (1 champ), indiqué en dernière colonne par 0 ou 1.\n",
    "\n",
    "<img src=\"files/figures/sc2_logo.png\" width=\"600px\"/>\n",
    "\n",
    "Nous définirons et entraînerons un réseau de neurones sur ce dataset. C'est un problème de régression car nous voulons une probabilité de victoire.<br>\n",
    "Nous commencerons par programmer notre réseau de neurones en affichant les données pertinentes, et nous passerons à une étude de cas pour concrétiser l'utilisation du programme."
   ]
  },
  {
   "cell_type": "markdown",
   "id": "933ac146",
   "metadata": {},
   "source": [
    "## 1. Librairies"
   ]
  },
  {
   "cell_type": "code",
   "execution_count": 1,
   "id": "6235ff87",
   "metadata": {
    "scrolled": true
   },
   "outputs": [],
   "source": [
    "import torch\n",
    "import pandas as pd\n",
    "import numpy as np\n",
    "import matplotlib.pyplot as plt\n",
    "import torch.nn as nn\n",
    "import torch.nn.functional as F\n",
    "import seaborn as sns\n",
    "\n",
    "from torch.utils.data import DataLoader, TensorDataset, random_split"
   ]
  },
  {
   "cell_type": "markdown",
   "id": "56800aaa",
   "metadata": {},
   "source": [
    "## 2. Exploration des datasets"
   ]
  },
  {
   "cell_type": "markdown",
   "id": "70011aad",
   "metadata": {},
   "source": [
    "- L'étape la plus longue pour arriver à entraîner notre IA a consisté en l'élaboration d'un dataset de qualité pour le sujet qui nous intéressait. Nous avons dû écrire un programme permettant de générer un grand nombre de rows (lignes) sur de nombreuses données permettant de décrire l'état d'une partie de StarCraft 2 en cours.<br>\n",
    "Le code source de ce parseur est disponible sur github :<br>\n",
    "https://github.com/YannBgit/SC2replayDatasetGenerator\n",
    "\n",
    "- Ce programme a pu être écrit grâce à l'API sc2reader qui permet d'extraire des données de fichiers SC2Replay. Son code source est également disponible :<br>\n",
    "https://github.com/ggtracker/sc2reader\n",
    "\n",
    "- Le parseur contient des fonctionnalités d'ergonomie et de randomisation de datasets. Sans entrer dans les détails (l'utilisation est détaillée dans le README), il est possible à partir d'un répertoire contenant un grand nombre de replays de choisir le nombre à utiliser pour le dataset, qu'un script va sélectionner aléatoirement dans le répertoire source.<br>\n",
    "- Le parseur va ensuite extraire des données de ces replays pour générer un grand nombre de rows correspondant chacun à un instant dans la partie étudiée.<br><br>\n",
    "- L'étape suivante a été de trouver un grand nombre de replays exploitables à donner au parseur. Heureusement, Blizzard, le studio produisant le jeu, a rendu public une base de données massive de replays anonymisés qui ont servi aux équipes de Google pour entraîner l'IA AlphaStar. Nous avons donc pu raisonnablement parser 30 000 replays.\n",
    "- Affichage des données."
   ]
  },
  {
   "cell_type": "code",
   "execution_count": 2,
   "id": "1293319b",
   "metadata": {
    "scrolled": true
   },
   "outputs": [
    {
     "data": {
      "text/html": [
       "<div>\n",
       "<style scoped>\n",
       "    .dataframe tbody tr th:only-of-type {\n",
       "        vertical-align: middle;\n",
       "    }\n",
       "\n",
       "    .dataframe tbody tr th {\n",
       "        vertical-align: top;\n",
       "    }\n",
       "\n",
       "    .dataframe thead th {\n",
       "        text-align: right;\n",
       "    }\n",
       "</style>\n",
       "<table border=\"1\" class=\"dataframe\">\n",
       "  <thead>\n",
       "    <tr style=\"text-align: right;\">\n",
       "      <th></th>\n",
       "      <th>time</th>\n",
       "      <th>race1</th>\n",
       "      <th>race2</th>\n",
       "      <th>map</th>\n",
       "      <th>supplyUsed1</th>\n",
       "      <th>supplyUsed2</th>\n",
       "      <th>totalIncome1</th>\n",
       "      <th>totalIncome2</th>\n",
       "      <th>mineralsIncome1</th>\n",
       "      <th>mineralsIncome2</th>\n",
       "      <th>...</th>\n",
       "      <th>vespene2</th>\n",
       "      <th>activeWorkers1</th>\n",
       "      <th>activeWorkers2</th>\n",
       "      <th>army1</th>\n",
       "      <th>army2</th>\n",
       "      <th>technology1</th>\n",
       "      <th>technology2</th>\n",
       "      <th>lostResources1</th>\n",
       "      <th>lostResources2</th>\n",
       "      <th>winner</th>\n",
       "    </tr>\n",
       "  </thead>\n",
       "  <tbody>\n",
       "    <tr>\n",
       "      <th>0</th>\n",
       "      <td>1014</td>\n",
       "      <td>0</td>\n",
       "      <td>1</td>\n",
       "      <td>18</td>\n",
       "      <td>65.0</td>\n",
       "      <td>113.0</td>\n",
       "      <td>224</td>\n",
       "      <td>1048</td>\n",
       "      <td>0</td>\n",
       "      <td>680</td>\n",
       "      <td>...</td>\n",
       "      <td>659</td>\n",
       "      <td>13</td>\n",
       "      <td>33</td>\n",
       "      <td>3200</td>\n",
       "      <td>4875</td>\n",
       "      <td>1575</td>\n",
       "      <td>1300</td>\n",
       "      <td>10006</td>\n",
       "      <td>9762</td>\n",
       "      <td>0</td>\n",
       "    </tr>\n",
       "    <tr>\n",
       "      <th>1</th>\n",
       "      <td>914</td>\n",
       "      <td>2</td>\n",
       "      <td>2</td>\n",
       "      <td>8</td>\n",
       "      <td>148.0</td>\n",
       "      <td>104.0</td>\n",
       "      <td>2040</td>\n",
       "      <td>2224</td>\n",
       "      <td>1320</td>\n",
       "      <td>1600</td>\n",
       "      <td>...</td>\n",
       "      <td>223</td>\n",
       "      <td>73</td>\n",
       "      <td>68</td>\n",
       "      <td>6325</td>\n",
       "      <td>3325</td>\n",
       "      <td>4250</td>\n",
       "      <td>3650</td>\n",
       "      <td>12075</td>\n",
       "      <td>15625</td>\n",
       "      <td>0</td>\n",
       "    </tr>\n",
       "    <tr>\n",
       "      <th>2</th>\n",
       "      <td>593</td>\n",
       "      <td>0</td>\n",
       "      <td>0</td>\n",
       "      <td>16</td>\n",
       "      <td>85.0</td>\n",
       "      <td>75.0</td>\n",
       "      <td>3403</td>\n",
       "      <td>1482</td>\n",
       "      <td>2799</td>\n",
       "      <td>1147</td>\n",
       "      <td>...</td>\n",
       "      <td>1061</td>\n",
       "      <td>56</td>\n",
       "      <td>30</td>\n",
       "      <td>1325</td>\n",
       "      <td>2875</td>\n",
       "      <td>2400</td>\n",
       "      <td>1725</td>\n",
       "      <td>2772</td>\n",
       "      <td>1900</td>\n",
       "      <td>0</td>\n",
       "    </tr>\n",
       "  </tbody>\n",
       "</table>\n",
       "<p>3 rows × 27 columns</p>\n",
       "</div>"
      ],
      "text/plain": [
       "   time  race1  race2  map  supplyUsed1  supplyUsed2  totalIncome1  \\\n",
       "0  1014      0      1   18         65.0        113.0           224   \n",
       "1   914      2      2    8        148.0        104.0          2040   \n",
       "2   593      0      0   16         85.0         75.0          3403   \n",
       "\n",
       "   totalIncome2  mineralsIncome1  mineralsIncome2  ...  vespene2  \\\n",
       "0          1048                0              680  ...       659   \n",
       "1          2224             1320             1600  ...       223   \n",
       "2          1482             2799             1147  ...      1061   \n",
       "\n",
       "   activeWorkers1  activeWorkers2  army1  army2  technology1  technology2  \\\n",
       "0              13              33   3200   4875         1575         1300   \n",
       "1              73              68   6325   3325         4250         3650   \n",
       "2              56              30   1325   2875         2400         1725   \n",
       "\n",
       "   lostResources1  lostResources2  winner  \n",
       "0           10006            9762       0  \n",
       "1           12075           15625       0  \n",
       "2            2772            1900       0  \n",
       "\n",
       "[3 rows x 27 columns]"
      ]
     },
     "execution_count": 2,
     "metadata": {},
     "output_type": "execute_result"
    }
   ],
   "source": [
    "data = pd.read_csv(\"archive/shuffledDataset.csv\")\n",
    "data.head(3)"
   ]
  },
  {
   "cell_type": "code",
   "execution_count": 3,
   "id": "3d976b2e",
   "metadata": {},
   "outputs": [
    {
     "data": {
      "text/plain": [
       "time                 int64\n",
       "race1                int64\n",
       "race2                int64\n",
       "map                  int64\n",
       "supplyUsed1        float64\n",
       "supplyUsed2        float64\n",
       "totalIncome1         int64\n",
       "totalIncome2         int64\n",
       "mineralsIncome1      int64\n",
       "mineralsIncome2      int64\n",
       "vespeneIncome1       int64\n",
       "vespeneIncome2       int64\n",
       "totalResources1      int64\n",
       "totalResources2      int64\n",
       "minerals1            int64\n",
       "minerals2            int64\n",
       "vespene1             int64\n",
       "vespene2             int64\n",
       "activeWorkers1       int64\n",
       "activeWorkers2       int64\n",
       "army1                int64\n",
       "army2                int64\n",
       "technology1          int64\n",
       "technology2          int64\n",
       "lostResources1       int64\n",
       "lostResources2       int64\n",
       "winner               int64\n",
       "dtype: object"
      ]
     },
     "execution_count": 3,
     "metadata": {},
     "output_type": "execute_result"
    }
   ],
   "source": [
    "data.dtypes"
   ]
  },
  {
   "cell_type": "code",
   "execution_count": 4,
   "id": "cff1c1b2",
   "metadata": {},
   "outputs": [
    {
     "data": {
      "text/plain": [
       "1738665"
      ]
     },
     "execution_count": 4,
     "metadata": {},
     "output_type": "execute_result"
    }
   ],
   "source": [
    "len(data.index)"
   ]
  },
  {
   "cell_type": "code",
   "execution_count": 5,
   "id": "03c68be8",
   "metadata": {},
   "outputs": [
    {
     "data": {
      "text/plain": [
       "27"
      ]
     },
     "execution_count": 5,
     "metadata": {},
     "output_type": "execute_result"
    }
   ],
   "source": [
    "len(data.columns)"
   ]
  },
  {
   "cell_type": "code",
   "execution_count": 6,
   "id": "cec1468c",
   "metadata": {
    "scrolled": true
   },
   "outputs": [
    {
     "data": {
      "text/plain": [
       "1    642765\n",
       "0    596761\n",
       "2    499139\n",
       "Name: race1, dtype: int64"
      ]
     },
     "execution_count": 6,
     "metadata": {},
     "output_type": "execute_result"
    }
   ],
   "source": [
    "data.race1.value_counts()"
   ]
  },
  {
   "cell_type": "markdown",
   "id": "60515d6b",
   "metadata": {},
   "source": [
    "- Visualisation des relations entre les colonnes."
   ]
  },
  {
   "cell_type": "code",
   "execution_count": 7,
   "id": "b013b9db",
   "metadata": {},
   "outputs": [
    {
     "data": {
      "text/plain": [
       "<AxesSubplot:>"
      ]
     },
     "execution_count": 7,
     "metadata": {},
     "output_type": "execute_result"
    },
    {
     "data": {
      "image/png": "[encoded data removed]",
      "text/plain": [
       "<Figure size 640x480 with 2 Axes>"
      ]
     },
     "metadata": {},
     "output_type": "display_data"
    }
   ],
   "source": [
    "sns.heatmap(data.corr())"
   ]
  },
  {
   "cell_type": "markdown",
   "id": "4d58e7d8",
   "metadata": {},
   "source": [
    "## 3. Chargement des données"
   ]
  },
  {
   "cell_type": "markdown",
   "id": "39072afb",
   "metadata": {},
   "source": [
    "- Création des ensembles d'entraînement, d'évaluation et de test. <br>\n",
    "A noter que le préprocessing a été géré par le parseur en amont. Seuls des nombres (int ou float) sont écrits dans les colonnes."
   ]
  },
  {
   "cell_type": "code",
   "execution_count": 8,
   "id": "da2cc6fd",
   "metadata": {},
   "outputs": [],
   "source": [
    "def dataToArrays(data, columns):\n",
    "    dataCopy = data.copy(deep = True)\n",
    "    \n",
    "    #normalisation des données\n",
    "    for column in columns:\n",
    "        dataCopy[column] = (dataCopy[column] - dataCopy[column].min()) / (dataCopy[column].max() - dataCopy[column].min())\n",
    "            \n",
    "    inputArray = dataCopy[columns].to_numpy()\n",
    "    outputArray = dataCopy[outputColumns].to_numpy().reshape(-1, 1)\n",
    "    return inputArray, outputArray"
   ]
  },
  {
   "cell_type": "code",
   "execution_count": 9,
   "id": "ac2a3a33",
   "metadata": {},
   "outputs": [],
   "source": [
    "inputColumns = [title for title in data.columns if title != \"winner\"]\n",
    "outputColumns = [\"winner\"]\n",
    "\n",
    "inputArray, outputArray = dataToArrays(data, inputColumns)\n",
    "\n",
    "inputs = torch.tensor(inputArray, dtype = torch.float32)\n",
    "outputs = torch.tensor(outputArray, dtype = torch.float32)\n",
    "\n",
    "dataset = TensorDataset(inputs, outputs)\n",
    "\n",
    "validationSize = int(0.2 * len(dataset))\n",
    "trainSize = len(dataset) - validationSize\n",
    "trainDataset, validationDataset = random_split(dataset, [trainSize, validationSize])"
   ]
  },
  {
   "cell_type": "markdown",
   "id": "def10bdf",
   "metadata": {},
   "source": [
    "## 4. Dataloaders"
   ]
  },
  {
   "cell_type": "code",
   "execution_count": 10,
   "id": "8e61c37a",
   "metadata": {},
   "outputs": [],
   "source": [
    "batchSize = 64\n",
    "\n",
    "trainLoader = DataLoader(trainDataset, batchSize, shuffle = True)\n",
    "validationLoader = DataLoader(validationDataset, batchSize, shuffle = True)\n",
    "\n",
    "nbInputs = len(inputColumns)\n",
    "nbOutputs = 1"
   ]
  },
  {
   "cell_type": "markdown",
   "id": "5375e22f",
   "metadata": {},
   "source": [
    "- Définition de la fonction de calcul de précision."
   ]
  },
  {
   "cell_type": "code",
   "execution_count": 11,
   "id": "cc5c5bf7",
   "metadata": {},
   "outputs": [],
   "source": [
    "def accuracy(outputs, labels):\n",
    "    #prediction = 1 si output > 0.5 et prediction = 0 sinon\n",
    "    return torch.tensor(torch.sum(outputs.round() == labels).item() / len(outputs))"
   ]
  },
  {
   "cell_type": "markdown",
   "id": "fedcd0ac",
   "metadata": {},
   "source": [
    "## 5. Modèle"
   ]
  },
  {
   "cell_type": "markdown",
   "id": "3d3fe9c1",
   "metadata": {},
   "source": [
    "- Définition du modèle. La fonction sigmoid en dernière couche permet d'avoir en output une valeur comprise entre 0 et 1"
   ]
  },
  {
   "cell_type": "code",
   "execution_count": 12,
   "id": "2cdfce77",
   "metadata": {},
   "outputs": [],
   "source": [
    "layerSize = 128\n",
    "\n",
    "class Model(nn.Module):\n",
    "    def __init__(self):\n",
    "        super().__init__()        \n",
    "        self.fc1 = nn.Linear(nbInputs, layerSize)\n",
    "        self.fc2 = nn.Linear(layerSize, layerSize)\n",
    "        self.fc3 = nn.Linear(layerSize, nbOutputs)\n",
    "        \n",
    "    def forward(self, x):\n",
    "        x = self.fc1(x)\n",
    "        x = nn.ReLU()(x)\n",
    "        \n",
    "        x = self.fc2(x)\n",
    "        x = nn.ReLU()(x)\n",
    "        \n",
    "        x = self.fc3(x)\n",
    "        return torch.sigmoid(x)\n",
    "    \n",
    "    def trainingStep(self, batch):\n",
    "        inputs, labels = batch \n",
    "        out = self(inputs)\n",
    "        currentLoss = F.binary_cross_entropy(out, labels)\n",
    "        return currentLoss\n",
    "    \n",
    "    def validationStep(self, batch):\n",
    "        inputs, labels = batch\n",
    "        out = self(inputs)\n",
    "        currentLoss = F.binary_cross_entropy(out, labels)\n",
    "        currentAccuracy = accuracy(out, labels)\n",
    "        return {\"Validation loss\" : currentLoss, \"Validation accuracy\" : currentAccuracy}\n",
    "    \n",
    "    def validationEpochEnd(self, outputs):\n",
    "        batchLosses = [x[\"Validation loss\"] for x in outputs]\n",
    "        epochLoss = torch.stack(batchLosses).mean()\n",
    "        batchAccuracy = [x[\"Validation accuracy\"] for x in outputs]\n",
    "        epochAccuracy = torch.stack(batchAccuracy).mean()\n",
    "        return {\"Validation loss\" : epochLoss.item(), \"Validation accuracy\" : epochAccuracy.item()}\n",
    "    \n",
    "    def epochEnd(self, epoch, result):\n",
    "        print(\"Epoch [{}], Validation loss : {:.4f}, Validation accuracy : {:.4f}\".format(epoch, result[\"Validation loss\"], result[\"Validation accuracy\"]))\n",
    "    \n",
    "model = Model()"
   ]
  },
  {
   "cell_type": "markdown",
   "id": "2621c2d4",
   "metadata": {},
   "source": [
    "- Affichage des paramètres du modèle."
   ]
  },
  {
   "cell_type": "code",
   "execution_count": 13,
   "id": "4c11d27a",
   "metadata": {},
   "outputs": [
    {
     "data": {
      "text/plain": [
       "[Parameter containing:\n",
       " tensor([[ 0.1319,  0.1335,  0.1530,  ...,  0.0505,  0.0413, -0.0621],\n",
       "         [ 0.1296,  0.1024,  0.0648,  ...,  0.1168, -0.1520,  0.1497],\n",
       "         [-0.0262, -0.1540,  0.0094,  ...,  0.1188,  0.0323,  0.1290],\n",
       "         ...,\n",
       "         [ 0.1890,  0.1225,  0.0861,  ..., -0.1348, -0.0684, -0.0201],\n",
       "         [-0.0750, -0.0568, -0.1382,  ..., -0.0321, -0.1949,  0.0034],\n",
       "         [ 0.0055, -0.0191,  0.0804,  ...,  0.0943, -0.1011,  0.0026]],\n",
       "        requires_grad=True),\n",
       " Parameter containing:\n",
       " tensor([-0.0044, -0.1165, -0.1362,  0.0243, -0.0544,  0.0962, -0.0388,  0.1391,\n",
       "          0.0601,  0.1921,  0.0386,  0.0010, -0.1520, -0.1724,  0.1333,  0.1454,\n",
       "          0.0425,  0.0400,  0.0558, -0.1867,  0.1385,  0.0071, -0.1279, -0.1663,\n",
       "          0.0315, -0.0966,  0.0324,  0.1621,  0.0607, -0.1210, -0.1902, -0.1768,\n",
       "         -0.1549, -0.1796, -0.1397, -0.1678, -0.0554,  0.1229, -0.0358, -0.1408,\n",
       "         -0.1258, -0.0739, -0.1206,  0.1857,  0.1921,  0.0380, -0.0754,  0.1651,\n",
       "          0.0909, -0.1236, -0.0869, -0.1410, -0.1921, -0.1207,  0.1441,  0.1670,\n",
       "         -0.0332,  0.1841, -0.0985,  0.1537,  0.1630,  0.0260,  0.0866,  0.0625,\n",
       "          0.0539, -0.0659,  0.0981,  0.0613, -0.1135,  0.0228,  0.0993,  0.0871,\n",
       "          0.1877, -0.0838,  0.0223,  0.0420,  0.0139, -0.0380,  0.1055,  0.1084,\n",
       "         -0.1543,  0.0891, -0.0851, -0.0876, -0.1775, -0.0321,  0.1485,  0.0017,\n",
       "         -0.0742, -0.0106,  0.0464,  0.0760,  0.1663,  0.1883, -0.0076,  0.0818,\n",
       "          0.1360,  0.1317,  0.1796,  0.1144,  0.1491,  0.1595,  0.1467, -0.1771,\n",
       "          0.1455, -0.0771, -0.1703,  0.0452, -0.0203,  0.0217,  0.1230, -0.0816,\n",
       "          0.1094, -0.0467, -0.1664,  0.1787,  0.1517,  0.1111,  0.1619,  0.1489,\n",
       "         -0.0495,  0.0837, -0.1655, -0.1058,  0.1007, -0.1185, -0.1157, -0.1302],\n",
       "        requires_grad=True),\n",
       " Parameter containing:\n",
       " tensor([[-0.0695, -0.0297,  0.0210,  ..., -0.0433,  0.0017, -0.0345],\n",
       "         [-0.0554, -0.0328, -0.0646,  ..., -0.0410,  0.0511,  0.0608],\n",
       "         [-0.0541,  0.0131,  0.0181,  ..., -0.0567, -0.0043, -0.0470],\n",
       "         ...,\n",
       "         [ 0.0821,  0.0879, -0.0800,  ...,  0.0314,  0.0506, -0.0649],\n",
       "         [-0.0301,  0.0193,  0.0357,  ..., -0.0779, -0.0440, -0.0700],\n",
       "         [ 0.0522,  0.0192,  0.0296,  ...,  0.0078, -0.0086, -0.0543]],\n",
       "        requires_grad=True),\n",
       " Parameter containing:\n",
       " tensor([ 0.0141, -0.0024,  0.0763,  0.0859, -0.0014, -0.0454, -0.0453,  0.0857,\n",
       "         -0.0345, -0.0402,  0.0610, -0.0086,  0.0345,  0.0315, -0.0164, -0.0556,\n",
       "         -0.0062,  0.0499, -0.0291, -0.0008,  0.0528, -0.0388, -0.0637,  0.0040,\n",
       "         -0.0751,  0.0134,  0.0473, -0.0862,  0.0844,  0.0631, -0.0292,  0.0411,\n",
       "          0.0322, -0.0560, -0.0247,  0.0343,  0.0257,  0.0672,  0.0471, -0.0627,\n",
       "          0.0666,  0.0315, -0.0747, -0.0584, -0.0576,  0.0370, -0.0736, -0.0138,\n",
       "         -0.0081,  0.0534,  0.0101, -0.0269, -0.0873, -0.0803,  0.0367,  0.0106,\n",
       "         -0.0338, -0.0156,  0.0770, -0.0630, -0.0719,  0.0850,  0.0063, -0.0787,\n",
       "          0.0458, -0.0573, -0.0650, -0.0320, -0.0776,  0.0033,  0.0213, -0.0713,\n",
       "          0.0084,  0.0055, -0.0713,  0.0447, -0.0626,  0.0189, -0.0632, -0.0703,\n",
       "          0.0697,  0.0197, -0.0004, -0.0240,  0.0766,  0.0741,  0.0827,  0.0450,\n",
       "          0.0003, -0.0868,  0.0447,  0.0576, -0.0304,  0.0298, -0.0153,  0.0129,\n",
       "          0.0208, -0.0883,  0.0446, -0.0403, -0.0028, -0.0475, -0.0722,  0.0013,\n",
       "         -0.0300, -0.0709, -0.0011,  0.0488, -0.0679,  0.0452, -0.0186, -0.0726,\n",
       "         -0.0440,  0.0142, -0.0391,  0.0824, -0.0651,  0.0266,  0.0273,  0.0497,\n",
       "         -0.0171,  0.0158,  0.0562, -0.0728, -0.0192,  0.0219,  0.0141, -0.0056],\n",
       "        requires_grad=True),\n",
       " Parameter containing:\n",
       " tensor([[-0.0273, -0.0819,  0.0069, -0.0459,  0.0844, -0.0622,  0.0324, -0.0426,\n",
       "          -0.0254, -0.0864, -0.0779,  0.0252,  0.0022, -0.0224,  0.0331, -0.0060,\n",
       "           0.0337,  0.0593, -0.0659, -0.0174,  0.0452, -0.0295,  0.0595, -0.0854,\n",
       "           0.0178, -0.0581, -0.0244,  0.0817,  0.0774, -0.0772, -0.0161, -0.0318,\n",
       "           0.0575,  0.0155,  0.0718,  0.0713, -0.0604,  0.0266, -0.0626, -0.0204,\n",
       "          -0.0020,  0.0562,  0.0859,  0.0368, -0.0845, -0.0319, -0.0267,  0.0722,\n",
       "           0.0432, -0.0632, -0.0006,  0.0178,  0.0049,  0.0346, -0.0027, -0.0616,\n",
       "          -0.0597, -0.0066,  0.0146,  0.0137, -0.0829, -0.0301, -0.0844,  0.0631,\n",
       "          -0.0560, -0.0831,  0.0336,  0.0080,  0.0759, -0.0303, -0.0232, -0.0002,\n",
       "          -0.0201,  0.0523, -0.0652,  0.0065,  0.0544,  0.0611,  0.0424,  0.0519,\n",
       "           0.0463,  0.0017,  0.0509,  0.0544, -0.0391,  0.0848,  0.0274, -0.0115,\n",
       "           0.0826,  0.0576, -0.0415, -0.0691,  0.0443,  0.0311,  0.0227, -0.0059,\n",
       "           0.0548, -0.0353,  0.0631,  0.0829, -0.0631,  0.0482, -0.0378, -0.0821,\n",
       "          -0.0358,  0.0273, -0.0486, -0.0737,  0.0623, -0.0496,  0.0800, -0.0088,\n",
       "          -0.0147,  0.0325, -0.0561, -0.0534, -0.0259,  0.0327, -0.0768, -0.0381,\n",
       "          -0.0666, -0.0095,  0.0565, -0.0048, -0.0764,  0.0006, -0.0118, -0.0622]],\n",
       "        requires_grad=True),\n",
       " Parameter containing:\n",
       " tensor([0.0679], requires_grad=True)]"
      ]
     },
     "execution_count": 13,
     "metadata": {},
     "output_type": "execute_result"
    }
   ],
   "source": [
    "list(model.parameters())"
   ]
  },
  {
   "cell_type": "markdown",
   "id": "d1ed7a9e",
   "metadata": {},
   "source": [
    "## 6. Entraînement"
   ]
  },
  {
   "cell_type": "code",
   "execution_count": 14,
   "id": "140de29f",
   "metadata": {},
   "outputs": [],
   "source": [
    "@torch.no_grad()\n",
    "def evaluate(model, validationLoader):\n",
    "    model.eval()\n",
    "    outputs = [model.validationStep(batch) for batch in validationLoader]\n",
    "    return model.validationEpochEnd(outputs)\n",
    "\n",
    "def test(model, testLoader):\n",
    "    model.eval()\n",
    "    outputs = [model.validationStep(batch) for batch in testLoader]\n",
    "    return model.validationEpochEnd(outputs)\n",
    "\n",
    "def fitOneCycle(epochs, learningRate, model, trainLoader, validationLoader):\n",
    "    history = []\n",
    "    \n",
    "    optimizer = torch.optim.SGD(model.parameters(), learningRate)\n",
    "    \n",
    "    for epoch in range(epochs):\n",
    "        model.train()\n",
    "        trainLosses = []\n",
    "        \n",
    "        for batch in trainLoader:\n",
    "            loss = model.trainingStep(batch)\n",
    "            trainLosses.append(loss)\n",
    "            loss.backward()\n",
    "            \n",
    "            optimizer.step()\n",
    "            optimizer.zero_grad()\n",
    "        \n",
    "        result = evaluate(model, validationLoader)\n",
    "        result[\"Train loss\"] = torch.stack(trainLosses).mean().item()\n",
    "        model.epochEnd(epoch, result)\n",
    "        history.append(result)\n",
    "    \n",
    "    return history"
   ]
  },
  {
   "cell_type": "markdown",
   "id": "cd1c685c",
   "metadata": {},
   "source": [
    "- Paramétrage et entraînement du réseau de neurones."
   ]
  },
  {
   "cell_type": "code",
   "execution_count": 15,
   "id": "02b81ea5",
   "metadata": {},
   "outputs": [
    {
     "name": "stdout",
     "output_type": "stream",
     "text": [
      "Epoch [0], Validation loss : 0.6899, Validation accuracy : 0.5251\n",
      "Epoch [1], Validation loss : 0.6868, Validation accuracy : 0.5342\n",
      "Epoch [2], Validation loss : 0.6796, Validation accuracy : 0.5780\n",
      "Epoch [3], Validation loss : 0.6618, Validation accuracy : 0.6242\n",
      "Epoch [4], Validation loss : 0.6290, Validation accuracy : 0.6457\n",
      "Epoch [5], Validation loss : 0.6035, Validation accuracy : 0.6564\n",
      "Epoch [6], Validation loss : 0.5934, Validation accuracy : 0.6608\n",
      "Epoch [7], Validation loss : 0.5892, Validation accuracy : 0.6635\n",
      "Epoch [8], Validation loss : 0.5866, Validation accuracy : 0.6653\n",
      "Epoch [9], Validation loss : 0.5846, Validation accuracy : 0.6668\n"
     ]
    }
   ],
   "source": [
    "history = [evaluate(model, validationLoader)]\n",
    "\n",
    "nbEpochs = 10\n",
    "learningRate = 0.001\n",
    "\n",
    "history += fitOneCycle(nbEpochs, learningRate, model, trainLoader, validationLoader)"
   ]
  },
  {
   "cell_type": "markdown",
   "id": "fb62ba30",
   "metadata": {},
   "source": [
    "- Définition des fonctions d'affichage de l'accuracy et de la loss"
   ]
  },
  {
   "cell_type": "code",
   "execution_count": 16,
   "id": "947acaff",
   "metadata": {},
   "outputs": [],
   "source": [
    "def plotAccuracies(history):\n",
    "    accuracies = [x[\"Validation accuracy\"] for x in history]\n",
    "    plt.plot(accuracies, \"-x\")\n",
    "    plt.xlabel(\"Epoch\")\n",
    "    plt.ylabel(\"Accuracy\")\n",
    "    plt.title(\"Accuracy / Number of epochs\");\n",
    "\n",
    "def plotLosses(history):\n",
    "    trainLosses = [x.get(\"Train loss\") for x in history]\n",
    "    valLosses = [x[\"Validation loss\"] for x in history]\n",
    "    plt.plot(trainLosses, \"-bx\")\n",
    "    plt.plot(valLosses, \"-rx\")\n",
    "    plt.xlabel(\"Epoch\")\n",
    "    plt.ylabel(\"Loss\")\n",
    "    plt.legend([\"Training\", \"Validation\"])\n",
    "    plt.title(\"Loss / Number of epochs\");"
   ]
  },
  {
   "cell_type": "markdown",
   "id": "6730e211",
   "metadata": {},
   "source": [
    "- Graphique de l'évolution de l'accuracy par rapport au numéro de l'epoch."
   ]
  },
  {
   "cell_type": "code",
   "execution_count": 17,
   "id": "7fe03003",
   "metadata": {},
   "outputs": [
    {
     "data": {
      "image/png": "[encoded data removed]",
      "text/plain": [
       "<Figure size 640x480 with 1 Axes>"
      ]
     },
     "metadata": {},
     "output_type": "display_data"
    }
   ],
   "source": [
    "plotAccuracies(history)"
   ]
  },
  {
   "cell_type": "markdown",
   "id": "44f0e802",
   "metadata": {},
   "source": [
    "- Graphique de l'évolution de la loss par rapport au numéro de l'epoch."
   ]
  },
  {
   "cell_type": "code",
   "execution_count": 18,
   "id": "08b815a1",
   "metadata": {},
   "outputs": [
    {
     "data": {
      "image/png": "[encoded data removed]",
      "text/plain": [
       "<Figure size 640x480 with 1 Axes>"
      ]
     },
     "metadata": {},
     "output_type": "display_data"
    }
   ],
   "source": [
    "plotLosses(history)"
   ]
  },
  {
   "cell_type": "code",
   "execution_count": 19,
   "id": "fbe9551c",
   "metadata": {},
   "outputs": [
    {
     "name": "stdout",
     "output_type": "stream",
     "text": [
      "{'Validation loss': 0.5846070647239685, 'Validation accuracy': 0.6667528748512268}\n"
     ]
    }
   ],
   "source": [
    "result = evaluate(model, validationLoader)\n",
    "print(result)"
   ]
  },
  {
   "cell_type": "markdown",
   "id": "0566f494",
   "metadata": {},
   "source": [
    "## 7. Tests"
   ]
  },
  {
   "cell_type": "markdown",
   "id": "e9a88836",
   "metadata": {},
   "source": [
    "- Test du modèle sur le test set parsé par le générateur de datasets décrit au début de ce notebook. Sa taille est de 20 % la taille du dataset original (avant séparation en train set et validation set)."
   ]
  },
  {
   "cell_type": "code",
   "execution_count": 20,
   "id": "c6659de6",
   "metadata": {},
   "outputs": [
    {
     "name": "stdout",
     "output_type": "stream",
     "text": [
      "[{'Validation loss': 0.5848456025123596, 'Validation accuracy': 0.6675238013267517}]\n"
     ]
    }
   ],
   "source": [
    "testData = pd.read_csv(\"archive/testDataset.csv\")\n",
    "\n",
    "inputTestArray, outputTestArray = dataToArrays(testData, inputColumns)\n",
    "\n",
    "testInputs = torch.tensor(inputTestArray, dtype = torch.float32)\n",
    "testOutputs = torch.tensor(outputTestArray, dtype = torch.float32)\n",
    "\n",
    "testDataset = TensorDataset(testInputs, testOutputs)\n",
    "testLoader = DataLoader(testDataset, batchSize, shuffle = True)\n",
    "\n",
    "nbTestInputs = len(inputColumns)\n",
    "nbTestOutputs = 1\n",
    "\n",
    "testHistory = [test(model, testLoader)]\n",
    "print(testHistory)"
   ]
  },
  {
   "cell_type": "markdown",
   "id": "a44114ee",
   "metadata": {},
   "source": [
    "- Explications :<br>\n",
    "    Notre accuracy est d'environ 0.67, ce qui, bien que meilleur que l'aléatoire de 0.50, reste relativement bas. Ce constat s'explique cependant simplement. En effet, pour une bonne partie de la durée des replays étudiés, il est difficile de prévoir quel joueur va gagner. Par exemple, en début de partie, peu de choses se passent et les joueurs se contentent bien souvent de développer leur économie, ne laissant pas de joueur obtenir un quelconque avantage sur l'autre.<br>\n",
    "Nous pouvons en revanche nous attendre à de bonne performances une fois que des batailles commencent à se dérouler, et de manière générale lorsque la partie se rapproche de la fin.<br>\n",
    "Ces cas seront clairement expliqués lors de l'étude de cas plus bas.\n",
    "- Définition de la fonction de prédiction utilisant le réseau de neurones entraîné."
   ]
  },
  {
   "cell_type": "code",
   "execution_count": 21,
   "id": "7ad178eb",
   "metadata": {},
   "outputs": [],
   "source": [
    "def predict(input, verbose = True):\n",
    "    if verbose:\n",
    "        for i in range(len(inputColumns)):\n",
    "            tmp = input[0][i].item()\n",
    "            tmp = round(tmp * (data[inputColumns[i]].max() - data[inputColumns[i]].min()) + data[inputColumns[i]].min(), 4)\n",
    "            print(inputColumns[i] + \":\", tmp)\n",
    "            \n",
    "        print(\"\")\n",
    "    \n",
    "    with torch.no_grad():\n",
    "        pred = model(input[0]).item()\n",
    "        \n",
    "    print(\"Probabilité de victoire du joueur 1 : {:.4f}\".format(1 - pred))"
   ]
  },
  {
   "cell_type": "markdown",
   "id": "44a78df9",
   "metadata": {},
   "source": [
    "- Quelques prédictions."
   ]
  },
  {
   "cell_type": "code",
   "execution_count": 22,
   "id": "1a4779f0",
   "metadata": {},
   "outputs": [
    {
     "name": "stdout",
     "output_type": "stream",
     "text": [
      "time: 493.0\n",
      "race1: 2.0\n",
      "race2: 0.0\n",
      "map: 17.0\n",
      "supplyUsed1: 108.0\n",
      "supplyUsed2: 133.0\n",
      "totalIncome1: 1997.9999\n",
      "totalIncome2: 2821.0\n",
      "mineralsIncome1: 1371.0\n",
      "mineralsIncome2: 2126.9999\n",
      "vespeneIncome1: 627.0\n",
      "vespeneIncome2: 694.0\n",
      "totalResources1: 585.0\n",
      "totalResources2: 359.0\n",
      "minerals1: 190.0\n",
      "minerals2: 55.0\n",
      "vespene1: 395.0\n",
      "vespene2: 304.0\n",
      "activeWorkers1: 38.0\n",
      "activeWorkers2: 59.0\n",
      "army1: 5225.0002\n",
      "army2: 4274.9999\n",
      "technology1: 2050.0\n",
      "technology2: 2375.0\n",
      "lostResources1: 4025.0\n",
      "lostResources2: 1275.0\n",
      "\n",
      "Probabilité de victoire du joueur 1 : 0.1573\n"
     ]
    }
   ],
   "source": [
    "predict(validationDataset[256])"
   ]
  },
  {
   "cell_type": "code",
   "execution_count": 23,
   "id": "b37d755f",
   "metadata": {},
   "outputs": [
    {
     "name": "stdout",
     "output_type": "stream",
     "text": [
      "time: 550.0\n",
      "race1: 2.0\n",
      "race2: 1.0\n",
      "map: 48.0\n",
      "supplyUsed1: 80.0\n",
      "supplyUsed2: 89.0\n",
      "totalIncome1: 1688.0\n",
      "totalIncome2: 1464.0\n",
      "mineralsIncome1: 1240.0\n",
      "mineralsIncome2: 1080.0\n",
      "vespeneIncome1: 448.0\n",
      "vespeneIncome2: 384.0\n",
      "totalResources1: 1103.0\n",
      "totalResources2: 593.0\n",
      "minerals1: 840.0\n",
      "minerals2: 578.0\n",
      "vespene1: 263.0\n",
      "vespene2: 15.0\n",
      "activeWorkers1: 51.0\n",
      "activeWorkers2: 45.0\n",
      "army1: 1850.0\n",
      "army2: 1950.0\n",
      "technology1: 2000.0\n",
      "technology2: 1500.0\n",
      "lostResources1: 7299.9998\n",
      "lostResources2: 6397.9997\n",
      "\n",
      "Probabilité de victoire du joueur 1 : 0.5060\n"
     ]
    }
   ],
   "source": [
    "predict(validationDataset[512])"
   ]
  },
  {
   "cell_type": "markdown",
   "id": "caee0611",
   "metadata": {},
   "source": [
    "## 8. Etude de cas pratiques"
   ]
  },
  {
   "cell_type": "markdown",
   "id": "0c07c6a8",
   "metadata": {},
   "source": [
    "- Changeons de dataset pour utiliser notre fichier contenant 4 moments notables pour 2 parties différentes (soit 8 rows)."
   ]
  },
  {
   "cell_type": "code",
   "execution_count": 24,
   "id": "06bb29ec",
   "metadata": {},
   "outputs": [
    {
     "data": {
      "text/html": [
       "<div>\n",
       "<style scoped>\n",
       "    .dataframe tbody tr th:only-of-type {\n",
       "        vertical-align: middle;\n",
       "    }\n",
       "\n",
       "    .dataframe tbody tr th {\n",
       "        vertical-align: top;\n",
       "    }\n",
       "\n",
       "    .dataframe thead th {\n",
       "        text-align: right;\n",
       "    }\n",
       "</style>\n",
       "<table border=\"1\" class=\"dataframe\">\n",
       "  <thead>\n",
       "    <tr style=\"text-align: right;\">\n",
       "      <th></th>\n",
       "      <th>time</th>\n",
       "      <th>race1</th>\n",
       "      <th>race2</th>\n",
       "      <th>map</th>\n",
       "      <th>supplyUsed1</th>\n",
       "      <th>supplyUsed2</th>\n",
       "      <th>totalIncome1</th>\n",
       "      <th>totalIncome2</th>\n",
       "      <th>mineralsIncome1</th>\n",
       "      <th>mineralsIncome2</th>\n",
       "      <th>...</th>\n",
       "      <th>vespene2</th>\n",
       "      <th>activeWorkers1</th>\n",
       "      <th>activeWorkers2</th>\n",
       "      <th>army1</th>\n",
       "      <th>army2</th>\n",
       "      <th>technology1</th>\n",
       "      <th>technology2</th>\n",
       "      <th>lostResources1</th>\n",
       "      <th>lostResources2</th>\n",
       "      <th>winner</th>\n",
       "    </tr>\n",
       "  </thead>\n",
       "  <tbody>\n",
       "    <tr>\n",
       "      <th>0</th>\n",
       "      <td>100</td>\n",
       "      <td>2</td>\n",
       "      <td>0</td>\n",
       "      <td>0</td>\n",
       "      <td>20.0</td>\n",
       "      <td>20.0</td>\n",
       "      <td>1040</td>\n",
       "      <td>883</td>\n",
       "      <td>951</td>\n",
       "      <td>727</td>\n",
       "      <td>...</td>\n",
       "      <td>34</td>\n",
       "      <td>20</td>\n",
       "      <td>19</td>\n",
       "      <td>0</td>\n",
       "      <td>0</td>\n",
       "      <td>150</td>\n",
       "      <td>150</td>\n",
       "      <td>0</td>\n",
       "      <td>0</td>\n",
       "      <td>1</td>\n",
       "    </tr>\n",
       "    <tr>\n",
       "      <th>1</th>\n",
       "      <td>621</td>\n",
       "      <td>2</td>\n",
       "      <td>0</td>\n",
       "      <td>0</td>\n",
       "      <td>133.0</td>\n",
       "      <td>166.0</td>\n",
       "      <td>3655</td>\n",
       "      <td>3566</td>\n",
       "      <td>2827</td>\n",
       "      <td>2603</td>\n",
       "      <td>...</td>\n",
       "      <td>284</td>\n",
       "      <td>64</td>\n",
       "      <td>72</td>\n",
       "      <td>4325</td>\n",
       "      <td>5200</td>\n",
       "      <td>2750</td>\n",
       "      <td>3375</td>\n",
       "      <td>3300</td>\n",
       "      <td>2124</td>\n",
       "      <td>1</td>\n",
       "    </tr>\n",
       "    <tr>\n",
       "      <th>2</th>\n",
       "      <td>643</td>\n",
       "      <td>2</td>\n",
       "      <td>0</td>\n",
       "      <td>0</td>\n",
       "      <td>86.0</td>\n",
       "      <td>151.0</td>\n",
       "      <td>3498</td>\n",
       "      <td>3431</td>\n",
       "      <td>2715</td>\n",
       "      <td>2491</td>\n",
       "      <td>...</td>\n",
       "      <td>478</td>\n",
       "      <td>64</td>\n",
       "      <td>71</td>\n",
       "      <td>600</td>\n",
       "      <td>4450</td>\n",
       "      <td>3550</td>\n",
       "      <td>3575</td>\n",
       "      <td>7625</td>\n",
       "      <td>3799</td>\n",
       "      <td>1</td>\n",
       "    </tr>\n",
       "    <tr>\n",
       "      <th>3</th>\n",
       "      <td>721</td>\n",
       "      <td>2</td>\n",
       "      <td>0</td>\n",
       "      <td>0</td>\n",
       "      <td>79.0</td>\n",
       "      <td>170.0</td>\n",
       "      <td>3090</td>\n",
       "      <td>4109</td>\n",
       "      <td>2127</td>\n",
       "      <td>2967</td>\n",
       "      <td>...</td>\n",
       "      <td>762</td>\n",
       "      <td>65</td>\n",
       "      <td>73</td>\n",
       "      <td>175</td>\n",
       "      <td>5675</td>\n",
       "      <td>3150</td>\n",
       "      <td>4125</td>\n",
       "      <td>12450</td>\n",
       "      <td>5624</td>\n",
       "      <td>1</td>\n",
       "    </tr>\n",
       "    <tr>\n",
       "      <th>4</th>\n",
       "      <td>100</td>\n",
       "      <td>1</td>\n",
       "      <td>0</td>\n",
       "      <td>1</td>\n",
       "      <td>20.0</td>\n",
       "      <td>20.0</td>\n",
       "      <td>911</td>\n",
       "      <td>962</td>\n",
       "      <td>867</td>\n",
       "      <td>783</td>\n",
       "      <td>...</td>\n",
       "      <td>38</td>\n",
       "      <td>18</td>\n",
       "      <td>19</td>\n",
       "      <td>0</td>\n",
       "      <td>0</td>\n",
       "      <td>0</td>\n",
       "      <td>150</td>\n",
       "      <td>0</td>\n",
       "      <td>0</td>\n",
       "      <td>1</td>\n",
       "    </tr>\n",
       "    <tr>\n",
       "      <th>5</th>\n",
       "      <td>493</td>\n",
       "      <td>1</td>\n",
       "      <td>0</td>\n",
       "      <td>1</td>\n",
       "      <td>149.0</td>\n",
       "      <td>128.0</td>\n",
       "      <td>4574</td>\n",
       "      <td>2899</td>\n",
       "      <td>3723</td>\n",
       "      <td>2183</td>\n",
       "      <td>...</td>\n",
       "      <td>631</td>\n",
       "      <td>90</td>\n",
       "      <td>61</td>\n",
       "      <td>3650</td>\n",
       "      <td>4675</td>\n",
       "      <td>1700</td>\n",
       "      <td>2000</td>\n",
       "      <td>1043</td>\n",
       "      <td>0</td>\n",
       "      <td>1</td>\n",
       "    </tr>\n",
       "    <tr>\n",
       "      <th>6</th>\n",
       "      <td>507</td>\n",
       "      <td>1</td>\n",
       "      <td>0</td>\n",
       "      <td>1</td>\n",
       "      <td>110.0</td>\n",
       "      <td>121.0</td>\n",
       "      <td>4562</td>\n",
       "      <td>2966</td>\n",
       "      <td>3667</td>\n",
       "      <td>2183</td>\n",
       "      <td>...</td>\n",
       "      <td>294</td>\n",
       "      <td>90</td>\n",
       "      <td>61</td>\n",
       "      <td>1550</td>\n",
       "      <td>3325</td>\n",
       "      <td>2150</td>\n",
       "      <td>2000</td>\n",
       "      <td>3418</td>\n",
       "      <td>1300</td>\n",
       "      <td>1</td>\n",
       "    </tr>\n",
       "    <tr>\n",
       "      <th>7</th>\n",
       "      <td>779</td>\n",
       "      <td>1</td>\n",
       "      <td>0</td>\n",
       "      <td>1</td>\n",
       "      <td>94.0</td>\n",
       "      <td>167.0</td>\n",
       "      <td>2994</td>\n",
       "      <td>3252</td>\n",
       "      <td>2323</td>\n",
       "      <td>2491</td>\n",
       "      <td>...</td>\n",
       "      <td>378</td>\n",
       "      <td>72</td>\n",
       "      <td>58</td>\n",
       "      <td>750</td>\n",
       "      <td>5950</td>\n",
       "      <td>2025</td>\n",
       "      <td>3475</td>\n",
       "      <td>15328</td>\n",
       "      <td>10175</td>\n",
       "      <td>1</td>\n",
       "    </tr>\n",
       "  </tbody>\n",
       "</table>\n",
       "<p>8 rows × 27 columns</p>\n",
       "</div>"
      ],
      "text/plain": [
       "   time  race1  race2  map  supplyUsed1  supplyUsed2  totalIncome1  \\\n",
       "0   100      2      0    0         20.0         20.0          1040   \n",
       "1   621      2      0    0        133.0        166.0          3655   \n",
       "2   643      2      0    0         86.0        151.0          3498   \n",
       "3   721      2      0    0         79.0        170.0          3090   \n",
       "4   100      1      0    1         20.0         20.0           911   \n",
       "5   493      1      0    1        149.0        128.0          4574   \n",
       "6   507      1      0    1        110.0        121.0          4562   \n",
       "7   779      1      0    1         94.0        167.0          2994   \n",
       "\n",
       "   totalIncome2  mineralsIncome1  mineralsIncome2  ...  vespene2  \\\n",
       "0           883              951              727  ...        34   \n",
       "1          3566             2827             2603  ...       284   \n",
       "2          3431             2715             2491  ...       478   \n",
       "3          4109             2127             2967  ...       762   \n",
       "4           962              867              783  ...        38   \n",
       "5          2899             3723             2183  ...       631   \n",
       "6          2966             3667             2183  ...       294   \n",
       "7          3252             2323             2491  ...       378   \n",
       "\n",
       "   activeWorkers1  activeWorkers2  army1  army2  technology1  technology2  \\\n",
       "0              20              19      0      0          150          150   \n",
       "1              64              72   4325   5200         2750         3375   \n",
       "2              64              71    600   4450         3550         3575   \n",
       "3              65              73    175   5675         3150         4125   \n",
       "4              18              19      0      0            0          150   \n",
       "5              90              61   3650   4675         1700         2000   \n",
       "6              90              61   1550   3325         2150         2000   \n",
       "7              72              58    750   5950         2025         3475   \n",
       "\n",
       "   lostResources1  lostResources2  winner  \n",
       "0               0               0       1  \n",
       "1            3300            2124       1  \n",
       "2            7625            3799       1  \n",
       "3           12450            5624       1  \n",
       "4               0               0       1  \n",
       "5            1043               0       1  \n",
       "6            3418            1300       1  \n",
       "7           15328           10175       1  \n",
       "\n",
       "[8 rows x 27 columns]"
      ]
     },
     "execution_count": 24,
     "metadata": {},
     "output_type": "execute_result"
    }
   ],
   "source": [
    "dataPrime = pd.read_csv(\"archive/datasetPrime.csv\")\n",
    "dataPrime.head(len(dataPrime.index))"
   ]
  },
  {
   "cell_type": "code",
   "execution_count": 25,
   "id": "71fcf665",
   "metadata": {},
   "outputs": [],
   "source": [
    "def predictor(n):\n",
    "    toPredict = list()\n",
    "    \n",
    "    for i in range(len(inputColumns)):\n",
    "        toPredict.append(dataPrime.iloc[n][i])\n",
    "    \n",
    "    toPredict = [float(item) for item in toPredict]\n",
    "    \n",
    "    for col in range(len(inputColumns)):\n",
    "        toPredict[col] = (toPredict[col] - data[inputColumns[col]].min()) / (data[inputColumns[col]].max() - data[inputColumns[col]].min())\n",
    "    \n",
    "    predict(torch.tensor([toPredict], dtype = torch.float32), verbose = False)"
   ]
  },
  {
   "cell_type": "markdown",
   "id": "71028233",
   "metadata": {},
   "source": [
    "- Rappelons que \"joueur 1\" désigne le joueur décrit par \"race1\", \"supplyUsed1...\". Les captures d'écran sont prises du point de vue du joueur 1 (Protoss dans la partie 1 et Zerg dans la partie 2).\n",
    "- 1ère partie à 1 min 40 (début de partie). On remarque que la probabilité de victoire du joueur est quasiment de 51 % (ou 51/100 = 0.51), en équilibre avec la probabilité de victoire de l'adversaire.\n",
    "\n",
    "<img src=\"files/figures/TvP1.jpg\" width=\"800px\"/>"
   ]
  },
  {
   "cell_type": "code",
   "execution_count": 26,
   "id": "824e0584",
   "metadata": {},
   "outputs": [
    {
     "name": "stdout",
     "output_type": "stream",
     "text": [
      "Probabilité de victoire du joueur 1 : 0.5108\n"
     ]
    }
   ],
   "source": [
    "predictor(0)"
   ]
  },
  {
   "cell_type": "markdown",
   "id": "6d09033f",
   "metadata": {},
   "source": [
    "- 1ère partie à 10 min 21 (avant le combat). Le réseau de neurones prédit une mauvaise bataille pour le joueur Protoss. Sa probabilité que la partie se solde par une victoire pour lui est estimée à 21 %.\n",
    "\n",
    "<img src=\"files/figures/TvP2.jpg\" width=\"800px\"/>"
   ]
  },
  {
   "cell_type": "code",
   "execution_count": 27,
   "id": "d6d981cb",
   "metadata": {},
   "outputs": [
    {
     "name": "stdout",
     "output_type": "stream",
     "text": [
      "Probabilité de victoire du joueur 1 : 0.2078\n"
     ]
    }
   ],
   "source": [
    "predictor(1)"
   ]
  },
  {
   "cell_type": "markdown",
   "id": "c573e723",
   "metadata": {},
   "source": [
    "Image du déroulé du combat à titre indicatif.\n",
    "\n",
    "<img src=\"files/figures/TvP3.jpg\" width=\"800px\"/>"
   ]
  },
  {
   "cell_type": "markdown",
   "id": "52664769",
   "metadata": {},
   "source": [
    "- 1ère partie à 10 min 43 (après le combat). Après la destruction de son armée, les chances de victoire du joueur Protoss baissent encore pour atteindre environ 9 %.\n",
    "\n",
    "<img src=\"files/figures/TvP4.jpg\" width=\"800px\"/>"
   ]
  },
  {
   "cell_type": "code",
   "execution_count": 28,
   "id": "8b79a7aa",
   "metadata": {},
   "outputs": [
    {
     "name": "stdout",
     "output_type": "stream",
     "text": [
      "Probabilité de victoire du joueur 1 : 0.0867\n"
     ]
    }
   ],
   "source": [
    "predictor(2)"
   ]
  },
  {
   "cell_type": "markdown",
   "id": "232ba637",
   "metadata": {},
   "source": [
    "- 1ère partie à 12 min 01 (fin de partie). Juste avant que le joueur n'abandonne, le réseau de neurones ne donne plus que 3 % de chances de victoire au joueur Protoss.\n",
    "\n",
    "<img src=\"files/figures/TvP5.jpg\" width=\"800px\"/>"
   ]
  },
  {
   "cell_type": "code",
   "execution_count": 29,
   "id": "6cf0c6b7",
   "metadata": {},
   "outputs": [
    {
     "name": "stdout",
     "output_type": "stream",
     "text": [
      "Probabilité de victoire du joueur 1 : 0.0348\n"
     ]
    }
   ],
   "source": [
    "predictor(3)"
   ]
  },
  {
   "cell_type": "markdown",
   "id": "7be82e7e",
   "metadata": {},
   "source": [
    "- 2ème partie à 1 min 40 (début de partie). Encore une fois, la situation des deux joueurs est relativement équivalente à ce moment de la partie avec une chance de victoire de 47 % pour le joueur Zerg. Ce faible écart peut témoigner soit d'erreurs faites par le joueur en ce début de partie, soit d'un déséquilibre comme une carte favorable au joueur Terran (adverse).\n",
    "\n",
    "<img src=\"files/figures/TvZ1.jpg\" width=\"800px\"/>"
   ]
  },
  {
   "cell_type": "code",
   "execution_count": 30,
   "id": "d84f18ab",
   "metadata": {},
   "outputs": [
    {
     "name": "stdout",
     "output_type": "stream",
     "text": [
      "Probabilité de victoire du joueur 1 : 0.4746\n"
     ]
    }
   ],
   "source": [
    "predictor(4)"
   ]
  },
  {
   "cell_type": "markdown",
   "id": "ae1c3654",
   "metadata": {},
   "source": [
    "- 2ème partie à 8 min 13 (avant le combat). Le réseau de neurones prédit une victoire du joueur Zerg avec 83 % de probabilité.\n",
    "\n",
    "<img src=\"files/figures/TvZ2.jpg\" width=\"800px\"/>"
   ]
  },
  {
   "cell_type": "code",
   "execution_count": 31,
   "id": "156e9c57",
   "metadata": {},
   "outputs": [
    {
     "name": "stdout",
     "output_type": "stream",
     "text": [
      "Probabilité de victoire du joueur 1 : 0.8330\n"
     ]
    }
   ],
   "source": [
    "predictor(5)"
   ]
  },
  {
   "cell_type": "markdown",
   "id": "d62bfa67",
   "metadata": {},
   "source": [
    "Image du déroulé du combat à titre indicatif.\n",
    "\n",
    "<img src=\"files/figures/TvZ3.jpg\" width=\"800px\"/>"
   ]
  },
  {
   "cell_type": "markdown",
   "id": "f0151863",
   "metadata": {},
   "source": [
    "- 2ème partie à 8 min 27 (après le combat). La prédiction précédente se trouve déjouée par le joueur Terran qui a pris un meilleur engagement pour diverses raisons. Malgré tout, le joueur Zerg conserve de bonnes chances de gagner de 68 % grâce notamment à son économie (il possède 4 bases contre 3 pour le joueur Terran).\n",
    "\n",
    "<img src=\"files/figures/TvZ4.jpg\" width=\"800px\"/>"
   ]
  },
  {
   "cell_type": "code",
   "execution_count": 32,
   "id": "8dc0b937",
   "metadata": {},
   "outputs": [
    {
     "name": "stdout",
     "output_type": "stream",
     "text": [
      "Probabilité de victoire du joueur 1 : 0.6831\n"
     ]
    }
   ],
   "source": [
    "predictor(6)"
   ]
  },
  {
   "cell_type": "markdown",
   "id": "e1b50c95",
   "metadata": {},
   "source": [
    "- 2ème partie à 12 min 59 (fin de partie). Le joueur Zerg n'aura pas su tirer parti de son économie. On observe en effet à la fin de la partie qu'il possède beaucoup de ressources en réserve (indiquées sur le bord supérieur droit de l'image ci-dessous). Les ressources qu'il a récolté n'ont pas été réinvesties, conduisant à une probabilité de victoire de 8 % avant son abandon.\n",
    "\n",
    "<img src=\"files/figures/TvZ5.jpg\" width=\"800px\"/>"
   ]
  },
  {
   "cell_type": "code",
   "execution_count": 33,
   "id": "b2f774e8",
   "metadata": {},
   "outputs": [
    {
     "name": "stdout",
     "output_type": "stream",
     "text": [
      "Probabilité de victoire du joueur 1 : 0.0812\n"
     ]
    }
   ],
   "source": [
    "predictor(7)"
   ]
  },
  {
   "cell_type": "markdown",
   "id": "737de2b3",
   "metadata": {},
   "source": [
    "## Sauvegarde"
   ]
  },
  {
   "cell_type": "markdown",
   "id": "164c5e77",
   "metadata": {},
   "source": [
    "- Ci-dessous la commande permettant de sauvegarder les paramètres de notre réseau de neurones entraîné."
   ]
  },
  {
   "cell_type": "code",
   "execution_count": 34,
   "id": "b4471f1b",
   "metadata": {},
   "outputs": [
    {
     "name": "stdout",
     "output_type": "stream",
     "text": [
      "OrderedDict([('fc1.weight', tensor([[ 0.1398,  0.1340,  0.1675,  ...,  0.0887,  0.0625, -0.0878],\n",
      "        [ 0.1377,  0.1170,  0.0837,  ...,  0.1668, -0.1257,  0.1138],\n",
      "        [-0.0263, -0.1541,  0.0090,  ...,  0.1188,  0.0323,  0.1290],\n",
      "        ...,\n",
      "        [ 0.1922,  0.1186,  0.1024,  ..., -0.1302, -0.0661, -0.0223],\n",
      "        [-0.0750, -0.0568, -0.1382,  ..., -0.0321, -0.1949,  0.0034],\n",
      "        [ 0.0072, -0.0047,  0.0791,  ...,  0.0664, -0.1158,  0.0297]])), ('fc1.bias', tensor([ 0.0270, -0.0175, -0.1362,  0.0931, -0.0541,  0.0687, -0.0459,  0.1539,\n",
      "         0.0483,  0.1999,  0.0214,  0.0042, -0.0559, -0.1720,  0.1229,  0.1449,\n",
      "         0.0508,  0.0476,  0.0199, -0.1874,  0.1472, -0.0119, -0.1410, -0.1661,\n",
      "         0.0278, -0.0947, -0.0035,  0.1981,  0.0769, -0.1226, -0.1902, -0.1768,\n",
      "        -0.1515, -0.2004, -0.1467, -0.1548,  0.0305,  0.1116, -0.0363, -0.1394,\n",
      "        -0.1236,  0.0264, -0.1218,  0.1956,  0.2188,  0.0508, -0.0754,  0.1728,\n",
      "         0.1082, -0.1220, -0.1089, -0.1410, -0.1018, -0.1017,  0.1751,  0.1850,\n",
      "        -0.0334,  0.2137, -0.0932,  0.1775,  0.1848,  0.0658,  0.0971,  0.0041,\n",
      "         0.0530, -0.0766,  0.1046,  0.0963, -0.1135,  0.0740,  0.0745,  0.1013,\n",
      "         0.2211, -0.0837,  0.0267,  0.1282,  0.0405, -0.0480,  0.1341,  0.1290,\n",
      "        -0.1636,  0.0366, -0.0851, -0.0870, -0.1781, -0.0350,  0.1449,  0.1016,\n",
      "        -0.0779, -0.0156,  0.0509,  0.1142,  0.1584,  0.1977, -0.0337,  0.0843,\n",
      "         0.1309,  0.1330,  0.2307,  0.1243,  0.2156,  0.1526,  0.1229, -0.1560,\n",
      "         0.1810, -0.0897, -0.1692,  0.0707,  0.0434,  0.0389,  0.1167, -0.0812,\n",
      "         0.1442, -0.0468, -0.1596,  0.1821,  0.1653,  0.0930,  0.1683,  0.1657,\n",
      "        -0.0486,  0.1160, -0.1657, -0.1130,  0.1124, -0.0980, -0.1157, -0.0830])), ('fc2.weight', tensor([[-0.1076, -0.0727,  0.0210,  ..., -0.0609,  0.0017, -0.0097],\n",
      "        [-0.0555, -0.0330, -0.0646,  ..., -0.0410,  0.0511,  0.0611],\n",
      "        [-0.0501,  0.0174,  0.0181,  ..., -0.0551, -0.0043, -0.0487],\n",
      "        ...,\n",
      "        [ 0.0872,  0.0930, -0.0800,  ...,  0.0332,  0.0506, -0.0673],\n",
      "        [-0.0033,  0.0490,  0.0358,  ..., -0.0685, -0.0440, -0.0846],\n",
      "        [ 0.0484,  0.0164,  0.0295,  ...,  0.0068, -0.0086, -0.0567]])), ('fc2.bias', tensor([ 0.0498, -0.0013,  0.0788,  0.0873,  0.0041, -0.0344, -0.0386,  0.1233,\n",
      "        -0.0321, -0.0172,  0.0614, -0.0086,  0.0360,  0.0315, -0.0186, -0.0556,\n",
      "        -0.0055,  0.0683, -0.0060, -0.0008,  0.0528, -0.0453, -0.0567,  0.0142,\n",
      "        -0.0751,  0.0121,  0.0473, -0.0862,  0.1134,  0.0600, -0.0293,  0.0707,\n",
      "         0.0160, -0.0560, -0.0037,  0.0685,  0.0845,  0.0609,  0.0596, -0.0390,\n",
      "         0.0744,  0.0472, -0.0259, -0.0583, -0.0576,  0.0379, -0.0740, -0.0234,\n",
      "        -0.0081,  0.0552,  0.0273,  0.0011, -0.0872, -0.0612,  0.0365,  0.0052,\n",
      "        -0.0265, -0.0156,  0.0837, -0.0630, -0.0794,  0.1158,  0.0710, -0.0246,\n",
      "         0.0744, -0.0581, -0.0656, -0.0320, -0.0776, -0.0074,  0.0181, -0.0713,\n",
      "         0.0283,  0.0339, -0.0700,  0.0497, -0.0653,  0.0280, -0.0181, -0.0416,\n",
      "         0.1123,  0.0243, -0.0174, -0.0254,  0.0913,  0.0809,  0.0871,  0.0457,\n",
      "         0.0283, -0.0869,  0.1087,  0.0813, -0.0304,  0.0405, -0.0276,  0.0333,\n",
      "         0.0157, -0.0883,  0.0322, -0.0403,  0.0427, -0.0444, -0.0722,  0.0571,\n",
      "        -0.0300, -0.0487,  0.0422,  0.0781, -0.0817,  0.0893, -0.0248, -0.0726,\n",
      "        -0.0489,  0.0470, -0.0440,  0.0906, -0.0651,  0.0267,  0.0507,  0.0784,\n",
      "        -0.0076,  0.0189,  0.0475, -0.0728, -0.0396,  0.0280,  0.0301, -0.0309])), ('fc3.weight', tensor([[-4.9657e-01, -8.2096e-02,  4.7584e-02, -6.7290e-02,  3.0791e-01,\n",
      "         -1.2632e-01,  7.9183e-02, -4.4095e-01, -2.5778e-02, -2.9841e-01,\n",
      "         -7.7902e-02,  2.5170e-02,  3.6321e-02, -2.2375e-02,  3.3099e-02,\n",
      "         -5.9830e-03,  3.3991e-01,  2.3957e-01, -1.9358e-01, -1.7405e-02,\n",
      "          5.6094e-02, -2.8366e-02,  7.5874e-02, -1.9425e-01,  1.7755e-02,\n",
      "         -1.3280e-01, -2.4365e-02,  8.1712e-02,  1.3793e-01, -7.4528e-02,\n",
      "         -1.5994e-02, -3.5063e-01, -2.1281e-02,  1.5476e-02,  2.9619e-01,\n",
      "          5.0041e-01, -5.9080e-01,  2.2946e-02, -1.5487e-01, -1.1035e-01,\n",
      "         -1.5811e-01,  3.6922e-01,  2.7634e-01,  3.6815e-02, -8.4503e-02,\n",
      "         -1.0365e-01, -4.0969e-02,  7.2411e-02,  4.3230e-02, -6.4548e-02,\n",
      "         -5.0123e-02, -1.1218e-01,  5.1341e-03,  2.8417e-01,  1.1455e-03,\n",
      "         -5.9899e-02, -1.4967e-01, -6.5307e-03, -2.1897e-01,  1.3697e-02,\n",
      "         -8.2439e-02, -1.9482e-01, -9.3310e-01,  2.8107e-01, -3.7514e-01,\n",
      "         -8.2946e-02,  3.3353e-02,  7.9880e-03,  7.5903e-02, -2.6254e-02,\n",
      "         -2.2218e-02, -2.2282e-04, -2.1782e-01,  5.0667e-01, -7.7972e-02,\n",
      "         -5.6617e-02,  5.7352e-02,  9.7045e-02,  3.7059e-01,  3.6279e-01,\n",
      "          9.7063e-01,  1.8660e-02,  5.0039e-02,  5.4315e-02, -2.6669e-01,\n",
      "          2.7744e-01,  1.3424e-01, -4.1135e-02,  6.5198e-01,  5.7622e-02,\n",
      "         -5.2572e-01, -2.3216e-01,  4.4263e-02,  5.3147e-01,  5.2095e-02,\n",
      "         -1.4779e-01, -6.0374e-03, -3.5321e-02,  6.1097e-02,  8.2881e-02,\n",
      "         -2.0611e-01,  1.2475e-01, -3.7784e-02, -5.0681e-01, -3.5814e-02,\n",
      "          1.3418e-01, -4.8174e-01, -2.6458e-01,  6.0563e-02, -3.2247e-01,\n",
      "          7.9118e-02, -8.7698e-03, -1.2727e-01,  3.5007e-01, -5.5495e-02,\n",
      "          5.6766e-02, -2.5949e-02,  3.2676e-02, -1.5001e-01, -3.5418e-01,\n",
      "          1.2175e-01, -1.2108e-01,  1.0975e-02, -3.7391e-03, -7.1251e-02,\n",
      "          7.3284e-02,  3.3619e-01, -4.4896e-02]])), ('fc3.bias', tensor([0.0488]))])\n"
     ]
    }
   ],
   "source": [
    "torch.save(model.state_dict(), \"starcraft2-best-model.pt\")\n",
    "print(model.state_dict())"
   ]
  }
 ],
 "metadata": {
  "kernelspec": {
   "display_name": "Python 3 (ipykernel)",
   "language": "python",
   "name": "python3"
  },
  "language_info": {
   "codemirror_mode": {
    "name": "ipython",
    "version": 3
   },
   "file_extension": ".py",
   "mimetype": "text/x-python",
   "name": "python",
   "nbconvert_exporter": "python",
   "pygments_lexer": "ipython3",
   "version": "3.9.13"
  }
 },
 "nbformat": 4,
 "nbformat_minor": 5
}
