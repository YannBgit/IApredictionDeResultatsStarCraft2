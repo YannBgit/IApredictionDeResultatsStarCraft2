{
 "cells": [
  {
   "cell_type": "markdown",
   "id": "ac35021e",
   "metadata": {},
   "source": [
    "# Réseau de neurone ``PyTorch``- Prédiction de vainqueur sur StarCraft 2"
   ]
  },
  {
   "cell_type": "markdown",
   "id": "bcbe3b65",
   "metadata": {},
   "source": [
    "Les datasets représentent de nombreuses parties 1 contre 1 sur le jeu StarCraft 2.\n",
    "Pour chaque replay est enregistré à chaque temps T l'etat du jeu ainsi que le vainqueur indiqué en dernière colonne.\n",
    "\n",
    "<img src=\"files/figures/sc2_logo.png\" width=\"600px\"/>\n",
    "\n",
    "Nous avons défini et entraîné un réseau de neurones sur ces datasets. C'est un problème de classification.<br>\n",
    "La définition et l'entraînement d'un réseau de neurones implique les étapes suivantes :\n",
    "\n",
    "0. Importer les **librairies**;\n",
    "1. Obtenir les **datasets** (train, validation et test);\n",
    "2. Definir les **dataloaders**;\n",
    "3. Definir le **modèle**;\n",
    "4. Definir la **loss function**;\n",
    "5. Definir l'**optimizer**;\n",
    "6. **Entraîner** le modèle (training loop);\n",
    "7. Obtenir les **resultats** en prédisant sur le test set;\n",
    "8. **Cas pratiques**."
   ]
  },
  {
   "cell_type": "markdown",
   "id": "933ac146",
   "metadata": {},
   "source": [
    "## 0. Librairies"
   ]
  },
  {
   "cell_type": "code",
   "execution_count": 4,
   "id": "6235ff87",
   "metadata": {
    "scrolled": true
   },
   "outputs": [],
   "source": [
    "import os\n",
    "\n",
    "import torch\n",
    "import torch.nn as nn\n",
    "import torch.nn.functional as F\n",
    "\n",
    "from torch.utils.data import DataLoader, random_split, Dataset\n",
    "import torchvision.datasets as datasets\n",
    "from torchvision.transforms import ToTensor\n",
    "\n",
    "from sklearn.metrics import classification_report\n",
    "\n",
    "import matplotlib.pyplot as plt\n",
    "\n",
    "from tqdm.notebook import tqdm\n",
    "\n",
    "import pandas as pd\n",
    "import numpy as np"
   ]
  },
  {
   "cell_type": "markdown",
   "id": "56800aaa",
   "metadata": {},
   "source": [
    "## 1. Exploration des datasets"
   ]
  },
  {
   "cell_type": "markdown",
   "id": "70011aad",
   "metadata": {},
   "source": [
    "- L'étape la plus longue pour arriver à entraîner notre IA a consisté en l'élaboration d'un dataset de qualité pour le sujet qui nous intéressait. Nous avons dû écrire un programme permettant de générer un grand nombre de rows (lignes) sur de nombreuses données permettant de décrire l'état d'une partie de StarCraft 2 en cours.<br>\n",
    "Le code source de ce parseur est disponible sur github :<br>\n",
    "https://github.com/YannBgit/SC2replayDatasetGenerator\n",
    "\n",
    "- Ce programme a pu être écrit grâce à l'API sc2reader qui permet d'extraire des données de fichiers SC2Replay. Son code source est également disponible :<br>\n",
    "https://github.com/ggtracker/sc2reader\n",
    "\n",
    "- Le parseur contient des fonctionnalités d'ergonomie et de randomisation de datasets. Sans entrer dans les détails (l'utilisation est détaillée dans le README), il est possible à partir d'un répertoire contenant un grand nombre de replays de choisir le nombre à utiliser pour le train set et le test set, qu'un script va sélectionner aléatoirement dans le répertoire source.<br>\n",
    "- Le parseur va ensuite extraire des données de ces replays pour générer un grand nombre de rows correspondant chacun à un instant dans la partie étudiée.<br><br>\n",
    "- L'étape suivante a été de trouver un grand nombre de replays exploitables à donner au parseur. Heureusement, Blizzard, le studio produisant le jeu, a rendu public une base de données massive de replays anonymisés qui ont servi aux équipes de Google pour entraîner l'IA AlphaStar. Nous avons donc pu parser 10000 replays pour notre train set et 5000 pour notre test set."
   ]
  },
  {
   "cell_type": "markdown",
   "id": "72d11949",
   "metadata": {},
   "source": [
    "- Affichage d'un dataset."
   ]
  },
  {
   "cell_type": "code",
   "execution_count": 5,
   "id": "1293319b",
   "metadata": {
    "scrolled": true
   },
   "outputs": [
    {
     "data": {
      "text/html": [
       "<div>\n",
       "<style scoped>\n",
       "    .dataframe tbody tr th:only-of-type {\n",
       "        vertical-align: middle;\n",
       "    }\n",
       "\n",
       "    .dataframe tbody tr th {\n",
       "        vertical-align: top;\n",
       "    }\n",
       "\n",
       "    .dataframe thead th {\n",
       "        text-align: right;\n",
       "    }\n",
       "</style>\n",
       "<table border=\"1\" class=\"dataframe\">\n",
       "  <thead>\n",
       "    <tr style=\"text-align: right;\">\n",
       "      <th></th>\n",
       "      <th>time</th>\n",
       "      <th>race1</th>\n",
       "      <th>race2</th>\n",
       "      <th>supplyUsed1</th>\n",
       "      <th>supplyUsed2</th>\n",
       "      <th>supplyMade1</th>\n",
       "      <th>supplyMade2</th>\n",
       "      <th>totalIncome1</th>\n",
       "      <th>totalIncome2</th>\n",
       "      <th>mineralsIncome1</th>\n",
       "      <th>...</th>\n",
       "      <th>vespene2</th>\n",
       "      <th>activeWorkers1</th>\n",
       "      <th>activeWorkers2</th>\n",
       "      <th>army1</th>\n",
       "      <th>army2</th>\n",
       "      <th>technology1</th>\n",
       "      <th>technology2</th>\n",
       "      <th>lostResources1</th>\n",
       "      <th>lostResources2</th>\n",
       "      <th>winner</th>\n",
       "    </tr>\n",
       "  </thead>\n",
       "  <tbody>\n",
       "    <tr>\n",
       "      <th>0</th>\n",
       "      <td>7</td>\n",
       "      <td>1</td>\n",
       "      <td>2</td>\n",
       "      <td>13.0</td>\n",
       "      <td>13.0</td>\n",
       "      <td>14.0</td>\n",
       "      <td>15.0</td>\n",
       "      <td>251</td>\n",
       "      <td>251</td>\n",
       "      <td>251</td>\n",
       "      <td>...</td>\n",
       "      <td>0</td>\n",
       "      <td>12</td>\n",
       "      <td>12</td>\n",
       "      <td>0</td>\n",
       "      <td>0</td>\n",
       "      <td>0</td>\n",
       "      <td>0</td>\n",
       "      <td>0</td>\n",
       "      <td>0</td>\n",
       "      <td>0</td>\n",
       "    </tr>\n",
       "    <tr>\n",
       "      <th>1</th>\n",
       "      <td>14</td>\n",
       "      <td>1</td>\n",
       "      <td>2</td>\n",
       "      <td>13.0</td>\n",
       "      <td>14.0</td>\n",
       "      <td>14.0</td>\n",
       "      <td>15.0</td>\n",
       "      <td>671</td>\n",
       "      <td>671</td>\n",
       "      <td>671</td>\n",
       "      <td>...</td>\n",
       "      <td>0</td>\n",
       "      <td>13</td>\n",
       "      <td>13</td>\n",
       "      <td>0</td>\n",
       "      <td>0</td>\n",
       "      <td>0</td>\n",
       "      <td>0</td>\n",
       "      <td>0</td>\n",
       "      <td>0</td>\n",
       "      <td>0</td>\n",
       "    </tr>\n",
       "    <tr>\n",
       "      <th>2</th>\n",
       "      <td>21</td>\n",
       "      <td>1</td>\n",
       "      <td>2</td>\n",
       "      <td>14.0</td>\n",
       "      <td>14.0</td>\n",
       "      <td>14.0</td>\n",
       "      <td>15.0</td>\n",
       "      <td>727</td>\n",
       "      <td>671</td>\n",
       "      <td>727</td>\n",
       "      <td>...</td>\n",
       "      <td>0</td>\n",
       "      <td>13</td>\n",
       "      <td>13</td>\n",
       "      <td>0</td>\n",
       "      <td>0</td>\n",
       "      <td>0</td>\n",
       "      <td>0</td>\n",
       "      <td>0</td>\n",
       "      <td>0</td>\n",
       "      <td>0</td>\n",
       "    </tr>\n",
       "    <tr>\n",
       "      <th>3</th>\n",
       "      <td>29</td>\n",
       "      <td>1</td>\n",
       "      <td>2</td>\n",
       "      <td>14.0</td>\n",
       "      <td>15.0</td>\n",
       "      <td>14.0</td>\n",
       "      <td>15.0</td>\n",
       "      <td>755</td>\n",
       "      <td>671</td>\n",
       "      <td>755</td>\n",
       "      <td>...</td>\n",
       "      <td>0</td>\n",
       "      <td>13</td>\n",
       "      <td>14</td>\n",
       "      <td>0</td>\n",
       "      <td>0</td>\n",
       "      <td>0</td>\n",
       "      <td>0</td>\n",
       "      <td>0</td>\n",
       "      <td>0</td>\n",
       "      <td>0</td>\n",
       "    </tr>\n",
       "    <tr>\n",
       "      <th>4</th>\n",
       "      <td>36</td>\n",
       "      <td>1</td>\n",
       "      <td>2</td>\n",
       "      <td>16.0</td>\n",
       "      <td>15.0</td>\n",
       "      <td>22.0</td>\n",
       "      <td>15.0</td>\n",
       "      <td>755</td>\n",
       "      <td>755</td>\n",
       "      <td>755</td>\n",
       "      <td>...</td>\n",
       "      <td>0</td>\n",
       "      <td>14</td>\n",
       "      <td>15</td>\n",
       "      <td>0</td>\n",
       "      <td>0</td>\n",
       "      <td>0</td>\n",
       "      <td>0</td>\n",
       "      <td>0</td>\n",
       "      <td>0</td>\n",
       "      <td>0</td>\n",
       "    </tr>\n",
       "    <tr>\n",
       "      <th>5</th>\n",
       "      <td>43</td>\n",
       "      <td>1</td>\n",
       "      <td>2</td>\n",
       "      <td>16.0</td>\n",
       "      <td>16.0</td>\n",
       "      <td>22.0</td>\n",
       "      <td>23.0</td>\n",
       "      <td>783</td>\n",
       "      <td>783</td>\n",
       "      <td>783</td>\n",
       "      <td>...</td>\n",
       "      <td>0</td>\n",
       "      <td>14</td>\n",
       "      <td>15</td>\n",
       "      <td>0</td>\n",
       "      <td>0</td>\n",
       "      <td>0</td>\n",
       "      <td>0</td>\n",
       "      <td>0</td>\n",
       "      <td>0</td>\n",
       "      <td>0</td>\n",
       "    </tr>\n",
       "    <tr>\n",
       "      <th>6</th>\n",
       "      <td>50</td>\n",
       "      <td>1</td>\n",
       "      <td>2</td>\n",
       "      <td>16.0</td>\n",
       "      <td>17.0</td>\n",
       "      <td>22.0</td>\n",
       "      <td>23.0</td>\n",
       "      <td>811</td>\n",
       "      <td>727</td>\n",
       "      <td>811</td>\n",
       "      <td>...</td>\n",
       "      <td>0</td>\n",
       "      <td>16</td>\n",
       "      <td>16</td>\n",
       "      <td>0</td>\n",
       "      <td>0</td>\n",
       "      <td>0</td>\n",
       "      <td>0</td>\n",
       "      <td>0</td>\n",
       "      <td>0</td>\n",
       "      <td>0</td>\n",
       "    </tr>\n",
       "    <tr>\n",
       "      <th>7</th>\n",
       "      <td>57</td>\n",
       "      <td>1</td>\n",
       "      <td>2</td>\n",
       "      <td>17.0</td>\n",
       "      <td>17.0</td>\n",
       "      <td>22.0</td>\n",
       "      <td>23.0</td>\n",
       "      <td>839</td>\n",
       "      <td>755</td>\n",
       "      <td>839</td>\n",
       "      <td>...</td>\n",
       "      <td>0</td>\n",
       "      <td>15</td>\n",
       "      <td>16</td>\n",
       "      <td>0</td>\n",
       "      <td>0</td>\n",
       "      <td>0</td>\n",
       "      <td>0</td>\n",
       "      <td>0</td>\n",
       "      <td>0</td>\n",
       "      <td>0</td>\n",
       "    </tr>\n",
       "    <tr>\n",
       "      <th>8</th>\n",
       "      <td>64</td>\n",
       "      <td>1</td>\n",
       "      <td>2</td>\n",
       "      <td>18.0</td>\n",
       "      <td>18.0</td>\n",
       "      <td>22.0</td>\n",
       "      <td>23.0</td>\n",
       "      <td>867</td>\n",
       "      <td>895</td>\n",
       "      <td>867</td>\n",
       "      <td>...</td>\n",
       "      <td>0</td>\n",
       "      <td>15</td>\n",
       "      <td>17</td>\n",
       "      <td>0</td>\n",
       "      <td>0</td>\n",
       "      <td>0</td>\n",
       "      <td>0</td>\n",
       "      <td>0</td>\n",
       "      <td>0</td>\n",
       "      <td>0</td>\n",
       "    </tr>\n",
       "    <tr>\n",
       "      <th>9</th>\n",
       "      <td>71</td>\n",
       "      <td>1</td>\n",
       "      <td>2</td>\n",
       "      <td>17.0</td>\n",
       "      <td>19.0</td>\n",
       "      <td>22.0</td>\n",
       "      <td>23.0</td>\n",
       "      <td>895</td>\n",
       "      <td>923</td>\n",
       "      <td>895</td>\n",
       "      <td>...</td>\n",
       "      <td>0</td>\n",
       "      <td>16</td>\n",
       "      <td>18</td>\n",
       "      <td>0</td>\n",
       "      <td>0</td>\n",
       "      <td>0</td>\n",
       "      <td>0</td>\n",
       "      <td>0</td>\n",
       "      <td>0</td>\n",
       "      <td>0</td>\n",
       "    </tr>\n",
       "  </tbody>\n",
       "</table>\n",
       "<p>10 rows × 28 columns</p>\n",
       "</div>"
      ],
      "text/plain": [
       "   time  race1  race2  supplyUsed1  supplyUsed2  supplyMade1  supplyMade2  \\\n",
       "0     7      1      2         13.0         13.0         14.0         15.0   \n",
       "1    14      1      2         13.0         14.0         14.0         15.0   \n",
       "2    21      1      2         14.0         14.0         14.0         15.0   \n",
       "3    29      1      2         14.0         15.0         14.0         15.0   \n",
       "4    36      1      2         16.0         15.0         22.0         15.0   \n",
       "5    43      1      2         16.0         16.0         22.0         23.0   \n",
       "6    50      1      2         16.0         17.0         22.0         23.0   \n",
       "7    57      1      2         17.0         17.0         22.0         23.0   \n",
       "8    64      1      2         18.0         18.0         22.0         23.0   \n",
       "9    71      1      2         17.0         19.0         22.0         23.0   \n",
       "\n",
       "   totalIncome1  totalIncome2  mineralsIncome1  ...  vespene2  activeWorkers1  \\\n",
       "0           251           251              251  ...         0              12   \n",
       "1           671           671              671  ...         0              13   \n",
       "2           727           671              727  ...         0              13   \n",
       "3           755           671              755  ...         0              13   \n",
       "4           755           755              755  ...         0              14   \n",
       "5           783           783              783  ...         0              14   \n",
       "6           811           727              811  ...         0              16   \n",
       "7           839           755              839  ...         0              15   \n",
       "8           867           895              867  ...         0              15   \n",
       "9           895           923              895  ...         0              16   \n",
       "\n",
       "   activeWorkers2  army1  army2  technology1  technology2  lostResources1  \\\n",
       "0              12      0      0            0            0               0   \n",
       "1              13      0      0            0            0               0   \n",
       "2              13      0      0            0            0               0   \n",
       "3              14      0      0            0            0               0   \n",
       "4              15      0      0            0            0               0   \n",
       "5              15      0      0            0            0               0   \n",
       "6              16      0      0            0            0               0   \n",
       "7              16      0      0            0            0               0   \n",
       "8              17      0      0            0            0               0   \n",
       "9              18      0      0            0            0               0   \n",
       "\n",
       "   lostResources2  winner  \n",
       "0               0       0  \n",
       "1               0       0  \n",
       "2               0       0  \n",
       "3               0       0  \n",
       "4               0       0  \n",
       "5               0       0  \n",
       "6               0       0  \n",
       "7               0       0  \n",
       "8               0       0  \n",
       "9               0       0  \n",
       "\n",
       "[10 rows x 28 columns]"
      ]
     },
     "execution_count": 5,
     "metadata": {},
     "output_type": "execute_result"
    }
   ],
   "source": [
    "train = pd.read_csv('archive/trainSet3.csv')\n",
    "test = pd.read_csv('archive/testSet3.csv')\n",
    "train.head(10)"
   ]
  },
  {
   "cell_type": "code",
   "execution_count": 6,
   "id": "46747702",
   "metadata": {},
   "outputs": [
    {
     "data": {
      "text/html": [
       "<div>\n",
       "<style scoped>\n",
       "    .dataframe tbody tr th:only-of-type {\n",
       "        vertical-align: middle;\n",
       "    }\n",
       "\n",
       "    .dataframe tbody tr th {\n",
       "        vertical-align: top;\n",
       "    }\n",
       "\n",
       "    .dataframe thead th {\n",
       "        text-align: right;\n",
       "    }\n",
       "</style>\n",
       "<table border=\"1\" class=\"dataframe\">\n",
       "  <thead>\n",
       "    <tr style=\"text-align: right;\">\n",
       "      <th></th>\n",
       "      <th>time</th>\n",
       "      <th>race1</th>\n",
       "      <th>race2</th>\n",
       "      <th>supplyUsed1</th>\n",
       "      <th>supplyUsed2</th>\n",
       "      <th>supplyMade1</th>\n",
       "      <th>supplyMade2</th>\n",
       "      <th>totalIncome1</th>\n",
       "      <th>totalIncome2</th>\n",
       "      <th>mineralsIncome1</th>\n",
       "      <th>...</th>\n",
       "      <th>vespene2</th>\n",
       "      <th>activeWorkers1</th>\n",
       "      <th>activeWorkers2</th>\n",
       "      <th>army1</th>\n",
       "      <th>army2</th>\n",
       "      <th>technology1</th>\n",
       "      <th>technology2</th>\n",
       "      <th>lostResources1</th>\n",
       "      <th>lostResources2</th>\n",
       "      <th>winner</th>\n",
       "    </tr>\n",
       "  </thead>\n",
       "  <tbody>\n",
       "    <tr>\n",
       "      <th>0</th>\n",
       "      <td>7</td>\n",
       "      <td>0</td>\n",
       "      <td>1</td>\n",
       "      <td>13.0</td>\n",
       "      <td>13.0</td>\n",
       "      <td>15.0</td>\n",
       "      <td>14.0</td>\n",
       "      <td>167</td>\n",
       "      <td>293</td>\n",
       "      <td>167</td>\n",
       "      <td>...</td>\n",
       "      <td>0</td>\n",
       "      <td>12</td>\n",
       "      <td>12</td>\n",
       "      <td>0</td>\n",
       "      <td>0</td>\n",
       "      <td>0</td>\n",
       "      <td>0</td>\n",
       "      <td>0</td>\n",
       "      <td>0</td>\n",
       "      <td>0</td>\n",
       "    </tr>\n",
       "    <tr>\n",
       "      <th>1</th>\n",
       "      <td>14</td>\n",
       "      <td>0</td>\n",
       "      <td>1</td>\n",
       "      <td>14.0</td>\n",
       "      <td>14.0</td>\n",
       "      <td>15.0</td>\n",
       "      <td>14.0</td>\n",
       "      <td>671</td>\n",
       "      <td>587</td>\n",
       "      <td>671</td>\n",
       "      <td>...</td>\n",
       "      <td>0</td>\n",
       "      <td>13</td>\n",
       "      <td>12</td>\n",
       "      <td>0</td>\n",
       "      <td>0</td>\n",
       "      <td>0</td>\n",
       "      <td>0</td>\n",
       "      <td>0</td>\n",
       "      <td>0</td>\n",
       "      <td>0</td>\n",
       "    </tr>\n",
       "    <tr>\n",
       "      <th>2</th>\n",
       "      <td>21</td>\n",
       "      <td>0</td>\n",
       "      <td>1</td>\n",
       "      <td>14.0</td>\n",
       "      <td>15.0</td>\n",
       "      <td>15.0</td>\n",
       "      <td>14.0</td>\n",
       "      <td>699</td>\n",
       "      <td>727</td>\n",
       "      <td>699</td>\n",
       "      <td>...</td>\n",
       "      <td>0</td>\n",
       "      <td>13</td>\n",
       "      <td>14</td>\n",
       "      <td>0</td>\n",
       "      <td>0</td>\n",
       "      <td>0</td>\n",
       "      <td>0</td>\n",
       "      <td>0</td>\n",
       "      <td>0</td>\n",
       "      <td>0</td>\n",
       "    </tr>\n",
       "    <tr>\n",
       "      <th>3</th>\n",
       "      <td>29</td>\n",
       "      <td>0</td>\n",
       "      <td>1</td>\n",
       "      <td>15.0</td>\n",
       "      <td>15.0</td>\n",
       "      <td>15.0</td>\n",
       "      <td>14.0</td>\n",
       "      <td>699</td>\n",
       "      <td>671</td>\n",
       "      <td>699</td>\n",
       "      <td>...</td>\n",
       "      <td>0</td>\n",
       "      <td>14</td>\n",
       "      <td>14</td>\n",
       "      <td>0</td>\n",
       "      <td>0</td>\n",
       "      <td>0</td>\n",
       "      <td>0</td>\n",
       "      <td>0</td>\n",
       "      <td>0</td>\n",
       "      <td>0</td>\n",
       "    </tr>\n",
       "    <tr>\n",
       "      <th>4</th>\n",
       "      <td>36</td>\n",
       "      <td>0</td>\n",
       "      <td>1</td>\n",
       "      <td>15.0</td>\n",
       "      <td>15.0</td>\n",
       "      <td>15.0</td>\n",
       "      <td>14.0</td>\n",
       "      <td>699</td>\n",
       "      <td>727</td>\n",
       "      <td>699</td>\n",
       "      <td>...</td>\n",
       "      <td>0</td>\n",
       "      <td>14</td>\n",
       "      <td>15</td>\n",
       "      <td>0</td>\n",
       "      <td>0</td>\n",
       "      <td>0</td>\n",
       "      <td>0</td>\n",
       "      <td>0</td>\n",
       "      <td>0</td>\n",
       "      <td>0</td>\n",
       "    </tr>\n",
       "    <tr>\n",
       "      <th>5</th>\n",
       "      <td>43</td>\n",
       "      <td>0</td>\n",
       "      <td>1</td>\n",
       "      <td>16.0</td>\n",
       "      <td>14.0</td>\n",
       "      <td>23.0</td>\n",
       "      <td>14.0</td>\n",
       "      <td>755</td>\n",
       "      <td>727</td>\n",
       "      <td>755</td>\n",
       "      <td>...</td>\n",
       "      <td>0</td>\n",
       "      <td>15</td>\n",
       "      <td>14</td>\n",
       "      <td>0</td>\n",
       "      <td>0</td>\n",
       "      <td>0</td>\n",
       "      <td>0</td>\n",
       "      <td>0</td>\n",
       "      <td>0</td>\n",
       "      <td>0</td>\n",
       "    </tr>\n",
       "    <tr>\n",
       "      <th>6</th>\n",
       "      <td>50</td>\n",
       "      <td>0</td>\n",
       "      <td>1</td>\n",
       "      <td>16.0</td>\n",
       "      <td>15.0</td>\n",
       "      <td>23.0</td>\n",
       "      <td>14.0</td>\n",
       "      <td>727</td>\n",
       "      <td>727</td>\n",
       "      <td>727</td>\n",
       "      <td>...</td>\n",
       "      <td>0</td>\n",
       "      <td>15</td>\n",
       "      <td>14</td>\n",
       "      <td>0</td>\n",
       "      <td>0</td>\n",
       "      <td>0</td>\n",
       "      <td>0</td>\n",
       "      <td>0</td>\n",
       "      <td>0</td>\n",
       "      <td>0</td>\n",
       "    </tr>\n",
       "    <tr>\n",
       "      <th>7</th>\n",
       "      <td>57</td>\n",
       "      <td>0</td>\n",
       "      <td>1</td>\n",
       "      <td>17.0</td>\n",
       "      <td>15.0</td>\n",
       "      <td>23.0</td>\n",
       "      <td>14.0</td>\n",
       "      <td>727</td>\n",
       "      <td>699</td>\n",
       "      <td>727</td>\n",
       "      <td>...</td>\n",
       "      <td>0</td>\n",
       "      <td>16</td>\n",
       "      <td>14</td>\n",
       "      <td>0</td>\n",
       "      <td>0</td>\n",
       "      <td>0</td>\n",
       "      <td>0</td>\n",
       "      <td>0</td>\n",
       "      <td>0</td>\n",
       "      <td>0</td>\n",
       "    </tr>\n",
       "    <tr>\n",
       "      <th>8</th>\n",
       "      <td>64</td>\n",
       "      <td>0</td>\n",
       "      <td>1</td>\n",
       "      <td>17.0</td>\n",
       "      <td>14.0</td>\n",
       "      <td>23.0</td>\n",
       "      <td>14.0</td>\n",
       "      <td>755</td>\n",
       "      <td>699</td>\n",
       "      <td>755</td>\n",
       "      <td>...</td>\n",
       "      <td>0</td>\n",
       "      <td>16</td>\n",
       "      <td>14</td>\n",
       "      <td>0</td>\n",
       "      <td>0</td>\n",
       "      <td>0</td>\n",
       "      <td>0</td>\n",
       "      <td>0</td>\n",
       "      <td>0</td>\n",
       "      <td>0</td>\n",
       "    </tr>\n",
       "    <tr>\n",
       "      <th>9</th>\n",
       "      <td>71</td>\n",
       "      <td>0</td>\n",
       "      <td>1</td>\n",
       "      <td>18.0</td>\n",
       "      <td>14.0</td>\n",
       "      <td>23.0</td>\n",
       "      <td>14.0</td>\n",
       "      <td>755</td>\n",
       "      <td>699</td>\n",
       "      <td>755</td>\n",
       "      <td>...</td>\n",
       "      <td>0</td>\n",
       "      <td>17</td>\n",
       "      <td>14</td>\n",
       "      <td>0</td>\n",
       "      <td>0</td>\n",
       "      <td>0</td>\n",
       "      <td>0</td>\n",
       "      <td>0</td>\n",
       "      <td>0</td>\n",
       "      <td>0</td>\n",
       "    </tr>\n",
       "  </tbody>\n",
       "</table>\n",
       "<p>10 rows × 28 columns</p>\n",
       "</div>"
      ],
      "text/plain": [
       "   time  race1  race2  supplyUsed1  supplyUsed2  supplyMade1  supplyMade2  \\\n",
       "0     7      0      1         13.0         13.0         15.0         14.0   \n",
       "1    14      0      1         14.0         14.0         15.0         14.0   \n",
       "2    21      0      1         14.0         15.0         15.0         14.0   \n",
       "3    29      0      1         15.0         15.0         15.0         14.0   \n",
       "4    36      0      1         15.0         15.0         15.0         14.0   \n",
       "5    43      0      1         16.0         14.0         23.0         14.0   \n",
       "6    50      0      1         16.0         15.0         23.0         14.0   \n",
       "7    57      0      1         17.0         15.0         23.0         14.0   \n",
       "8    64      0      1         17.0         14.0         23.0         14.0   \n",
       "9    71      0      1         18.0         14.0         23.0         14.0   \n",
       "\n",
       "   totalIncome1  totalIncome2  mineralsIncome1  ...  vespene2  activeWorkers1  \\\n",
       "0           167           293              167  ...         0              12   \n",
       "1           671           587              671  ...         0              13   \n",
       "2           699           727              699  ...         0              13   \n",
       "3           699           671              699  ...         0              14   \n",
       "4           699           727              699  ...         0              14   \n",
       "5           755           727              755  ...         0              15   \n",
       "6           727           727              727  ...         0              15   \n",
       "7           727           699              727  ...         0              16   \n",
       "8           755           699              755  ...         0              16   \n",
       "9           755           699              755  ...         0              17   \n",
       "\n",
       "   activeWorkers2  army1  army2  technology1  technology2  lostResources1  \\\n",
       "0              12      0      0            0            0               0   \n",
       "1              12      0      0            0            0               0   \n",
       "2              14      0      0            0            0               0   \n",
       "3              14      0      0            0            0               0   \n",
       "4              15      0      0            0            0               0   \n",
       "5              14      0      0            0            0               0   \n",
       "6              14      0      0            0            0               0   \n",
       "7              14      0      0            0            0               0   \n",
       "8              14      0      0            0            0               0   \n",
       "9              14      0      0            0            0               0   \n",
       "\n",
       "   lostResources2  winner  \n",
       "0               0       0  \n",
       "1               0       0  \n",
       "2               0       0  \n",
       "3               0       0  \n",
       "4               0       0  \n",
       "5               0       0  \n",
       "6               0       0  \n",
       "7               0       0  \n",
       "8               0       0  \n",
       "9               0       0  \n",
       "\n",
       "[10 rows x 28 columns]"
      ]
     },
     "execution_count": 6,
     "metadata": {},
     "output_type": "execute_result"
    }
   ],
   "source": [
    "test.head(10)"
   ]
  },
  {
   "cell_type": "code",
   "execution_count": 7,
   "id": "28951557",
   "metadata": {},
   "outputs": [
    {
     "name": "stdout",
     "output_type": "stream",
     "text": [
      "[0 1]\n",
      "[0 1]\n"
     ]
    }
   ],
   "source": [
    "print(train['winner'].unique())\n",
    "print(test['winner'].unique())"
   ]
  },
  {
   "cell_type": "markdown",
   "id": "e1b612e7",
   "metadata": {},
   "source": [
    "- Liste de l'ensemble des colonnes avec le type des données et le nombre de valeurs non-nulles de chaque colonne."
   ]
  },
  {
   "cell_type": "code",
   "execution_count": 8,
   "id": "2d0934dd",
   "metadata": {},
   "outputs": [
    {
     "name": "stdout",
     "output_type": "stream",
     "text": [
      "<class 'pandas.core.frame.DataFrame'>\n",
      "RangeIndex: 730419 entries, 0 to 730418\n",
      "Data columns (total 28 columns):\n",
      " #   Column           Non-Null Count   Dtype  \n",
      "---  ------           --------------   -----  \n",
      " 0   time             730419 non-null  int64  \n",
      " 1   race1            730419 non-null  int64  \n",
      " 2   race2            730419 non-null  int64  \n",
      " 3   supplyUsed1      730419 non-null  float64\n",
      " 4   supplyUsed2      730419 non-null  float64\n",
      " 5   supplyMade1      730419 non-null  float64\n",
      " 6   supplyMade2      730419 non-null  float64\n",
      " 7   totalIncome1     730419 non-null  int64  \n",
      " 8   totalIncome2     730419 non-null  int64  \n",
      " 9   mineralsIncome1  730419 non-null  int64  \n",
      " 10  mineralsIncome2  730419 non-null  int64  \n",
      " 11  vespeneIncome1   730419 non-null  int64  \n",
      " 12  vespeneIncome2   730419 non-null  int64  \n",
      " 13  totalResources1  730419 non-null  int64  \n",
      " 14  totalResources2  730419 non-null  int64  \n",
      " 15  minerals1        730419 non-null  int64  \n",
      " 16  minerals2        730419 non-null  int64  \n",
      " 17  vespene1         730419 non-null  int64  \n",
      " 18  vespene2         730419 non-null  int64  \n",
      " 19  activeWorkers1   730419 non-null  int64  \n",
      " 20  activeWorkers2   730419 non-null  int64  \n",
      " 21  army1            730419 non-null  int64  \n",
      " 22  army2            730419 non-null  int64  \n",
      " 23  technology1      730419 non-null  int64  \n",
      " 24  technology2      730419 non-null  int64  \n",
      " 25  lostResources1   730419 non-null  int64  \n",
      " 26  lostResources2   730419 non-null  int64  \n",
      " 27  winner           730419 non-null  int64  \n",
      "dtypes: float64(4), int64(24)\n",
      "memory usage: 156.0 MB\n"
     ]
    }
   ],
   "source": [
    "train.info(verbose = True)"
   ]
  },
  {
   "cell_type": "code",
   "execution_count": 9,
   "id": "2211792d",
   "metadata": {
    "scrolled": true
   },
   "outputs": [
    {
     "name": "stdout",
     "output_type": "stream",
     "text": [
      "<class 'pandas.core.frame.DataFrame'>\n",
      "RangeIndex: 362837 entries, 0 to 362836\n",
      "Data columns (total 28 columns):\n",
      " #   Column           Non-Null Count   Dtype  \n",
      "---  ------           --------------   -----  \n",
      " 0   time             362837 non-null  int64  \n",
      " 1   race1            362837 non-null  int64  \n",
      " 2   race2            362837 non-null  int64  \n",
      " 3   supplyUsed1      362837 non-null  float64\n",
      " 4   supplyUsed2      362837 non-null  float64\n",
      " 5   supplyMade1      362837 non-null  float64\n",
      " 6   supplyMade2      362837 non-null  float64\n",
      " 7   totalIncome1     362837 non-null  int64  \n",
      " 8   totalIncome2     362837 non-null  int64  \n",
      " 9   mineralsIncome1  362837 non-null  int64  \n",
      " 10  mineralsIncome2  362837 non-null  int64  \n",
      " 11  vespeneIncome1   362837 non-null  int64  \n",
      " 12  vespeneIncome2   362837 non-null  int64  \n",
      " 13  totalResources1  362837 non-null  int64  \n",
      " 14  totalResources2  362837 non-null  int64  \n",
      " 15  minerals1        362837 non-null  int64  \n",
      " 16  minerals2        362837 non-null  int64  \n",
      " 17  vespene1         362837 non-null  int64  \n",
      " 18  vespene2         362837 non-null  int64  \n",
      " 19  activeWorkers1   362837 non-null  int64  \n",
      " 20  activeWorkers2   362837 non-null  int64  \n",
      " 21  army1            362837 non-null  int64  \n",
      " 22  army2            362837 non-null  int64  \n",
      " 23  technology1      362837 non-null  int64  \n",
      " 24  technology2      362837 non-null  int64  \n",
      " 25  lostResources1   362837 non-null  int64  \n",
      " 26  lostResources2   362837 non-null  int64  \n",
      " 27  winner           362837 non-null  int64  \n",
      "dtypes: float64(4), int64(24)\n",
      "memory usage: 77.5 MB\n"
     ]
    }
   ],
   "source": [
    "test.info(verbose = True)"
   ]
  },
  {
   "cell_type": "markdown",
   "id": "39072afb",
   "metadata": {},
   "source": [
    "- Création des classes Data et Data_Test pour créer l'ensemble d'apprentissage et l'ensemble de test. <br>\n",
    "Ces classes peuvent également s'occuper du préprocessing. Par exemple le dataset brut pourrait contenir dans la colonner winner \"Loss\" ou \"Win\". On encoderait alors comme suit : 0 pour \"Loss\" et 1 pour \"Win\".<br>\n",
    "En pratique, le parseur de replays a été écrit pour s'occuper de cette étape. Seuls des nombres sont écrits comme décris ci-dessus."
   ]
  },
  {
   "cell_type": "code",
   "execution_count": 10,
   "id": "4b30ad1c",
   "metadata": {},
   "outputs": [],
   "source": [
    "class Data(Dataset):\n",
    "    def __init__(self):\n",
    "        train = pd.read_csv('archive/trainSet3.csv')\n",
    "        \n",
    "        x = train.drop(\"winner\", axis = 1)\n",
    "        x = x.astype(np.float32)\n",
    "        self.x_train = torch.tensor(x.values)\n",
    "        \n",
    "        y = train[\"winner\"]\n",
    "        y = y.astype(np.float32)\n",
    "        self.y_train = torch.tensor(y.values)\n",
    "        \n",
    "        self.n_samples = train.shape[0]\n",
    "    \n",
    "    def __getitem__(self,index):\n",
    "        return self.x_train[index], self.y_train[index]\n",
    "    \n",
    "    def __len__(self):\n",
    "        return self.n_samples"
   ]
  },
  {
   "cell_type": "code",
   "execution_count": 11,
   "id": "b9ca3ff7",
   "metadata": {},
   "outputs": [],
   "source": [
    "class Data_test(Dataset):\n",
    "    def __init__(self):\n",
    "        test = pd.read_csv('archive/testSet3.csv')\n",
    "        test.replace([np.inf, -np.inf], np.nan, inplace = True)\n",
    "        \n",
    "        x = test.drop(\"winner\", axis = 1)\n",
    "        x = x.astype(np.float32)\n",
    "        self.x_test = torch.tensor(x.values)\n",
    "        \n",
    "        y = test[\"winner\"]\n",
    "        y = y.astype(np.float32)\n",
    "        self.y_test = torch.tensor(y.values)\n",
    "        \n",
    "        self.n_samples = test.shape[0]\n",
    "    \n",
    "    def __getitem__(self, index):\n",
    "        return self.x_test[index], self.y_test[index]\n",
    "    \n",
    "    def __len__(self):\n",
    "        return self.n_samples"
   ]
  },
  {
   "cell_type": "code",
   "execution_count": 12,
   "id": "21e0f4ad",
   "metadata": {},
   "outputs": [],
   "source": [
    "train_dataset = Data()\n",
    "test_dataset = Data_test()"
   ]
  },
  {
   "cell_type": "code",
   "execution_count": 13,
   "id": "3b6bbb40",
   "metadata": {},
   "outputs": [
    {
     "name": "stdout",
     "output_type": "stream",
     "text": [
      "Index(['time', 'race1', 'race2', 'supplyUsed1', 'supplyUsed2', 'supplyMade1',\n",
      "       'supplyMade2', 'totalIncome1', 'totalIncome2', 'mineralsIncome1',\n",
      "       'mineralsIncome2', 'vespeneIncome1', 'vespeneIncome2',\n",
      "       'totalResources1', 'totalResources2', 'minerals1', 'minerals2',\n",
      "       'vespene1', 'vespene2', 'activeWorkers1', 'activeWorkers2', 'army1',\n",
      "       'army2', 'technology1', 'technology2', 'lostResources1',\n",
      "       'lostResources2', 'winner'],\n",
      "      dtype='object')\n",
      "(730419, 28)\n"
     ]
    }
   ],
   "source": [
    "print(train.columns)\n",
    "print(train.shape)"
   ]
  },
  {
   "cell_type": "code",
   "execution_count": 14,
   "id": "720f1bd2",
   "metadata": {},
   "outputs": [
    {
     "data": {
      "text/plain": [
       "(torch.Size([27]), tensor(0.))"
      ]
     },
     "execution_count": 14,
     "metadata": {},
     "output_type": "execute_result"
    }
   ],
   "source": [
    "train_dataset[0][0].shape, train_dataset[0][1]"
   ]
  },
  {
   "cell_type": "code",
   "execution_count": 15,
   "id": "fc382510",
   "metadata": {},
   "outputs": [
    {
     "data": {
      "text/plain": [
       "(torch.Size([27]), tensor(0.))"
      ]
     },
     "execution_count": 15,
     "metadata": {},
     "output_type": "execute_result"
    }
   ],
   "source": [
    "test_dataset[0][0].shape, test_dataset[0][1]"
   ]
  },
  {
   "cell_type": "code",
   "execution_count": 16,
   "id": "70b6a469",
   "metadata": {},
   "outputs": [
    {
     "data": {
      "text/plain": [
       "730419"
      ]
     },
     "execution_count": 16,
     "metadata": {},
     "output_type": "execute_result"
    }
   ],
   "source": [
    "len(train_dataset)"
   ]
  },
  {
   "cell_type": "code",
   "execution_count": 17,
   "id": "adefa7d5",
   "metadata": {},
   "outputs": [
    {
     "data": {
      "text/plain": [
       "362837"
      ]
     },
     "execution_count": 17,
     "metadata": {},
     "output_type": "execute_result"
    }
   ],
   "source": [
    "len(test_dataset)"
   ]
  },
  {
   "cell_type": "markdown",
   "id": "2be6beaa",
   "metadata": {},
   "source": [
    "- On crée à présent un ensemble de validation à partir de l'ensemble d'apprentissage."
   ]
  },
  {
   "cell_type": "code",
   "execution_count": 18,
   "id": "3593598b",
   "metadata": {},
   "outputs": [],
   "source": [
    "train_dataset, val_dataset = random_split(train_dataset, [584419,146000])"
   ]
  },
  {
   "cell_type": "code",
   "execution_count": 19,
   "id": "a294ae94",
   "metadata": {},
   "outputs": [
    {
     "data": {
      "text/plain": [
       "(584419, 146000, 362837)"
      ]
     },
     "execution_count": 19,
     "metadata": {},
     "output_type": "execute_result"
    }
   ],
   "source": [
    "len(train_dataset), len(val_dataset), len(test_dataset)"
   ]
  },
  {
   "cell_type": "markdown",
   "id": "0983f97c",
   "metadata": {},
   "source": [
    "## 2. Dataloaders"
   ]
  },
  {
   "cell_type": "markdown",
   "id": "29e59ed3",
   "metadata": {},
   "source": [
    "- Un **dataloader** crée des batches d'échantillons à partir d'un dataset qui sont ensuite transférées au modèle.<br>\n",
    "Nous avons créé un dataloader pour chaque set."
   ]
  },
  {
   "cell_type": "code",
   "execution_count": 20,
   "id": "049c3c8f",
   "metadata": {},
   "outputs": [],
   "source": [
    "train_dataloader = DataLoader(train_dataset, batch_size = 128, shuffle = True)\n",
    "val_dataloader = DataLoader(val_dataset, batch_size = 128, shuffle = True)\n",
    "test_dataloader = DataLoader(test_dataset, batch_size = 128, shuffle = True)"
   ]
  },
  {
   "cell_type": "code",
   "execution_count": 21,
   "id": "2e6c157e",
   "metadata": {
    "scrolled": true
   },
   "outputs": [],
   "source": [
    "def reshape_batch(batch):\n",
    "    batch_size = batch[0].shape[0]\n",
    "    batch[0] = batch[0].view(batch_size, -1)\n",
    "    \n",
    "    return batch"
   ]
  },
  {
   "cell_type": "code",
   "execution_count": 22,
   "id": "c5911f75",
   "metadata": {},
   "outputs": [],
   "source": [
    "for b in train_dataloader:\n",
    "    break"
   ]
  },
  {
   "cell_type": "code",
   "execution_count": 23,
   "id": "34e22726",
   "metadata": {},
   "outputs": [
    {
     "data": {
      "text/plain": [
       "torch.Size([128, 27])"
      ]
     },
     "execution_count": 23,
     "metadata": {},
     "output_type": "execute_result"
    }
   ],
   "source": [
    "b[0].shape"
   ]
  },
  {
   "cell_type": "code",
   "execution_count": 24,
   "id": "d9e293f1",
   "metadata": {},
   "outputs": [
    {
     "data": {
      "text/plain": [
       "[tensor([[3.2100e+02, 2.0000e+00, 0.0000e+00,  ..., 1.1500e+03, 0.0000e+00,\n",
       "          5.0000e+01],\n",
       "         [4.7900e+02, 1.0000e+00, 1.0000e+00,  ..., 7.0000e+02, 1.2370e+03,\n",
       "          1.8430e+03],\n",
       "         [1.2900e+02, 1.0000e+00, 0.0000e+00,  ..., 1.5000e+02, 0.0000e+00,\n",
       "          0.0000e+00],\n",
       "         ...,\n",
       "         [5.6400e+02, 0.0000e+00, 0.0000e+00,  ..., 2.5000e+03, 2.1500e+03,\n",
       "          2.5000e+03],\n",
       "         [4.3000e+01, 0.0000e+00, 1.0000e+00,  ..., 0.0000e+00, 0.0000e+00,\n",
       "          0.0000e+00],\n",
       "         [2.1000e+01, 0.0000e+00, 2.0000e+00,  ..., 0.0000e+00, 0.0000e+00,\n",
       "          0.0000e+00]]),\n",
       " tensor([1., 0., 0., 0., 1., 1., 0., 1., 0., 1., 1., 1., 1., 0., 1., 0., 1., 0.,\n",
       "         0., 0., 1., 1., 0., 0., 1., 0., 0., 1., 0., 1., 1., 0., 0., 0., 1., 0.,\n",
       "         1., 0., 1., 1., 0., 1., 1., 1., 1., 1., 0., 0., 0., 1., 1., 0., 0., 0.,\n",
       "         1., 0., 0., 0., 1., 1., 1., 1., 0., 0., 0., 0., 1., 1., 1., 0., 0., 1.,\n",
       "         0., 1., 1., 0., 0., 0., 0., 0., 0., 1., 0., 0., 0., 0., 0., 1., 1., 1.,\n",
       "         0., 0., 0., 0., 1., 0., 1., 0., 1., 1., 0., 1., 1., 1., 1., 1., 0., 1.,\n",
       "         1., 1., 0., 0., 0., 1., 1., 1., 1., 1., 0., 0., 1., 0., 1., 0., 1., 1.,\n",
       "         0., 0.])]"
      ]
     },
     "execution_count": 24,
     "metadata": {},
     "output_type": "execute_result"
    }
   ],
   "source": [
    "reshape_batch(b)"
   ]
  },
  {
   "cell_type": "code",
   "execution_count": 25,
   "id": "7a7aa277",
   "metadata": {},
   "outputs": [
    {
     "data": {
      "text/plain": [
       "torch.Size([128, 27])"
      ]
     },
     "execution_count": 25,
     "metadata": {},
     "output_type": "execute_result"
    }
   ],
   "source": [
    "b[0].shape"
   ]
  },
  {
   "cell_type": "markdown",
   "id": "f076ba79",
   "metadata": {},
   "source": [
    "## 3. Model"
   ]
  },
  {
   "cell_type": "markdown",
   "id": "daf3ae96",
   "metadata": {},
   "source": [
    "- Définit et instancie un **réseau de neurones** avec les fonctionnalités suivantes :\n",
    "    - Couche 1 : 256 neurones, fonction d'activation ReLU\n",
    "    - Couche 2 : 256 neurones, fonction d'activation ReLU\n",
    "    - Couche 3 : 128 neurones, fonction d'activation ReLU\n",
    "    - Couche 4 : 64 neurones, fonction d'activation ReLU\n",
    "    - Couche de sortie : 10 neurones"
   ]
  },
  {
   "cell_type": "code",
   "execution_count": 26,
   "id": "9d820419",
   "metadata": {},
   "outputs": [],
   "source": [
    "class Network(nn.Module):\n",
    "\n",
    "    def __init__(self):\n",
    "        \n",
    "        super(Network, self).__init__()\n",
    "        \n",
    "        self.fc1 = nn.Linear(27, 256)\n",
    "        self.fc2 = nn.Linear(256, 256)\n",
    "        self.fc3 = nn.Linear(256, 256)\n",
    "        self.fc4 = nn.Linear(256, 128)\n",
    "        self.fc5 = nn.Linear(128, 2)\n",
    "        \n",
    "\n",
    "    def forward(self, x):\n",
    "        \n",
    "        x = self.fc1(x)\n",
    "        x = nn.ReLU()(x)\n",
    "        \n",
    "        x = self.fc2(x)\n",
    "        x = nn.ReLU()(x)\n",
    "        \n",
    "        x = self.fc3(x)\n",
    "        x = nn.ReLU()(x)\n",
    "        \n",
    "        x = self.fc4(x)\n",
    "        x = nn.ReLU()(x)\n",
    "        \n",
    "        x = self.fc5(x)\n",
    "        \n",
    "        return x"
   ]
  },
  {
   "cell_type": "code",
   "execution_count": 27,
   "id": "24eb29f7",
   "metadata": {},
   "outputs": [],
   "source": [
    "network = Network()"
   ]
  },
  {
   "cell_type": "markdown",
   "id": "fbfb7c98",
   "metadata": {},
   "source": [
    "- On utilise le GPU s'il existe pour exploiter son grand nombre de threads."
   ]
  },
  {
   "cell_type": "code",
   "execution_count": 28,
   "id": "5507da6d",
   "metadata": {},
   "outputs": [
    {
     "data": {
      "text/plain": [
       "Network(\n",
       "  (fc1): Linear(in_features=27, out_features=256, bias=True)\n",
       "  (fc2): Linear(in_features=256, out_features=256, bias=True)\n",
       "  (fc3): Linear(in_features=256, out_features=256, bias=True)\n",
       "  (fc4): Linear(in_features=256, out_features=128, bias=True)\n",
       "  (fc5): Linear(in_features=128, out_features=2, bias=True)\n",
       ")"
      ]
     },
     "execution_count": 28,
     "metadata": {},
     "output_type": "execute_result"
    }
   ],
   "source": [
    "device = torch.device('cuda' if torch.cuda.is_available() else 'cpu')\n",
    "network.to(device)"
   ]
  },
  {
   "cell_type": "code",
   "execution_count": 29,
   "id": "f1d0ba7f",
   "metadata": {},
   "outputs": [
    {
     "data": {
      "text/plain": [
       "Network(\n",
       "  (fc1): Linear(in_features=27, out_features=256, bias=True)\n",
       "  (fc2): Linear(in_features=256, out_features=256, bias=True)\n",
       "  (fc3): Linear(in_features=256, out_features=256, bias=True)\n",
       "  (fc4): Linear(in_features=256, out_features=128, bias=True)\n",
       "  (fc5): Linear(in_features=128, out_features=2, bias=True)\n",
       ")"
      ]
     },
     "execution_count": 29,
     "metadata": {},
     "output_type": "execute_result"
    }
   ],
   "source": [
    "network"
   ]
  },
  {
   "cell_type": "markdown",
   "id": "c96d0079",
   "metadata": {},
   "source": [
    "## 4. Loss"
   ]
  },
  {
   "cell_type": "markdown",
   "id": "adca7d03",
   "metadata": {},
   "source": [
    "- Nous définissons une loss function de type **cross entropy loss**."
   ]
  },
  {
   "cell_type": "code",
   "execution_count": 30,
   "id": "87b7ddc4",
   "metadata": {},
   "outputs": [],
   "source": [
    "loss = nn.CrossEntropyLoss()"
   ]
  },
  {
   "cell_type": "markdown",
   "id": "f2e74bf7",
   "metadata": {},
   "source": [
    "## 5. Optimizer"
   ]
  },
  {
   "cell_type": "markdown",
   "id": "f8e9349d",
   "metadata": {},
   "source": [
    "- Nous définissons un **optimiseur SGD**."
   ]
  },
  {
   "cell_type": "markdown",
   "id": "1958838f",
   "metadata": {},
   "source": [
    "- On peut faire varier le learning rate lr."
   ]
  },
  {
   "cell_type": "code",
   "execution_count": 31,
   "id": "939fbc70",
   "metadata": {},
   "outputs": [],
   "source": [
    "optimizer = torch.optim.SGD(network.parameters(), lr = 0.001)"
   ]
  },
  {
   "cell_type": "markdown",
   "id": "601241b2",
   "metadata": {},
   "source": [
    "## 6. Training"
   ]
  },
  {
   "cell_type": "markdown",
   "id": "81e0534e",
   "metadata": {},
   "source": [
    "- Define a **training loop** for you model.\n",
    "- The key instructions are:\n",
    "    - ``optimizer.zero_grad()``: reset gradients to 0\n",
    "    - ``loss.backward()``      : compute new gradients\n",
    "    - ``optimizer.step()``     : uptdate weights\n",
    "- Train the model for 20 epochs.\n",
    "- Plot the training loss."
   ]
  },
  {
   "cell_type": "code",
   "execution_count": 53,
   "id": "69baf69b",
   "metadata": {},
   "outputs": [],
   "source": [
    "def train(model, loss = None, optimizer = None, train_dataloader = None, val_dataloader = None, nb_epochs = 20):\n",
    "    \"\"\"Training loop\"\"\"\n",
    "\n",
    "    min_val_loss = torch.inf\n",
    "    train_losses = []\n",
    "    val_losses = []\n",
    "\n",
    "    # Iterrate over epochs\n",
    "    for e in range(nb_epochs):\n",
    "        # Entraînement\n",
    "        train_loss = 0.0\n",
    "\n",
    "        for data, labels in train_dataloader:\n",
    "            # Transférer les données à CUDA si possible\n",
    "            if torch.cuda.is_available():\n",
    "                data, labels = data.cuda(), labels.cuda()\n",
    "                labels = labels.type(torch.LongTensor)\n",
    "                data, labels = data.to(device), labels.to(device)\n",
    "                \n",
    "            \n",
    "            # Reset des gradients à 0\n",
    "            optimizer.zero_grad()\n",
    "\n",
    "            # Forward Pass\n",
    "            data, labels = reshape_batch([data, labels])\n",
    "            targets = model(data)\n",
    "\n",
    "            # Training loss\n",
    "            current_loss = loss(targets, labels)\n",
    "            train_loss += current_loss.item()\n",
    "\n",
    "            # Gradients\n",
    "            current_loss.backward()\n",
    "\n",
    "            # Mettre à jour les poids\n",
    "            optimizer.step()\n",
    "        \n",
    "        # Validation\n",
    "        val_loss = 0.0\n",
    "\n",
    "        # Evaluer le modèle\n",
    "        model.eval()\n",
    "\n",
    "        for data, labels in val_dataloader:\n",
    "            # Transférer les données à CUDA si possible\n",
    "            if torch.cuda.is_available():\n",
    "                data, labels = data.cuda(), labels.cuda()\n",
    "                labels = labels.type(torch.LongTensor)\n",
    "                data, labels = data.to(device), labels.to(device)\n",
    "\n",
    "            # Forward Pass\n",
    "            data, labels = reshape_batch([data, labels])\n",
    "            targets = model(data)\n",
    "\n",
    "            # Validation loss\n",
    "            current_loss = loss(targets, labels)\n",
    "            val_loss += current_loss.item()\n",
    "        \n",
    "        # Affichages\n",
    "        print(f\"Epoch {e+1}/{nb_epochs} \\\n",
    "                \\t Training Loss: {train_loss/len(train_dataloader):.3f} \\\n",
    "                \\t Validation Loss: {val_loss/len(val_dataloader):.3f}\")\n",
    "        \n",
    "        train_losses.append(train_loss/len(train_dataloader))\n",
    "        val_losses.append(val_loss/len(val_dataloader))\n",
    "\n",
    "        # Sauvegarder le modèle si val loss diminue\n",
    "        if val_loss < min_val_loss:\n",
    "            min_val_loss = val_loss\n",
    "            torch.save(model.state_dict(), 'best_model.pt')\n",
    "            \n",
    "    return train_losses, val_losses"
   ]
  },
  {
   "cell_type": "code",
   "execution_count": 54,
   "id": "8bd54447",
   "metadata": {
    "scrolled": true
   },
   "outputs": [
    {
     "ename": "RuntimeError",
     "evalue": "expected scalar type Long but found Float",
     "output_type": "error",
     "traceback": [
      "\u001b[1;31m---------------------------------------------------------------------------\u001b[0m",
      "\u001b[1;31mRuntimeError\u001b[0m                              Traceback (most recent call last)",
      "\u001b[1;32m~\\AppData\\Local\\Temp\\ipykernel_9188\\3230681533.py\u001b[0m in \u001b[0;36m<module>\u001b[1;34m\u001b[0m\n\u001b[1;32m----> 1\u001b[1;33m train_losses, val_losses = train(model = network, loss = loss, optimizer = optimizer, \n\u001b[0m\u001b[0;32m      2\u001b[0m                                  \u001b[0mtrain_dataloader\u001b[0m \u001b[1;33m=\u001b[0m \u001b[0mtrain_dataloader\u001b[0m\u001b[1;33m,\u001b[0m \u001b[0mval_dataloader\u001b[0m \u001b[1;33m=\u001b[0m \u001b[0mval_dataloader\u001b[0m\u001b[1;33m,\u001b[0m\u001b[1;33m\u001b[0m\u001b[1;33m\u001b[0m\u001b[0m\n\u001b[0;32m      3\u001b[0m                                  nb_epochs = 20)\n",
      "\u001b[1;32m~\\AppData\\Local\\Temp\\ipykernel_9188\\3706666808.py\u001b[0m in \u001b[0;36mtrain\u001b[1;34m(model, loss, optimizer, train_dataloader, val_dataloader, nb_epochs)\u001b[0m\n\u001b[0;32m     27\u001b[0m \u001b[1;33m\u001b[0m\u001b[0m\n\u001b[0;32m     28\u001b[0m             \u001b[1;31m# Training loss\u001b[0m\u001b[1;33m\u001b[0m\u001b[1;33m\u001b[0m\u001b[0m\n\u001b[1;32m---> 29\u001b[1;33m             \u001b[0mcurrent_loss\u001b[0m \u001b[1;33m=\u001b[0m \u001b[0mloss\u001b[0m\u001b[1;33m(\u001b[0m\u001b[0mtargets\u001b[0m\u001b[1;33m,\u001b[0m \u001b[0mlabels\u001b[0m\u001b[1;33m)\u001b[0m\u001b[1;33m\u001b[0m\u001b[1;33m\u001b[0m\u001b[0m\n\u001b[0m\u001b[0;32m     30\u001b[0m             \u001b[0mtrain_loss\u001b[0m \u001b[1;33m+=\u001b[0m \u001b[0mcurrent_loss\u001b[0m\u001b[1;33m.\u001b[0m\u001b[0mitem\u001b[0m\u001b[1;33m(\u001b[0m\u001b[1;33m)\u001b[0m\u001b[1;33m\u001b[0m\u001b[1;33m\u001b[0m\u001b[0m\n\u001b[0;32m     31\u001b[0m \u001b[1;33m\u001b[0m\u001b[0m\n",
      "\u001b[1;32mD:\\Programmes\\Anaconda\\lib\\site-packages\\torch\\nn\\modules\\module.py\u001b[0m in \u001b[0;36m_call_impl\u001b[1;34m(self, *input, **kwargs)\u001b[0m\n\u001b[0;32m   1192\u001b[0m         if not (self._backward_hooks or self._forward_hooks or self._forward_pre_hooks or _global_backward_hooks\n\u001b[0;32m   1193\u001b[0m                 or _global_forward_hooks or _global_forward_pre_hooks):\n\u001b[1;32m-> 1194\u001b[1;33m             \u001b[1;32mreturn\u001b[0m \u001b[0mforward_call\u001b[0m\u001b[1;33m(\u001b[0m\u001b[1;33m*\u001b[0m\u001b[0minput\u001b[0m\u001b[1;33m,\u001b[0m \u001b[1;33m**\u001b[0m\u001b[0mkwargs\u001b[0m\u001b[1;33m)\u001b[0m\u001b[1;33m\u001b[0m\u001b[1;33m\u001b[0m\u001b[0m\n\u001b[0m\u001b[0;32m   1195\u001b[0m         \u001b[1;31m# Do not call functions when jit is used\u001b[0m\u001b[1;33m\u001b[0m\u001b[1;33m\u001b[0m\u001b[0m\n\u001b[0;32m   1196\u001b[0m         \u001b[0mfull_backward_hooks\u001b[0m\u001b[1;33m,\u001b[0m \u001b[0mnon_full_backward_hooks\u001b[0m \u001b[1;33m=\u001b[0m \u001b[1;33m[\u001b[0m\u001b[1;33m]\u001b[0m\u001b[1;33m,\u001b[0m \u001b[1;33m[\u001b[0m\u001b[1;33m]\u001b[0m\u001b[1;33m\u001b[0m\u001b[1;33m\u001b[0m\u001b[0m\n",
      "\u001b[1;32mD:\\Programmes\\Anaconda\\lib\\site-packages\\torch\\nn\\modules\\loss.py\u001b[0m in \u001b[0;36mforward\u001b[1;34m(self, input, target)\u001b[0m\n\u001b[0;32m   1172\u001b[0m \u001b[1;33m\u001b[0m\u001b[0m\n\u001b[0;32m   1173\u001b[0m     \u001b[1;32mdef\u001b[0m \u001b[0mforward\u001b[0m\u001b[1;33m(\u001b[0m\u001b[0mself\u001b[0m\u001b[1;33m,\u001b[0m \u001b[0minput\u001b[0m\u001b[1;33m:\u001b[0m \u001b[0mTensor\u001b[0m\u001b[1;33m,\u001b[0m \u001b[0mtarget\u001b[0m\u001b[1;33m:\u001b[0m \u001b[0mTensor\u001b[0m\u001b[1;33m)\u001b[0m \u001b[1;33m->\u001b[0m \u001b[0mTensor\u001b[0m\u001b[1;33m:\u001b[0m\u001b[1;33m\u001b[0m\u001b[1;33m\u001b[0m\u001b[0m\n\u001b[1;32m-> 1174\u001b[1;33m         return F.cross_entropy(input, target, weight=self.weight,\n\u001b[0m\u001b[0;32m   1175\u001b[0m                                \u001b[0mignore_index\u001b[0m\u001b[1;33m=\u001b[0m\u001b[0mself\u001b[0m\u001b[1;33m.\u001b[0m\u001b[0mignore_index\u001b[0m\u001b[1;33m,\u001b[0m \u001b[0mreduction\u001b[0m\u001b[1;33m=\u001b[0m\u001b[0mself\u001b[0m\u001b[1;33m.\u001b[0m\u001b[0mreduction\u001b[0m\u001b[1;33m,\u001b[0m\u001b[1;33m\u001b[0m\u001b[1;33m\u001b[0m\u001b[0m\n\u001b[0;32m   1176\u001b[0m                                label_smoothing=self.label_smoothing)\n",
      "\u001b[1;32mD:\\Programmes\\Anaconda\\lib\\site-packages\\torch\\nn\\functional.py\u001b[0m in \u001b[0;36mcross_entropy\u001b[1;34m(input, target, weight, size_average, ignore_index, reduce, reduction, label_smoothing)\u001b[0m\n\u001b[0;32m   3024\u001b[0m     \u001b[1;32mif\u001b[0m \u001b[0msize_average\u001b[0m \u001b[1;32mis\u001b[0m \u001b[1;32mnot\u001b[0m \u001b[1;32mNone\u001b[0m \u001b[1;32mor\u001b[0m \u001b[0mreduce\u001b[0m \u001b[1;32mis\u001b[0m \u001b[1;32mnot\u001b[0m \u001b[1;32mNone\u001b[0m\u001b[1;33m:\u001b[0m\u001b[1;33m\u001b[0m\u001b[1;33m\u001b[0m\u001b[0m\n\u001b[0;32m   3025\u001b[0m         \u001b[0mreduction\u001b[0m \u001b[1;33m=\u001b[0m \u001b[0m_Reduction\u001b[0m\u001b[1;33m.\u001b[0m\u001b[0mlegacy_get_string\u001b[0m\u001b[1;33m(\u001b[0m\u001b[0msize_average\u001b[0m\u001b[1;33m,\u001b[0m \u001b[0mreduce\u001b[0m\u001b[1;33m)\u001b[0m\u001b[1;33m\u001b[0m\u001b[1;33m\u001b[0m\u001b[0m\n\u001b[1;32m-> 3026\u001b[1;33m     \u001b[1;32mreturn\u001b[0m \u001b[0mtorch\u001b[0m\u001b[1;33m.\u001b[0m\u001b[0m_C\u001b[0m\u001b[1;33m.\u001b[0m\u001b[0m_nn\u001b[0m\u001b[1;33m.\u001b[0m\u001b[0mcross_entropy_loss\u001b[0m\u001b[1;33m(\u001b[0m\u001b[0minput\u001b[0m\u001b[1;33m,\u001b[0m \u001b[0mtarget\u001b[0m\u001b[1;33m,\u001b[0m \u001b[0mweight\u001b[0m\u001b[1;33m,\u001b[0m \u001b[0m_Reduction\u001b[0m\u001b[1;33m.\u001b[0m\u001b[0mget_enum\u001b[0m\u001b[1;33m(\u001b[0m\u001b[0mreduction\u001b[0m\u001b[1;33m)\u001b[0m\u001b[1;33m,\u001b[0m \u001b[0mignore_index\u001b[0m\u001b[1;33m,\u001b[0m \u001b[0mlabel_smoothing\u001b[0m\u001b[1;33m)\u001b[0m\u001b[1;33m\u001b[0m\u001b[1;33m\u001b[0m\u001b[0m\n\u001b[0m\u001b[0;32m   3027\u001b[0m \u001b[1;33m\u001b[0m\u001b[0m\n\u001b[0;32m   3028\u001b[0m \u001b[1;33m\u001b[0m\u001b[0m\n",
      "\u001b[1;31mRuntimeError\u001b[0m: expected scalar type Long but found Float"
     ]
    }
   ],
   "source": [
    "train_losses, val_losses = train(model = network, loss = loss, optimizer = optimizer, \n",
    "                                 train_dataloader = train_dataloader, val_dataloader = val_dataloader, \n",
    "                                 nb_epochs = 20)"
   ]
  },
  {
   "cell_type": "markdown",
   "id": "7f96e66a",
   "metadata": {},
   "source": [
    "- Affichage."
   ]
  },
  {
   "cell_type": "code",
   "execution_count": null,
   "id": "eed150b4",
   "metadata": {},
   "outputs": [],
   "source": [
    "plt.plot(range(len(train_losses[1:])), train_losses[1:], \n",
    "         linewidth = 2.0, \n",
    "         label = 'training loss')\n",
    "\n",
    "plt.plot(range(len(val_losses[1:])), val_losses[1:], \n",
    "         linewidth = 2.0, \n",
    "         label = 'validation loss')\n",
    "\n",
    "plt.xlabel(\"Epochs\", size = 12)\n",
    "plt.ylabel(\"Losses\", size = 12)\n",
    "plt.legend()\n",
    "\n",
    "plt.savefig('figures/losses.pdf') \n",
    "plt.show()"
   ]
  },
  {
   "cell_type": "markdown",
   "id": "21c25e52",
   "metadata": {},
   "source": [
    "## 6. Testing"
   ]
  },
  {
   "cell_type": "markdown",
   "id": "27d6f3af",
   "metadata": {},
   "source": [
    "- Nous écrivons une fonction de prédiction qui calcule la précision et le rapport de classification du train set et du test set."
   ]
  },
  {
   "cell_type": "code",
   "execution_count": null,
   "id": "59109d5a",
   "metadata": {},
   "outputs": [],
   "source": [
    "def predict(model, test_dataloader):\n",
    "\n",
    "    labels_l = []\n",
    "    preds_l = []\n",
    "    \n",
    "    # Modèle en mode eval\n",
    "    model.eval()\n",
    "    \n",
    "    # Testing loop\n",
    "    with torch.no_grad():\n",
    "        \n",
    "        for i, batch in enumerate(test_dataloader):\n",
    "            \n",
    "            data, labels = reshape_batch(batch)\n",
    "            data, labels = data.to(device), labels.to(device)\n",
    "            \n",
    "            labels_l.extend(labels.tolist())\n",
    "            \n",
    "            preds = model.to(device)\n",
    "            preds = model(data)\n",
    "            \n",
    "            preds = torch.argmax(preds, dim = 1)\n",
    "            preds_l.extend(preds.tolist())\n",
    "    \n",
    "    return labels_l, preds_l"
   ]
  },
  {
   "cell_type": "code",
   "execution_count": null,
   "id": "bc07d04b",
   "metadata": {},
   "outputs": [],
   "source": [
    "train_labels, train_preds = predict(network, train_dataloader)\n",
    "test_labels, test_preds = predict(network, test_dataloader)"
   ]
  },
  {
   "cell_type": "code",
   "execution_count": null,
   "id": "93a064a3",
   "metadata": {},
   "outputs": [],
   "source": [
    "print(classification_report(train_labels, train_preds, digits =4))"
   ]
  },
  {
   "cell_type": "code",
   "execution_count": null,
   "id": "f46828e3",
   "metadata": {},
   "outputs": [],
   "source": [
    "print(classification_report(test_labels, test_preds, digits=4))"
   ]
  },
  {
   "cell_type": "markdown",
   "id": "202236fb",
   "metadata": {},
   "source": [
    "## 7. Save"
   ]
  },
  {
   "cell_type": "markdown",
   "id": "3dc640fe",
   "metadata": {},
   "source": [
    "- Sauvegarde du modèle entraîné."
   ]
  },
  {
   "cell_type": "code",
   "execution_count": null,
   "id": "7ecea0ac",
   "metadata": {},
   "outputs": [],
   "source": [
    "cwd = os.getcwd()\n",
    "path = os.path.join(cwd, \"model.pt\")\n",
    "path_2 = os.path.join(cwd, \"best_model.pt\")"
   ]
  },
  {
   "cell_type": "code",
   "execution_count": null,
   "id": "383a6608",
   "metadata": {},
   "outputs": [],
   "source": [
    "# Save last model\n",
    "torch.save(network.state_dict(), path) "
   ]
  },
  {
   "cell_type": "code",
   "execution_count": null,
   "id": "925c04a4",
   "metadata": {},
   "outputs": [],
   "source": [
    "# Load best model\n",
    "network_2 = Network()\n",
    "\n",
    "network_2.load_state_dict(torch.load(path))\n",
    "network_2.eval()"
   ]
  },
  {
   "cell_type": "code",
   "execution_count": null,
   "id": "670784fa",
   "metadata": {},
   "outputs": [],
   "source": [
    "test_labels, test_preds = predict(network_2, test_dataloader)"
   ]
  },
  {
   "cell_type": "code",
   "execution_count": null,
   "id": "13b84834",
   "metadata": {
    "scrolled": true
   },
   "outputs": [],
   "source": [
    "print(classification_report(test_labels, test_preds))"
   ]
  },
  {
   "cell_type": "markdown",
   "id": "770c22f6",
   "metadata": {},
   "source": [
    "- Explications :<br>\n",
    "L'IA est entraînée sur la durée totale des parties étudiées. Au tout début d'une partie, connaître le vainqueur est quasiment impossible, ce qui entraîne de possibles résultats aléatoires. Les résultats deviennent meilleurs lorsqu'il est demandé de prédire le vainqueur d'une partie lorsque l'état de celle-ci est suffisamment avancé.<br>\n",
    "Nous étudierons par la suite des cas pratiques illustrés."
   ]
  },
  {
   "cell_type": "markdown",
   "id": "230653d7",
   "metadata": {},
   "source": [
    "## 8. Cas pratiques"
   ]
  },
  {
   "cell_type": "markdown",
   "id": "8a2bfd06",
   "metadata": {},
   "source": [
    "- Nous allons par la suite prendre quelques exemples de parties illustrées."
   ]
  }
 ],
 "metadata": {
  "kernelspec": {
   "display_name": "Python 3 (ipykernel)",
   "language": "python",
   "name": "python3"
  },
  "language_info": {
   "codemirror_mode": {
    "name": "ipython",
    "version": 3
   },
   "file_extension": ".py",
   "mimetype": "text/x-python",
   "name": "python",
   "nbconvert_exporter": "python",
   "pygments_lexer": "ipython3",
   "version": "3.9.13"
  }
 },
 "nbformat": 4,
 "nbformat_minor": 5
}
