{
 "cells": [
  {
   "cell_type": "markdown",
   "id": "ac35021e",
   "metadata": {},
   "source": [
    "# Réseau de neurone ``PyTorch``- Prédiction de vainqueur sur StarCraft 2"
   ]
  },
  {
   "cell_type": "markdown",
   "id": "bcbe3b65",
   "metadata": {},
   "source": [
    "Le dataset représente de nombreuses parties 1 contre 1 sur le jeu StarCraft 2.\n",
    "Pour chaque replay est enregistré à chaque temps T l'etat du jeu (26 champs) ainsi que le vainqueur (1 champ), indiqué en dernière colonne par 0 ou 1.\n",
    "\n",
    "<img src=\"files/figures/sc2_logo.png\" width=\"600px\"/>\n",
    "\n",
    "Nous définirons et entraînerons un réseau de neurones sur ce dataset. C'est un problème de régression car nous voulons une probabilité de victoire.<br>\n",
    "Nous commencerons par programmer notre réseau de neurones en affichant les données pertinentes, et nous passerons à une étude de cas pour concrétiser l'utilisation du programme."
   ]
  },
  {
   "cell_type": "markdown",
   "id": "933ac146",
   "metadata": {},
   "source": [
    "## 1. Librairies"
   ]
  },
  {
   "cell_type": "code",
   "execution_count": 1,
   "id": "6235ff87",
   "metadata": {
    "scrolled": true
   },
   "outputs": [],
   "source": [
    "import torch\n",
    "import pandas as pd\n",
    "import numpy as np\n",
    "import matplotlib.pyplot as plt\n",
    "import torch.nn as nn\n",
    "import torch.nn.functional as F\n",
    "import seaborn as sns\n",
    "\n",
    "from torch.utils.data import DataLoader, TensorDataset, random_split"
   ]
  },
  {
   "cell_type": "markdown",
   "id": "56800aaa",
   "metadata": {},
   "source": [
    "## 2. Exploration des datasets"
   ]
  },
  {
   "cell_type": "markdown",
   "id": "70011aad",
   "metadata": {},
   "source": [
    "- L'étape la plus longue pour arriver à entraîner notre IA a consisté en l'élaboration d'un dataset de qualité pour le sujet qui nous intéressait. Nous avons dû écrire un programme permettant de générer un grand nombre de rows (lignes) sur de nombreuses données permettant de décrire l'état d'une partie de StarCraft 2 en cours.<br>\n",
    "Le code source de ce parseur est disponible sur github :<br>\n",
    "https://github.com/YannBgit/SC2replayDatasetGenerator\n",
    "\n",
    "- Ce programme a pu être écrit grâce à l'API sc2reader qui permet d'extraire des données de fichiers SC2Replay. Son code source est également disponible :<br>\n",
    "https://github.com/ggtracker/sc2reader\n",
    "\n",
    "- Le parseur contient des fonctionnalités d'ergonomie et de randomisation de datasets. Sans entrer dans les détails (l'utilisation est détaillée dans le README), il est possible à partir d'un répertoire contenant un grand nombre de replays de choisir le nombre à utiliser pour le dataset, qu'un script va sélectionner aléatoirement dans le répertoire source.<br>\n",
    "- Le parseur va ensuite extraire des données de ces replays pour générer un grand nombre de rows correspondant chacun à un instant dans la partie étudiée.<br><br>\n",
    "- L'étape suivante a été de trouver un grand nombre de replays exploitables à donner au parseur. Heureusement, Blizzard, le studio produisant le jeu, a rendu public une base de données massive de replays anonymisés qui ont servi aux équipes de Google pour entraîner l'IA AlphaStar. Nous avons donc pu parser 30 000 replays.\n",
    "- Affichage des données."
   ]
  },
  {
   "cell_type": "code",
   "execution_count": 2,
   "id": "1293319b",
   "metadata": {
    "scrolled": true
   },
   "outputs": [
    {
     "data": {
      "text/html": [
       "<div>\n",
       "<style scoped>\n",
       "    .dataframe tbody tr th:only-of-type {\n",
       "        vertical-align: middle;\n",
       "    }\n",
       "\n",
       "    .dataframe tbody tr th {\n",
       "        vertical-align: top;\n",
       "    }\n",
       "\n",
       "    .dataframe thead th {\n",
       "        text-align: right;\n",
       "    }\n",
       "</style>\n",
       "<table border=\"1\" class=\"dataframe\">\n",
       "  <thead>\n",
       "    <tr style=\"text-align: right;\">\n",
       "      <th></th>\n",
       "      <th>time</th>\n",
       "      <th>race1</th>\n",
       "      <th>race2</th>\n",
       "      <th>map</th>\n",
       "      <th>supplyUsed1</th>\n",
       "      <th>supplyUsed2</th>\n",
       "      <th>totalIncome1</th>\n",
       "      <th>totalIncome2</th>\n",
       "      <th>mineralsIncome1</th>\n",
       "      <th>mineralsIncome2</th>\n",
       "      <th>...</th>\n",
       "      <th>vespene2</th>\n",
       "      <th>activeWorkers1</th>\n",
       "      <th>activeWorkers2</th>\n",
       "      <th>army1</th>\n",
       "      <th>army2</th>\n",
       "      <th>technology1</th>\n",
       "      <th>technology2</th>\n",
       "      <th>lostResources1</th>\n",
       "      <th>lostResources2</th>\n",
       "      <th>winner</th>\n",
       "    </tr>\n",
       "  </thead>\n",
       "  <tbody>\n",
       "    <tr>\n",
       "      <th>0</th>\n",
       "      <td>7</td>\n",
       "      <td>0</td>\n",
       "      <td>0</td>\n",
       "      <td>0</td>\n",
       "      <td>13.0</td>\n",
       "      <td>13.0</td>\n",
       "      <td>210</td>\n",
       "      <td>150</td>\n",
       "      <td>210</td>\n",
       "      <td>150</td>\n",
       "      <td>...</td>\n",
       "      <td>0</td>\n",
       "      <td>12</td>\n",
       "      <td>12</td>\n",
       "      <td>0</td>\n",
       "      <td>0</td>\n",
       "      <td>0</td>\n",
       "      <td>0</td>\n",
       "      <td>0</td>\n",
       "      <td>0</td>\n",
       "      <td>0</td>\n",
       "    </tr>\n",
       "    <tr>\n",
       "      <th>1</th>\n",
       "      <td>14</td>\n",
       "      <td>0</td>\n",
       "      <td>0</td>\n",
       "      <td>0</td>\n",
       "      <td>14.0</td>\n",
       "      <td>14.0</td>\n",
       "      <td>480</td>\n",
       "      <td>480</td>\n",
       "      <td>480</td>\n",
       "      <td>480</td>\n",
       "      <td>...</td>\n",
       "      <td>0</td>\n",
       "      <td>13</td>\n",
       "      <td>13</td>\n",
       "      <td>0</td>\n",
       "      <td>0</td>\n",
       "      <td>0</td>\n",
       "      <td>0</td>\n",
       "      <td>0</td>\n",
       "      <td>0</td>\n",
       "      <td>0</td>\n",
       "    </tr>\n",
       "    <tr>\n",
       "      <th>2</th>\n",
       "      <td>21</td>\n",
       "      <td>0</td>\n",
       "      <td>0</td>\n",
       "      <td>0</td>\n",
       "      <td>14.0</td>\n",
       "      <td>14.0</td>\n",
       "      <td>520</td>\n",
       "      <td>500</td>\n",
       "      <td>520</td>\n",
       "      <td>500</td>\n",
       "      <td>...</td>\n",
       "      <td>0</td>\n",
       "      <td>13</td>\n",
       "      <td>13</td>\n",
       "      <td>0</td>\n",
       "      <td>0</td>\n",
       "      <td>0</td>\n",
       "      <td>0</td>\n",
       "      <td>0</td>\n",
       "      <td>0</td>\n",
       "      <td>0</td>\n",
       "    </tr>\n",
       "  </tbody>\n",
       "</table>\n",
       "<p>3 rows × 27 columns</p>\n",
       "</div>"
      ],
      "text/plain": [
       "   time  race1  race2  map  supplyUsed1  supplyUsed2  totalIncome1  \\\n",
       "0     7      0      0    0         13.0         13.0           210   \n",
       "1    14      0      0    0         14.0         14.0           480   \n",
       "2    21      0      0    0         14.0         14.0           520   \n",
       "\n",
       "   totalIncome2  mineralsIncome1  mineralsIncome2  ...  vespene2  \\\n",
       "0           150              210              150  ...         0   \n",
       "1           480              480              480  ...         0   \n",
       "2           500              520              500  ...         0   \n",
       "\n",
       "   activeWorkers1  activeWorkers2  army1  army2  technology1  technology2  \\\n",
       "0              12              12      0      0            0            0   \n",
       "1              13              13      0      0            0            0   \n",
       "2              13              13      0      0            0            0   \n",
       "\n",
       "   lostResources1  lostResources2  winner  \n",
       "0               0               0       0  \n",
       "1               0               0       0  \n",
       "2               0               0       0  \n",
       "\n",
       "[3 rows x 27 columns]"
      ]
     },
     "execution_count": 2,
     "metadata": {},
     "output_type": "execute_result"
    }
   ],
   "source": [
    "data = pd.read_csv(\"archive/dataset.csv\")\n",
    "data.head(3)"
   ]
  },
  {
   "cell_type": "code",
   "execution_count": 3,
   "id": "3d976b2e",
   "metadata": {},
   "outputs": [
    {
     "data": {
      "text/plain": [
       "time                 int64\n",
       "race1                int64\n",
       "race2                int64\n",
       "map                  int64\n",
       "supplyUsed1        float64\n",
       "supplyUsed2        float64\n",
       "totalIncome1         int64\n",
       "totalIncome2         int64\n",
       "mineralsIncome1      int64\n",
       "mineralsIncome2      int64\n",
       "vespeneIncome1       int64\n",
       "vespeneIncome2       int64\n",
       "totalResources1      int64\n",
       "totalResources2      int64\n",
       "minerals1            int64\n",
       "minerals2            int64\n",
       "vespene1             int64\n",
       "vespene2             int64\n",
       "activeWorkers1       int64\n",
       "activeWorkers2       int64\n",
       "army1                int64\n",
       "army2                int64\n",
       "technology1          int64\n",
       "technology2          int64\n",
       "lostResources1       int64\n",
       "lostResources2       int64\n",
       "winner               int64\n",
       "dtype: object"
      ]
     },
     "execution_count": 3,
     "metadata": {},
     "output_type": "execute_result"
    }
   ],
   "source": [
    "data.dtypes"
   ]
  },
  {
   "cell_type": "code",
   "execution_count": 4,
   "id": "cff1c1b2",
   "metadata": {},
   "outputs": [
    {
     "data": {
      "text/plain": [
       "2178246"
      ]
     },
     "execution_count": 4,
     "metadata": {},
     "output_type": "execute_result"
    }
   ],
   "source": [
    "len(data.index)"
   ]
  },
  {
   "cell_type": "code",
   "execution_count": 5,
   "id": "03c68be8",
   "metadata": {},
   "outputs": [
    {
     "data": {
      "text/plain": [
       "27"
      ]
     },
     "execution_count": 5,
     "metadata": {},
     "output_type": "execute_result"
    }
   ],
   "source": [
    "len(data.columns)"
   ]
  },
  {
   "cell_type": "code",
   "execution_count": 6,
   "id": "cec1468c",
   "metadata": {
    "scrolled": true
   },
   "outputs": [
    {
     "data": {
      "text/plain": [
       "1    802067\n",
       "0    749308\n",
       "2    626871\n",
       "Name: race1, dtype: int64"
      ]
     },
     "execution_count": 6,
     "metadata": {},
     "output_type": "execute_result"
    }
   ],
   "source": [
    "data.race1.value_counts()"
   ]
  },
  {
   "cell_type": "markdown",
   "id": "60515d6b",
   "metadata": {},
   "source": [
    "- Visualisation des relations entre les colonnes."
   ]
  },
  {
   "cell_type": "code",
   "execution_count": 7,
   "id": "b013b9db",
   "metadata": {},
   "outputs": [
    {
     "data": {
      "text/plain": [
       "<AxesSubplot:>"
      ]
     },
     "execution_count": 7,
     "metadata": {},
     "output_type": "execute_result"
    },
    {
     "data": {
      "image/png": "[encoded data removed]",
      "text/plain": [
       "<Figure size 640x480 with 2 Axes>"
      ]
     },
     "metadata": {},
     "output_type": "display_data"
    }
   ],
   "source": [
    "sns.heatmap(data.corr())"
   ]
  },
  {
   "cell_type": "markdown",
   "id": "39072afb",
   "metadata": {},
   "source": [
    "- Création des ensembles d'entraînement, d'évaluation et de test. <br>\n",
    "A noter que le préprocessing a été géré par le parseur en amont. Seuls des nombres (int ou float) sont écrits dans les colonnes."
   ]
  },
  {
   "cell_type": "code",
   "execution_count": 8,
   "id": "da2cc6fd",
   "metadata": {},
   "outputs": [],
   "source": [
    "def data_to_arrays(data, cols):\n",
    "    data1 = data.copy(deep = True)\n",
    "    \n",
    "    for col in cols:\n",
    "        data1[col] = (data1[col] - data1[col].min()) / (data1[col].max() - data1[col].min())\n",
    "            \n",
    "    inputs_array = data1[cols].to_numpy()\n",
    "    targets_array = data1[output_cols].to_numpy().reshape(-1, 1)\n",
    "        \n",
    "    return inputs_array, targets_array"
   ]
  },
  {
   "cell_type": "code",
   "execution_count": 9,
   "id": "ac2a3a33",
   "metadata": {},
   "outputs": [],
   "source": [
    "input_cols = [title for title in data.columns if title != \"winner\"]\n",
    "output_cols = [\"winner\"]\n",
    "\n",
    "input_arr, target_arr = data_to_arrays(data, input_cols)\n",
    "\n",
    "inputs = torch.tensor(input_arr, dtype = torch.float32)\n",
    "targets = torch.tensor(target_arr, dtype = torch.float32)\n",
    "\n",
    "dataset = TensorDataset(inputs, targets)\n",
    "\n",
    "validation_size = int(0.2 * len(dataset))\n",
    "train_size = len(dataset) - validation_size\n",
    "train_ds, val_ds = random_split(dataset, [train_size, validation_size])"
   ]
  },
  {
   "cell_type": "markdown",
   "id": "def10bdf",
   "metadata": {},
   "source": [
    "- Appel des dataloader."
   ]
  },
  {
   "cell_type": "code",
   "execution_count": 10,
   "id": "8e61c37a",
   "metadata": {},
   "outputs": [],
   "source": [
    "batch_size = 64\n",
    "\n",
    "train_loader = DataLoader(train_ds, batch_size, shuffle = True)\n",
    "val_loader = DataLoader(val_ds, batch_size, shuffle = True)\n",
    "\n",
    "num_inputs = len(input_cols)\n",
    "num_outputs = 1"
   ]
  },
  {
   "cell_type": "markdown",
   "id": "5375e22f",
   "metadata": {},
   "source": [
    "- Définition de la fonction de calcul de précision."
   ]
  },
  {
   "cell_type": "code",
   "execution_count": 11,
   "id": "cc5c5bf7",
   "metadata": {},
   "outputs": [],
   "source": [
    "def accuracy(outputs, labels):\n",
    "    return torch.tensor(torch.sum(outputs.round() == labels).item() / len(outputs))"
   ]
  },
  {
   "cell_type": "markdown",
   "id": "3d3fe9c1",
   "metadata": {},
   "source": [
    "- Définition du modèle."
   ]
  },
  {
   "cell_type": "code",
   "execution_count": 12,
   "id": "2cdfce77",
   "metadata": {},
   "outputs": [],
   "source": [
    "layer_size = 128\n",
    "\n",
    "class Model(nn.Module):\n",
    "    def __init__(self):\n",
    "        super().__init__()        \n",
    "        self.fc1 = nn.Linear(num_inputs, layer_size)\n",
    "        self.fc2 = nn.Linear(layer_size, layer_size)\n",
    "        self.fc3 = nn.Linear(layer_size, num_outputs)\n",
    "        \n",
    "    def forward(self, x):\n",
    "        x = self.fc1(x)\n",
    "        x = nn.ReLU()(x)\n",
    "        \n",
    "        x = self.fc2(x)\n",
    "        x = nn.ReLU()(x)\n",
    "        \n",
    "        x = self.fc3(x)\n",
    "        \n",
    "        return torch.sigmoid(x)\n",
    "    \n",
    "    def training_step(self, batch):\n",
    "        inputs, labels = batch \n",
    "        out = self(inputs)\n",
    "        loss = F.binary_cross_entropy(out, labels)\n",
    "        \n",
    "        return loss\n",
    "    \n",
    "    def validation_step(self, batch):\n",
    "        inputs, labels = batch\n",
    "        out = self(inputs)\n",
    "        loss = F.binary_cross_entropy(out, labels)\n",
    "        acc = accuracy(out, labels)\n",
    "        \n",
    "        return {'val_loss': loss, 'val_acc': acc}\n",
    "    \n",
    "    def validation_epoch_end(self, outputs):\n",
    "        batch_losses = [x['val_loss'] for x in outputs]\n",
    "        epoch_loss = torch.stack(batch_losses).mean()\n",
    "        batch_accs = [x['val_acc'] for x in outputs]\n",
    "        epoch_acc = torch.stack(batch_accs).mean()\n",
    "        \n",
    "        return {'val_loss': epoch_loss.item(), 'val_acc': epoch_acc.item()}\n",
    "    \n",
    "    def epoch_end(self, epoch, result):\n",
    "        print(\"Epoch [{}], val_loss : {:.4f}, val_ac c: {:.4f}\".format(epoch, result['val_loss'], result['val_acc']))\n",
    "    \n",
    "model = Model()"
   ]
  },
  {
   "cell_type": "markdown",
   "id": "2621c2d4",
   "metadata": {},
   "source": [
    "- Affichage des paramètres du modèle."
   ]
  },
  {
   "cell_type": "code",
   "execution_count": 13,
   "id": "4c11d27a",
   "metadata": {},
   "outputs": [
    {
     "data": {
      "text/plain": [
       "[Parameter containing:\n",
       " tensor([[-0.0746, -0.1913,  0.1642,  ...,  0.0749, -0.1726,  0.1352],\n",
       "         [ 0.1745, -0.1504, -0.1300,  ...,  0.0105, -0.1089,  0.0091],\n",
       "         [-0.1043,  0.1786,  0.1808,  ..., -0.0543, -0.1944,  0.1690],\n",
       "         ...,\n",
       "         [ 0.1640,  0.0977,  0.1164,  ..., -0.0704,  0.0750, -0.1227],\n",
       "         [ 0.0019, -0.1142, -0.0739,  ..., -0.1142, -0.0661, -0.0337],\n",
       "         [ 0.1191, -0.0024,  0.1422,  ...,  0.1904, -0.0441,  0.1677]],\n",
       "        requires_grad=True),\n",
       " Parameter containing:\n",
       " tensor([-0.1239,  0.0601, -0.1289,  0.0739, -0.0855,  0.0931, -0.0131,  0.0827,\n",
       "          0.1450, -0.0924,  0.1798,  0.0161,  0.0869,  0.0363,  0.0965, -0.0016,\n",
       "         -0.1722,  0.0367, -0.0647,  0.1287,  0.1087, -0.1899, -0.0856, -0.0559,\n",
       "          0.0374, -0.1893,  0.0276,  0.0610, -0.0275, -0.0620, -0.0252,  0.1701,\n",
       "         -0.0362, -0.1274,  0.0647,  0.1539, -0.0733, -0.0731, -0.0714, -0.0665,\n",
       "         -0.1431, -0.1715, -0.1498,  0.1819, -0.0201, -0.1533,  0.1548,  0.1663,\n",
       "         -0.0806,  0.1744, -0.0069, -0.1729, -0.1749,  0.1357, -0.0817,  0.0665,\n",
       "          0.1920, -0.0955,  0.1763, -0.0424, -0.0188, -0.1795,  0.1117,  0.1146,\n",
       "         -0.1038, -0.1418,  0.0877, -0.1754,  0.0629,  0.1548, -0.1621,  0.0669,\n",
       "          0.0169, -0.1417, -0.0104, -0.0667, -0.1593,  0.0958, -0.0277, -0.0674,\n",
       "          0.0637, -0.0067, -0.0363,  0.1869,  0.0007,  0.0102,  0.0452, -0.0201,\n",
       "          0.1461,  0.1022, -0.1247, -0.0930,  0.1307,  0.1083, -0.1818,  0.1501,\n",
       "          0.1803,  0.1799,  0.1335, -0.0543,  0.1937, -0.0166,  0.0682,  0.0992,\n",
       "          0.1108, -0.1928, -0.0894,  0.0709,  0.1008,  0.1476, -0.1798, -0.0833,\n",
       "          0.0673,  0.0207, -0.1587,  0.1187, -0.1726,  0.0888,  0.1526,  0.0423,\n",
       "         -0.0877, -0.1576,  0.0638, -0.0813,  0.1155,  0.1904, -0.1860,  0.0343],\n",
       "        requires_grad=True),\n",
       " Parameter containing:\n",
       " tensor([[-0.0331,  0.0522, -0.0860,  ...,  0.0486,  0.0423, -0.0254],\n",
       "         [-0.0311,  0.0639, -0.0073,  ..., -0.0641, -0.0553,  0.0262],\n",
       "         [-0.0717, -0.0625,  0.0092,  ..., -0.0026, -0.0254,  0.0008],\n",
       "         ...,\n",
       "         [ 0.0598, -0.0405, -0.0048,  ..., -0.0202,  0.0472, -0.0485],\n",
       "         [-0.0238, -0.0273, -0.0766,  ..., -0.0822,  0.0107,  0.0580],\n",
       "         [-0.0214, -0.0496, -0.0149,  ..., -0.0518,  0.0243,  0.0095]],\n",
       "        requires_grad=True),\n",
       " Parameter containing:\n",
       " tensor([ 0.0422,  0.0419,  0.0019, -0.0677, -0.0280,  0.0621,  0.0575,  0.0751,\n",
       "          0.0397, -0.0473, -0.0270, -0.0263,  0.0871, -0.0883,  0.0711, -0.0594,\n",
       "         -0.0549,  0.0026, -0.0154,  0.0664,  0.0233, -0.0005, -0.0073, -0.0361,\n",
       "         -0.0706, -0.0076,  0.0287,  0.0827, -0.0718,  0.0840, -0.0313,  0.0071,\n",
       "          0.0859, -0.0290,  0.0007,  0.0714,  0.0274, -0.0382,  0.0804,  0.0609,\n",
       "         -0.0634,  0.0045,  0.0514, -0.0383,  0.0639,  0.0777, -0.0620,  0.0234,\n",
       "         -0.0205, -0.0012, -0.0391,  0.0334, -0.0258, -0.0574,  0.0639,  0.0784,\n",
       "          0.0788, -0.0637,  0.0462,  0.0744, -0.0307,  0.0257, -0.0316,  0.0567,\n",
       "          0.0741,  0.0107, -0.0259, -0.0704,  0.0205, -0.0428, -0.0823, -0.0509,\n",
       "         -0.0637,  0.0317,  0.0340, -0.0337, -0.0780, -0.0769, -0.0005, -0.0200,\n",
       "         -0.0459,  0.0484, -0.0043, -0.0122, -0.0066,  0.0325, -0.0170,  0.0540,\n",
       "         -0.0637,  0.0328, -0.0594, -0.0878, -0.0020, -0.0763, -0.0115, -0.0241,\n",
       "          0.0213, -0.0641,  0.0744, -0.0664, -0.0155,  0.0442, -0.0547, -0.0483,\n",
       "         -0.0231, -0.0754, -0.0637, -0.0471,  0.0502, -0.0728,  0.0239,  0.0073,\n",
       "         -0.0668, -0.0129,  0.0852, -0.0211, -0.0849,  0.0348,  0.0625, -0.0840,\n",
       "          0.0820, -0.0162,  0.0193,  0.0365,  0.0241, -0.0413,  0.0881, -0.0264],\n",
       "        requires_grad=True),\n",
       " Parameter containing:\n",
       " tensor([[ 0.0411,  0.0137,  0.0624, -0.0242,  0.0527, -0.0820,  0.0854,  0.0713,\n",
       "           0.0074,  0.0870, -0.0465,  0.0207,  0.0262, -0.0796,  0.0257, -0.0350,\n",
       "           0.0315, -0.0675, -0.0483, -0.0394, -0.0082, -0.0111,  0.0437,  0.0753,\n",
       "          -0.0202, -0.0853,  0.0057, -0.0139,  0.0694, -0.0108,  0.0417, -0.0534,\n",
       "           0.0818,  0.0673,  0.0642, -0.0220, -0.0362, -0.0179, -0.0503, -0.0417,\n",
       "           0.0859, -0.0398, -0.0542, -0.0387,  0.0665, -0.0430, -0.0072, -0.0784,\n",
       "           0.0589,  0.0592,  0.0345,  0.0278, -0.0065, -0.0831,  0.0606,  0.0516,\n",
       "           0.0058, -0.0567, -0.0428, -0.0795,  0.0678,  0.0527, -0.0666,  0.0075,\n",
       "           0.0729, -0.0882, -0.0218,  0.0400,  0.0413, -0.0515, -0.0623,  0.0242,\n",
       "          -0.0656,  0.0068, -0.0553, -0.0521, -0.0193,  0.0121, -0.0750, -0.0695,\n",
       "           0.0766,  0.0166, -0.0522,  0.0774,  0.0231,  0.0801, -0.0193,  0.0604,\n",
       "          -0.0617, -0.0440,  0.0361,  0.0066,  0.0101,  0.0687, -0.0029,  0.0463,\n",
       "          -0.0278, -0.0534, -0.0862,  0.0755, -0.0619, -0.0838, -0.0042,  0.0879,\n",
       "          -0.0544, -0.0129, -0.0404,  0.0418,  0.0009,  0.0312,  0.0161, -0.0203,\n",
       "           0.0612,  0.0240, -0.0771,  0.0677, -0.0114,  0.0285, -0.0797, -0.0505,\n",
       "          -0.0632,  0.0482,  0.0013,  0.0246,  0.0200,  0.0045, -0.0669, -0.0530]],\n",
       "        requires_grad=True),\n",
       " Parameter containing:\n",
       " tensor([0.0365], requires_grad=True)]"
      ]
     },
     "execution_count": 13,
     "metadata": {},
     "output_type": "execute_result"
    }
   ],
   "source": [
    "list(model.parameters())"
   ]
  },
  {
   "cell_type": "code",
   "execution_count": 14,
   "id": "140de29f",
   "metadata": {},
   "outputs": [],
   "source": [
    "@torch.no_grad()\n",
    "def evaluate(model, val_loader):\n",
    "    outputs = [model.validation_step(batch) for batch in val_loader]\n",
    "    \n",
    "    return model.validation_epoch_end(outputs)\n",
    "\n",
    "\n",
    "def fit_one_cycle(epochs, lr, model, train_loader, val_loader):\n",
    "    history = []\n",
    "    \n",
    "    optimizer = torch.optim.SGD(model.parameters(), lr)\n",
    "    \n",
    "    for epoch in range(epochs):\n",
    "        model.train()\n",
    "        train_losses = []\n",
    "        for batch in train_loader:\n",
    "            loss = model.training_step(batch)\n",
    "            train_losses.append(loss)\n",
    "            loss.backward()\n",
    "            \n",
    "            optimizer.step()\n",
    "            optimizer.zero_grad()\n",
    "        \n",
    "        result = evaluate(model, val_loader)\n",
    "        result['train_loss'] = torch.stack(train_losses).mean().item()\n",
    "        model.epoch_end(epoch, result)\n",
    "        history.append(result)\n",
    "    \n",
    "    return history"
   ]
  },
  {
   "cell_type": "markdown",
   "id": "cd1c685c",
   "metadata": {},
   "source": [
    "- Paramétrage et entraînement du réseau de neurones."
   ]
  },
  {
   "cell_type": "code",
   "execution_count": 15,
   "id": "02b81ea5",
   "metadata": {},
   "outputs": [
    {
     "name": "stdout",
     "output_type": "stream",
     "text": [
      "Epoch [0], val_loss : 0.6860, val_ac c: 0.5312\n",
      "Epoch [1], val_loss : 0.6718, val_ac c: 0.6008\n",
      "Epoch [2], val_loss : 0.6363, val_ac c: 0.6386\n",
      "Epoch [3], val_loss : 0.6069, val_ac c: 0.6532\n",
      "Epoch [4], val_loss : 0.5962, val_ac c: 0.6581\n",
      "Epoch [5], val_loss : 0.5908, val_ac c: 0.6625\n",
      "Epoch [6], val_loss : 0.5874, val_ac c: 0.6648\n",
      "Epoch [7], val_loss : 0.5849, val_ac c: 0.6664\n",
      "Epoch [8], val_loss : 0.5830, val_ac c: 0.6678\n",
      "Epoch [9], val_loss : 0.5816, val_ac c: 0.6688\n"
     ]
    }
   ],
   "source": [
    "history = [evaluate(model, val_loader)]\n",
    "\n",
    "epochs = 10\n",
    "lr = 0.001\n",
    "\n",
    "history += fit_one_cycle(epochs, lr, model, train_loader, val_loader)\n"
   ]
  },
  {
   "cell_type": "markdown",
   "id": "fb62ba30",
   "metadata": {},
   "source": [
    "- Définition des fonctions d'affichage de la précision, de la loss et du taux d'apprentissage."
   ]
  },
  {
   "cell_type": "code",
   "execution_count": 16,
   "id": "947acaff",
   "metadata": {},
   "outputs": [],
   "source": [
    "def plot_accuracies(history):\n",
    "    accuracies = [x['val_acc'] for x in history]\n",
    "    plt.plot(accuracies, '-x')\n",
    "    plt.xlabel('epoch')\n",
    "    plt.ylabel('accuracy')\n",
    "    plt.title('Accuracy / No. of epochs');\n",
    "\n",
    "def plot_losses(history):\n",
    "    train_losses = [x.get('train_loss') for x in history]\n",
    "    val_losses = [x['val_loss'] for x in history]\n",
    "    plt.plot(train_losses, '-bx')\n",
    "    plt.plot(val_losses, '-rx')\n",
    "    plt.xlabel('epoch')\n",
    "    plt.ylabel('loss')\n",
    "    plt.legend(['Training', 'Validation'])\n",
    "    plt.title('Loss / No. of epochs');"
   ]
  },
  {
   "cell_type": "code",
   "execution_count": 17,
   "id": "7fe03003",
   "metadata": {},
   "outputs": [
    {
     "data": {
      "image/png": "[encoded data removed]",
      "text/plain": [
       "<Figure size 640x480 with 1 Axes>"
      ]
     },
     "metadata": {},
     "output_type": "display_data"
    }
   ],
   "source": [
    "plot_accuracies(history)"
   ]
  },
  {
   "cell_type": "code",
   "execution_count": 18,
   "id": "08b815a1",
   "metadata": {},
   "outputs": [
    {
     "data": {
      "image/png": "[encoded data removed]",
      "text/plain": [
       "<Figure size 640x480 with 1 Axes>"
      ]
     },
     "metadata": {},
     "output_type": "display_data"
    }
   ],
   "source": [
    "plot_losses(history)"
   ]
  },
  {
   "cell_type": "markdown",
   "id": "4a1a87a6",
   "metadata": {},
   "source": [
    "- Explications :<br>\n",
    "Notre accuracy se stabilise vers 0.67, ce qui, bien que meilleur que l'aléatoire de 0.50, reste bas. Ce constat s'explique cependant simplement. En effet, pour une bonne partie de la durée des replays étudiés, il est difficile de prévoir quel joueur va gagner. Par exemple, en début de partie, peu de choses se passent et les joueurs se contentent bien souvent de développer leur économie, ne laissant pas de joueur obtenir un quelconque avantage sur l'autre.<br>\n",
    "Nous pouvons en revanche nous attendre à de bonne performances une fois que des batailles commencent à se dérouler, et de manière générale lorsque la partie se rapproche de la fin.<br>\n",
    "Ces cas seront clairement expliqués lors de l'étude de cas plus bas."
   ]
  },
  {
   "cell_type": "code",
   "execution_count": 19,
   "id": "fbe9551c",
   "metadata": {},
   "outputs": [
    {
     "data": {
      "text/plain": [
       "{'val_loss': 0.5815638303756714, 'val_acc': 0.6688225269317627}"
      ]
     },
     "execution_count": 19,
     "metadata": {},
     "output_type": "execute_result"
    }
   ],
   "source": [
    "result = evaluate(model, val_loader)\n",
    "result"
   ]
  },
  {
   "cell_type": "code",
   "execution_count": 20,
   "id": "b4471f1b",
   "metadata": {},
   "outputs": [],
   "source": [
    "torch.save(model.state_dict(), 'starcraft2-logistic.pth')"
   ]
  },
  {
   "cell_type": "code",
   "execution_count": 21,
   "id": "41d6cc2a",
   "metadata": {},
   "outputs": [
    {
     "data": {
      "text/plain": [
       "OrderedDict([('fc1.weight',\n",
       "              tensor([[-0.0751, -0.1913,  0.1520,  ...,  0.0750, -0.1724,  0.1349],\n",
       "                      [ 0.1732, -0.1505, -0.1278,  ...,  0.0088, -0.1091,  0.0102],\n",
       "                      [-0.1041,  0.1705,  0.1941,  ..., -0.0505, -0.1921,  0.1677],\n",
       "                      ...,\n",
       "                      [ 0.1593,  0.0781,  0.1051,  ...,  0.0307,  0.1391, -0.1849],\n",
       "                      [ 0.0019, -0.1142, -0.0739,  ..., -0.1142, -0.0661, -0.0337],\n",
       "                      [ 0.1195,  0.0171,  0.1233,  ...,  0.1065, -0.0973,  0.2219]])),\n",
       "             ('fc1.bias',\n",
       "              tensor([-0.1361,  0.0326, -0.1313,  0.0832, -0.0882,  0.2050,  0.0654,  0.0804,\n",
       "                       0.1640, -0.1021,  0.1832, -0.0009,  0.0869,  0.0726,  0.0994,  0.0069,\n",
       "                      -0.1722,  0.0435, -0.0635,  0.1234,  0.1494, -0.1894,  0.0026, -0.0600,\n",
       "                       0.0401, -0.1893,  0.0277,  0.0921,  0.0653, -0.0682,  0.0086,  0.1834,\n",
       "                      -0.0358, -0.1274,  0.0647,  0.1285, -0.0204, -0.0638, -0.0649,  0.0063,\n",
       "                      -0.1431, -0.1668, -0.1536,  0.1956, -0.0156, -0.1600,  0.1430,  0.1700,\n",
       "                      -0.0795,  0.1620,  0.0499, -0.1729, -0.0636,  0.0920, -0.0820,  0.0709,\n",
       "                       0.2029, -0.1239,  0.1794, -0.0311,  0.0721, -0.1795,  0.1085,  0.1544,\n",
       "                      -0.1065, -0.1400,  0.1000, -0.1754,  0.0869,  0.1498, -0.1655,  0.0648,\n",
       "                       0.0264, -0.0643, -0.0107,  0.0160, -0.1525,  0.1340,  0.0254, -0.0265,\n",
       "                       0.1360, -0.0094, -0.0162,  0.2032, -0.0171,  0.0035,  0.0471,  0.0577,\n",
       "                       0.1479,  0.0982, -0.0867, -0.1018,  0.1518,  0.1309, -0.1526,  0.1555,\n",
       "                       0.2293,  0.1689,  0.1374, -0.0254,  0.1970, -0.0346,  0.0640,  0.1617,\n",
       "                       0.1631, -0.1934, -0.0496,  0.0906,  0.1559,  0.1915, -0.1809, -0.1011,\n",
       "                       0.0661,  0.0637, -0.0508,  0.0681, -0.1718,  0.0870,  0.1545,  0.0557,\n",
       "                      -0.0877, -0.1648,  0.0829, -0.0914,  0.1293,  0.1339, -0.1860,  0.0801])),\n",
       "             ('fc2.weight',\n",
       "              tensor([[-0.0334,  0.0518, -0.0785,  ...,  0.1228,  0.0423, -0.0796],\n",
       "                      [-0.0311,  0.0638, -0.0042,  ..., -0.0403, -0.0553,  0.0154],\n",
       "                      [-0.0720, -0.0626,  0.0093,  ..., -0.0018, -0.0254, -0.0030],\n",
       "                      ...,\n",
       "                      [ 0.0598, -0.0407, -0.0017,  ...,  0.0069,  0.0472, -0.0635],\n",
       "                      [-0.0236, -0.0262, -0.0821,  ..., -0.1329,  0.0107,  0.1034],\n",
       "                      [-0.0213, -0.0479, -0.0211,  ..., -0.1070,  0.0243,  0.0669]])),\n",
       "             ('fc2.bias',\n",
       "              tensor([ 7.4889e-02,  6.8617e-02, -8.8239e-03, -6.6407e-02, -8.8930e-03,\n",
       "                       5.2515e-02,  1.4471e-01,  1.6951e-01,  3.6380e-02, -1.5114e-02,\n",
       "                      -3.0204e-02, -8.9549e-03,  9.4420e-02, -1.9204e-02,  7.8887e-02,\n",
       "                      -5.6848e-02, -4.5578e-02,  4.4334e-03,  1.0283e-03,  6.1558e-02,\n",
       "                       1.6182e-02,  3.5217e-03,  4.2979e-02,  2.2542e-02, -6.1669e-02,\n",
       "                       1.4818e-02,  3.9484e-02,  9.9040e-02, -3.0134e-02,  6.2644e-02,\n",
       "                      -3.1273e-02,  1.7301e-02,  1.3207e-01, -2.7514e-02, -7.6619e-03,\n",
       "                       7.0349e-02,  2.5912e-02, -2.4089e-02,  1.1662e-01,  7.1741e-02,\n",
       "                      -6.2148e-02,  1.8187e-02,  4.6044e-02, -7.6967e-03,  6.1595e-02,\n",
       "                       6.7754e-02, -6.7718e-02,  1.6643e-02, -3.6491e-02, -1.4735e-02,\n",
       "                      -3.9145e-02,  9.3497e-02, -1.4573e-02, -7.3091e-03,  7.9641e-02,\n",
       "                       1.3861e-01,  6.4349e-02, -6.3966e-02,  7.0513e-02,  4.9481e-02,\n",
       "                      -3.0718e-02,  4.6498e-02, -6.6289e-03,  8.4492e-02,  9.6803e-02,\n",
       "                       5.2874e-02, -2.6137e-02, -9.1768e-02,  4.7304e-02, -3.7530e-02,\n",
       "                      -7.9777e-02, -5.5379e-02, -2.8711e-02,  3.1190e-02,  4.8583e-02,\n",
       "                      -3.3712e-02, -7.7118e-02, -5.6676e-02,  3.2652e-02, -6.4824e-03,\n",
       "                      -5.6300e-02,  6.5876e-02,  2.1944e-02,  1.0540e-02, -6.6160e-03,\n",
       "                       1.0011e-01, -1.7032e-02,  1.0015e-01, -8.9198e-02,  3.0145e-02,\n",
       "                      -5.9079e-02, -8.7765e-02,  1.8659e-02, -7.6239e-02,  3.1155e-02,\n",
       "                      -2.4107e-02,  1.1185e-02, -6.4458e-02,  7.6829e-02,  4.9118e-03,\n",
       "                      -1.9864e-02,  2.6357e-02, -5.1882e-02, -4.4301e-02,  5.2734e-03,\n",
       "                      -7.5666e-02, -6.3796e-02, -4.7124e-02,  6.0317e-02, -4.8960e-02,\n",
       "                       2.3951e-02,  9.9879e-04, -6.6716e-02, -1.6201e-02,  3.9842e-02,\n",
       "                       4.4065e-02, -8.6138e-02,  4.7445e-02,  3.1513e-02, -8.3940e-02,\n",
       "                       6.8042e-02,  1.2360e-02,  1.9433e-02,  4.3198e-02,  1.0746e-04,\n",
       "                      -1.6208e-02,  9.2407e-02,  2.4426e-02])),\n",
       "             ('fc3.weight',\n",
       "              tensor([[ 4.6270e-01,  1.5714e-01,  6.7139e-02, -2.6079e-02,  2.2753e-01,\n",
       "                       -4.3650e-01,  5.8983e-01,  8.8598e-01,  2.0719e-03,  3.1425e-01,\n",
       "                       -4.5879e-02,  1.4589e-01, -3.9361e-02, -4.6551e-01,  7.9109e-02,\n",
       "                       -3.4842e-02,  3.4713e-02, -4.8952e-01, -1.4464e-01, -4.6259e-02,\n",
       "                       -6.4943e-02,  2.1931e-02,  2.8902e-01,  4.2604e-01, -2.6582e-01,\n",
       "                       -2.6661e-01,  3.1533e-01, -1.7356e-01,  2.2919e-01, -1.8449e-01,\n",
       "                        4.1669e-02, -4.7818e-01,  4.4226e-01,  6.8027e-02,  6.3759e-02,\n",
       "                        1.3376e-03,  1.4604e-02,  1.2765e-01, -3.9384e-01, -1.4152e-01,\n",
       "                        8.6175e-02, -9.2874e-02, -7.1777e-02, -3.0119e-01,  7.1150e-02,\n",
       "                        2.6358e-02, -4.2477e-02, -5.6482e-01,  5.1261e-02,  5.5227e-02,\n",
       "                        3.4454e-02,  3.5744e-01,  1.2182e-01, -5.1425e-01,  2.9108e-01,\n",
       "                        3.9766e-01, -2.2639e-01, -5.6601e-02, -1.7454e-01, -5.5692e-01,\n",
       "                        6.7767e-02,  2.1889e-01, -2.4970e-01,  4.4809e-01,  1.9595e-01,\n",
       "                       -4.6234e-01, -2.1589e-02,  3.1377e-02,  3.2860e-01, -4.0178e-01,\n",
       "                       -6.3872e-02,  1.3507e-02, -4.6272e-01,  1.7203e-03, -3.4769e-01,\n",
       "                       -5.2075e-02, -1.9314e-02, -2.8894e-02, -2.4029e-01, -1.3076e-01,\n",
       "                        8.2829e-02,  1.1304e-01, -1.3820e-01,  1.8607e-01,  2.3057e-02,\n",
       "                        5.2856e-01, -1.9261e-02,  3.4241e-01, -5.5882e-02, -2.5558e-01,\n",
       "                        3.6525e-02,  6.6130e-03,  1.1355e-01,  6.8672e-02,  2.8589e-01,\n",
       "                        4.6308e-02,  2.4113e-04, -5.3408e-02,  4.8170e-02,  3.3280e-01,\n",
       "                       -6.8253e-02, -1.2843e-01, -3.1539e-01,  8.9013e-02, -1.2313e-01,\n",
       "                       -1.2843e-02, -4.0383e-02,  4.1812e-02,  8.5830e-02,  7.2688e-02,\n",
       "                        1.6121e-02,  6.3819e-03,  6.1225e-02, -1.9808e-03, -2.7027e-01,\n",
       "                        4.6396e-01, -9.7867e-03,  4.9523e-02, -1.6572e-01, -5.0541e-02,\n",
       "                       -3.0367e-02,  1.3337e-01,  1.6095e-03, -2.8477e-02, -1.5554e-01,\n",
       "                        1.7458e-01, -3.7749e-01, -5.3225e-01]])),\n",
       "             ('fc3.bias', tensor([0.2789]))])"
      ]
     },
     "execution_count": 21,
     "metadata": {},
     "output_type": "execute_result"
    }
   ],
   "source": [
    "model.state_dict()"
   ]
  },
  {
   "cell_type": "markdown",
   "id": "e9a88836",
   "metadata": {},
   "source": [
    "- Définition de la fonction de prédiction utilisant le réseau de neurones entraîné."
   ]
  },
  {
   "cell_type": "code",
   "execution_count": 22,
   "id": "7ad178eb",
   "metadata": {},
   "outputs": [],
   "source": [
    "def predict(input_data, verbose = True):\n",
    "    if verbose:\n",
    "        for i in range(len(input_cols)):\n",
    "            val = input_data[0][i].item()\n",
    "            val = round(val * (data[input_cols[i]].max() - data[input_cols[i]].min()) + data[input_cols[i]].min(), 4)\n",
    "            print(input_cols[i] + \":\", val)\n",
    "            \n",
    "        print(\"\")\n",
    "    \n",
    "    with torch.no_grad():\n",
    "        pred = model(input_data[0]).item()\n",
    "        \n",
    "    print(\"Probabilité de victoire du joueur 1 : {:.4f}\".format(1 - pred))"
   ]
  },
  {
   "cell_type": "markdown",
   "id": "44a78df9",
   "metadata": {},
   "source": [
    "- Quelques prédictions."
   ]
  },
  {
   "cell_type": "code",
   "execution_count": 23,
   "id": "1a4779f0",
   "metadata": {},
   "outputs": [
    {
     "name": "stdout",
     "output_type": "stream",
     "text": [
      "time: 193.0\n",
      "race1: 1.0\n",
      "race2: 2.0\n",
      "map: 22.0\n",
      "supplyUsed1: 38.0\n",
      "supplyUsed2: 37.0\n",
      "totalIncome1: 1048.0\n",
      "totalIncome2: 1220.0\n",
      "mineralsIncome1: 1000.0\n",
      "mineralsIncome2: 980.0\n",
      "vespeneIncome1: 48.0\n",
      "vespeneIncome2: 240.0\n",
      "totalResources1: 120.0\n",
      "totalResources2: 359.0\n",
      "minerals1: 44.0\n",
      "minerals2: 255.0\n",
      "vespene1: 76.0\n",
      "vespene2: 104.0\n",
      "activeWorkers1: 29.0\n",
      "activeWorkers2: 31.0\n",
      "army1: 350.0\n",
      "army2: 100.0\n",
      "technology1: 250.0\n",
      "technology2: 300.0\n",
      "lostResources1: 0.0\n",
      "lostResources2: 0.0\n",
      "\n",
      "Probabilité de victoire du joueur 1 : 0.4873\n"
     ]
    }
   ],
   "source": [
    "predict(val_ds[64])"
   ]
  },
  {
   "cell_type": "code",
   "execution_count": 24,
   "id": "b37d755f",
   "metadata": {},
   "outputs": [
    {
     "name": "stdout",
     "output_type": "stream",
     "text": [
      "time: 536.0\n",
      "race1: 0.0\n",
      "race2: 0.0\n",
      "map: 18.0\n",
      "supplyUsed1: 106.0\n",
      "supplyUsed2: 118.0\n",
      "totalIncome1: 3510.0001\n",
      "totalIncome2: 3459.0\n",
      "mineralsIncome1: 2547.0001\n",
      "mineralsIncome2: 2519.0\n",
      "vespeneIncome1: 963.0\n",
      "vespeneIncome2: 940.0\n",
      "totalResources1: 542.0\n",
      "totalResources2: 1049.0\n",
      "minerals1: 282.0\n",
      "minerals2: 839.0\n",
      "vespene1: 260.0\n",
      "vespene2: 210.0\n",
      "activeWorkers1: 63.0\n",
      "activeWorkers2: 67.0\n",
      "army1: 2525.0\n",
      "army2: 3225.0\n",
      "technology1: 2575.0001\n",
      "technology2: 2225.0\n",
      "lostResources1: 4399.0002\n",
      "lostResources2: 2441.0\n",
      "\n",
      "Probabilité de victoire du joueur 1 : 0.4006\n"
     ]
    }
   ],
   "source": [
    "predict(val_ds[2048])"
   ]
  },
  {
   "cell_type": "markdown",
   "id": "caee0611",
   "metadata": {},
   "source": [
    "## 5. Etude de cas pratiques"
   ]
  },
  {
   "cell_type": "markdown",
   "id": "0c07c6a8",
   "metadata": {},
   "source": [
    "- Changeons de dataset pour utiliser notre fichier contenant 4 moments notables pour 2 parties différentes (soit 8 rows)."
   ]
  },
  {
   "cell_type": "code",
   "execution_count": 25,
   "id": "06bb29ec",
   "metadata": {},
   "outputs": [
    {
     "data": {
      "text/html": [
       "<div>\n",
       "<style scoped>\n",
       "    .dataframe tbody tr th:only-of-type {\n",
       "        vertical-align: middle;\n",
       "    }\n",
       "\n",
       "    .dataframe tbody tr th {\n",
       "        vertical-align: top;\n",
       "    }\n",
       "\n",
       "    .dataframe thead th {\n",
       "        text-align: right;\n",
       "    }\n",
       "</style>\n",
       "<table border=\"1\" class=\"dataframe\">\n",
       "  <thead>\n",
       "    <tr style=\"text-align: right;\">\n",
       "      <th></th>\n",
       "      <th>time</th>\n",
       "      <th>race1</th>\n",
       "      <th>race2</th>\n",
       "      <th>map</th>\n",
       "      <th>supplyUsed1</th>\n",
       "      <th>supplyUsed2</th>\n",
       "      <th>totalIncome1</th>\n",
       "      <th>totalIncome2</th>\n",
       "      <th>mineralsIncome1</th>\n",
       "      <th>mineralsIncome2</th>\n",
       "      <th>...</th>\n",
       "      <th>vespene2</th>\n",
       "      <th>activeWorkers1</th>\n",
       "      <th>activeWorkers2</th>\n",
       "      <th>army1</th>\n",
       "      <th>army2</th>\n",
       "      <th>technology1</th>\n",
       "      <th>technology2</th>\n",
       "      <th>lostResources1</th>\n",
       "      <th>lostResources2</th>\n",
       "      <th>winner</th>\n",
       "    </tr>\n",
       "  </thead>\n",
       "  <tbody>\n",
       "    <tr>\n",
       "      <th>0</th>\n",
       "      <td>100</td>\n",
       "      <td>2</td>\n",
       "      <td>0</td>\n",
       "      <td>0</td>\n",
       "      <td>20.0</td>\n",
       "      <td>20.0</td>\n",
       "      <td>1040</td>\n",
       "      <td>883</td>\n",
       "      <td>951</td>\n",
       "      <td>727</td>\n",
       "      <td>...</td>\n",
       "      <td>34</td>\n",
       "      <td>20</td>\n",
       "      <td>19</td>\n",
       "      <td>0</td>\n",
       "      <td>0</td>\n",
       "      <td>150</td>\n",
       "      <td>150</td>\n",
       "      <td>0</td>\n",
       "      <td>0</td>\n",
       "      <td>1</td>\n",
       "    </tr>\n",
       "    <tr>\n",
       "      <th>1</th>\n",
       "      <td>621</td>\n",
       "      <td>2</td>\n",
       "      <td>0</td>\n",
       "      <td>0</td>\n",
       "      <td>133.0</td>\n",
       "      <td>166.0</td>\n",
       "      <td>3655</td>\n",
       "      <td>3566</td>\n",
       "      <td>2827</td>\n",
       "      <td>2603</td>\n",
       "      <td>...</td>\n",
       "      <td>284</td>\n",
       "      <td>64</td>\n",
       "      <td>72</td>\n",
       "      <td>4325</td>\n",
       "      <td>5200</td>\n",
       "      <td>2750</td>\n",
       "      <td>3375</td>\n",
       "      <td>3300</td>\n",
       "      <td>2124</td>\n",
       "      <td>1</td>\n",
       "    </tr>\n",
       "    <tr>\n",
       "      <th>2</th>\n",
       "      <td>643</td>\n",
       "      <td>2</td>\n",
       "      <td>0</td>\n",
       "      <td>0</td>\n",
       "      <td>86.0</td>\n",
       "      <td>151.0</td>\n",
       "      <td>3498</td>\n",
       "      <td>3431</td>\n",
       "      <td>2715</td>\n",
       "      <td>2491</td>\n",
       "      <td>...</td>\n",
       "      <td>478</td>\n",
       "      <td>64</td>\n",
       "      <td>71</td>\n",
       "      <td>600</td>\n",
       "      <td>4450</td>\n",
       "      <td>3550</td>\n",
       "      <td>3575</td>\n",
       "      <td>7625</td>\n",
       "      <td>3799</td>\n",
       "      <td>1</td>\n",
       "    </tr>\n",
       "    <tr>\n",
       "      <th>3</th>\n",
       "      <td>721</td>\n",
       "      <td>2</td>\n",
       "      <td>0</td>\n",
       "      <td>0</td>\n",
       "      <td>79.0</td>\n",
       "      <td>170.0</td>\n",
       "      <td>3090</td>\n",
       "      <td>4109</td>\n",
       "      <td>2127</td>\n",
       "      <td>2967</td>\n",
       "      <td>...</td>\n",
       "      <td>762</td>\n",
       "      <td>65</td>\n",
       "      <td>73</td>\n",
       "      <td>175</td>\n",
       "      <td>5675</td>\n",
       "      <td>3150</td>\n",
       "      <td>4125</td>\n",
       "      <td>12450</td>\n",
       "      <td>5624</td>\n",
       "      <td>1</td>\n",
       "    </tr>\n",
       "    <tr>\n",
       "      <th>4</th>\n",
       "      <td>100</td>\n",
       "      <td>1</td>\n",
       "      <td>0</td>\n",
       "      <td>1</td>\n",
       "      <td>20.0</td>\n",
       "      <td>20.0</td>\n",
       "      <td>911</td>\n",
       "      <td>962</td>\n",
       "      <td>867</td>\n",
       "      <td>783</td>\n",
       "      <td>...</td>\n",
       "      <td>38</td>\n",
       "      <td>18</td>\n",
       "      <td>19</td>\n",
       "      <td>0</td>\n",
       "      <td>0</td>\n",
       "      <td>0</td>\n",
       "      <td>150</td>\n",
       "      <td>0</td>\n",
       "      <td>0</td>\n",
       "      <td>1</td>\n",
       "    </tr>\n",
       "    <tr>\n",
       "      <th>5</th>\n",
       "      <td>493</td>\n",
       "      <td>1</td>\n",
       "      <td>0</td>\n",
       "      <td>1</td>\n",
       "      <td>149.0</td>\n",
       "      <td>128.0</td>\n",
       "      <td>4574</td>\n",
       "      <td>2899</td>\n",
       "      <td>3723</td>\n",
       "      <td>2183</td>\n",
       "      <td>...</td>\n",
       "      <td>631</td>\n",
       "      <td>90</td>\n",
       "      <td>61</td>\n",
       "      <td>3650</td>\n",
       "      <td>4675</td>\n",
       "      <td>1700</td>\n",
       "      <td>2000</td>\n",
       "      <td>1043</td>\n",
       "      <td>0</td>\n",
       "      <td>1</td>\n",
       "    </tr>\n",
       "    <tr>\n",
       "      <th>6</th>\n",
       "      <td>507</td>\n",
       "      <td>1</td>\n",
       "      <td>0</td>\n",
       "      <td>1</td>\n",
       "      <td>110.0</td>\n",
       "      <td>121.0</td>\n",
       "      <td>4562</td>\n",
       "      <td>2966</td>\n",
       "      <td>3667</td>\n",
       "      <td>2183</td>\n",
       "      <td>...</td>\n",
       "      <td>294</td>\n",
       "      <td>90</td>\n",
       "      <td>61</td>\n",
       "      <td>1550</td>\n",
       "      <td>3325</td>\n",
       "      <td>2150</td>\n",
       "      <td>2000</td>\n",
       "      <td>3418</td>\n",
       "      <td>1300</td>\n",
       "      <td>1</td>\n",
       "    </tr>\n",
       "    <tr>\n",
       "      <th>7</th>\n",
       "      <td>779</td>\n",
       "      <td>1</td>\n",
       "      <td>0</td>\n",
       "      <td>1</td>\n",
       "      <td>94.0</td>\n",
       "      <td>167.0</td>\n",
       "      <td>2994</td>\n",
       "      <td>3252</td>\n",
       "      <td>2323</td>\n",
       "      <td>2491</td>\n",
       "      <td>...</td>\n",
       "      <td>378</td>\n",
       "      <td>72</td>\n",
       "      <td>58</td>\n",
       "      <td>750</td>\n",
       "      <td>5950</td>\n",
       "      <td>2025</td>\n",
       "      <td>3475</td>\n",
       "      <td>15328</td>\n",
       "      <td>10175</td>\n",
       "      <td>1</td>\n",
       "    </tr>\n",
       "  </tbody>\n",
       "</table>\n",
       "<p>8 rows × 27 columns</p>\n",
       "</div>"
      ],
      "text/plain": [
       "   time  race1  race2  map  supplyUsed1  supplyUsed2  totalIncome1  \\\n",
       "0   100      2      0    0         20.0         20.0          1040   \n",
       "1   621      2      0    0        133.0        166.0          3655   \n",
       "2   643      2      0    0         86.0        151.0          3498   \n",
       "3   721      2      0    0         79.0        170.0          3090   \n",
       "4   100      1      0    1         20.0         20.0           911   \n",
       "5   493      1      0    1        149.0        128.0          4574   \n",
       "6   507      1      0    1        110.0        121.0          4562   \n",
       "7   779      1      0    1         94.0        167.0          2994   \n",
       "\n",
       "   totalIncome2  mineralsIncome1  mineralsIncome2  ...  vespene2  \\\n",
       "0           883              951              727  ...        34   \n",
       "1          3566             2827             2603  ...       284   \n",
       "2          3431             2715             2491  ...       478   \n",
       "3          4109             2127             2967  ...       762   \n",
       "4           962              867              783  ...        38   \n",
       "5          2899             3723             2183  ...       631   \n",
       "6          2966             3667             2183  ...       294   \n",
       "7          3252             2323             2491  ...       378   \n",
       "\n",
       "   activeWorkers1  activeWorkers2  army1  army2  technology1  technology2  \\\n",
       "0              20              19      0      0          150          150   \n",
       "1              64              72   4325   5200         2750         3375   \n",
       "2              64              71    600   4450         3550         3575   \n",
       "3              65              73    175   5675         3150         4125   \n",
       "4              18              19      0      0            0          150   \n",
       "5              90              61   3650   4675         1700         2000   \n",
       "6              90              61   1550   3325         2150         2000   \n",
       "7              72              58    750   5950         2025         3475   \n",
       "\n",
       "   lostResources1  lostResources2  winner  \n",
       "0               0               0       1  \n",
       "1            3300            2124       1  \n",
       "2            7625            3799       1  \n",
       "3           12450            5624       1  \n",
       "4               0               0       1  \n",
       "5            1043               0       1  \n",
       "6            3418            1300       1  \n",
       "7           15328           10175       1  \n",
       "\n",
       "[8 rows x 27 columns]"
      ]
     },
     "execution_count": 25,
     "metadata": {},
     "output_type": "execute_result"
    }
   ],
   "source": [
    "dataPrime = pd.read_csv(\"archive/datasetPrime.csv\")\n",
    "dataPrime.head(len(dataPrime.index))"
   ]
  },
  {
   "cell_type": "code",
   "execution_count": 26,
   "id": "76aba94a",
   "metadata": {},
   "outputs": [],
   "source": [
    "def predictor(n):\n",
    "    data1 = list()\n",
    "    \n",
    "    for i in range(len(input_cols)):\n",
    "        data1.append(dataPrime.iloc[n][i])\n",
    "    \n",
    "    data1 = [float(item) for item in data1]\n",
    "    \n",
    "    for col in range(len(input_cols)):\n",
    "        data1[col] = (data1[col] - data[input_cols[col]].min()) / (data[input_cols[col]].max() - data[input_cols[col]].min())\n",
    "    \n",
    "    predict(torch.tensor([data1], dtype = torch.float32), verbose = True)"
   ]
  },
  {
   "cell_type": "markdown",
   "id": "71028233",
   "metadata": {},
   "source": [
    "- Rappelons que \"joueur 1\" désigne le joueur décrit par \"race1\", \"supplyUsed1...\". Les captures d'écran sont prises du point de vue du joueur 1 (Protoss dans la partie 1 et Zerg dans la partie 2).\n",
    "- 1ère partie à 1 min 40 (début de partie). On remarque que la probabilité de victoire du joueur est quasiment de 50 % (ou 50/100 = 0.5), en équilibre avec la probabilité de victoire de l'adversaire.\n",
    "\n",
    "<img src=\"files/figures/TvP1.jpg\" width=\"800px\"/>"
   ]
  },
  {
   "cell_type": "code",
   "execution_count": 27,
   "id": "824e0584",
   "metadata": {},
   "outputs": [
    {
     "name": "stdout",
     "output_type": "stream",
     "text": [
      "time: 100.0\n",
      "race1: 2.0\n",
      "race2: 0.0\n",
      "map: 0.0\n",
      "supplyUsed1: 20.0\n",
      "supplyUsed2: 20.0\n",
      "totalIncome1: 1040.0\n",
      "totalIncome2: 883.0\n",
      "mineralsIncome1: 951.0\n",
      "mineralsIncome2: 727.0\n",
      "vespeneIncome1: 89.0\n",
      "vespeneIncome2: 156.0\n",
      "totalResources1: 156.0\n",
      "totalResources2: 394.0\n",
      "minerals1: 120.0\n",
      "minerals2: 360.0\n",
      "vespene1: 36.0\n",
      "vespene2: 34.0\n",
      "activeWorkers1: 20.0\n",
      "activeWorkers2: 19.0\n",
      "army1: 0.0\n",
      "army2: 0.0\n",
      "technology1: 150.0\n",
      "technology2: 150.0\n",
      "lostResources1: 0.0\n",
      "lostResources2: 0.0\n",
      "\n",
      "Probabilité de victoire du joueur 1 : 0.5072\n"
     ]
    }
   ],
   "source": [
    "predictor(0)"
   ]
  },
  {
   "cell_type": "markdown",
   "id": "6d09033f",
   "metadata": {},
   "source": [
    "- 1ère partie à 10 min 21 (avant le combat). Le réseau de neurones prédit une mauvaise bataille pour le joueur Protoss. Sa probabilité que la partie se solde par une victoire pour lui est estimée à 20 %.\n",
    "\n",
    "<img src=\"files/figures/TvP2.jpg\" width=\"800px\"/>"
   ]
  },
  {
   "cell_type": "code",
   "execution_count": 28,
   "id": "d6d981cb",
   "metadata": {},
   "outputs": [
    {
     "name": "stdout",
     "output_type": "stream",
     "text": [
      "time: 621.0\n",
      "race1: 2.0\n",
      "race2: 0.0\n",
      "map: 0.0\n",
      "supplyUsed1: 133.0\n",
      "supplyUsed2: 166.0\n",
      "totalIncome1: 3655.0001\n",
      "totalIncome2: 3565.9999\n",
      "mineralsIncome1: 2827.0001\n",
      "mineralsIncome2: 2603.0001\n",
      "vespeneIncome1: 828.0\n",
      "vespeneIncome2: 963.0\n",
      "totalResources1: 1923.0001\n",
      "totalResources2: 552.0\n",
      "minerals1: 1460.0001\n",
      "minerals2: 268.0\n",
      "vespene1: 463.0\n",
      "vespene2: 284.0\n",
      "activeWorkers1: 64.0\n",
      "activeWorkers2: 72.0\n",
      "army1: 4325.0\n",
      "army2: 5199.9999\n",
      "technology1: 2750.0001\n",
      "technology2: 3375.0\n",
      "lostResources1: 3299.9999\n",
      "lostResources2: 2123.9999\n",
      "\n",
      "Probabilité de victoire du joueur 1 : 0.2039\n"
     ]
    }
   ],
   "source": [
    "predictor(1)"
   ]
  },
  {
   "cell_type": "markdown",
   "id": "c573e723",
   "metadata": {},
   "source": [
    "Image du déroulé du combat à titre indicatif.\n",
    "\n",
    "<img src=\"files/figures/TvP3.jpg\" width=\"800px\"/>"
   ]
  },
  {
   "cell_type": "markdown",
   "id": "52664769",
   "metadata": {},
   "source": [
    "- 1ère partie à 10 min 43 (après le combat). Après la destruction de son armée, les chances de victoire du joueur Protoss baissent encore. pour atteindre 8 %.\n",
    "\n",
    "<img src=\"files/figures/TvP4.jpg\" width=\"800px\"/>"
   ]
  },
  {
   "cell_type": "code",
   "execution_count": 29,
   "id": "8b79a7aa",
   "metadata": {},
   "outputs": [
    {
     "name": "stdout",
     "output_type": "stream",
     "text": [
      "time: 643.0\n",
      "race1: 2.0\n",
      "race2: 0.0\n",
      "map: 0.0\n",
      "supplyUsed1: 86.0\n",
      "supplyUsed2: 151.0\n",
      "totalIncome1: 3498.0001\n",
      "totalIncome2: 3431.0001\n",
      "mineralsIncome1: 2714.9999\n",
      "mineralsIncome2: 2491.0\n",
      "vespeneIncome1: 783.0\n",
      "vespeneIncome2: 940.0\n",
      "totalResources1: 1805.0\n",
      "totalResources2: 946.0\n",
      "minerals1: 1450.0\n",
      "minerals2: 468.0\n",
      "vespene1: 355.0\n",
      "vespene2: 478.0\n",
      "activeWorkers1: 64.0\n",
      "activeWorkers2: 71.0\n",
      "army1: 600.0\n",
      "army2: 4450.0\n",
      "technology1: 3550.0001\n",
      "technology2: 3575.0001\n",
      "lostResources1: 7625.0003\n",
      "lostResources2: 3799.0001\n",
      "\n",
      "Probabilité de victoire du joueur 1 : 0.0839\n"
     ]
    }
   ],
   "source": [
    "predictor(2)"
   ]
  },
  {
   "cell_type": "markdown",
   "id": "232ba637",
   "metadata": {},
   "source": [
    "- 1ère partie à 12 min 01 (fin de partie). Juste avant que le joueur n'abandonne, le réseau de neurones ne donne plus que 3 % de chances de victoire au joueur Protoss.\n",
    "\n",
    "<img src=\"files/figures/TvP5.jpg\" width=\"800px\"/>"
   ]
  },
  {
   "cell_type": "code",
   "execution_count": 30,
   "id": "6cf0c6b7",
   "metadata": {},
   "outputs": [
    {
     "name": "stdout",
     "output_type": "stream",
     "text": [
      "time: 721.0\n",
      "race1: 2.0\n",
      "race2: 0.0\n",
      "map: 0.0\n",
      "supplyUsed1: 79.0\n",
      "supplyUsed2: 170.0\n",
      "totalIncome1: 3090.0001\n",
      "totalIncome2: 4109.0001\n",
      "mineralsIncome1: 2127.0001\n",
      "mineralsIncome2: 2966.9999\n",
      "vespeneIncome1: 963.0\n",
      "vespeneIncome2: 1142.0\n",
      "totalResources1: 2823.9999\n",
      "totalResources2: 1575.0\n",
      "minerals1: 2235.0\n",
      "minerals2: 813.0\n",
      "vespene1: 589.0\n",
      "vespene2: 762.0\n",
      "activeWorkers1: 65.0\n",
      "activeWorkers2: 73.0\n",
      "army1: 175.0\n",
      "army2: 5675.0\n",
      "technology1: 3149.9999\n",
      "technology2: 4125.0001\n",
      "lostResources1: 12450.0006\n",
      "lostResources2: 5623.9999\n",
      "\n",
      "Probabilité de victoire du joueur 1 : 0.0314\n"
     ]
    }
   ],
   "source": [
    "predictor(3)"
   ]
  },
  {
   "cell_type": "markdown",
   "id": "7be82e7e",
   "metadata": {},
   "source": [
    "- 2ème partie à 1 min 40 (début de partie). Encore une fois, la situation des deux joueurs est relativement équivalente à ce moment de la partie avec une chance de victoire de 46 % pour le joueur Zerg. Cet écart intéressant peut témoigner soit d'erreurs faites par le joueur en ce début de partie, soit d'un déséquilibre comme une carte favorable au joueur Terran (adverse).\n",
    "\n",
    "<img src=\"files/figures/TvZ1.jpg\" width=\"800px\"/>"
   ]
  },
  {
   "cell_type": "code",
   "execution_count": 31,
   "id": "d84f18ab",
   "metadata": {},
   "outputs": [
    {
     "name": "stdout",
     "output_type": "stream",
     "text": [
      "time: 100.0\n",
      "race1: 1.0\n",
      "race2: 0.0\n",
      "map: 1.0\n",
      "supplyUsed1: 20.0\n",
      "supplyUsed2: 20.0\n",
      "totalIncome1: 911.0\n",
      "totalIncome2: 962.0\n",
      "mineralsIncome1: 867.0\n",
      "mineralsIncome2: 783.0\n",
      "vespeneIncome1: 44.0\n",
      "vespeneIncome2: 179.0\n",
      "totalResources1: 168.0\n",
      "totalResources2: 383.0\n",
      "minerals1: 160.0\n",
      "minerals2: 345.0\n",
      "vespene1: 8.0\n",
      "vespene2: 38.0\n",
      "activeWorkers1: 18.0\n",
      "activeWorkers2: 19.0\n",
      "army1: 0.0\n",
      "army2: 0.0\n",
      "technology1: 0.0\n",
      "technology2: 150.0\n",
      "lostResources1: 0.0\n",
      "lostResources2: 0.0\n",
      "\n",
      "Probabilité de victoire du joueur 1 : 0.4593\n"
     ]
    }
   ],
   "source": [
    "predictor(4)"
   ]
  },
  {
   "cell_type": "markdown",
   "id": "ae1c3654",
   "metadata": {},
   "source": [
    "- 2ème partie à 8 min 13 (avant le combat). Le réseau de neurones prédit une victoire du joueur Zerg avec 78 % de probabilité.\n",
    "\n",
    "<img src=\"files/figures/TvZ2.jpg\" width=\"800px\"/>"
   ]
  },
  {
   "cell_type": "code",
   "execution_count": 32,
   "id": "156e9c57",
   "metadata": {},
   "outputs": [
    {
     "name": "stdout",
     "output_type": "stream",
     "text": [
      "time: 493.0\n",
      "race1: 1.0\n",
      "race2: 0.0\n",
      "map: 1.0\n",
      "supplyUsed1: 149.0\n",
      "supplyUsed2: 128.0\n",
      "totalIncome1: 4573.9998\n",
      "totalIncome2: 2898.9999\n",
      "mineralsIncome1: 3723.0\n",
      "mineralsIncome2: 2182.9999\n",
      "vespeneIncome1: 851.0\n",
      "vespeneIncome2: 716.0\n",
      "totalResources1: 1075.0\n",
      "totalResources2: 1626.0\n",
      "minerals1: 406.0\n",
      "minerals2: 995.0\n",
      "vespene1: 669.0\n",
      "vespene2: 631.0\n",
      "activeWorkers1: 90.0\n",
      "activeWorkers2: 61.0\n",
      "army1: 3650.0\n",
      "army2: 4675.0001\n",
      "technology1: 1700.0\n",
      "technology2: 2000.0\n",
      "lostResources1: 1043.0\n",
      "lostResources2: 0.0\n",
      "\n",
      "Probabilité de victoire du joueur 1 : 0.7878\n"
     ]
    }
   ],
   "source": [
    "predictor(5)"
   ]
  },
  {
   "cell_type": "markdown",
   "id": "d62bfa67",
   "metadata": {},
   "source": [
    "Image du déroulé du combat à titre indicatif.\n",
    "\n",
    "<img src=\"files/figures/TvZ3.jpg\" width=\"800px\"/>"
   ]
  },
  {
   "cell_type": "markdown",
   "id": "f0151863",
   "metadata": {},
   "source": [
    "- 2ème partie à 8 min 27 (après le combat). La prédiction précédente se trouve déjouée par le joueur Terran qui a pris un meilleur engagement pour diverses raisons. Malgré tout, le joueur Zerg conserve de bonnes chances de gagner de 61 % grâce notamment à son économie (il possède 4 bases contre 3 pour le joueur Terran).\n",
    "\n",
    "<img src=\"files/figures/TvZ4.jpg\" width=\"800px\"/>"
   ]
  },
  {
   "cell_type": "code",
   "execution_count": 33,
   "id": "8dc0b937",
   "metadata": {},
   "outputs": [
    {
     "name": "stdout",
     "output_type": "stream",
     "text": [
      "time: 507.0\n",
      "race1: 1.0\n",
      "race2: 0.0\n",
      "map: 1.0\n",
      "supplyUsed1: 110.0\n",
      "supplyUsed2: 121.0\n",
      "totalIncome1: 4561.9998\n",
      "totalIncome2: 2966.0001\n",
      "mineralsIncome1: 3667.0\n",
      "mineralsIncome2: 2182.9999\n",
      "vespeneIncome1: 895.0\n",
      "vespeneIncome2: 783.0\n",
      "totalResources1: 2107.0\n",
      "totalResources2: 764.0\n",
      "minerals1: 1226.0\n",
      "minerals2: 470.0\n",
      "vespene1: 881.0\n",
      "vespene2: 294.0\n",
      "activeWorkers1: 90.0\n",
      "activeWorkers2: 61.0\n",
      "army1: 1550.0\n",
      "army2: 3325.0\n",
      "technology1: 2150.0\n",
      "technology2: 2000.0\n",
      "lostResources1: 3418.0002\n",
      "lostResources2: 1300.0\n",
      "\n",
      "Probabilité de victoire du joueur 1 : 0.6119\n"
     ]
    }
   ],
   "source": [
    "predictor(6)"
   ]
  },
  {
   "cell_type": "markdown",
   "id": "e1b50c95",
   "metadata": {},
   "source": [
    "- 2ème partie à 12 min 59 (fin de partie). Le joueur Zerg n'aura pas su tirer parti de son économie. On observe en effet à la fin de la partie qu'il possède beaucoup de ressources en réserve (indiquées sur le bord supérieur droit de l'image ci-dessous). Les ressources qu'il a récolté n'ont pas été réinvesties, conduisant à une probabilité de victoire de 6 % avant son abandon.\n",
    "\n",
    "<img src=\"files/figures/TvZ5.jpg\" width=\"800px\"/>"
   ]
  },
  {
   "cell_type": "code",
   "execution_count": 34,
   "id": "b2f774e8",
   "metadata": {},
   "outputs": [
    {
     "name": "stdout",
     "output_type": "stream",
     "text": [
      "time: 779.0\n",
      "race1: 1.0\n",
      "race2: 0.0\n",
      "map: 1.0\n",
      "supplyUsed1: 94.0\n",
      "supplyUsed2: 167.0\n",
      "totalIncome1: 2994.0\n",
      "totalIncome2: 3252.0\n",
      "mineralsIncome1: 2323.0\n",
      "mineralsIncome2: 2491.0\n",
      "vespeneIncome1: 671.0\n",
      "vespeneIncome2: 761.0\n",
      "totalResources1: 5730.0001\n",
      "totalResources2: 1143.0\n",
      "minerals1: 2748.9999\n",
      "minerals2: 765.0\n",
      "vespene1: 2981.0001\n",
      "vespene2: 378.0\n",
      "activeWorkers1: 72.0\n",
      "activeWorkers2: 58.0\n",
      "army1: 750.0\n",
      "army2: 5950.0001\n",
      "technology1: 2025.0\n",
      "technology2: 3474.9999\n",
      "lostResources1: 15327.9998\n",
      "lostResources2: 10175.0001\n",
      "\n",
      "Probabilité de victoire du joueur 1 : 0.0606\n"
     ]
    }
   ],
   "source": [
    "predictor(7)"
   ]
  }
 ],
 "metadata": {
  "kernelspec": {
   "display_name": "Python 3 (ipykernel)",
   "language": "python",
   "name": "python3"
  },
  "language_info": {
   "codemirror_mode": {
    "name": "ipython",
    "version": 3
   },
   "file_extension": ".py",
   "mimetype": "text/x-python",
   "name": "python",
   "nbconvert_exporter": "python",
   "pygments_lexer": "ipython3",
   "version": "3.9.13"
  }
 },
 "nbformat": 4,
 "nbformat_minor": 5
}
