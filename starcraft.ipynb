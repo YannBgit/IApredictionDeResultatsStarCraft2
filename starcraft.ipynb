{
 "cells": [
  {
   "cell_type": "markdown",
   "id": "ac35021e",
   "metadata": {},
   "source": [
    "# Réseau de neurone ``PyTorch``- Prédiction de vainqueur sur StarCraft 2"
   ]
  },
  {
   "cell_type": "markdown",
   "id": "bcbe3b65",
   "metadata": {},
   "source": [
    "Le dataset représente de nombreuses parties 1 contre 1 sur le jeu StarCraft 2.\n",
    "Pour chaque replay est enregistré à chaque temps T l'etat du jeu (26 champs) ainsi que le vainqueur (1 champ), indiqué en dernière colonne par 0 ou 1.\n",
    "\n",
    "<img src=\"files/figures/sc2_logo.png\" width=\"600px\"/>\n",
    "\n",
    "Nous définirons et entraînerons un réseau de neurones sur ce dataset. C'est un problème de régression car nous voulons une probabilité de victoire.<br>\n",
    "Nous commencerons par programmer notre réseau de neurones en affichant les données pertinentes, et nous passerons à une étude de cas pour concrétiser l'utilisation du programme."
   ]
  },
  {
   "cell_type": "markdown",
   "id": "933ac146",
   "metadata": {},
   "source": [
    "## 1. Librairies"
   ]
  },
  {
   "cell_type": "code",
   "execution_count": 1,
   "id": "6235ff87",
   "metadata": {
    "scrolled": true
   },
   "outputs": [],
   "source": [
    "import torch\n",
    "import pandas as pd\n",
    "import numpy as np\n",
    "import matplotlib.pyplot as plt\n",
    "import torch.nn as nn\n",
    "import torch.nn.functional as F\n",
    "import seaborn as sns\n",
    "\n",
    "from torch.utils.data import DataLoader, TensorDataset, random_split"
   ]
  },
  {
   "cell_type": "markdown",
   "id": "56800aaa",
   "metadata": {},
   "source": [
    "## 2. Exploration des datasets"
   ]
  },
  {
   "cell_type": "markdown",
   "id": "70011aad",
   "metadata": {},
   "source": [
    "- L'étape la plus longue pour arriver à entraîner notre IA a consisté en l'élaboration d'un dataset de qualité pour le sujet qui nous intéressait. Nous avons dû écrire un programme permettant de générer un grand nombre de rows (lignes) sur de nombreuses données permettant de décrire l'état d'une partie de StarCraft 2 en cours.<br>\n",
    "Le code source de ce parseur est disponible sur github :<br>\n",
    "https://github.com/YannBgit/SC2replayDatasetGenerator\n",
    "\n",
    "- Ce programme a pu être écrit grâce à l'API sc2reader qui permet d'extraire des données de fichiers SC2Replay. Son code source est également disponible :<br>\n",
    "https://github.com/ggtracker/sc2reader\n",
    "\n",
    "- Le parseur contient des fonctionnalités d'ergonomie et de randomisation de datasets. Sans entrer dans les détails (l'utilisation est détaillée dans le README), il est possible à partir d'un répertoire contenant un grand nombre de replays de choisir le nombre à utiliser pour le dataset, qu'un script va sélectionner aléatoirement dans le répertoire source.<br>\n",
    "- Le parseur va ensuite extraire des données de ces replays pour générer un grand nombre de rows correspondant chacun à un instant dans la partie étudiée.<br><br>\n",
    "- L'étape suivante a été de trouver un grand nombre de replays exploitables à donner au parseur. Heureusement, Blizzard, le studio produisant le jeu, a rendu public une base de données massive de replays anonymisés qui ont servi aux équipes de Google pour entraîner l'IA AlphaStar. Nous avons donc pu parser 30 000 replays.\n",
    "- Affichage des données."
   ]
  },
  {
   "cell_type": "code",
   "execution_count": 2,
   "id": "1293319b",
   "metadata": {
    "scrolled": true
   },
   "outputs": [
    {
     "data": {
      "text/html": [
       "<div>\n",
       "<style scoped>\n",
       "    .dataframe tbody tr th:only-of-type {\n",
       "        vertical-align: middle;\n",
       "    }\n",
       "\n",
       "    .dataframe tbody tr th {\n",
       "        vertical-align: top;\n",
       "    }\n",
       "\n",
       "    .dataframe thead th {\n",
       "        text-align: right;\n",
       "    }\n",
       "</style>\n",
       "<table border=\"1\" class=\"dataframe\">\n",
       "  <thead>\n",
       "    <tr style=\"text-align: right;\">\n",
       "      <th></th>\n",
       "      <th>time</th>\n",
       "      <th>race1</th>\n",
       "      <th>race2</th>\n",
       "      <th>map</th>\n",
       "      <th>supplyUsed1</th>\n",
       "      <th>supplyUsed2</th>\n",
       "      <th>totalIncome1</th>\n",
       "      <th>totalIncome2</th>\n",
       "      <th>mineralsIncome1</th>\n",
       "      <th>mineralsIncome2</th>\n",
       "      <th>...</th>\n",
       "      <th>vespene2</th>\n",
       "      <th>activeWorkers1</th>\n",
       "      <th>activeWorkers2</th>\n",
       "      <th>army1</th>\n",
       "      <th>army2</th>\n",
       "      <th>technology1</th>\n",
       "      <th>technology2</th>\n",
       "      <th>lostResources1</th>\n",
       "      <th>lostResources2</th>\n",
       "      <th>winner</th>\n",
       "    </tr>\n",
       "  </thead>\n",
       "  <tbody>\n",
       "    <tr>\n",
       "      <th>0</th>\n",
       "      <td>7</td>\n",
       "      <td>0</td>\n",
       "      <td>0</td>\n",
       "      <td>0</td>\n",
       "      <td>13.0</td>\n",
       "      <td>13.0</td>\n",
       "      <td>210</td>\n",
       "      <td>150</td>\n",
       "      <td>210</td>\n",
       "      <td>150</td>\n",
       "      <td>...</td>\n",
       "      <td>0</td>\n",
       "      <td>12</td>\n",
       "      <td>12</td>\n",
       "      <td>0</td>\n",
       "      <td>0</td>\n",
       "      <td>0</td>\n",
       "      <td>0</td>\n",
       "      <td>0</td>\n",
       "      <td>0</td>\n",
       "      <td>0</td>\n",
       "    </tr>\n",
       "    <tr>\n",
       "      <th>1</th>\n",
       "      <td>14</td>\n",
       "      <td>0</td>\n",
       "      <td>0</td>\n",
       "      <td>0</td>\n",
       "      <td>14.0</td>\n",
       "      <td>14.0</td>\n",
       "      <td>480</td>\n",
       "      <td>480</td>\n",
       "      <td>480</td>\n",
       "      <td>480</td>\n",
       "      <td>...</td>\n",
       "      <td>0</td>\n",
       "      <td>13</td>\n",
       "      <td>13</td>\n",
       "      <td>0</td>\n",
       "      <td>0</td>\n",
       "      <td>0</td>\n",
       "      <td>0</td>\n",
       "      <td>0</td>\n",
       "      <td>0</td>\n",
       "      <td>0</td>\n",
       "    </tr>\n",
       "    <tr>\n",
       "      <th>2</th>\n",
       "      <td>21</td>\n",
       "      <td>0</td>\n",
       "      <td>0</td>\n",
       "      <td>0</td>\n",
       "      <td>14.0</td>\n",
       "      <td>14.0</td>\n",
       "      <td>520</td>\n",
       "      <td>500</td>\n",
       "      <td>520</td>\n",
       "      <td>500</td>\n",
       "      <td>...</td>\n",
       "      <td>0</td>\n",
       "      <td>13</td>\n",
       "      <td>13</td>\n",
       "      <td>0</td>\n",
       "      <td>0</td>\n",
       "      <td>0</td>\n",
       "      <td>0</td>\n",
       "      <td>0</td>\n",
       "      <td>0</td>\n",
       "      <td>0</td>\n",
       "    </tr>\n",
       "  </tbody>\n",
       "</table>\n",
       "<p>3 rows × 27 columns</p>\n",
       "</div>"
      ],
      "text/plain": [
       "   time  race1  race2  map  supplyUsed1  supplyUsed2  totalIncome1  \\\n",
       "0     7      0      0    0         13.0         13.0           210   \n",
       "1    14      0      0    0         14.0         14.0           480   \n",
       "2    21      0      0    0         14.0         14.0           520   \n",
       "\n",
       "   totalIncome2  mineralsIncome1  mineralsIncome2  ...  vespene2  \\\n",
       "0           150              210              150  ...         0   \n",
       "1           480              480              480  ...         0   \n",
       "2           500              520              500  ...         0   \n",
       "\n",
       "   activeWorkers1  activeWorkers2  army1  army2  technology1  technology2  \\\n",
       "0              12              12      0      0            0            0   \n",
       "1              13              13      0      0            0            0   \n",
       "2              13              13      0      0            0            0   \n",
       "\n",
       "   lostResources1  lostResources2  winner  \n",
       "0               0               0       0  \n",
       "1               0               0       0  \n",
       "2               0               0       0  \n",
       "\n",
       "[3 rows x 27 columns]"
      ]
     },
     "execution_count": 2,
     "metadata": {},
     "output_type": "execute_result"
    }
   ],
   "source": [
    "data = pd.read_csv(\"archive/dataset.csv\")\n",
    "data.head(3)"
   ]
  },
  {
   "cell_type": "code",
   "execution_count": 3,
   "id": "3d976b2e",
   "metadata": {},
   "outputs": [
    {
     "data": {
      "text/plain": [
       "time                 int64\n",
       "race1                int64\n",
       "race2                int64\n",
       "map                  int64\n",
       "supplyUsed1        float64\n",
       "supplyUsed2        float64\n",
       "totalIncome1         int64\n",
       "totalIncome2         int64\n",
       "mineralsIncome1      int64\n",
       "mineralsIncome2      int64\n",
       "vespeneIncome1       int64\n",
       "vespeneIncome2       int64\n",
       "totalResources1      int64\n",
       "totalResources2      int64\n",
       "minerals1            int64\n",
       "minerals2            int64\n",
       "vespene1             int64\n",
       "vespene2             int64\n",
       "activeWorkers1       int64\n",
       "activeWorkers2       int64\n",
       "army1                int64\n",
       "army2                int64\n",
       "technology1          int64\n",
       "technology2          int64\n",
       "lostResources1       int64\n",
       "lostResources2       int64\n",
       "winner               int64\n",
       "dtype: object"
      ]
     },
     "execution_count": 3,
     "metadata": {},
     "output_type": "execute_result"
    }
   ],
   "source": [
    "data.dtypes"
   ]
  },
  {
   "cell_type": "code",
   "execution_count": 4,
   "id": "cff1c1b2",
   "metadata": {},
   "outputs": [
    {
     "data": {
      "text/plain": [
       "2178246"
      ]
     },
     "execution_count": 4,
     "metadata": {},
     "output_type": "execute_result"
    }
   ],
   "source": [
    "len(data.index)"
   ]
  },
  {
   "cell_type": "code",
   "execution_count": 5,
   "id": "03c68be8",
   "metadata": {},
   "outputs": [
    {
     "data": {
      "text/plain": [
       "27"
      ]
     },
     "execution_count": 5,
     "metadata": {},
     "output_type": "execute_result"
    }
   ],
   "source": [
    "len(data.columns)"
   ]
  },
  {
   "cell_type": "code",
   "execution_count": 6,
   "id": "cec1468c",
   "metadata": {
    "scrolled": true
   },
   "outputs": [
    {
     "data": {
      "text/plain": [
       "1    802067\n",
       "0    749308\n",
       "2    626871\n",
       "Name: race1, dtype: int64"
      ]
     },
     "execution_count": 6,
     "metadata": {},
     "output_type": "execute_result"
    }
   ],
   "source": [
    "data.race1.value_counts()"
   ]
  },
  {
   "cell_type": "markdown",
   "id": "60515d6b",
   "metadata": {},
   "source": [
    "- Visualisation des relations entre les colonnes."
   ]
  },
  {
   "cell_type": "code",
   "execution_count": 7,
   "id": "b013b9db",
   "metadata": {},
   "outputs": [
    {
     "data": {
      "text/plain": [
       "<AxesSubplot:>"
      ]
     },
     "execution_count": 7,
     "metadata": {},
     "output_type": "execute_result"
    },
    {
     "data": {
      "image/png": "[encoded data removed]",
      "text/plain": [
       "<Figure size 640x480 with 2 Axes>"
      ]
     },
     "metadata": {},
     "output_type": "display_data"
    }
   ],
   "source": [
    "sns.heatmap(data.corr())"
   ]
  },
  {
   "cell_type": "markdown",
   "id": "39072afb",
   "metadata": {},
   "source": [
    "- Création des ensembles d'entraînement, d'évaluation et de test. <br>\n",
    "A noter que le préprocessing a été géré par le parseur en amont. Seuls des nombres (int ou float) sont écrits dans les colonnes."
   ]
  },
  {
   "cell_type": "code",
   "execution_count": 8,
   "id": "da2cc6fd",
   "metadata": {},
   "outputs": [],
   "source": [
    "def dataToArrays(data, columns):\n",
    "    dataCopy = data.copy(deep = True)\n",
    "    \n",
    "    for column in columns:\n",
    "        dataCopy[column] = (dataCopy[column] - dataCopy[column].min()) / (dataCopy[column].max() - dataCopy[column].min())\n",
    "            \n",
    "    inputArray = dataCopy[columns].to_numpy()\n",
    "    outputArray = dataCopy[outputColumns].to_numpy().reshape(-1, 1)\n",
    "        \n",
    "    return inputArray, outputArray"
   ]
  },
  {
   "cell_type": "code",
   "execution_count": 9,
   "id": "ac2a3a33",
   "metadata": {},
   "outputs": [],
   "source": [
    "inputColumns = [title for title in data.columns if title != \"winner\"]\n",
    "outputColumns = [\"winner\"]\n",
    "\n",
    "inputArray, outputArray = dataToArrays(data, inputColumns)\n",
    "\n",
    "inputs = torch.tensor(inputArray, dtype = torch.float32)\n",
    "outputs = torch.tensor(outputArray, dtype = torch.float32)\n",
    "\n",
    "dataset = TensorDataset(inputs, outputs)\n",
    "\n",
    "validationSize = int(0.2 * len(dataset))\n",
    "trainSize = len(dataset) - validationSize\n",
    "trainDataset, validationDataset = random_split(dataset, [trainSize, validationSize])"
   ]
  },
  {
   "cell_type": "markdown",
   "id": "def10bdf",
   "metadata": {},
   "source": [
    "- Appel des dataloader."
   ]
  },
  {
   "cell_type": "code",
   "execution_count": 10,
   "id": "8e61c37a",
   "metadata": {},
   "outputs": [],
   "source": [
    "batchSize = 64\n",
    "\n",
    "trainLoader = DataLoader(trainDataset, batchSize, shuffle = True)\n",
    "validationLoader = DataLoader(validationDataset, batchSize, shuffle = True)\n",
    "\n",
    "nbInputs = len(inputColumns)\n",
    "nbOutputs = 1"
   ]
  },
  {
   "cell_type": "markdown",
   "id": "5375e22f",
   "metadata": {},
   "source": [
    "- Définition de la fonction de calcul de précision."
   ]
  },
  {
   "cell_type": "code",
   "execution_count": 11,
   "id": "cc5c5bf7",
   "metadata": {},
   "outputs": [],
   "source": [
    "def accuracy(outputs, labels):\n",
    "    return torch.tensor(torch.sum(outputs.round() == labels).item() / len(outputs))"
   ]
  },
  {
   "cell_type": "markdown",
   "id": "3d3fe9c1",
   "metadata": {},
   "source": [
    "- Définition du modèle."
   ]
  },
  {
   "cell_type": "code",
   "execution_count": 12,
   "id": "2cdfce77",
   "metadata": {},
   "outputs": [],
   "source": [
    "layerSize = 128\n",
    "\n",
    "class Model(nn.Module):\n",
    "    def __init__(self):\n",
    "        super().__init__()        \n",
    "        self.fc1 = nn.Linear(nbInputs, layerSize)\n",
    "        self.fc2 = nn.Linear(layerSize, layerSize)\n",
    "        self.fc3 = nn.Linear(layerSize, nbOutputs)\n",
    "        \n",
    "    def forward(self, x):\n",
    "        x = self.fc1(x)\n",
    "        x = nn.ReLU()(x)\n",
    "        \n",
    "        x = self.fc2(x)\n",
    "        x = nn.ReLU()(x)\n",
    "        \n",
    "        x = self.fc3(x)\n",
    "        \n",
    "        return torch.sigmoid(x)\n",
    "    \n",
    "    def trainingStep(self, batch):\n",
    "        inputs, labels = batch \n",
    "        out = self(inputs)\n",
    "        currentLoss = F.binary_cross_entropy(out, labels)\n",
    "        \n",
    "        return currentLoss\n",
    "    \n",
    "    def validationStep(self, batch):\n",
    "        inputs, labels = batch\n",
    "        out = self(inputs)\n",
    "        currentLoss = F.binary_cross_entropy(out, labels)\n",
    "        currentAccuracy = accuracy(out, labels)\n",
    "        \n",
    "        return {\"Validation loss\" : currentLoss, \"Validation accuracy\" : currentAccuracy}\n",
    "    \n",
    "    def validationEpochEnd(self, outputs):\n",
    "        batchLosses = [x[\"Validation loss\"] for x in outputs]\n",
    "        epochLoss = torch.stack(batchLosses).mean()\n",
    "        batchAccuracy = [x[\"Validation accuracy\"] for x in outputs]\n",
    "        epochAccuracy = torch.stack(batchAccuracy).mean()\n",
    "        \n",
    "        return {\"Validation loss\" : epochLoss.item(), \"Validation accuracy\" : epochAccuracy.item()}\n",
    "    \n",
    "    def epochEnd(self, epoch, result):\n",
    "        print(\"Epoch [{}], Validation loss : {:.4f}, Validation accuracy : {:.4f}\".format(epoch, result[\"Validation loss\"], result[\"Validation accuracy\"]))\n",
    "    \n",
    "model = Model()"
   ]
  },
  {
   "cell_type": "markdown",
   "id": "2621c2d4",
   "metadata": {},
   "source": [
    "- Affichage des paramètres du modèle."
   ]
  },
  {
   "cell_type": "code",
   "execution_count": 13,
   "id": "4c11d27a",
   "metadata": {},
   "outputs": [
    {
     "data": {
      "text/plain": [
       "[Parameter containing:\n",
       " tensor([[ 0.0833,  0.1270, -0.0551,  ...,  0.1294,  0.0580, -0.0779],\n",
       "         [ 0.1828,  0.0524, -0.1302,  ...,  0.1245, -0.1414,  0.0979],\n",
       "         [-0.1528,  0.0783, -0.0061,  ..., -0.1414, -0.0236, -0.0182],\n",
       "         ...,\n",
       "         [ 0.1130, -0.1759, -0.1652,  ..., -0.0158,  0.0885, -0.0122],\n",
       "         [ 0.1136, -0.0767,  0.0248,  ...,  0.0985, -0.0007,  0.1517],\n",
       "         [ 0.0137,  0.1010,  0.0180,  ..., -0.0200, -0.0906,  0.0220]],\n",
       "        requires_grad=True),\n",
       " Parameter containing:\n",
       " tensor([ 0.0550,  0.0445, -0.1699,  0.0760,  0.0474, -0.0572, -0.0274, -0.0907,\n",
       "          0.0723, -0.1550, -0.1158, -0.1800,  0.1384,  0.1674,  0.0880, -0.0775,\n",
       "         -0.1651, -0.1460,  0.0146, -0.0793, -0.1854, -0.1360, -0.0807,  0.1204,\n",
       "         -0.1589,  0.1738,  0.1125,  0.0472,  0.0503,  0.0605,  0.1305, -0.1619,\n",
       "          0.0528, -0.0214,  0.0386, -0.1042, -0.0470,  0.1854,  0.1093, -0.1037,\n",
       "         -0.0386, -0.1242,  0.1466, -0.0935,  0.0220, -0.0623,  0.1264, -0.1717,\n",
       "         -0.0879,  0.1464, -0.0379,  0.0568, -0.1586,  0.0161, -0.1453,  0.1499,\n",
       "          0.1398, -0.0487, -0.1573, -0.0946, -0.1863, -0.1236, -0.0596, -0.1347,\n",
       "         -0.0440, -0.1056, -0.0674, -0.1224, -0.1941,  0.0480, -0.0643, -0.1082,\n",
       "         -0.0717, -0.0724, -0.1222,  0.0414,  0.0801,  0.1230,  0.1375,  0.1381,\n",
       "          0.0318,  0.0700, -0.0445, -0.0676,  0.0071, -0.1056, -0.0900,  0.0933,\n",
       "         -0.0920,  0.0623, -0.0689,  0.0425,  0.1432, -0.0549, -0.1368, -0.1343,\n",
       "         -0.0072, -0.0380,  0.0082, -0.1477, -0.0509, -0.1048, -0.1793, -0.0995,\n",
       "         -0.1397, -0.1469,  0.0742,  0.1292,  0.1107, -0.0036, -0.1882, -0.1682,\n",
       "         -0.1307, -0.1805,  0.1261,  0.0110, -0.1800, -0.0486, -0.1266, -0.0630,\n",
       "         -0.1461,  0.1498, -0.0925,  0.0525,  0.1386, -0.0023,  0.0648, -0.1471],\n",
       "        requires_grad=True),\n",
       " Parameter containing:\n",
       " tensor([[ 0.0475, -0.0655, -0.0458,  ..., -0.0090,  0.0688,  0.0188],\n",
       "         [ 0.0316, -0.0512, -0.0693,  ..., -0.0403,  0.0596, -0.0217],\n",
       "         [-0.0069,  0.0771,  0.0017,  ..., -0.0144,  0.0443,  0.0330],\n",
       "         ...,\n",
       "         [ 0.0410, -0.0274, -0.0610,  ..., -0.0715,  0.0686,  0.0579],\n",
       "         [ 0.0028,  0.0786,  0.0035,  ...,  0.0843,  0.0840,  0.0757],\n",
       "         [ 0.0059,  0.0565,  0.0822,  ..., -0.0070, -0.0624, -0.0442]],\n",
       "        requires_grad=True),\n",
       " Parameter containing:\n",
       " tensor([ 3.4687e-02, -7.2841e-04,  8.7315e-02,  4.6183e-02, -6.7927e-02,\n",
       "         -2.1770e-02,  8.6171e-02, -5.6147e-02, -1.9902e-02, -5.1772e-03,\n",
       "         -4.2066e-02, -7.4591e-02,  4.6751e-02,  8.3408e-02, -1.0401e-02,\n",
       "         -8.3664e-02,  5.6875e-02, -7.1600e-02, -5.0574e-02, -5.4087e-02,\n",
       "         -2.2381e-02, -4.9513e-02, -5.6689e-02,  5.0316e-02, -7.9643e-02,\n",
       "          3.0482e-02,  5.2507e-02,  2.1560e-02,  3.9090e-02,  8.5597e-02,\n",
       "         -2.6958e-02,  7.1216e-02, -5.3554e-02, -6.5594e-02,  4.2420e-03,\n",
       "         -9.0123e-03,  2.3462e-05,  6.1993e-02,  7.5566e-02, -2.5894e-02,\n",
       "          2.8465e-02,  2.8822e-03,  1.7616e-02,  4.9184e-04,  9.4451e-03,\n",
       "          5.3351e-02, -4.1319e-02,  7.0284e-02, -7.5335e-02,  5.5003e-02,\n",
       "         -4.4059e-02, -3.7291e-02,  7.0330e-02,  4.5737e-02,  1.1430e-02,\n",
       "         -1.6408e-02, -7.2432e-02,  6.3604e-02,  4.6485e-02, -6.5232e-02,\n",
       "         -2.8198e-03,  4.5236e-02, -4.4863e-02,  8.3911e-02, -6.7523e-02,\n",
       "         -8.7545e-02,  6.4879e-02, -7.8172e-02,  8.5605e-02, -1.1658e-02,\n",
       "         -4.1202e-02, -8.4468e-02, -4.8392e-02, -1.7184e-02,  2.0356e-02,\n",
       "          5.3090e-02, -7.0707e-02, -6.9488e-03,  3.9440e-02,  4.1349e-02,\n",
       "         -6.1794e-02, -7.8436e-02,  8.7634e-02, -5.4752e-02, -4.4738e-03,\n",
       "          6.4539e-02,  6.4386e-02, -3.8443e-02,  4.4065e-02,  5.8863e-02,\n",
       "         -1.0218e-02, -4.0867e-02,  2.8638e-02, -7.2234e-02, -4.1825e-02,\n",
       "          6.4536e-02, -1.1363e-02, -1.1376e-02, -4.6952e-02,  5.7537e-02,\n",
       "         -4.8224e-02, -4.6801e-02, -2.9819e-02,  3.2601e-02, -1.4737e-02,\n",
       "         -8.4880e-02,  5.7943e-02,  1.5740e-02,  6.5021e-02,  3.4112e-02,\n",
       "         -4.6933e-02, -7.7311e-02,  2.3336e-02, -5.0350e-02, -6.1421e-02,\n",
       "          5.0045e-02, -6.8580e-02, -3.3050e-02,  4.0286e-02,  4.3746e-02,\n",
       "          3.4550e-02, -2.2177e-02, -4.4802e-02,  8.4128e-02, -1.6967e-02,\n",
       "          3.0710e-02, -3.0083e-02, -6.7116e-02], requires_grad=True),\n",
       " Parameter containing:\n",
       " tensor([[-0.0514, -0.0336,  0.0316,  0.0645, -0.0041,  0.0215, -0.0514,  0.0484,\n",
       "           0.0874,  0.0368, -0.0093, -0.0818, -0.0436,  0.0849,  0.0302,  0.0801,\n",
       "           0.0334,  0.0533,  0.0159, -0.0238,  0.0028, -0.0785, -0.0506, -0.0421,\n",
       "          -0.0358,  0.0736, -0.0019, -0.0745,  0.0744, -0.0080, -0.0356, -0.0192,\n",
       "          -0.0822, -0.0447,  0.0352,  0.0852,  0.0182,  0.0355, -0.0462,  0.0125,\n",
       "          -0.0623, -0.0491, -0.0294,  0.0468,  0.0636,  0.0029, -0.0451,  0.0399,\n",
       "          -0.0164,  0.0871, -0.0294, -0.0597, -0.0477,  0.0302, -0.0601, -0.0723,\n",
       "          -0.0283, -0.0753, -0.0434,  0.0018,  0.0507, -0.0402, -0.0805,  0.0555,\n",
       "          -0.0634, -0.0685, -0.0382,  0.0184,  0.0827,  0.0383, -0.0639,  0.0805,\n",
       "          -0.0847,  0.0254,  0.0071, -0.0586, -0.0041,  0.0785, -0.0181, -0.0546,\n",
       "           0.0321, -0.0581, -0.0725,  0.0620, -0.0797, -0.0320, -0.0149,  0.0132,\n",
       "          -0.0578, -0.0041,  0.0469,  0.0259, -0.0883,  0.0687,  0.0629,  0.0626,\n",
       "          -0.0205,  0.0740, -0.0483,  0.0580, -0.0419,  0.0125, -0.0445, -0.0236,\n",
       "          -0.0749, -0.0432, -0.0873, -0.0748, -0.0068,  0.0176,  0.0254, -0.0778,\n",
       "          -0.0475, -0.0295,  0.0262,  0.0261,  0.0435,  0.0106, -0.0704, -0.0357,\n",
       "           0.0470, -0.0315, -0.0734,  0.0659,  0.0536, -0.0099,  0.0084,  0.0186]],\n",
       "        requires_grad=True),\n",
       " Parameter containing:\n",
       " tensor([-0.0818], requires_grad=True)]"
      ]
     },
     "execution_count": 13,
     "metadata": {},
     "output_type": "execute_result"
    }
   ],
   "source": [
    "list(model.parameters())"
   ]
  },
  {
   "cell_type": "code",
   "execution_count": 14,
   "id": "140de29f",
   "metadata": {},
   "outputs": [],
   "source": [
    "@torch.no_grad()\n",
    "def evaluate(model, valLoader):\n",
    "    outputs = [model.validationStep(batch) for batch in validationLoader]\n",
    "    \n",
    "    return model.validationEpochEnd(outputs)\n",
    "\n",
    "\n",
    "def fitOneCycle(epochs, learningRate, model, trainLoader, valLoader):\n",
    "    history = []\n",
    "    \n",
    "    optimizer = torch.optim.SGD(model.parameters(), learningRate)\n",
    "    \n",
    "    for epoch in range(epochs):\n",
    "        model.train()\n",
    "        trainLosses = []\n",
    "        \n",
    "        for batch in trainLoader:\n",
    "            loss = model.trainingStep(batch)\n",
    "            trainLosses.append(loss)\n",
    "            loss.backward()\n",
    "            \n",
    "            optimizer.step()\n",
    "            optimizer.zero_grad()\n",
    "        \n",
    "        result = evaluate(model, validationLoader)\n",
    "        result[\"Train loss\"] = torch.stack(trainLosses).mean().item()\n",
    "        model.epochEnd(epoch, result)\n",
    "        history.append(result)\n",
    "    \n",
    "    return history"
   ]
  },
  {
   "cell_type": "markdown",
   "id": "cd1c685c",
   "metadata": {},
   "source": [
    "- Paramétrage et entraînement du réseau de neurones."
   ]
  },
  {
   "cell_type": "code",
   "execution_count": 15,
   "id": "02b81ea5",
   "metadata": {},
   "outputs": [
    {
     "name": "stdout",
     "output_type": "stream",
     "text": [
      "Epoch [0], Validation loss : 0.6888, Validation accuracy : 0.5292\n",
      "Epoch [1], Validation loss : 0.6838, Validation accuracy : 0.5463\n",
      "Epoch [2], Validation loss : 0.6678, Validation accuracy : 0.6073\n",
      "Epoch [3], Validation loss : 0.6324, Validation accuracy : 0.6395\n",
      "Epoch [4], Validation loss : 0.6060, Validation accuracy : 0.6537\n",
      "Epoch [5], Validation loss : 0.5956, Validation accuracy : 0.6590\n",
      "Epoch [6], Validation loss : 0.5904, Validation accuracy : 0.6636\n",
      "Epoch [7], Validation loss : 0.5873, Validation accuracy : 0.6661\n",
      "Epoch [8], Validation loss : 0.5851, Validation accuracy : 0.6667\n",
      "Epoch [9], Validation loss : 0.5833, Validation accuracy : 0.6684\n"
     ]
    }
   ],
   "source": [
    "history = [evaluate(model, validationLoader)]\n",
    "\n",
    "nbEpochs = 10\n",
    "learningRate = 0.001\n",
    "\n",
    "history += fitOneCycle(nbEpochs, learningRate, model, trainLoader, validationLoader)"
   ]
  },
  {
   "cell_type": "markdown",
   "id": "fb62ba30",
   "metadata": {},
   "source": [
    "- Définition des fonctions d'affichage de la précision, de la loss et du taux d'apprentissage."
   ]
  },
  {
   "cell_type": "code",
   "execution_count": 16,
   "id": "947acaff",
   "metadata": {},
   "outputs": [],
   "source": [
    "def plotAccuracies(history):\n",
    "    accuracies = [x[\"Validation accuracy\"] for x in history]\n",
    "    plt.plot(accuracies, \"-x\")\n",
    "    plt.xlabel(\"Epoch\")\n",
    "    plt.ylabel(\"Accuracy\")\n",
    "    plt.title(\"Accuracy / Number of epochs\");\n",
    "\n",
    "def plotLosses(history):\n",
    "    trainLosses = [x.get(\"Train loss\") for x in history]\n",
    "    valLosses = [x[\"Validation loss\"] for x in history]\n",
    "    plt.plot(trainLosses, \"-bx\")\n",
    "    plt.plot(valLosses, \"-rx\")\n",
    "    plt.xlabel(\"Epoch\")\n",
    "    plt.ylabel(\"Loss\")\n",
    "    plt.legend([\"Training\", \"Validation\"])\n",
    "    plt.title(\"Loss / Number of epochs\");"
   ]
  },
  {
   "cell_type": "code",
   "execution_count": 17,
   "id": "7fe03003",
   "metadata": {},
   "outputs": [
    {
     "data": {
      "image/png": "[encoded data removed]",
      "text/plain": [
       "<Figure size 640x480 with 1 Axes>"
      ]
     },
     "metadata": {},
     "output_type": "display_data"
    }
   ],
   "source": [
    "plotAccuracies(history)"
   ]
  },
  {
   "cell_type": "code",
   "execution_count": 18,
   "id": "08b815a1",
   "metadata": {},
   "outputs": [
    {
     "data": {
      "image/png": "[encoded data removed]",
      "text/plain": [
       "<Figure size 640x480 with 1 Axes>"
      ]
     },
     "metadata": {},
     "output_type": "display_data"
    }
   ],
   "source": [
    "plotLosses(history)"
   ]
  },
  {
   "cell_type": "markdown",
   "id": "4a1a87a6",
   "metadata": {},
   "source": [
    "- Explications :<br>\n",
    "Notre accuracy se stabilise vers 0.67, ce qui, bien que meilleur que l'aléatoire de 0.50, reste bas. Ce constat s'explique cependant simplement. En effet, pour une bonne partie de la durée des replays étudiés, il est difficile de prévoir quel joueur va gagner. Par exemple, en début de partie, peu de choses se passent et les joueurs se contentent bien souvent de développer leur économie, ne laissant pas de joueur obtenir un quelconque avantage sur l'autre.<br>\n",
    "Nous pouvons en revanche nous attendre à de bonne performances une fois que des batailles commencent à se dérouler, et de manière générale lorsque la partie se rapproche de la fin.<br>\n",
    "Ces cas seront clairement expliqués lors de l'étude de cas plus bas."
   ]
  },
  {
   "cell_type": "code",
   "execution_count": 19,
   "id": "fbe9551c",
   "metadata": {},
   "outputs": [
    {
     "data": {
      "text/plain": [
       "{'Validation loss': 0.5833373665809631,\n",
       " 'Validation accuracy': 0.6682923436164856}"
      ]
     },
     "execution_count": 19,
     "metadata": {},
     "output_type": "execute_result"
    }
   ],
   "source": [
    "result = evaluate(model, validationLoader)\n",
    "result"
   ]
  },
  {
   "cell_type": "code",
   "execution_count": 20,
   "id": "b4471f1b",
   "metadata": {},
   "outputs": [
    {
     "data": {
      "text/plain": [
       "OrderedDict([('fc1.weight',\n",
       "              tensor([[ 0.0898,  0.1230, -0.0011,  ...,  0.0615,  0.0175, -0.0257],\n",
       "                      [ 0.1833,  0.0427, -0.1107,  ...,  0.1452, -0.1288,  0.0816],\n",
       "                      [-0.1528,  0.0783, -0.0061,  ..., -0.1414, -0.0236, -0.0182],\n",
       "                      ...,\n",
       "                      [ 0.1131, -0.1772, -0.1656,  ..., -0.0158,  0.0885, -0.0109],\n",
       "                      [ 0.1167, -0.0744,  0.0305,  ...,  0.0942, -0.0019,  0.1588],\n",
       "                      [ 0.0136,  0.1000,  0.0172,  ..., -0.0200, -0.0906,  0.0219]])),\n",
       "             ('fc1.bias',\n",
       "              tensor([ 1.4861e-01,  7.6167e-02, -1.6993e-01,  1.5095e-01,  6.6371e-02,\n",
       "                      -5.7233e-02, -6.5408e-03, -8.9739e-02,  1.0522e-01, -1.5474e-01,\n",
       "                      -1.1574e-01, -1.0047e-01,  1.7382e-01,  2.1212e-01,  9.2693e-02,\n",
       "                      -8.8556e-02, -1.6672e-01, -1.4591e-01,  7.4551e-02, -7.2589e-02,\n",
       "                      -1.8552e-01, -8.1734e-02, -9.7885e-02,  1.1008e-01, -1.6047e-01,\n",
       "                       1.6726e-01,  1.2623e-01,  6.3626e-02,  7.7147e-02,  6.0430e-02,\n",
       "                       1.3957e-01, -1.6390e-01,  6.0927e-02, -4.3880e-03,  4.9263e-02,\n",
       "                      -1.0079e-01, -2.3824e-02,  1.8009e-01,  8.3219e-02, -3.0331e-02,\n",
       "                      -3.7508e-02, -1.2343e-01,  1.1391e-01, -1.0041e-01,  1.5496e-02,\n",
       "                       2.1784e-02,  1.7534e-01, -1.6072e-01, -9.4577e-02,  1.5540e-01,\n",
       "                       6.8288e-02,  7.2609e-02, -1.5854e-01,  4.3181e-02, -1.5396e-01,\n",
       "                       1.5916e-01,  1.5764e-01, -9.2634e-02, -1.5729e-01, -5.9788e-03,\n",
       "                      -1.8386e-01, -1.2453e-01, -5.0534e-02, -1.3465e-01,  7.9046e-02,\n",
       "                      -1.0537e-01, -7.6244e-02, -7.1608e-02, -1.9327e-01,  4.9348e-02,\n",
       "                      -2.1363e-02, -1.0805e-01, -4.9487e-02, -9.9946e-02, -1.6294e-01,\n",
       "                       4.3227e-02,  1.1180e-01,  9.2712e-02,  1.5129e-01,  1.5107e-01,\n",
       "                       5.2195e-02,  1.4284e-01,  4.1516e-02, -6.6693e-02,  2.0665e-02,\n",
       "                       7.7138e-05,  2.8389e-02,  1.4623e-01, -9.1058e-02,  4.3019e-02,\n",
       "                      -2.3619e-02, -1.0052e-02,  1.4202e-01, -5.4326e-02, -1.6428e-01,\n",
       "                      -1.3632e-01, -2.5662e-02,  6.5572e-02,  3.1689e-03, -1.2654e-01,\n",
       "                      -8.9782e-03, -1.0730e-01, -1.7132e-01, -3.3017e-02, -9.0680e-02,\n",
       "                      -1.5027e-01,  8.1452e-02,  1.1954e-01,  1.0086e-01,  4.9962e-02,\n",
       "                      -1.8822e-01, -1.6823e-01,  1.0666e-02, -1.9682e-01,  1.4392e-01,\n",
       "                       6.3223e-02, -1.5778e-01, -2.1786e-02, -1.0569e-01, -5.0440e-02,\n",
       "                      -1.4608e-01,  1.6387e-01, -5.1644e-02,  7.4584e-02,  1.7657e-01,\n",
       "                       8.7966e-03,  9.6298e-02, -1.4805e-01])),\n",
       "             ('fc2.weight',\n",
       "              tensor([[ 0.1128, -0.0745, -0.0458,  ..., -0.0089,  0.0675,  0.0189],\n",
       "                      [ 0.0316, -0.0512, -0.0693,  ..., -0.0403,  0.0596, -0.0217],\n",
       "                      [-0.0292,  0.0825,  0.0017,  ..., -0.0145,  0.0463,  0.0329],\n",
       "                      ...,\n",
       "                      [ 0.0484, -0.0286, -0.0610,  ..., -0.0715,  0.0683,  0.0579],\n",
       "                      [ 0.0030,  0.0787,  0.0035,  ...,  0.0843,  0.0841,  0.0757],\n",
       "                      [-0.0049,  0.0606,  0.0822,  ..., -0.0069, -0.0612, -0.0442]])),\n",
       "             ('fc2.bias',\n",
       "              tensor([ 0.0889, -0.0007,  0.1144,  0.1090, -0.0680, -0.0215,  0.0630, -0.0044,\n",
       "                       0.0191,  0.0226, -0.0421, -0.0746,  0.0627,  0.1037,  0.0090, -0.0811,\n",
       "                       0.0916, -0.0930, -0.0608, -0.0474, -0.0248, -0.0635, -0.0466,  0.0424,\n",
       "                      -0.0798,  0.0716,  0.0383,  0.0339,  0.1376,  0.0667,  0.0160,  0.1067,\n",
       "                      -0.0536, -0.0656,  0.0151,  0.0137,  0.0140,  0.0919,  0.0770, -0.0096,\n",
       "                       0.0460,  0.0305,  0.0177,  0.0369,  0.0361,  0.0465,  0.0052,  0.0983,\n",
       "                      -0.0765,  0.0993, -0.0441, -0.0373,  0.0501,  0.0604, -0.0008,  0.0284,\n",
       "                      -0.0769,  0.0539,  0.0276, -0.0586,  0.0372,  0.0137, -0.0079,  0.1061,\n",
       "                      -0.0592, -0.0961,  0.0574, -0.0782,  0.0549, -0.0138, -0.0417, -0.0844,\n",
       "                       0.0179, -0.0172,  0.0205,  0.0356, -0.0711,  0.0465,  0.0198,  0.0282,\n",
       "                      -0.0307, -0.0779,  0.0689, -0.0548,  0.0561,  0.0642,  0.0510, -0.0384,\n",
       "                       0.0349,  0.0688, -0.0099, -0.0408,  0.0162, -0.0036, -0.0616,  0.0838,\n",
       "                      -0.0180, -0.0055, -0.0626,  0.1045, -0.0482, -0.0418, -0.0046,  0.0218,\n",
       "                      -0.0171, -0.0849,  0.0690,  0.0251,  0.0700,  0.0288, -0.0212, -0.0773,\n",
       "                       0.0215, -0.0169, -0.0177,  0.0453, -0.0970, -0.0261,  0.0244,  0.0417,\n",
       "                       0.0219, -0.0222, -0.0448,  0.1037, -0.0170,  0.0319, -0.0297, -0.0453])),\n",
       "             ('fc3.weight',\n",
       "              tensor([[-0.4576, -0.0336,  0.1560,  0.4525, -0.0038,  0.0216, -0.1072,  0.2417,\n",
       "                        0.1358,  0.3544, -0.0092, -0.0818, -0.1361,  0.1317,  0.1129,  0.0806,\n",
       "                        0.3570,  0.0248,  0.0073, -0.1802, -0.0731, -0.0756, -0.0542, -0.2922,\n",
       "                       -0.0352,  0.4665, -0.1631, -0.1681,  0.9030, -0.0796, -0.1183,  0.3658,\n",
       "                       -0.0822, -0.0447,  0.0803,  0.1272,  0.4158,  0.2056,  0.0516,  0.1169,\n",
       "                       -0.3607, -0.3222, -0.0294,  0.2455,  0.1237, -0.0428, -0.4806,  0.2009,\n",
       "                        0.0058,  0.5733, -0.0294, -0.0597, -0.0350,  0.0891, -0.3366, -0.5533,\n",
       "                       -0.0200, -0.3675, -0.0363,  0.0193,  0.2202, -0.1700, -0.3001,  0.5276,\n",
       "                       -0.4422, -0.0670, -0.1404,  0.0209,  0.0713,  0.0389, -0.0638,  0.0805,\n",
       "                       -0.6621,  0.0254,  0.0075, -0.3531, -0.0020,  0.4786, -0.1394, -0.4220,\n",
       "                        0.0906, -0.0583, -0.3040,  0.0620, -0.5266, -0.4500, -0.3813,  0.0132,\n",
       "                       -0.0554, -0.0936,  0.0471,  0.0259, -0.2508,  0.5428,  0.0589,  0.1210,\n",
       "                       -0.0258,  0.0771, -0.0073,  0.2470, -0.0419, -0.1135, -0.2513, -0.0098,\n",
       "                       -0.0747, -0.0432, -0.4750, -0.5373,  0.0562,  0.0129,  0.2512, -0.0778,\n",
       "                       -0.2220, -0.1948,  0.1043, -0.1697,  0.0283,  0.0185, -0.2274, -0.1166,\n",
       "                        0.0371, -0.0315, -0.0734,  0.2764,  0.0536, -0.0586,  0.0111,  0.1118]])),\n",
       "             ('fc3.bias', tensor([0.2383]))])"
      ]
     },
     "execution_count": 20,
     "metadata": {},
     "output_type": "execute_result"
    }
   ],
   "source": [
    "torch.save(model.state_dict(), \"starcraft2-logistic.pth\")\n",
    "model.state_dict()"
   ]
  },
  {
   "cell_type": "markdown",
   "id": "e9a88836",
   "metadata": {},
   "source": [
    "- Définition de la fonction de prédiction utilisant le réseau de neurones entraîné."
   ]
  },
  {
   "cell_type": "code",
   "execution_count": 21,
   "id": "7ad178eb",
   "metadata": {},
   "outputs": [],
   "source": [
    "def predict(input, verbose = True):\n",
    "    if verbose:\n",
    "        for i in range(len(inputColumns)):\n",
    "            tmp = input[0][i].item()\n",
    "            tmp = round(tmp * (data[inputColumns[i]].max() - data[inputColumns[i]].min()) + data[inputColumns[i]].min(), 4)\n",
    "            print(inputColumns[i] + \":\", tmp)\n",
    "            \n",
    "        print(\"\")\n",
    "    \n",
    "    with torch.no_grad():\n",
    "        pred = model(input[0]).item()\n",
    "        \n",
    "    print(\"Probabilité de victoire du joueur 1 : {:.4f}\".format(1 - pred))"
   ]
  },
  {
   "cell_type": "markdown",
   "id": "44a78df9",
   "metadata": {},
   "source": [
    "- Quelques prédictions."
   ]
  },
  {
   "cell_type": "code",
   "execution_count": 43,
   "id": "1a4779f0",
   "metadata": {},
   "outputs": [
    {
     "name": "stdout",
     "output_type": "stream",
     "text": [
      "time: 364.0\n",
      "race1: 0.0\n",
      "race2: 1.0\n",
      "map: 9.0\n",
      "supplyUsed1: 54.0\n",
      "supplyUsed2: 69.5\n",
      "totalIncome1: 1364.0\n",
      "totalIncome2: 1644.0\n",
      "mineralsIncome1: 1140.0\n",
      "mineralsIncome2: 1180.0\n",
      "vespeneIncome1: 224.0\n",
      "vespeneIncome2: 464.0\n",
      "totalResources1: 383.0\n",
      "totalResources2: 450.0\n",
      "minerals1: 204.0\n",
      "minerals2: 190.0\n",
      "vespene1: 179.0\n",
      "vespene2: 260.0\n",
      "activeWorkers1: 30.0\n",
      "activeWorkers2: 42.0\n",
      "army1: 1600.0\n",
      "army2: 1375.0\n",
      "technology1: 1050.0\n",
      "technology2: 700.0\n",
      "lostResources1: 772.0\n",
      "lostResources2: 425.0\n",
      "\n",
      "Probabilité de victoire du joueur 1 : 0.3540\n"
     ]
    }
   ],
   "source": [
    "predict(validationDataset[256])"
   ]
  },
  {
   "cell_type": "code",
   "execution_count": 44,
   "id": "b37d755f",
   "metadata": {},
   "outputs": [
    {
     "name": "stdout",
     "output_type": "stream",
     "text": [
      "time: 579.0\n",
      "race1: 0.0\n",
      "race2: 1.0\n",
      "map: 1.0\n",
      "supplyUsed1: 106.0\n",
      "supplyUsed2: 86.5\n",
      "totalIncome1: 1404.0\n",
      "totalIncome2: 1048.0\n",
      "mineralsIncome1: 1020.0\n",
      "mineralsIncome2: 920.0\n",
      "vespeneIncome1: 384.0\n",
      "vespeneIncome2: 128.0\n",
      "totalResources1: 519.0\n",
      "totalResources2: 347.0\n",
      "minerals1: 455.0\n",
      "minerals2: 215.0\n",
      "vespene1: 64.0\n",
      "vespene2: 132.0\n",
      "activeWorkers1: 41.0\n",
      "activeWorkers2: 31.0\n",
      "army1: 3824.9999\n",
      "army2: 3325.0\n",
      "technology1: 1900.0\n",
      "technology2: 1724.9999\n",
      "lostResources1: 950.0\n",
      "lostResources2: 2199.9999\n",
      "\n",
      "Probabilité de victoire du joueur 1 : 0.8034\n"
     ]
    }
   ],
   "source": [
    "predict(validationDataset[512])"
   ]
  },
  {
   "cell_type": "markdown",
   "id": "caee0611",
   "metadata": {},
   "source": [
    "## 5. Etude de cas pratiques"
   ]
  },
  {
   "cell_type": "markdown",
   "id": "0c07c6a8",
   "metadata": {},
   "source": [
    "- Changeons de dataset pour utiliser notre fichier contenant 4 moments notables pour 2 parties différentes (soit 8 rows)."
   ]
  },
  {
   "cell_type": "code",
   "execution_count": 24,
   "id": "06bb29ec",
   "metadata": {},
   "outputs": [
    {
     "data": {
      "text/html": [
       "<div>\n",
       "<style scoped>\n",
       "    .dataframe tbody tr th:only-of-type {\n",
       "        vertical-align: middle;\n",
       "    }\n",
       "\n",
       "    .dataframe tbody tr th {\n",
       "        vertical-align: top;\n",
       "    }\n",
       "\n",
       "    .dataframe thead th {\n",
       "        text-align: right;\n",
       "    }\n",
       "</style>\n",
       "<table border=\"1\" class=\"dataframe\">\n",
       "  <thead>\n",
       "    <tr style=\"text-align: right;\">\n",
       "      <th></th>\n",
       "      <th>time</th>\n",
       "      <th>race1</th>\n",
       "      <th>race2</th>\n",
       "      <th>map</th>\n",
       "      <th>supplyUsed1</th>\n",
       "      <th>supplyUsed2</th>\n",
       "      <th>totalIncome1</th>\n",
       "      <th>totalIncome2</th>\n",
       "      <th>mineralsIncome1</th>\n",
       "      <th>mineralsIncome2</th>\n",
       "      <th>...</th>\n",
       "      <th>vespene2</th>\n",
       "      <th>activeWorkers1</th>\n",
       "      <th>activeWorkers2</th>\n",
       "      <th>army1</th>\n",
       "      <th>army2</th>\n",
       "      <th>technology1</th>\n",
       "      <th>technology2</th>\n",
       "      <th>lostResources1</th>\n",
       "      <th>lostResources2</th>\n",
       "      <th>winner</th>\n",
       "    </tr>\n",
       "  </thead>\n",
       "  <tbody>\n",
       "    <tr>\n",
       "      <th>0</th>\n",
       "      <td>100</td>\n",
       "      <td>2</td>\n",
       "      <td>0</td>\n",
       "      <td>0</td>\n",
       "      <td>20.0</td>\n",
       "      <td>20.0</td>\n",
       "      <td>1040</td>\n",
       "      <td>883</td>\n",
       "      <td>951</td>\n",
       "      <td>727</td>\n",
       "      <td>...</td>\n",
       "      <td>34</td>\n",
       "      <td>20</td>\n",
       "      <td>19</td>\n",
       "      <td>0</td>\n",
       "      <td>0</td>\n",
       "      <td>150</td>\n",
       "      <td>150</td>\n",
       "      <td>0</td>\n",
       "      <td>0</td>\n",
       "      <td>1</td>\n",
       "    </tr>\n",
       "    <tr>\n",
       "      <th>1</th>\n",
       "      <td>621</td>\n",
       "      <td>2</td>\n",
       "      <td>0</td>\n",
       "      <td>0</td>\n",
       "      <td>133.0</td>\n",
       "      <td>166.0</td>\n",
       "      <td>3655</td>\n",
       "      <td>3566</td>\n",
       "      <td>2827</td>\n",
       "      <td>2603</td>\n",
       "      <td>...</td>\n",
       "      <td>284</td>\n",
       "      <td>64</td>\n",
       "      <td>72</td>\n",
       "      <td>4325</td>\n",
       "      <td>5200</td>\n",
       "      <td>2750</td>\n",
       "      <td>3375</td>\n",
       "      <td>3300</td>\n",
       "      <td>2124</td>\n",
       "      <td>1</td>\n",
       "    </tr>\n",
       "    <tr>\n",
       "      <th>2</th>\n",
       "      <td>643</td>\n",
       "      <td>2</td>\n",
       "      <td>0</td>\n",
       "      <td>0</td>\n",
       "      <td>86.0</td>\n",
       "      <td>151.0</td>\n",
       "      <td>3498</td>\n",
       "      <td>3431</td>\n",
       "      <td>2715</td>\n",
       "      <td>2491</td>\n",
       "      <td>...</td>\n",
       "      <td>478</td>\n",
       "      <td>64</td>\n",
       "      <td>71</td>\n",
       "      <td>600</td>\n",
       "      <td>4450</td>\n",
       "      <td>3550</td>\n",
       "      <td>3575</td>\n",
       "      <td>7625</td>\n",
       "      <td>3799</td>\n",
       "      <td>1</td>\n",
       "    </tr>\n",
       "    <tr>\n",
       "      <th>3</th>\n",
       "      <td>721</td>\n",
       "      <td>2</td>\n",
       "      <td>0</td>\n",
       "      <td>0</td>\n",
       "      <td>79.0</td>\n",
       "      <td>170.0</td>\n",
       "      <td>3090</td>\n",
       "      <td>4109</td>\n",
       "      <td>2127</td>\n",
       "      <td>2967</td>\n",
       "      <td>...</td>\n",
       "      <td>762</td>\n",
       "      <td>65</td>\n",
       "      <td>73</td>\n",
       "      <td>175</td>\n",
       "      <td>5675</td>\n",
       "      <td>3150</td>\n",
       "      <td>4125</td>\n",
       "      <td>12450</td>\n",
       "      <td>5624</td>\n",
       "      <td>1</td>\n",
       "    </tr>\n",
       "    <tr>\n",
       "      <th>4</th>\n",
       "      <td>100</td>\n",
       "      <td>1</td>\n",
       "      <td>0</td>\n",
       "      <td>1</td>\n",
       "      <td>20.0</td>\n",
       "      <td>20.0</td>\n",
       "      <td>911</td>\n",
       "      <td>962</td>\n",
       "      <td>867</td>\n",
       "      <td>783</td>\n",
       "      <td>...</td>\n",
       "      <td>38</td>\n",
       "      <td>18</td>\n",
       "      <td>19</td>\n",
       "      <td>0</td>\n",
       "      <td>0</td>\n",
       "      <td>0</td>\n",
       "      <td>150</td>\n",
       "      <td>0</td>\n",
       "      <td>0</td>\n",
       "      <td>1</td>\n",
       "    </tr>\n",
       "    <tr>\n",
       "      <th>5</th>\n",
       "      <td>493</td>\n",
       "      <td>1</td>\n",
       "      <td>0</td>\n",
       "      <td>1</td>\n",
       "      <td>149.0</td>\n",
       "      <td>128.0</td>\n",
       "      <td>4574</td>\n",
       "      <td>2899</td>\n",
       "      <td>3723</td>\n",
       "      <td>2183</td>\n",
       "      <td>...</td>\n",
       "      <td>631</td>\n",
       "      <td>90</td>\n",
       "      <td>61</td>\n",
       "      <td>3650</td>\n",
       "      <td>4675</td>\n",
       "      <td>1700</td>\n",
       "      <td>2000</td>\n",
       "      <td>1043</td>\n",
       "      <td>0</td>\n",
       "      <td>1</td>\n",
       "    </tr>\n",
       "    <tr>\n",
       "      <th>6</th>\n",
       "      <td>507</td>\n",
       "      <td>1</td>\n",
       "      <td>0</td>\n",
       "      <td>1</td>\n",
       "      <td>110.0</td>\n",
       "      <td>121.0</td>\n",
       "      <td>4562</td>\n",
       "      <td>2966</td>\n",
       "      <td>3667</td>\n",
       "      <td>2183</td>\n",
       "      <td>...</td>\n",
       "      <td>294</td>\n",
       "      <td>90</td>\n",
       "      <td>61</td>\n",
       "      <td>1550</td>\n",
       "      <td>3325</td>\n",
       "      <td>2150</td>\n",
       "      <td>2000</td>\n",
       "      <td>3418</td>\n",
       "      <td>1300</td>\n",
       "      <td>1</td>\n",
       "    </tr>\n",
       "    <tr>\n",
       "      <th>7</th>\n",
       "      <td>779</td>\n",
       "      <td>1</td>\n",
       "      <td>0</td>\n",
       "      <td>1</td>\n",
       "      <td>94.0</td>\n",
       "      <td>167.0</td>\n",
       "      <td>2994</td>\n",
       "      <td>3252</td>\n",
       "      <td>2323</td>\n",
       "      <td>2491</td>\n",
       "      <td>...</td>\n",
       "      <td>378</td>\n",
       "      <td>72</td>\n",
       "      <td>58</td>\n",
       "      <td>750</td>\n",
       "      <td>5950</td>\n",
       "      <td>2025</td>\n",
       "      <td>3475</td>\n",
       "      <td>15328</td>\n",
       "      <td>10175</td>\n",
       "      <td>1</td>\n",
       "    </tr>\n",
       "  </tbody>\n",
       "</table>\n",
       "<p>8 rows × 27 columns</p>\n",
       "</div>"
      ],
      "text/plain": [
       "   time  race1  race2  map  supplyUsed1  supplyUsed2  totalIncome1  \\\n",
       "0   100      2      0    0         20.0         20.0          1040   \n",
       "1   621      2      0    0        133.0        166.0          3655   \n",
       "2   643      2      0    0         86.0        151.0          3498   \n",
       "3   721      2      0    0         79.0        170.0          3090   \n",
       "4   100      1      0    1         20.0         20.0           911   \n",
       "5   493      1      0    1        149.0        128.0          4574   \n",
       "6   507      1      0    1        110.0        121.0          4562   \n",
       "7   779      1      0    1         94.0        167.0          2994   \n",
       "\n",
       "   totalIncome2  mineralsIncome1  mineralsIncome2  ...  vespene2  \\\n",
       "0           883              951              727  ...        34   \n",
       "1          3566             2827             2603  ...       284   \n",
       "2          3431             2715             2491  ...       478   \n",
       "3          4109             2127             2967  ...       762   \n",
       "4           962              867              783  ...        38   \n",
       "5          2899             3723             2183  ...       631   \n",
       "6          2966             3667             2183  ...       294   \n",
       "7          3252             2323             2491  ...       378   \n",
       "\n",
       "   activeWorkers1  activeWorkers2  army1  army2  technology1  technology2  \\\n",
       "0              20              19      0      0          150          150   \n",
       "1              64              72   4325   5200         2750         3375   \n",
       "2              64              71    600   4450         3550         3575   \n",
       "3              65              73    175   5675         3150         4125   \n",
       "4              18              19      0      0            0          150   \n",
       "5              90              61   3650   4675         1700         2000   \n",
       "6              90              61   1550   3325         2150         2000   \n",
       "7              72              58    750   5950         2025         3475   \n",
       "\n",
       "   lostResources1  lostResources2  winner  \n",
       "0               0               0       1  \n",
       "1            3300            2124       1  \n",
       "2            7625            3799       1  \n",
       "3           12450            5624       1  \n",
       "4               0               0       1  \n",
       "5            1043               0       1  \n",
       "6            3418            1300       1  \n",
       "7           15328           10175       1  \n",
       "\n",
       "[8 rows x 27 columns]"
      ]
     },
     "execution_count": 24,
     "metadata": {},
     "output_type": "execute_result"
    }
   ],
   "source": [
    "dataPrime = pd.read_csv(\"archive/datasetPrime.csv\")\n",
    "dataPrime.head(len(dataPrime.index))"
   ]
  },
  {
   "cell_type": "code",
   "execution_count": 25,
   "id": "76aba94a",
   "metadata": {},
   "outputs": [],
   "source": [
    "def predictor(n):\n",
    "    toPredict = list()\n",
    "    \n",
    "    for i in range(len(inputColumns)):\n",
    "        toPredict.append(dataPrime.iloc[n][i])\n",
    "    \n",
    "    toPredict = [float(item) for item in toPredict]\n",
    "    \n",
    "    for col in range(len(inputColumns)):\n",
    "        toPredict[col] = (toPredict[col] - data[inputColumns[col]].min()) / (data[inputColumns[col]].max() - data[inputColumns[col]].min())\n",
    "    \n",
    "    predict(torch.tensor([toPredict], dtype = torch.float32), verbose = True)"
   ]
  },
  {
   "cell_type": "markdown",
   "id": "71028233",
   "metadata": {},
   "source": [
    "- Rappelons que \"joueur 1\" désigne le joueur décrit par \"race1\", \"supplyUsed1...\". Les captures d'écran sont prises du point de vue du joueur 1 (Protoss dans la partie 1 et Zerg dans la partie 2).\n",
    "- 1ère partie à 1 min 40 (début de partie). On remarque que la probabilité de victoire du joueur est quasiment de 50 % (ou 50/100 = 0.5), en équilibre avec la probabilité de victoire de l'adversaire.\n",
    "\n",
    "<img src=\"files/figures/TvP1.jpg\" width=\"800px\"/>"
   ]
  },
  {
   "cell_type": "code",
   "execution_count": 26,
   "id": "824e0584",
   "metadata": {},
   "outputs": [
    {
     "name": "stdout",
     "output_type": "stream",
     "text": [
      "time: 100.0\n",
      "race1: 2.0\n",
      "race2: 0.0\n",
      "map: 0.0\n",
      "supplyUsed1: 20.0\n",
      "supplyUsed2: 20.0\n",
      "totalIncome1: 1040.0\n",
      "totalIncome2: 883.0\n",
      "mineralsIncome1: 951.0\n",
      "mineralsIncome2: 727.0\n",
      "vespeneIncome1: 89.0\n",
      "vespeneIncome2: 156.0\n",
      "totalResources1: 156.0\n",
      "totalResources2: 394.0\n",
      "minerals1: 120.0\n",
      "minerals2: 360.0\n",
      "vespene1: 36.0\n",
      "vespene2: 34.0\n",
      "activeWorkers1: 20.0\n",
      "activeWorkers2: 19.0\n",
      "army1: 0.0\n",
      "army2: 0.0\n",
      "technology1: 150.0\n",
      "technology2: 150.0\n",
      "lostResources1: 0.0\n",
      "lostResources2: 0.0\n",
      "\n",
      "Probabilité de victoire du joueur 1 : 0.5008\n"
     ]
    }
   ],
   "source": [
    "predictor(0)"
   ]
  },
  {
   "cell_type": "markdown",
   "id": "6d09033f",
   "metadata": {},
   "source": [
    "- 1ère partie à 10 min 21 (avant le combat). Le réseau de neurones prédit une mauvaise bataille pour le joueur Protoss. Sa probabilité que la partie se solde par une victoire pour lui est estimée à 19 %.\n",
    "\n",
    "<img src=\"files/figures/TvP2.jpg\" width=\"800px\"/>"
   ]
  },
  {
   "cell_type": "code",
   "execution_count": 27,
   "id": "d6d981cb",
   "metadata": {},
   "outputs": [
    {
     "name": "stdout",
     "output_type": "stream",
     "text": [
      "time: 621.0\n",
      "race1: 2.0\n",
      "race2: 0.0\n",
      "map: 0.0\n",
      "supplyUsed1: 133.0\n",
      "supplyUsed2: 166.0\n",
      "totalIncome1: 3655.0001\n",
      "totalIncome2: 3565.9999\n",
      "mineralsIncome1: 2827.0001\n",
      "mineralsIncome2: 2603.0001\n",
      "vespeneIncome1: 828.0\n",
      "vespeneIncome2: 963.0\n",
      "totalResources1: 1923.0001\n",
      "totalResources2: 552.0\n",
      "minerals1: 1460.0001\n",
      "minerals2: 268.0\n",
      "vespene1: 463.0\n",
      "vespene2: 284.0\n",
      "activeWorkers1: 64.0\n",
      "activeWorkers2: 72.0\n",
      "army1: 4325.0\n",
      "army2: 5199.9999\n",
      "technology1: 2750.0001\n",
      "technology2: 3375.0\n",
      "lostResources1: 3299.9999\n",
      "lostResources2: 2123.9999\n",
      "\n",
      "Probabilité de victoire du joueur 1 : 0.1934\n"
     ]
    }
   ],
   "source": [
    "predictor(1)"
   ]
  },
  {
   "cell_type": "markdown",
   "id": "c573e723",
   "metadata": {},
   "source": [
    "Image du déroulé du combat à titre indicatif.\n",
    "\n",
    "<img src=\"files/figures/TvP3.jpg\" width=\"800px\"/>"
   ]
  },
  {
   "cell_type": "markdown",
   "id": "52664769",
   "metadata": {},
   "source": [
    "- 1ère partie à 10 min 43 (après le combat). Après la destruction de son armée, les chances de victoire du joueur Protoss baissent encore pour atteindre environ 8 %.\n",
    "\n",
    "<img src=\"files/figures/TvP4.jpg\" width=\"800px\"/>"
   ]
  },
  {
   "cell_type": "code",
   "execution_count": 28,
   "id": "8b79a7aa",
   "metadata": {},
   "outputs": [
    {
     "name": "stdout",
     "output_type": "stream",
     "text": [
      "time: 643.0\n",
      "race1: 2.0\n",
      "race2: 0.0\n",
      "map: 0.0\n",
      "supplyUsed1: 86.0\n",
      "supplyUsed2: 151.0\n",
      "totalIncome1: 3498.0001\n",
      "totalIncome2: 3431.0001\n",
      "mineralsIncome1: 2714.9999\n",
      "mineralsIncome2: 2491.0\n",
      "vespeneIncome1: 783.0\n",
      "vespeneIncome2: 940.0\n",
      "totalResources1: 1805.0\n",
      "totalResources2: 946.0\n",
      "minerals1: 1450.0\n",
      "minerals2: 468.0\n",
      "vespene1: 355.0\n",
      "vespene2: 478.0\n",
      "activeWorkers1: 64.0\n",
      "activeWorkers2: 71.0\n",
      "army1: 600.0\n",
      "army2: 4450.0\n",
      "technology1: 3550.0001\n",
      "technology2: 3575.0001\n",
      "lostResources1: 7625.0003\n",
      "lostResources2: 3799.0001\n",
      "\n",
      "Probabilité de victoire du joueur 1 : 0.0760\n"
     ]
    }
   ],
   "source": [
    "predictor(2)"
   ]
  },
  {
   "cell_type": "markdown",
   "id": "232ba637",
   "metadata": {},
   "source": [
    "- 1ère partie à 12 min 01 (fin de partie). Juste avant que le joueur n'abandonne, le réseau de neurones ne donne plus que 3 % de chances de victoire au joueur Protoss.\n",
    "\n",
    "<img src=\"files/figures/TvP5.jpg\" width=\"800px\"/>"
   ]
  },
  {
   "cell_type": "code",
   "execution_count": 29,
   "id": "6cf0c6b7",
   "metadata": {},
   "outputs": [
    {
     "name": "stdout",
     "output_type": "stream",
     "text": [
      "time: 721.0\n",
      "race1: 2.0\n",
      "race2: 0.0\n",
      "map: 0.0\n",
      "supplyUsed1: 79.0\n",
      "supplyUsed2: 170.0\n",
      "totalIncome1: 3090.0001\n",
      "totalIncome2: 4109.0001\n",
      "mineralsIncome1: 2127.0001\n",
      "mineralsIncome2: 2966.9999\n",
      "vespeneIncome1: 963.0\n",
      "vespeneIncome2: 1142.0\n",
      "totalResources1: 2823.9999\n",
      "totalResources2: 1575.0\n",
      "minerals1: 2235.0\n",
      "minerals2: 813.0\n",
      "vespene1: 589.0\n",
      "vespene2: 762.0\n",
      "activeWorkers1: 65.0\n",
      "activeWorkers2: 73.0\n",
      "army1: 175.0\n",
      "army2: 5675.0\n",
      "technology1: 3149.9999\n",
      "technology2: 4125.0001\n",
      "lostResources1: 12450.0006\n",
      "lostResources2: 5623.9999\n",
      "\n",
      "Probabilité de victoire du joueur 1 : 0.0283\n"
     ]
    }
   ],
   "source": [
    "predictor(3)"
   ]
  },
  {
   "cell_type": "markdown",
   "id": "7be82e7e",
   "metadata": {},
   "source": [
    "- 2ème partie à 1 min 40 (début de partie). Encore une fois, la situation des deux joueurs est relativement équivalente à ce moment de la partie avec une chance de victoire de 45 % pour le joueur Zerg. Cet écart intéressant peut témoigner soit d'erreurs faites par le joueur en ce début de partie, soit d'un déséquilibre comme une carte favorable au joueur Terran (adverse).\n",
    "\n",
    "<img src=\"files/figures/TvZ1.jpg\" width=\"800px\"/>"
   ]
  },
  {
   "cell_type": "code",
   "execution_count": 30,
   "id": "d84f18ab",
   "metadata": {},
   "outputs": [
    {
     "name": "stdout",
     "output_type": "stream",
     "text": [
      "time: 100.0\n",
      "race1: 1.0\n",
      "race2: 0.0\n",
      "map: 1.0\n",
      "supplyUsed1: 20.0\n",
      "supplyUsed2: 20.0\n",
      "totalIncome1: 911.0\n",
      "totalIncome2: 962.0\n",
      "mineralsIncome1: 867.0\n",
      "mineralsIncome2: 783.0\n",
      "vespeneIncome1: 44.0\n",
      "vespeneIncome2: 179.0\n",
      "totalResources1: 168.0\n",
      "totalResources2: 383.0\n",
      "minerals1: 160.0\n",
      "minerals2: 345.0\n",
      "vespene1: 8.0\n",
      "vespene2: 38.0\n",
      "activeWorkers1: 18.0\n",
      "activeWorkers2: 19.0\n",
      "army1: 0.0\n",
      "army2: 0.0\n",
      "technology1: 0.0\n",
      "technology2: 150.0\n",
      "lostResources1: 0.0\n",
      "lostResources2: 0.0\n",
      "\n",
      "Probabilité de victoire du joueur 1 : 0.4516\n"
     ]
    }
   ],
   "source": [
    "predictor(4)"
   ]
  },
  {
   "cell_type": "markdown",
   "id": "ae1c3654",
   "metadata": {},
   "source": [
    "- 2ème partie à 8 min 13 (avant le combat). Le réseau de neurones prédit une victoire du joueur Zerg avec 81 % de probabilité.\n",
    "\n",
    "<img src=\"files/figures/TvZ2.jpg\" width=\"800px\"/>"
   ]
  },
  {
   "cell_type": "code",
   "execution_count": 31,
   "id": "156e9c57",
   "metadata": {},
   "outputs": [
    {
     "name": "stdout",
     "output_type": "stream",
     "text": [
      "time: 493.0\n",
      "race1: 1.0\n",
      "race2: 0.0\n",
      "map: 1.0\n",
      "supplyUsed1: 149.0\n",
      "supplyUsed2: 128.0\n",
      "totalIncome1: 4573.9998\n",
      "totalIncome2: 2898.9999\n",
      "mineralsIncome1: 3723.0\n",
      "mineralsIncome2: 2182.9999\n",
      "vespeneIncome1: 851.0\n",
      "vespeneIncome2: 716.0\n",
      "totalResources1: 1075.0\n",
      "totalResources2: 1626.0\n",
      "minerals1: 406.0\n",
      "minerals2: 995.0\n",
      "vespene1: 669.0\n",
      "vespene2: 631.0\n",
      "activeWorkers1: 90.0\n",
      "activeWorkers2: 61.0\n",
      "army1: 3650.0\n",
      "army2: 4675.0001\n",
      "technology1: 1700.0\n",
      "technology2: 2000.0\n",
      "lostResources1: 1043.0\n",
      "lostResources2: 0.0\n",
      "\n",
      "Probabilité de victoire du joueur 1 : 0.8139\n"
     ]
    }
   ],
   "source": [
    "predictor(5)"
   ]
  },
  {
   "cell_type": "markdown",
   "id": "d62bfa67",
   "metadata": {},
   "source": [
    "Image du déroulé du combat à titre indicatif.\n",
    "\n",
    "<img src=\"files/figures/TvZ3.jpg\" width=\"800px\"/>"
   ]
  },
  {
   "cell_type": "markdown",
   "id": "f0151863",
   "metadata": {},
   "source": [
    "- 2ème partie à 8 min 27 (après le combat). La prédiction précédente se trouve déjouée par le joueur Terran qui a pris un meilleur engagement pour diverses raisons. Malgré tout, le joueur Zerg conserve de bonnes chances de gagner de 64 % grâce notamment à son économie (il possède 4 bases contre 3 pour le joueur Terran).\n",
    "\n",
    "<img src=\"files/figures/TvZ4.jpg\" width=\"800px\"/>"
   ]
  },
  {
   "cell_type": "code",
   "execution_count": 32,
   "id": "8dc0b937",
   "metadata": {},
   "outputs": [
    {
     "name": "stdout",
     "output_type": "stream",
     "text": [
      "time: 507.0\n",
      "race1: 1.0\n",
      "race2: 0.0\n",
      "map: 1.0\n",
      "supplyUsed1: 110.0\n",
      "supplyUsed2: 121.0\n",
      "totalIncome1: 4561.9998\n",
      "totalIncome2: 2966.0001\n",
      "mineralsIncome1: 3667.0\n",
      "mineralsIncome2: 2182.9999\n",
      "vespeneIncome1: 895.0\n",
      "vespeneIncome2: 783.0\n",
      "totalResources1: 2107.0\n",
      "totalResources2: 764.0\n",
      "minerals1: 1226.0\n",
      "minerals2: 470.0\n",
      "vespene1: 881.0\n",
      "vespene2: 294.0\n",
      "activeWorkers1: 90.0\n",
      "activeWorkers2: 61.0\n",
      "army1: 1550.0\n",
      "army2: 3325.0\n",
      "technology1: 2150.0\n",
      "technology2: 2000.0\n",
      "lostResources1: 3418.0002\n",
      "lostResources2: 1300.0\n",
      "\n",
      "Probabilité de victoire du joueur 1 : 0.6379\n"
     ]
    }
   ],
   "source": [
    "predictor(6)"
   ]
  },
  {
   "cell_type": "markdown",
   "id": "e1b50c95",
   "metadata": {},
   "source": [
    "- 2ème partie à 12 min 59 (fin de partie). Le joueur Zerg n'aura pas su tirer parti de son économie. On observe en effet à la fin de la partie qu'il possède beaucoup de ressources en réserve (indiquées sur le bord supérieur droit de l'image ci-dessous). Les ressources qu'il a récolté n'ont pas été réinvesties, conduisant à une probabilité de victoire de 6 % avant son abandon.\n",
    "\n",
    "<img src=\"files/figures/TvZ5.jpg\" width=\"800px\"/>"
   ]
  },
  {
   "cell_type": "code",
   "execution_count": 33,
   "id": "b2f774e8",
   "metadata": {},
   "outputs": [
    {
     "name": "stdout",
     "output_type": "stream",
     "text": [
      "time: 779.0\n",
      "race1: 1.0\n",
      "race2: 0.0\n",
      "map: 1.0\n",
      "supplyUsed1: 94.0\n",
      "supplyUsed2: 167.0\n",
      "totalIncome1: 2994.0\n",
      "totalIncome2: 3252.0\n",
      "mineralsIncome1: 2323.0\n",
      "mineralsIncome2: 2491.0\n",
      "vespeneIncome1: 671.0\n",
      "vespeneIncome2: 761.0\n",
      "totalResources1: 5730.0001\n",
      "totalResources2: 1143.0\n",
      "minerals1: 2748.9999\n",
      "minerals2: 765.0\n",
      "vespene1: 2981.0001\n",
      "vespene2: 378.0\n",
      "activeWorkers1: 72.0\n",
      "activeWorkers2: 58.0\n",
      "army1: 750.0\n",
      "army2: 5950.0001\n",
      "technology1: 2025.0\n",
      "technology2: 3474.9999\n",
      "lostResources1: 15327.9998\n",
      "lostResources2: 10175.0001\n",
      "\n",
      "Probabilité de victoire du joueur 1 : 0.0601\n"
     ]
    }
   ],
   "source": [
    "predictor(7)"
   ]
  }
 ],
 "metadata": {
  "kernelspec": {
   "display_name": "Python 3 (ipykernel)",
   "language": "python",
   "name": "python3"
  },
  "language_info": {
   "codemirror_mode": {
    "name": "ipython",
    "version": 3
   },
   "file_extension": ".py",
   "mimetype": "text/x-python",
   "name": "python",
   "nbconvert_exporter": "python",
   "pygments_lexer": "ipython3",
   "version": "3.9.13"
  }
 },
 "nbformat": 4,
 "nbformat_minor": 5
}
